{
 "cells": [
  {
   "cell_type": "markdown",
   "metadata": {
    "id": "zYncZVOyF8Rb"
   },
   "source": [
    "# NEURAL NETWORKS AND DEEP LEARNING\n",
    "\n",
    "---\n",
    "A.A. 2021/22 (6 CFU) - Dr. Alberto Testolin, Dr. Umberto Michieli\n",
    "---\n"
   ]
  },
  {
   "cell_type": "markdown",
   "metadata": {
    "id": "AgHJFDwYvgHg"
   },
   "source": [
    "# Homework 1 - Supervised Deep Learning"
   ]
  },
  {
   "cell_type": "markdown",
   "metadata": {
    "id": "rZCClsi8vrYi"
   },
   "source": [
    "# Regression task"
   ]
  },
  {
   "cell_type": "markdown",
   "metadata": {
    "id": "pHeLKNYayXKO"
   },
   "source": [
    "## Guidelines"
   ]
  },
  {
   "cell_type": "markdown",
   "metadata": {
    "id": "zs0AM6W_yoMs"
   },
   "source": [
    "* The goal is to train a neural network to approximate an unknown function:\n",
    "$$ \n",
    "f:\\mathbb{R}→\\mathbb{R} \\\\\n",
    "x↦y=f(x) \\\\\n",
    "\\text{network}(x) \\approx f(x)\n",
    "$$\n",
    "* As training point, you only have noisy measures from the target function.\n",
    "$$\n",
    "\\hat{y} = f(x) + noise\n",
    "$$\n",
    "* Consider to create a validation set from you training data, or use a k-fold cross-validation strategy. You may find useful these functions from the `scikit-learn` library:\n",
    "    - [train_test_split](https://scikit-learn.org/stable/modules/generated/sklearn.model_selection.train_test_split.html)\n",
    "    - [KFold](https://scikit-learn.org/stable/modules/generated/sklearn.model_selection.KFold.html#sklearn.model_selection.KFold) "
   ]
  },
  {
   "cell_type": "markdown",
   "metadata": {
    "id": "7Up-4kEWBs8d"
   },
   "source": [
    "## Libraries"
   ]
  },
  {
   "cell_type": "code",
   "execution_count": 1,
   "metadata": {
    "id": "gUwR_Xw_Bs8e"
   },
   "outputs": [],
   "source": [
    "import numpy as np\n",
    "import pandas as pd\n",
    "import matplotlib.pyplot as plt\n",
    "from tqdm import tqdm\n",
    "\n",
    "import torch\n",
    "import torch.nn as nn\n",
    "import torch.optim as optim\n",
    "from torch.utils.data import Dataset, DataLoader, random_split, SubsetRandomSampler\n",
    "from torchvision import transforms\n",
    "from sklearn.model_selection import KFold"
   ]
  },
  {
   "cell_type": "code",
   "execution_count": 2,
   "metadata": {
    "colab": {
     "base_uri": "https://localhost:8080/"
    },
    "id": "BZ9yEeMhBs8f",
    "outputId": "e8906069-5e7f-4656-ad9e-1e0945140e26"
   },
   "outputs": [
    {
     "name": "stdout",
     "output_type": "stream",
     "text": [
      "Training device: cuda\n"
     ]
    }
   ],
   "source": [
    "# Check if the GPU is available\n",
    "device = torch.device(\"cuda\") if torch.cuda.is_available() else torch.device(\"cpu\")\n",
    "print(f\"Training device: {device}\")"
   ]
  },
  {
   "cell_type": "markdown",
   "metadata": {
    "id": "JpHoPt5nyocz"
   },
   "source": [
    "## The Data\n",
    "***"
   ]
  },
  {
   "cell_type": "markdown",
   "metadata": {
    "id": "OjV_JeRcwrLC"
   },
   "source": [
    "The following cell of code will download the dataset and make it available in the local folder `regression_dataset`. There are two files:\n",
    "\n",
    "* `regression_dataset/train_data.csv`\n",
    "* `regression_dataset/test_data.csv`\n",
    "\n",
    "I will use them to train and test your model. Each row contains two values, respectively the input and the target (label)."
   ]
  },
  {
   "cell_type": "code",
   "execution_count": 3,
   "metadata": {
    "colab": {
     "base_uri": "https://localhost:8080/"
    },
    "id": "QXCqDgEsvt96",
    "outputId": "3841dde6-789f-4621-812f-cee7935f664d"
   },
   "outputs": [
    {
     "name": "stdout",
     "output_type": "stream",
     "text": [
      "--2022-07-01 13:52:14--  https://gitlab.dei.unipd.it/michieli/nnld-2021-22-lab-resources/-/raw/main/homework1/train_data.csv\n",
      "Resolving gitlab.dei.unipd.it (gitlab.dei.unipd.it)... 147.162.2.85\n",
      "Connecting to gitlab.dei.unipd.it (gitlab.dei.unipd.it)|147.162.2.85|:443... connected.\n",
      "HTTP request sent, awaiting response... 200 OK\n",
      "Length: 3776 (3.7K) [text/plain]\n",
      "Saving to: ‘regression_dataset/train_data.csv’\n",
      "\n",
      "train_data.csv      100%[===================>]   3.69K  --.-KB/s    in 0s      \n",
      "\n",
      "2022-07-01 13:52:15 (69.4 MB/s) - ‘regression_dataset/train_data.csv’ saved [3776/3776]\n",
      "\n",
      "--2022-07-01 13:52:15--  https://gitlab.dei.unipd.it/michieli/nnld-2021-22-lab-resources/-/raw/main/homework1/test_data.csv\n",
      "Resolving gitlab.dei.unipd.it (gitlab.dei.unipd.it)... 147.162.2.85\n",
      "Connecting to gitlab.dei.unipd.it (gitlab.dei.unipd.it)|147.162.2.85|:443... connected.\n",
      "HTTP request sent, awaiting response... 200 OK\n",
      "Length: 3788 (3.7K) [text/plain]\n",
      "Saving to: ‘regression_dataset/test_data.csv’\n",
      "\n",
      "test_data.csv       100%[===================>]   3.70K  --.-KB/s    in 0s      \n",
      "\n",
      "2022-07-01 13:52:16 (83.2 MB/s) - ‘regression_dataset/test_data.csv’ saved [3788/3788]\n",
      "\n"
     ]
    }
   ],
   "source": [
    "!wget -P regression_dataset https://gitlab.dei.unipd.it/michieli/nnld-2021-22-lab-resources/-/raw/main/homework1/train_data.csv\n",
    "!wget -P regression_dataset https://gitlab.dei.unipd.it/michieli/nnld-2021-22-lab-resources/-/raw/main/homework1/test_data.csv "
   ]
  },
  {
   "cell_type": "markdown",
   "metadata": {
    "id": "gbmZwCPqBs8h"
   },
   "source": [
    "## Dataset and Dataloader\n",
    "***\n",
    "I defining the `CsvDataset` class in order to generate a `Dataset` object from a csv file.\n",
    "I therefore proceed to define the trasformation `ToTensor` and to create the training and test datasets. \n"
   ]
  },
  {
   "cell_type": "code",
   "execution_count": 4,
   "metadata": {
    "id": "8a956APyBs8i"
   },
   "outputs": [],
   "source": [
    "## Datasets\n",
    "class CsvDataset(Dataset):\n",
    "\n",
    "    def __init__(self, csv_file, transform=None):\n",
    "        \"\"\"\n",
    "        Args:\n",
    "            csv_file (string): Path to the csv file.\n",
    "            transform (callable, optional): Optional transform to be applied\n",
    "                on a sample.\n",
    "        \"\"\"\n",
    "        self.transform = transform\n",
    "        # Read the file and split the lines in a list\n",
    "        with open(csv_file, 'r') as f:\n",
    "            lines = f.read().split('\\n')\n",
    "        # Get x and y values from each line and append to self.data\n",
    "        self.data = []\n",
    "        for line in lines:\n",
    "            sample = line.split(',')\n",
    "            try:\n",
    "                self.data.append((float(sample[0]), float(sample[1])))\n",
    "            except: pass\n",
    "        # Now self.data contains all our dataset.\n",
    "        # Each element of the list self.data is a tuple: (input, output)\n",
    "\n",
    "    def __len__(self):\n",
    "        # The length of the dataset is simply the length of the self.data list\n",
    "        return len(self.data)\n",
    "\n",
    "    def __getitem__(self, idx):\n",
    "        # Our sample is the element idx of the list self.data\n",
    "        sample = self.data[idx]\n",
    "        if self.transform:\n",
    "            sample = self.transform(sample)\n",
    "        return sample\n",
    "    \n",
    "## Transform\n",
    "class ToTensor(object):\n",
    "    \"\"\"Convert sample to Tensors.\"\"\"\n",
    "\n",
    "    def __call__(self, sample):\n",
    "        x, y = sample\n",
    "        return (torch.tensor([x]).float(),\n",
    "                torch.tensor([y]).float())"
   ]
  },
  {
   "cell_type": "code",
   "execution_count": 5,
   "metadata": {
    "id": "RpJIfcNxBs8j"
   },
   "outputs": [],
   "source": [
    "composed_transform = transforms.Compose([ToTensor()])\n",
    "\n",
    "train_dataset = CsvDataset('regression_dataset/train_data.csv',transform=composed_transform)\n",
    "test_dataset = CsvDataset('regression_dataset/test_data.csv',transform=composed_transform)"
   ]
  },
  {
   "cell_type": "code",
   "execution_count": 6,
   "metadata": {
    "colab": {
     "base_uri": "https://localhost:8080/",
     "height": 497
    },
    "id": "YAXOnC73Bs8k",
    "outputId": "427a468d-a0b1-4c32-e1fe-fb116ef2b04b",
    "tags": []
   },
   "outputs": [
    {
     "data": {
      "image/png": "[encoded data removed]",
      "text/plain": [
       "<Figure size 864x576 with 1 Axes>"
      ]
     },
     "metadata": {
      "needs_background": "light"
     },
     "output_type": "display_data"
    }
   ],
   "source": [
    "fig = plt.figure(figsize=(12,8))\n",
    "plt.scatter(np.array(train_dataset.data)[:,0], np.array(train_dataset.data)[:,1], label='Training points')\n",
    "plt.scatter(np.array(test_dataset.data)[:,0], np.array(test_dataset.data)[:,1], label='Test points')\n",
    "plt.xlabel('input')\n",
    "plt.ylabel('label')\n",
    "plt.legend()\n",
    "plt.show()"
   ]
  },
  {
   "cell_type": "markdown",
   "metadata": {
    "id": "Nxcf6liDBs8k"
   },
   "source": [
    "## Network Definition\n",
    "***\n",
    "\n",
    "Here I define a fully connected Neural Network, and its functions to train and test the model.\n",
    "The regressor is composed of:\n",
    "* Input layer with $N_i(=1)$ neurons\n",
    "* Hidden layer with $Nh_1$ neurons\n",
    "* Hidden layer with $Nh_2$ neurons\n",
    "* Output layer with $N_o(=1)$ neurons\n",
    "\n",
    "At each hidden layer is applied a `ReLU` activation function and a `Dropout` layer, with probabilities $d_1$ and $d_2$, respectively for the first and the second."
   ]
  },
  {
   "cell_type": "code",
   "execution_count": 7,
   "metadata": {
    "id": "tO0ltogLBs8l"
   },
   "outputs": [],
   "source": [
    "class Net(nn.Module):\n",
    "    \n",
    "    def __init__(self, Ni, Nh1, Nh2, No, d1, d2):\n",
    "        \"\"\"\n",
    "        Ni  - Input size\n",
    "        Nh1 - Neurons in the 1st hidden layer\n",
    "        Nh2 - Neurons in the 2nd hidden layer\n",
    "        No  - Output size\n",
    "        d1  - 1st hidden layer Dropout probability\n",
    "        d2  - 2nd hidden layer Dropout probability\n",
    "        \"\"\"\n",
    "        super().__init__()\n",
    "        \n",
    "        print('Network initialized')\n",
    "        self.fc1 = nn.Linear(in_features=Ni, out_features=Nh1)\n",
    "        self.fc2 = nn.Linear(in_features=Nh1, out_features=Nh2)\n",
    "        self.out = nn.Linear(in_features=Nh2, out_features=No)\n",
    "        \n",
    "        self.act = nn.ReLU()\n",
    "        \n",
    "        self.drop1 = nn.Dropout(p = d1)\n",
    "        self.drop2 = nn.Dropout(p = d2)\n",
    "        \n",
    "    def forward(self, x):\n",
    "        x = self.act(self.fc1(x))\n",
    "        x = self.drop1(x)\n",
    "        x = self.act(self.fc2(x))\n",
    "        x = self.drop2(x)\n",
    "        x = self.out(x)\n",
    "        return x\n",
    "    \n",
    "    def train_epoch(self, train_dataloader, device, loss_fn, optimizer):\n",
    "        '''\n",
    "        train_dataloader - DataLoader containing the training data\n",
    "        device           - torch.device\n",
    "        loss_fn          - loss function torch.nn.modules.loss\n",
    "        optimizer        - torch.optim\n",
    "        ---\n",
    "        RETURN           - float: training loss\n",
    "        '''\n",
    "        train_loss = []\n",
    "        for sample_batched in train_dataloader:\n",
    "            # Move data to device\n",
    "            x_batch = sample_batched[0].to(device)\n",
    "            label_batch = sample_batched[1].to(device)\n",
    "\n",
    "            # Forward pass\n",
    "            out = self(x_batch)\n",
    "\n",
    "            # Compute loss\n",
    "            loss = loss_fn(out, label_batch)\n",
    "\n",
    "            # Backpropagation\n",
    "            self.zero_grad()\n",
    "            loss.backward()\n",
    "\n",
    "            # Update the weights\n",
    "            optimizer.step()\n",
    "\n",
    "            # Save train loss for this batch\n",
    "            loss_batch = loss.detach().cpu().numpy()\n",
    "            train_loss.append(loss_batch)\n",
    "        train_loss = np.mean(train_loss)\n",
    "        return train_loss\n",
    "        \n",
    "    def eval_epoch(self, val_dataloader, device, loss_fn):\n",
    "        '''\n",
    "        val_dataloader - DataLoader containing the validation data\n",
    "        device         - torch.device\n",
    "        loss_fn        - loss function torch.nn.modules.loss\n",
    "        ---\n",
    "        RETURN         - float: validation loss\n",
    "        '''\n",
    "        val_loss = []\n",
    "        for sample_batched in val_dataloader:\n",
    "            # Move data to device\n",
    "            x_batch = sample_batched[0].to(device)\n",
    "            label_batch = sample_batched[1].to(device)\n",
    "\n",
    "            # Forward pass\n",
    "            out = self(x_batch)\n",
    "\n",
    "            # Compute loss\n",
    "            loss = loss_fn(out, label_batch)\n",
    "\n",
    "            # Save val loss for this batch\n",
    "            loss_batch = loss.detach().cpu().numpy()\n",
    "            val_loss.append(loss_batch)\n",
    "        val_loss = np.mean(val_loss)\n",
    "        return val_loss\n",
    "    \n",
    "    def run_training(self, train_dataset, param_dict, val_dataset=None, plot=False):\n",
    "        '''\n",
    "        TRAIN THE MODEL WITH(OUT) VALIDATION\n",
    "        -----\n",
    "        train_dataset - DataSet containing the training data\n",
    "        param_dict    - Dictionary of parameter. \n",
    "                        keys:{'epoch','device','loss_fn','optimizer'}\n",
    "        val_dataset   - *DataSet: containing the validation data\n",
    "                        *float: percentage of training data to use as validation\n",
    "                        *None: (default) do not use validation data\n",
    "        plot          - Bool: If True plot loss vs epochs\n",
    "        -----\n",
    "        RETURN        - lists of training and validation loss\n",
    "        '''\n",
    "        val_present = True\n",
    "        if isinstance(val_dataset, float):\n",
    "            N_val = int(len(train_dataset)*val_dataset)\n",
    "            train_dataset, val_dataset = random_split(train_dataset, \n",
    "                                         lengths=[len(train_dataset)-N_val, N_val], \n",
    "                                         generator=torch.Generator().manual_seed(42))\n",
    "            val_dataloader = DataLoader(val_dataset, batch_size=len(val_dataset), shuffle=True, num_workers=0)\n",
    "            train_dataloader = DataLoader(train_dataset, batch_size=10, shuffle=True, num_workers=0)\n",
    "        elif isinstance(val_dataset, CsvDataset):\n",
    "            val_dataloader = DataLoader(val_dataset, batch_size=len(val_dataset), shuffle=True, num_workers=0)\n",
    "            train_dataloader = DataLoader(train_dataset, batch_size=10, shuffle=True, num_workers=0)\n",
    "        elif isinstance(val_dataset, DataLoader):\n",
    "            val_dataloader  = val_dataset\n",
    "            train_dataloader = train_dataset\n",
    "        elif (val_dataset is None):\n",
    "            val_present = False\n",
    "            train_dataloader = DataLoader(train_dataset, batch_size=10, shuffle=True, num_workers=0)\n",
    "        else:\n",
    "            print('val_dataset not valid')\n",
    "        \n",
    "        self.to(param_dict['device'])\n",
    "        train_loss_log = ['---']\n",
    "        val_loss_log = ['---']\n",
    "        print('AVG.TRAIN.LOSS    AVG.VAL.LOSS    EPOCH')\n",
    "        epochs = tqdm(range(param_dict['epochs']), leave=True)\n",
    "        # LOOP START\n",
    "        for epoch in epochs:\n",
    "            epochs.set_description(\"%s         %s       %s\" % (train_loss_log[-1], val_loss_log[-1], epoch))\n",
    "            \n",
    "            # Training\n",
    "            self.train()\n",
    "            train_loss = self.train_epoch(train_dataloader, param_dict['device'],\n",
    "                                          param_dict['loss_fn'], param_dict['optimizer'])\n",
    "            train_loss_log.append(train_loss)\n",
    "            \n",
    "            # Evaluation\n",
    "            self.eval()\n",
    "            val_loss = self.eval_epoch(val_dataloader, param_dict['device'], param_dict['loss_fn'])\n",
    "            val_loss_log.append(val_loss)\n",
    "            \n",
    "        # Plotting\n",
    "        if plot:\n",
    "            plt.figure(figsize=(12,8))\n",
    "            plt.semilogy(train_loss_log[1:], label='Train loss')\n",
    "            if val_present: plt.semilogy(val_loss_log[1:], label='Validation loss')\n",
    "            plt.xlabel('Epoch')\n",
    "            plt.ylabel('Loss')\n",
    "            plt.grid()\n",
    "            plt.legend()\n",
    "            plt.show()\n",
    "        return train_loss_log[1:], val_loss_log[1:]\n",
    "    \n",
    "    def run_test(self, test_dataset, param_dict):\n",
    "        '''\n",
    "        TEST THE MODEL\n",
    "        -----\n",
    "        test_dataset - DataSet containing the test data\n",
    "        param_dict   - Dictionary of parameter. \n",
    "                       keys:{'device','loss_fn'}\n",
    "        -----\n",
    "        RETURN       - np.array: predicted labels\n",
    "                     - float: loss of predicted vs true label\n",
    "        '''\n",
    "        test_dataloader = DataLoader(test_dataset, shuffle=False, num_workers=0)\n",
    "        self.eval()\n",
    "        with torch.no_grad(): # turn off gradients computation\n",
    "            val_loss = []\n",
    "            out_list = []\n",
    "            for sample_batched in test_dataloader:\n",
    "                # Move data to device\n",
    "                x_batch = sample_batched[0].to(param_dict['device'])\n",
    "                label_batch = sample_batched[1].to(param_dict['device'])\n",
    "\n",
    "                # Forward pass\n",
    "                out = self(x_batch)\n",
    "\n",
    "                # Compute loss\n",
    "                loss = param_dict['loss_fn'](out, label_batch)\n",
    "\n",
    "                # Save output and loss for this batch\n",
    "                loss_batch = loss.detach().cpu().numpy()\n",
    "                out_batch = out.detach().cpu().numpy()\n",
    "                val_loss.append(loss_batch)\n",
    "                out_list.append(out_batch)\n",
    "            val_loss = np.mean(val_loss)\n",
    "        return np.array(out_list).flatten(), val_loss\n",
    "\n",
    "def reset_weights(model):\n",
    "    if isinstance(model, nn.Linear):\n",
    "        model.reset_parameters()"
   ]
  },
  {
   "cell_type": "markdown",
   "metadata": {},
   "source": [
    "## Trial Network\n",
    "***\n",
    "\n",
    "Now I define and train a simple network to test if everything works fine.\n",
    "The network's hidden layer has 10 and 20 neurons respectively with 20% dropout probability.\n",
    "I also produce `trial_params` dictionary, in order to store:\n",
    "* number of epoch\n",
    "* device\n",
    "* loss function (Mean Square Error)\n",
    "* optimizer (in this test will be Adam)"
   ]
  },
  {
   "cell_type": "code",
   "execution_count": 8,
   "metadata": {
    "colab": {
     "base_uri": "https://localhost:8080/"
    },
    "id": "VKg1ZX4RBs8m",
    "outputId": "5b425a7f-011a-476f-f5f4-bf3ca1ca48f1"
   },
   "outputs": [
    {
     "name": "stdout",
     "output_type": "stream",
     "text": [
      "Network initialized\n"
     ]
    }
   ],
   "source": [
    "trial_net = Net(1,10,20,1, 0.2, 0.2)\n",
    "trial_params = {'epochs' : 300,\n",
    "                'device' : device,\n",
    "                'loss_fn' : nn.MSELoss(),\n",
    "                'optimizer' : optim.Adam(trial_net.parameters(), lr=1e-3)}"
   ]
  },
  {
   "cell_type": "code",
   "execution_count": 9,
   "metadata": {
    "colab": {
     "base_uri": "https://localhost:8080/",
     "height": 532
    },
    "id": "Q7x3WmdKBs8n",
    "outputId": "2470b3e4-898e-4a90-d9bd-da7412bc0c7c"
   },
   "outputs": [
    {
     "name": "stdout",
     "output_type": "stream",
     "text": [
      "AVG.TRAIN.LOSS    AVG.VAL.LOSS    EPOCH\n"
     ]
    },
    {
     "name": "stderr",
     "output_type": "stream",
     "text": [
      "1.1349505         1.1349505       299: 100%|██████████| 300/300 [00:05<00:00, 50.47it/s]\n"
     ]
    },
    {
     "data": {
      "image/png": "[encoded data removed]",
      "text/plain": [
       "<Figure size 864x576 with 1 Axes>"
      ]
     },
     "metadata": {
      "needs_background": "light"
     },
     "output_type": "display_data"
    }
   ],
   "source": [
    "trial_train_loss, trial_val_loss = trial_net.run_training(train_dataset, trial_params, val_dataset=0.2, plot=True)"
   ]
  },
  {
   "cell_type": "code",
   "execution_count": 10,
   "metadata": {
    "colab": {
     "base_uri": "https://localhost:8080/",
     "height": 514
    },
    "id": "t4xe7OQWBs8n",
    "outputId": "20cbf6e8-2ee4-48fe-b4b0-e51a1a1ca467"
   },
   "outputs": [
    {
     "name": "stdout",
     "output_type": "stream",
     "text": [
      "TEST LOSS = 1.466973066329956\n"
     ]
    },
    {
     "data": {
      "image/png": "[encoded data removed]",
      "text/plain": [
       "<Figure size 864x576 with 1 Axes>"
      ]
     },
     "metadata": {
      "needs_background": "light"
     },
     "output_type": "display_data"
    }
   ],
   "source": [
    "x_vec = torch.linspace(-5,5,1000)\n",
    "x_vec = x_vec.to(device)\n",
    "x_vec = x_vec.unsqueeze(-1)  # Adding a dimension to the input vector\n",
    "trial_net.eval()\n",
    "with torch.no_grad(): # turn off gradients computation\n",
    "    y_vec = trial_net(x_vec)\n",
    "test_prediction, test_loss = trial_net.run_test(test_dataset, trial_params)\n",
    "print('TEST LOSS = %s' % float(test_loss))\n",
    "fig = plt.figure(figsize=(12,8))\n",
    "plt.scatter(np.array(train_dataset.data)[:,0], np.array(train_dataset.data)[:,1], label='Training points')\n",
    "plt.scatter(np.array(test_dataset.data)[:,0], np.array(test_dataset.data)[:,1], label='Test points')\n",
    "plt.scatter(np.array(test_dataset.data)[:,0], test_prediction, label='Test predictions', c='r')\n",
    "plt.xlabel('input')\n",
    "plt.ylabel('label')\n",
    "plt.legend()\n",
    "plt.show()"
   ]
  },
  {
   "cell_type": "markdown",
   "metadata": {
    "id": "aq-jOUqqBs8o"
   },
   "source": [
    "It can be seen that the network has leant something, but there's still room for improvement.\n",
    "\n",
    "\n",
    "\n",
    "## Hyperparameter Tuning\n",
    "***\n",
    "Now I want to find the best set of hyperparameter for the model, so I will perform a (random) GridSearch on:\n",
    "* Hidden neurons\n",
    "* Dropout probability\n",
    "* Weight regularization\n",
    "* Learning Rate\n",
    "* optimizer\n",
    "* epochs\n",
    "\n",
    "Since the training data are few I will implement a K-fold Cross Validation in order to promote the generalization of the model."
   ]
  },
  {
   "cell_type": "code",
   "execution_count": 11,
   "metadata": {
    "id": "26qwyiszBs8o"
   },
   "outputs": [],
   "source": [
    "def HPSampler(hp_dict):\n",
    "    '''\n",
    "    Function that samples the at random the hyperparameter to test.\n",
    "    '''\n",
    "    out = dict()\n",
    "    for key, value in hp_dict.items():\n",
    "        out[key] = np.random.choice(value)\n",
    "    return out\n",
    "\n",
    "def ModelFromHP(net_model, hyper_param, device):\n",
    "    '''\n",
    "    Initialize the Network and build the parameter dictionary\n",
    "    ---\n",
    "    net_model     - nn.Module\n",
    "    hyper_param - dictionary with the actual hyperparameter\n",
    "    device      - torch.device\n",
    "    '''\n",
    "    Nh1 = hyper_param['Nh1']\n",
    "    Nh2 = hyper_param['Nh2']\n",
    "    d1  = d2 = hyper_param['drop']\n",
    "    wd  = hyper_param['wd']\n",
    "    lr  = hyper_param['lr']\n",
    "    ep  = hyper_param['epochs']\n",
    "    ## Network Initialization\n",
    "    actual_net = net_model(1,Nh1,Nh2,1, d1, d2)\n",
    "    \n",
    "    if (hyper_param['optim'] == 'sgd'):\n",
    "        optimizer = optim.SGD(actual_net.parameters(), lr=lr, weight_decay=wd, momentum=0.9)\n",
    "    elif (hyper_param['optim'] == 'adam'):\n",
    "        optimizer = optim.Adam(actual_net.parameters(), lr=lr, weight_decay=wd)\n",
    "    else :\n",
    "        print('Wrong optimizer')\n",
    "    return actual_net, {'epochs' : ep,\n",
    "                        'device' : device,\n",
    "                        'loss_fn' : nn.MSELoss(),\n",
    "                        'optimizer' : optimizer}\n",
    "\n",
    "def GridSearchKFCV(net_model, train_dataset, hp_dict, k, N, device):\n",
    "    '''\n",
    "    RANDOM GRID SEARCH with K-Fold CROSS VALIDATION\n",
    "    -----\n",
    "    net_model     - nn.Module\n",
    "    train_dataset - DataSet containing the training data\n",
    "    hp_dict       - dictionary of the hyperparameter on \n",
    "                    which perform grid search\n",
    "    k             - number of folds\n",
    "    N             - number of different configuration to try\n",
    "    device        - torch.device\n",
    "    '''\n",
    "    models = []\n",
    "    best_loss = 1000\n",
    "    for config in range(N):\n",
    "        # Sample the hyperparameter configuration\n",
    "        actual_hp = HPSampler(hp_dict)\n",
    "        # Initialize the net\n",
    "        actual_net, actual_params = ModelFromHP(net_model, actual_hp, device)\n",
    "        #\n",
    "        avg_train_loss = []\n",
    "        avg_val_loss   = []\n",
    "        kf = KFold(n_splits=k, shuffle=True)\n",
    "        for kk, (train_ix,val_ix) in enumerate(kf.split(train_dataset)):\n",
    "            # Reset model weights\n",
    "            actual_net.apply(reset_weights)\n",
    "            #\n",
    "            train_sampler = SubsetRandomSampler(train_ix)\n",
    "            val_sampler   = SubsetRandomSampler(val_ix)\n",
    "            train_loader = DataLoader(train_dataset, batch_size=10, sampler=train_sampler)\n",
    "            val_loader   = DataLoader(train_dataset, batch_size=10, sampler=val_sampler)\n",
    "            # Train the model\n",
    "            fold_train_loss, fold_val_loss = actual_net.run_training(train_loader, actual_params, val_dataset=val_loader, plot=False)\n",
    "            # Append the losses\n",
    "            avg_train_loss.append(fold_train_loss)\n",
    "            avg_val_loss.append(fold_val_loss)\n",
    "        avg_train_loss = np.mean(avg_train_loss, axis=0)\n",
    "        avg_val_loss   = np.mean(avg_val_loss, axis=0)\n",
    "        if (avg_val_loss[-1] < best_loss): \n",
    "            best_loss = avg_val_loss[-1]\n",
    "            best_model = config\n",
    "        models.append({'hp_dict': actual_hp,\n",
    "                       'train_loss': avg_train_loss,\n",
    "                       'val_loss'  : avg_val_loss})\n",
    "    return models, best_model"
   ]
  },
  {
   "cell_type": "code",
   "execution_count": 12,
   "metadata": {
    "id": "8gT_A7zYBs8p"
   },
   "outputs": [],
   "source": [
    "hyper_dict = {'Nh1'   : [10, 20, 30, 40, 50], \n",
    "              'Nh2'   : [25, 50, 75, 100],\n",
    "              'drop'  : np.linspace(0.15,0.5,100),\n",
    "              'wd'    : np.logspace(-4,-2,100),\n",
    "              'lr'    : np.logspace(-4,-2,100),\n",
    "              'optim' : ['sgd', 'adam'],\n",
    "              'epochs': [100,200,300]}"
   ]
  },
  {
   "cell_type": "code",
   "execution_count": 13,
   "metadata": {
    "colab": {
     "base_uri": "https://localhost:8080/"
    },
    "id": "mjI0JNb7Bs8q",
    "outputId": "019bd702-b9cc-4b32-f121-1f692707bb4a"
   },
   "outputs": [
    {
     "name": "stdout",
     "output_type": "stream",
     "text": [
      "Network initialized\n",
      "AVG.TRAIN.LOSS    AVG.VAL.LOSS    EPOCH\n"
     ]
    },
    {
     "name": "stderr",
     "output_type": "stream",
     "text": [
      "1.1691569         1.1691569       99: 100%|██████████| 100/100 [00:02<00:00, 47.33it/s]\n"
     ]
    },
    {
     "name": "stdout",
     "output_type": "stream",
     "text": [
      "AVG.TRAIN.LOSS    AVG.VAL.LOSS    EPOCH\n"
     ]
    },
    {
     "name": "stderr",
     "output_type": "stream",
     "text": [
      "2.1433783         2.1433783       99: 100%|██████████| 100/100 [00:02<00:00, 47.09it/s]\n"
     ]
    },
    {
     "name": "stdout",
     "output_type": "stream",
     "text": [
      "AVG.TRAIN.LOSS    AVG.VAL.LOSS    EPOCH\n"
     ]
    },
    {
     "name": "stderr",
     "output_type": "stream",
     "text": [
      "3.5231247         3.5231247       99: 100%|██████████| 100/100 [00:02<00:00, 47.04it/s]\n"
     ]
    },
    {
     "name": "stdout",
     "output_type": "stream",
     "text": [
      "AVG.TRAIN.LOSS    AVG.VAL.LOSS    EPOCH\n"
     ]
    },
    {
     "name": "stderr",
     "output_type": "stream",
     "text": [
      "2.3745894         2.3745894       99: 100%|██████████| 100/100 [00:02<00:00, 47.20it/s]\n"
     ]
    },
    {
     "name": "stdout",
     "output_type": "stream",
     "text": [
      "Network initialized\n",
      "AVG.TRAIN.LOSS    AVG.VAL.LOSS    EPOCH\n"
     ]
    },
    {
     "name": "stderr",
     "output_type": "stream",
     "text": [
      "0.74056023         0.74056023       99: 100%|██████████| 100/100 [00:02<00:00, 47.05it/s]\n"
     ]
    },
    {
     "name": "stdout",
     "output_type": "stream",
     "text": [
      "AVG.TRAIN.LOSS    AVG.VAL.LOSS    EPOCH\n"
     ]
    },
    {
     "name": "stderr",
     "output_type": "stream",
     "text": [
      "0.7534779         0.7534779       99: 100%|██████████| 100/100 [00:02<00:00, 47.16it/s]\n"
     ]
    },
    {
     "name": "stdout",
     "output_type": "stream",
     "text": [
      "AVG.TRAIN.LOSS    AVG.VAL.LOSS    EPOCH\n"
     ]
    },
    {
     "name": "stderr",
     "output_type": "stream",
     "text": [
      "1.0843271         1.0843271       99: 100%|██████████| 100/100 [00:02<00:00, 47.26it/s]\n"
     ]
    },
    {
     "name": "stdout",
     "output_type": "stream",
     "text": [
      "AVG.TRAIN.LOSS    AVG.VAL.LOSS    EPOCH\n"
     ]
    },
    {
     "name": "stderr",
     "output_type": "stream",
     "text": [
      "1.6870371         1.6870371       99: 100%|██████████| 100/100 [00:02<00:00, 46.79it/s]\n"
     ]
    },
    {
     "name": "stdout",
     "output_type": "stream",
     "text": [
      "Network initialized\n",
      "AVG.TRAIN.LOSS    AVG.VAL.LOSS    EPOCH\n"
     ]
    },
    {
     "name": "stderr",
     "output_type": "stream",
     "text": [
      "2.492005         2.492005       99: 100%|██████████| 100/100 [00:02<00:00, 45.97it/s]\n"
     ]
    },
    {
     "name": "stdout",
     "output_type": "stream",
     "text": [
      "AVG.TRAIN.LOSS    AVG.VAL.LOSS    EPOCH\n"
     ]
    },
    {
     "name": "stderr",
     "output_type": "stream",
     "text": [
      "2.74037         2.74037       99: 100%|██████████| 100/100 [00:02<00:00, 47.78it/s]\n"
     ]
    },
    {
     "name": "stdout",
     "output_type": "stream",
     "text": [
      "AVG.TRAIN.LOSS    AVG.VAL.LOSS    EPOCH\n"
     ]
    },
    {
     "name": "stderr",
     "output_type": "stream",
     "text": [
      "2.9537728         2.9537728       99: 100%|██████████| 100/100 [00:02<00:00, 46.73it/s]\n"
     ]
    },
    {
     "name": "stdout",
     "output_type": "stream",
     "text": [
      "AVG.TRAIN.LOSS    AVG.VAL.LOSS    EPOCH\n"
     ]
    },
    {
     "name": "stderr",
     "output_type": "stream",
     "text": [
      "1.1860472         1.1860472       99: 100%|██████████| 100/100 [00:02<00:00, 46.66it/s]\n"
     ]
    },
    {
     "name": "stdout",
     "output_type": "stream",
     "text": [
      "Network initialized\n",
      "AVG.TRAIN.LOSS    AVG.VAL.LOSS    EPOCH\n"
     ]
    },
    {
     "name": "stderr",
     "output_type": "stream",
     "text": [
      "6.415867         6.415867       299: 100%|██████████| 300/300 [00:05<00:00, 53.14it/s]\n"
     ]
    },
    {
     "name": "stdout",
     "output_type": "stream",
     "text": [
      "AVG.TRAIN.LOSS    AVG.VAL.LOSS    EPOCH\n"
     ]
    },
    {
     "name": "stderr",
     "output_type": "stream",
     "text": [
      "1.8303471         1.8303471       299: 100%|██████████| 300/300 [00:05<00:00, 52.86it/s]\n"
     ]
    },
    {
     "name": "stdout",
     "output_type": "stream",
     "text": [
      "AVG.TRAIN.LOSS    AVG.VAL.LOSS    EPOCH\n"
     ]
    },
    {
     "name": "stderr",
     "output_type": "stream",
     "text": [
      "2.4865437         2.4865437       299: 100%|██████████| 300/300 [00:05<00:00, 52.26it/s]\n"
     ]
    },
    {
     "name": "stdout",
     "output_type": "stream",
     "text": [
      "AVG.TRAIN.LOSS    AVG.VAL.LOSS    EPOCH\n"
     ]
    },
    {
     "name": "stderr",
     "output_type": "stream",
     "text": [
      "2.539363         2.539363       299: 100%|██████████| 300/300 [00:05<00:00, 53.33it/s]\n"
     ]
    },
    {
     "name": "stdout",
     "output_type": "stream",
     "text": [
      "Network initialized\n",
      "AVG.TRAIN.LOSS    AVG.VAL.LOSS    EPOCH\n"
     ]
    },
    {
     "name": "stderr",
     "output_type": "stream",
     "text": [
      "2.077532         2.077532       99: 100%|██████████| 100/100 [00:02<00:00, 44.05it/s]\n"
     ]
    },
    {
     "name": "stdout",
     "output_type": "stream",
     "text": [
      "AVG.TRAIN.LOSS    AVG.VAL.LOSS    EPOCH\n"
     ]
    },
    {
     "name": "stderr",
     "output_type": "stream",
     "text": [
      "2.3478723         2.3478723       99: 100%|██████████| 100/100 [00:02<00:00, 46.92it/s]\n"
     ]
    },
    {
     "name": "stdout",
     "output_type": "stream",
     "text": [
      "AVG.TRAIN.LOSS    AVG.VAL.LOSS    EPOCH\n"
     ]
    },
    {
     "name": "stderr",
     "output_type": "stream",
     "text": [
      "3.067931         3.067931       99: 100%|██████████| 100/100 [00:02<00:00, 46.78it/s]\n"
     ]
    },
    {
     "name": "stdout",
     "output_type": "stream",
     "text": [
      "AVG.TRAIN.LOSS    AVG.VAL.LOSS    EPOCH\n"
     ]
    },
    {
     "name": "stderr",
     "output_type": "stream",
     "text": [
      "2.608422         2.608422       99: 100%|██████████| 100/100 [00:02<00:00, 46.76it/s]\n"
     ]
    },
    {
     "name": "stdout",
     "output_type": "stream",
     "text": [
      "Network initialized\n",
      "AVG.TRAIN.LOSS    AVG.VAL.LOSS    EPOCH\n"
     ]
    },
    {
     "name": "stderr",
     "output_type": "stream",
     "text": [
      "1.8167486         1.8167486       199: 100%|██████████| 200/200 [00:04<00:00, 47.13it/s]\n"
     ]
    },
    {
     "name": "stdout",
     "output_type": "stream",
     "text": [
      "AVG.TRAIN.LOSS    AVG.VAL.LOSS    EPOCH\n"
     ]
    },
    {
     "name": "stderr",
     "output_type": "stream",
     "text": [
      "1.2418681         1.2418681       199: 100%|██████████| 200/200 [00:04<00:00, 47.37it/s]\n"
     ]
    },
    {
     "name": "stdout",
     "output_type": "stream",
     "text": [
      "AVG.TRAIN.LOSS    AVG.VAL.LOSS    EPOCH\n"
     ]
    },
    {
     "name": "stderr",
     "output_type": "stream",
     "text": [
      "0.8346613         0.8346613       199: 100%|██████████| 200/200 [00:04<00:00, 46.88it/s]\n"
     ]
    },
    {
     "name": "stdout",
     "output_type": "stream",
     "text": [
      "AVG.TRAIN.LOSS    AVG.VAL.LOSS    EPOCH\n"
     ]
    },
    {
     "name": "stderr",
     "output_type": "stream",
     "text": [
      "2.13099         2.13099       199: 100%|██████████| 200/200 [00:05<00:00, 38.29it/s]\n"
     ]
    },
    {
     "name": "stdout",
     "output_type": "stream",
     "text": [
      "Network initialized\n",
      "AVG.TRAIN.LOSS    AVG.VAL.LOSS    EPOCH\n"
     ]
    },
    {
     "name": "stderr",
     "output_type": "stream",
     "text": [
      "1.5160159         1.5160159       199: 100%|██████████| 200/200 [00:04<00:00, 46.76it/s]\n"
     ]
    },
    {
     "name": "stdout",
     "output_type": "stream",
     "text": [
      "AVG.TRAIN.LOSS    AVG.VAL.LOSS    EPOCH\n"
     ]
    },
    {
     "name": "stderr",
     "output_type": "stream",
     "text": [
      "1.4196144         1.4196144       199: 100%|██████████| 200/200 [00:04<00:00, 47.17it/s]\n"
     ]
    },
    {
     "name": "stdout",
     "output_type": "stream",
     "text": [
      "AVG.TRAIN.LOSS    AVG.VAL.LOSS    EPOCH\n"
     ]
    },
    {
     "name": "stderr",
     "output_type": "stream",
     "text": [
      "0.6324458         0.6324458       199: 100%|██████████| 200/200 [00:04<00:00, 46.77it/s]\n"
     ]
    },
    {
     "name": "stdout",
     "output_type": "stream",
     "text": [
      "AVG.TRAIN.LOSS    AVG.VAL.LOSS    EPOCH\n"
     ]
    },
    {
     "name": "stderr",
     "output_type": "stream",
     "text": [
      "0.8126889         0.8126889       199: 100%|██████████| 200/200 [00:04<00:00, 46.82it/s]\n"
     ]
    },
    {
     "name": "stdout",
     "output_type": "stream",
     "text": [
      "Network initialized\n",
      "AVG.TRAIN.LOSS    AVG.VAL.LOSS    EPOCH\n"
     ]
    },
    {
     "name": "stderr",
     "output_type": "stream",
     "text": [
      "2.5342133         2.5342133       299: 100%|██████████| 300/300 [00:06<00:00, 45.90it/s]\n"
     ]
    },
    {
     "name": "stdout",
     "output_type": "stream",
     "text": [
      "AVG.TRAIN.LOSS    AVG.VAL.LOSS    EPOCH\n"
     ]
    },
    {
     "name": "stderr",
     "output_type": "stream",
     "text": [
      "2.009523         2.009523       299: 100%|██████████| 300/300 [00:06<00:00, 46.82it/s]\n"
     ]
    },
    {
     "name": "stdout",
     "output_type": "stream",
     "text": [
      "AVG.TRAIN.LOSS    AVG.VAL.LOSS    EPOCH\n"
     ]
    },
    {
     "name": "stderr",
     "output_type": "stream",
     "text": [
      "0.90283185         0.90283185       299: 100%|██████████| 300/300 [00:06<00:00, 46.60it/s]\n"
     ]
    },
    {
     "name": "stdout",
     "output_type": "stream",
     "text": [
      "AVG.TRAIN.LOSS    AVG.VAL.LOSS    EPOCH\n"
     ]
    },
    {
     "name": "stderr",
     "output_type": "stream",
     "text": [
      "2.4965134         2.4965134       299: 100%|██████████| 300/300 [00:06<00:00, 46.49it/s]\n"
     ]
    },
    {
     "name": "stdout",
     "output_type": "stream",
     "text": [
      "Network initialized\n",
      "AVG.TRAIN.LOSS    AVG.VAL.LOSS    EPOCH\n"
     ]
    },
    {
     "name": "stderr",
     "output_type": "stream",
     "text": [
      "3.1305888         3.1305888       199: 100%|██████████| 200/200 [00:04<00:00, 46.74it/s]\n"
     ]
    },
    {
     "name": "stdout",
     "output_type": "stream",
     "text": [
      "AVG.TRAIN.LOSS    AVG.VAL.LOSS    EPOCH\n"
     ]
    },
    {
     "name": "stderr",
     "output_type": "stream",
     "text": [
      "4.1360183         4.1360183       199: 100%|██████████| 200/200 [00:04<00:00, 46.84it/s]\n"
     ]
    },
    {
     "name": "stdout",
     "output_type": "stream",
     "text": [
      "AVG.TRAIN.LOSS    AVG.VAL.LOSS    EPOCH\n"
     ]
    },
    {
     "name": "stderr",
     "output_type": "stream",
     "text": [
      "3.1265287         3.1265287       199: 100%|██████████| 200/200 [00:04<00:00, 47.20it/s]\n"
     ]
    },
    {
     "name": "stdout",
     "output_type": "stream",
     "text": [
      "AVG.TRAIN.LOSS    AVG.VAL.LOSS    EPOCH\n"
     ]
    },
    {
     "name": "stderr",
     "output_type": "stream",
     "text": [
      "2.8529613         2.8529613       199: 100%|██████████| 200/200 [00:04<00:00, 43.01it/s]\n"
     ]
    },
    {
     "name": "stdout",
     "output_type": "stream",
     "text": [
      "Network initialized\n",
      "AVG.TRAIN.LOSS    AVG.VAL.LOSS    EPOCH\n"
     ]
    },
    {
     "name": "stderr",
     "output_type": "stream",
     "text": [
      "1.1628205         1.1628205       199: 100%|██████████| 200/200 [00:04<00:00, 47.24it/s]\n"
     ]
    },
    {
     "name": "stdout",
     "output_type": "stream",
     "text": [
      "AVG.TRAIN.LOSS    AVG.VAL.LOSS    EPOCH\n"
     ]
    },
    {
     "name": "stderr",
     "output_type": "stream",
     "text": [
      "1.6557721         1.6557721       199: 100%|██████████| 200/200 [00:04<00:00, 46.93it/s]\n"
     ]
    },
    {
     "name": "stdout",
     "output_type": "stream",
     "text": [
      "AVG.TRAIN.LOSS    AVG.VAL.LOSS    EPOCH\n"
     ]
    },
    {
     "name": "stderr",
     "output_type": "stream",
     "text": [
      "2.3758066         2.3758066       199: 100%|██████████| 200/200 [00:04<00:00, 47.10it/s]\n"
     ]
    },
    {
     "name": "stdout",
     "output_type": "stream",
     "text": [
      "AVG.TRAIN.LOSS    AVG.VAL.LOSS    EPOCH\n"
     ]
    },
    {
     "name": "stderr",
     "output_type": "stream",
     "text": [
      "1.6440006         1.6440006       199: 100%|██████████| 200/200 [00:04<00:00, 46.99it/s]\n"
     ]
    },
    {
     "name": "stdout",
     "output_type": "stream",
     "text": [
      "Network initialized\n",
      "AVG.TRAIN.LOSS    AVG.VAL.LOSS    EPOCH\n"
     ]
    },
    {
     "name": "stderr",
     "output_type": "stream",
     "text": [
      "2.653234         2.653234       199: 100%|██████████| 200/200 [00:03<00:00, 53.97it/s]\n"
     ]
    },
    {
     "name": "stdout",
     "output_type": "stream",
     "text": [
      "AVG.TRAIN.LOSS    AVG.VAL.LOSS    EPOCH\n"
     ]
    },
    {
     "name": "stderr",
     "output_type": "stream",
     "text": [
      "0.57658577         0.57658577       199: 100%|██████████| 200/200 [00:03<00:00, 54.33it/s]\n"
     ]
    },
    {
     "name": "stdout",
     "output_type": "stream",
     "text": [
      "AVG.TRAIN.LOSS    AVG.VAL.LOSS    EPOCH\n"
     ]
    },
    {
     "name": "stderr",
     "output_type": "stream",
     "text": [
      "1.4637202         1.4637202       199: 100%|██████████| 200/200 [00:03<00:00, 53.68it/s]\n"
     ]
    },
    {
     "name": "stdout",
     "output_type": "stream",
     "text": [
      "AVG.TRAIN.LOSS    AVG.VAL.LOSS    EPOCH\n"
     ]
    },
    {
     "name": "stderr",
     "output_type": "stream",
     "text": [
      "0.99325675         0.99325675       199: 100%|██████████| 200/200 [00:03<00:00, 54.03it/s]\n"
     ]
    },
    {
     "name": "stdout",
     "output_type": "stream",
     "text": [
      "Network initialized\n",
      "AVG.TRAIN.LOSS    AVG.VAL.LOSS    EPOCH\n"
     ]
    },
    {
     "name": "stderr",
     "output_type": "stream",
     "text": [
      "1.4002498         1.4002498       99: 100%|██████████| 100/100 [00:01<00:00, 53.65it/s]\n"
     ]
    },
    {
     "name": "stdout",
     "output_type": "stream",
     "text": [
      "AVG.TRAIN.LOSS    AVG.VAL.LOSS    EPOCH\n"
     ]
    },
    {
     "name": "stderr",
     "output_type": "stream",
     "text": [
      "1.3578663         1.3578663       99: 100%|██████████| 100/100 [00:01<00:00, 53.69it/s]\n"
     ]
    },
    {
     "name": "stdout",
     "output_type": "stream",
     "text": [
      "AVG.TRAIN.LOSS    AVG.VAL.LOSS    EPOCH\n"
     ]
    },
    {
     "name": "stderr",
     "output_type": "stream",
     "text": [
      "0.8559279         0.8559279       99: 100%|██████████| 100/100 [00:01<00:00, 53.88it/s]\n"
     ]
    },
    {
     "name": "stdout",
     "output_type": "stream",
     "text": [
      "AVG.TRAIN.LOSS    AVG.VAL.LOSS    EPOCH\n"
     ]
    },
    {
     "name": "stderr",
     "output_type": "stream",
     "text": [
      "2.476579         2.476579       99: 100%|██████████| 100/100 [00:01<00:00, 53.19it/s]\n"
     ]
    },
    {
     "name": "stdout",
     "output_type": "stream",
     "text": [
      "Network initialized\n",
      "AVG.TRAIN.LOSS    AVG.VAL.LOSS    EPOCH\n"
     ]
    },
    {
     "name": "stderr",
     "output_type": "stream",
     "text": [
      "2.6398196         2.6398196       99: 100%|██████████| 100/100 [00:01<00:00, 52.62it/s]\n"
     ]
    },
    {
     "name": "stdout",
     "output_type": "stream",
     "text": [
      "AVG.TRAIN.LOSS    AVG.VAL.LOSS    EPOCH\n"
     ]
    },
    {
     "name": "stderr",
     "output_type": "stream",
     "text": [
      "2.5896704         2.5896704       99: 100%|██████████| 100/100 [00:01<00:00, 52.52it/s]\n"
     ]
    },
    {
     "name": "stdout",
     "output_type": "stream",
     "text": [
      "AVG.TRAIN.LOSS    AVG.VAL.LOSS    EPOCH\n"
     ]
    },
    {
     "name": "stderr",
     "output_type": "stream",
     "text": [
      "2.1776354         2.1776354       99: 100%|██████████| 100/100 [00:01<00:00, 53.33it/s]\n"
     ]
    },
    {
     "name": "stdout",
     "output_type": "stream",
     "text": [
      "AVG.TRAIN.LOSS    AVG.VAL.LOSS    EPOCH\n"
     ]
    },
    {
     "name": "stderr",
     "output_type": "stream",
     "text": [
      "2.9619544         2.9619544       99: 100%|██████████| 100/100 [00:01<00:00, 53.36it/s]\n"
     ]
    },
    {
     "name": "stdout",
     "output_type": "stream",
     "text": [
      "Network initialized\n",
      "AVG.TRAIN.LOSS    AVG.VAL.LOSS    EPOCH\n"
     ]
    },
    {
     "name": "stderr",
     "output_type": "stream",
     "text": [
      "2.2052186         2.2052186       199: 100%|██████████| 200/200 [00:04<00:00, 45.94it/s]\n"
     ]
    },
    {
     "name": "stdout",
     "output_type": "stream",
     "text": [
      "AVG.TRAIN.LOSS    AVG.VAL.LOSS    EPOCH\n"
     ]
    },
    {
     "name": "stderr",
     "output_type": "stream",
     "text": [
      "3.3874366         3.3874366       199: 100%|██████████| 200/200 [00:04<00:00, 46.38it/s]\n"
     ]
    },
    {
     "name": "stdout",
     "output_type": "stream",
     "text": [
      "AVG.TRAIN.LOSS    AVG.VAL.LOSS    EPOCH\n"
     ]
    },
    {
     "name": "stderr",
     "output_type": "stream",
     "text": [
      "2.9843607         2.9843607       199: 100%|██████████| 200/200 [00:04<00:00, 46.93it/s]\n"
     ]
    },
    {
     "name": "stdout",
     "output_type": "stream",
     "text": [
      "AVG.TRAIN.LOSS    AVG.VAL.LOSS    EPOCH\n"
     ]
    },
    {
     "name": "stderr",
     "output_type": "stream",
     "text": [
      "2.3143291         2.3143291       199: 100%|██████████| 200/200 [00:04<00:00, 46.88it/s]\n"
     ]
    },
    {
     "name": "stdout",
     "output_type": "stream",
     "text": [
      "Network initialized\n",
      "AVG.TRAIN.LOSS    AVG.VAL.LOSS    EPOCH\n"
     ]
    },
    {
     "name": "stderr",
     "output_type": "stream",
     "text": [
      "1.2152185         1.2152185       299: 100%|██████████| 300/300 [00:06<00:00, 46.91it/s]\n"
     ]
    },
    {
     "name": "stdout",
     "output_type": "stream",
     "text": [
      "AVG.TRAIN.LOSS    AVG.VAL.LOSS    EPOCH\n"
     ]
    },
    {
     "name": "stderr",
     "output_type": "stream",
     "text": [
      "1.6302147         1.6302147       299: 100%|██████████| 300/300 [00:06<00:00, 46.75it/s]\n"
     ]
    },
    {
     "name": "stdout",
     "output_type": "stream",
     "text": [
      "AVG.TRAIN.LOSS    AVG.VAL.LOSS    EPOCH\n"
     ]
    },
    {
     "name": "stderr",
     "output_type": "stream",
     "text": [
      "1.5214745         1.5214745       299: 100%|██████████| 300/300 [00:06<00:00, 46.79it/s]\n"
     ]
    },
    {
     "name": "stdout",
     "output_type": "stream",
     "text": [
      "AVG.TRAIN.LOSS    AVG.VAL.LOSS    EPOCH\n"
     ]
    },
    {
     "name": "stderr",
     "output_type": "stream",
     "text": [
      "0.8119152         0.8119152       299: 100%|██████████| 300/300 [00:06<00:00, 46.96it/s]\n"
     ]
    },
    {
     "name": "stdout",
     "output_type": "stream",
     "text": [
      "Network initialized\n",
      "AVG.TRAIN.LOSS    AVG.VAL.LOSS    EPOCH\n"
     ]
    },
    {
     "name": "stderr",
     "output_type": "stream",
     "text": [
      "2.7894151         2.7894151       99: 100%|██████████| 100/100 [00:02<00:00, 46.10it/s]\n"
     ]
    },
    {
     "name": "stdout",
     "output_type": "stream",
     "text": [
      "AVG.TRAIN.LOSS    AVG.VAL.LOSS    EPOCH\n"
     ]
    },
    {
     "name": "stderr",
     "output_type": "stream",
     "text": [
      "1.20832         1.20832       99: 100%|██████████| 100/100 [00:02<00:00, 47.50it/s]\n"
     ]
    },
    {
     "name": "stdout",
     "output_type": "stream",
     "text": [
      "AVG.TRAIN.LOSS    AVG.VAL.LOSS    EPOCH\n"
     ]
    },
    {
     "name": "stderr",
     "output_type": "stream",
     "text": [
      "1.4588503         1.4588503       99: 100%|██████████| 100/100 [00:02<00:00, 47.40it/s]\n"
     ]
    },
    {
     "name": "stdout",
     "output_type": "stream",
     "text": [
      "AVG.TRAIN.LOSS    AVG.VAL.LOSS    EPOCH\n"
     ]
    },
    {
     "name": "stderr",
     "output_type": "stream",
     "text": [
      "3.643093         3.643093       99: 100%|██████████| 100/100 [00:02<00:00, 46.44it/s]\n"
     ]
    },
    {
     "name": "stdout",
     "output_type": "stream",
     "text": [
      "Network initialized\n",
      "AVG.TRAIN.LOSS    AVG.VAL.LOSS    EPOCH\n"
     ]
    },
    {
     "name": "stderr",
     "output_type": "stream",
     "text": [
      "0.22977668         0.22977668       199: 100%|██████████| 200/200 [00:04<00:00, 46.26it/s]\n"
     ]
    },
    {
     "name": "stdout",
     "output_type": "stream",
     "text": [
      "AVG.TRAIN.LOSS    AVG.VAL.LOSS    EPOCH\n"
     ]
    },
    {
     "name": "stderr",
     "output_type": "stream",
     "text": [
      "0.6778781         0.6778781       199: 100%|██████████| 200/200 [00:04<00:00, 46.82it/s]\n"
     ]
    },
    {
     "name": "stdout",
     "output_type": "stream",
     "text": [
      "AVG.TRAIN.LOSS    AVG.VAL.LOSS    EPOCH\n"
     ]
    },
    {
     "name": "stderr",
     "output_type": "stream",
     "text": [
      "0.39681295         0.39681295       199: 100%|██████████| 200/200 [00:04<00:00, 46.71it/s]\n"
     ]
    },
    {
     "name": "stdout",
     "output_type": "stream",
     "text": [
      "AVG.TRAIN.LOSS    AVG.VAL.LOSS    EPOCH\n"
     ]
    },
    {
     "name": "stderr",
     "output_type": "stream",
     "text": [
      "0.20917885         0.20917885       199: 100%|██████████| 200/200 [00:04<00:00, 46.32it/s]\n"
     ]
    },
    {
     "name": "stdout",
     "output_type": "stream",
     "text": [
      "Network initialized\n",
      "AVG.TRAIN.LOSS    AVG.VAL.LOSS    EPOCH\n"
     ]
    },
    {
     "name": "stderr",
     "output_type": "stream",
     "text": [
      "2.0166752         2.0166752       99: 100%|██████████| 100/100 [00:01<00:00, 53.16it/s]\n"
     ]
    },
    {
     "name": "stdout",
     "output_type": "stream",
     "text": [
      "AVG.TRAIN.LOSS    AVG.VAL.LOSS    EPOCH\n"
     ]
    },
    {
     "name": "stderr",
     "output_type": "stream",
     "text": [
      "1.5070015         1.5070015       99: 100%|██████████| 100/100 [00:01<00:00, 53.68it/s]\n"
     ]
    },
    {
     "name": "stdout",
     "output_type": "stream",
     "text": [
      "AVG.TRAIN.LOSS    AVG.VAL.LOSS    EPOCH\n"
     ]
    },
    {
     "name": "stderr",
     "output_type": "stream",
     "text": [
      "2.165889         2.165889       99: 100%|██████████| 100/100 [00:01<00:00, 52.91it/s]\n"
     ]
    },
    {
     "name": "stdout",
     "output_type": "stream",
     "text": [
      "AVG.TRAIN.LOSS    AVG.VAL.LOSS    EPOCH\n"
     ]
    },
    {
     "name": "stderr",
     "output_type": "stream",
     "text": [
      "2.6447814         2.6447814       99: 100%|██████████| 100/100 [00:01<00:00, 52.87it/s]\n"
     ]
    },
    {
     "name": "stdout",
     "output_type": "stream",
     "text": [
      "Network initialized\n",
      "AVG.TRAIN.LOSS    AVG.VAL.LOSS    EPOCH\n"
     ]
    },
    {
     "name": "stderr",
     "output_type": "stream",
     "text": [
      "1.9892591         1.9892591       99: 100%|██████████| 100/100 [00:01<00:00, 51.89it/s]\n"
     ]
    },
    {
     "name": "stdout",
     "output_type": "stream",
     "text": [
      "AVG.TRAIN.LOSS    AVG.VAL.LOSS    EPOCH\n"
     ]
    },
    {
     "name": "stderr",
     "output_type": "stream",
     "text": [
      "1.7446007         1.7446007       99: 100%|██████████| 100/100 [00:01<00:00, 53.59it/s]\n"
     ]
    },
    {
     "name": "stdout",
     "output_type": "stream",
     "text": [
      "AVG.TRAIN.LOSS    AVG.VAL.LOSS    EPOCH\n"
     ]
    },
    {
     "name": "stderr",
     "output_type": "stream",
     "text": [
      "2.022454         2.022454       99: 100%|██████████| 100/100 [00:01<00:00, 52.50it/s]\n"
     ]
    },
    {
     "name": "stdout",
     "output_type": "stream",
     "text": [
      "AVG.TRAIN.LOSS    AVG.VAL.LOSS    EPOCH\n"
     ]
    },
    {
     "name": "stderr",
     "output_type": "stream",
     "text": [
      "2.7249897         2.7249897       99: 100%|██████████| 100/100 [00:01<00:00, 53.07it/s]\n"
     ]
    },
    {
     "name": "stdout",
     "output_type": "stream",
     "text": [
      "Network initialized\n",
      "AVG.TRAIN.LOSS    AVG.VAL.LOSS    EPOCH\n"
     ]
    },
    {
     "name": "stderr",
     "output_type": "stream",
     "text": [
      "1.0793439         1.0793439       99: 100%|██████████| 100/100 [00:02<00:00, 45.70it/s]\n"
     ]
    },
    {
     "name": "stdout",
     "output_type": "stream",
     "text": [
      "AVG.TRAIN.LOSS    AVG.VAL.LOSS    EPOCH\n"
     ]
    },
    {
     "name": "stderr",
     "output_type": "stream",
     "text": [
      "1.099692         1.099692       99: 100%|██████████| 100/100 [00:02<00:00, 46.35it/s]\n"
     ]
    },
    {
     "name": "stdout",
     "output_type": "stream",
     "text": [
      "AVG.TRAIN.LOSS    AVG.VAL.LOSS    EPOCH\n"
     ]
    },
    {
     "name": "stderr",
     "output_type": "stream",
     "text": [
      "3.1405861         3.1405861       99: 100%|██████████| 100/100 [00:02<00:00, 46.14it/s]\n"
     ]
    },
    {
     "name": "stdout",
     "output_type": "stream",
     "text": [
      "AVG.TRAIN.LOSS    AVG.VAL.LOSS    EPOCH\n"
     ]
    },
    {
     "name": "stderr",
     "output_type": "stream",
     "text": [
      "1.1651973         1.1651973       99: 100%|██████████| 100/100 [00:02<00:00, 47.12it/s]\n"
     ]
    },
    {
     "name": "stdout",
     "output_type": "stream",
     "text": [
      "Network initialized\n",
      "AVG.TRAIN.LOSS    AVG.VAL.LOSS    EPOCH\n"
     ]
    },
    {
     "name": "stderr",
     "output_type": "stream",
     "text": [
      "2.543254         2.543254       99: 100%|██████████| 100/100 [00:02<00:00, 46.07it/s]\n"
     ]
    },
    {
     "name": "stdout",
     "output_type": "stream",
     "text": [
      "AVG.TRAIN.LOSS    AVG.VAL.LOSS    EPOCH\n"
     ]
    },
    {
     "name": "stderr",
     "output_type": "stream",
     "text": [
      "3.700999         3.700999       99: 100%|██████████| 100/100 [00:02<00:00, 46.09it/s]\n"
     ]
    },
    {
     "name": "stdout",
     "output_type": "stream",
     "text": [
      "AVG.TRAIN.LOSS    AVG.VAL.LOSS    EPOCH\n"
     ]
    },
    {
     "name": "stderr",
     "output_type": "stream",
     "text": [
      "2.9839308         2.9839308       99: 100%|██████████| 100/100 [00:02<00:00, 46.46it/s]\n"
     ]
    },
    {
     "name": "stdout",
     "output_type": "stream",
     "text": [
      "AVG.TRAIN.LOSS    AVG.VAL.LOSS    EPOCH\n"
     ]
    },
    {
     "name": "stderr",
     "output_type": "stream",
     "text": [
      "2.669811         2.669811       99: 100%|██████████| 100/100 [00:02<00:00, 46.55it/s]\n"
     ]
    },
    {
     "name": "stdout",
     "output_type": "stream",
     "text": [
      "Network initialized\n",
      "AVG.TRAIN.LOSS    AVG.VAL.LOSS    EPOCH\n"
     ]
    },
    {
     "name": "stderr",
     "output_type": "stream",
     "text": [
      "1.5602175         1.5602175       99: 100%|██████████| 100/100 [00:01<00:00, 53.12it/s]\n"
     ]
    },
    {
     "name": "stdout",
     "output_type": "stream",
     "text": [
      "AVG.TRAIN.LOSS    AVG.VAL.LOSS    EPOCH\n"
     ]
    },
    {
     "name": "stderr",
     "output_type": "stream",
     "text": [
      "2.4326706         2.4326706       99: 100%|██████████| 100/100 [00:01<00:00, 52.46it/s]\n"
     ]
    },
    {
     "name": "stdout",
     "output_type": "stream",
     "text": [
      "AVG.TRAIN.LOSS    AVG.VAL.LOSS    EPOCH\n"
     ]
    },
    {
     "name": "stderr",
     "output_type": "stream",
     "text": [
      "0.8649425         0.8649425       99: 100%|██████████| 100/100 [00:01<00:00, 53.64it/s]\n"
     ]
    },
    {
     "name": "stdout",
     "output_type": "stream",
     "text": [
      "AVG.TRAIN.LOSS    AVG.VAL.LOSS    EPOCH\n"
     ]
    },
    {
     "name": "stderr",
     "output_type": "stream",
     "text": [
      "2.2805023         2.2805023       99: 100%|██████████| 100/100 [00:01<00:00, 53.18it/s]\n"
     ]
    },
    {
     "name": "stdout",
     "output_type": "stream",
     "text": [
      "Network initialized\n",
      "AVG.TRAIN.LOSS    AVG.VAL.LOSS    EPOCH\n"
     ]
    },
    {
     "name": "stderr",
     "output_type": "stream",
     "text": [
      "2.3734539         2.3734539       199: 100%|██████████| 200/200 [00:03<00:00, 52.92it/s]\n"
     ]
    },
    {
     "name": "stdout",
     "output_type": "stream",
     "text": [
      "AVG.TRAIN.LOSS    AVG.VAL.LOSS    EPOCH\n"
     ]
    },
    {
     "name": "stderr",
     "output_type": "stream",
     "text": [
      "3.422837         3.422837       199: 100%|██████████| 200/200 [00:03<00:00, 53.08it/s]\n"
     ]
    },
    {
     "name": "stdout",
     "output_type": "stream",
     "text": [
      "AVG.TRAIN.LOSS    AVG.VAL.LOSS    EPOCH\n"
     ]
    },
    {
     "name": "stderr",
     "output_type": "stream",
     "text": [
      "4.7409215         4.7409215       199: 100%|██████████| 200/200 [00:03<00:00, 53.40it/s]\n"
     ]
    },
    {
     "name": "stdout",
     "output_type": "stream",
     "text": [
      "AVG.TRAIN.LOSS    AVG.VAL.LOSS    EPOCH\n"
     ]
    },
    {
     "name": "stderr",
     "output_type": "stream",
     "text": [
      "4.0845194         4.0845194       199: 100%|██████████| 200/200 [00:03<00:00, 52.80it/s]\n"
     ]
    },
    {
     "name": "stdout",
     "output_type": "stream",
     "text": [
      "Network initialized\n",
      "AVG.TRAIN.LOSS    AVG.VAL.LOSS    EPOCH\n"
     ]
    },
    {
     "name": "stderr",
     "output_type": "stream",
     "text": [
      "4.8126197         4.8126197       199: 100%|██████████| 200/200 [00:03<00:00, 52.45it/s]\n"
     ]
    },
    {
     "name": "stdout",
     "output_type": "stream",
     "text": [
      "AVG.TRAIN.LOSS    AVG.VAL.LOSS    EPOCH\n"
     ]
    },
    {
     "name": "stderr",
     "output_type": "stream",
     "text": [
      "0.7977633         0.7977633       199: 100%|██████████| 200/200 [00:03<00:00, 52.32it/s]\n"
     ]
    },
    {
     "name": "stdout",
     "output_type": "stream",
     "text": [
      "AVG.TRAIN.LOSS    AVG.VAL.LOSS    EPOCH\n"
     ]
    },
    {
     "name": "stderr",
     "output_type": "stream",
     "text": [
      "1.7626511         1.7626511       199: 100%|██████████| 200/200 [00:03<00:00, 52.87it/s]\n"
     ]
    },
    {
     "name": "stdout",
     "output_type": "stream",
     "text": [
      "AVG.TRAIN.LOSS    AVG.VAL.LOSS    EPOCH\n"
     ]
    },
    {
     "name": "stderr",
     "output_type": "stream",
     "text": [
      "1.509682         1.509682       199: 100%|██████████| 200/200 [00:03<00:00, 52.81it/s]\n"
     ]
    },
    {
     "name": "stdout",
     "output_type": "stream",
     "text": [
      "Network initialized\n",
      "AVG.TRAIN.LOSS    AVG.VAL.LOSS    EPOCH\n"
     ]
    },
    {
     "name": "stderr",
     "output_type": "stream",
     "text": [
      "2.4870656         2.4870656       199: 100%|██████████| 200/200 [00:04<00:00, 46.11it/s]\n"
     ]
    },
    {
     "name": "stdout",
     "output_type": "stream",
     "text": [
      "AVG.TRAIN.LOSS    AVG.VAL.LOSS    EPOCH\n"
     ]
    },
    {
     "name": "stderr",
     "output_type": "stream",
     "text": [
      "2.1652868         2.1652868       199: 100%|██████████| 200/200 [00:04<00:00, 46.13it/s]\n"
     ]
    },
    {
     "name": "stdout",
     "output_type": "stream",
     "text": [
      "AVG.TRAIN.LOSS    AVG.VAL.LOSS    EPOCH\n"
     ]
    },
    {
     "name": "stderr",
     "output_type": "stream",
     "text": [
      "1.8069429         1.8069429       199: 100%|██████████| 200/200 [00:04<00:00, 46.45it/s]\n"
     ]
    },
    {
     "name": "stdout",
     "output_type": "stream",
     "text": [
      "AVG.TRAIN.LOSS    AVG.VAL.LOSS    EPOCH\n"
     ]
    },
    {
     "name": "stderr",
     "output_type": "stream",
     "text": [
      "3.2323635         3.2323635       199: 100%|██████████| 200/200 [00:04<00:00, 46.12it/s]\n"
     ]
    },
    {
     "name": "stdout",
     "output_type": "stream",
     "text": [
      "Network initialized\n",
      "AVG.TRAIN.LOSS    AVG.VAL.LOSS    EPOCH\n"
     ]
    },
    {
     "name": "stderr",
     "output_type": "stream",
     "text": [
      "0.9312826         0.9312826       199: 100%|██████████| 200/200 [00:04<00:00, 45.15it/s]\n"
     ]
    },
    {
     "name": "stdout",
     "output_type": "stream",
     "text": [
      "AVG.TRAIN.LOSS    AVG.VAL.LOSS    EPOCH\n"
     ]
    },
    {
     "name": "stderr",
     "output_type": "stream",
     "text": [
      "0.89080405         0.89080405       199: 100%|██████████| 200/200 [00:04<00:00, 44.80it/s]\n"
     ]
    },
    {
     "name": "stdout",
     "output_type": "stream",
     "text": [
      "AVG.TRAIN.LOSS    AVG.VAL.LOSS    EPOCH\n"
     ]
    },
    {
     "name": "stderr",
     "output_type": "stream",
     "text": [
      "0.54025567         0.54025567       199: 100%|██████████| 200/200 [00:04<00:00, 45.19it/s]\n"
     ]
    },
    {
     "name": "stdout",
     "output_type": "stream",
     "text": [
      "AVG.TRAIN.LOSS    AVG.VAL.LOSS    EPOCH\n"
     ]
    },
    {
     "name": "stderr",
     "output_type": "stream",
     "text": [
      "0.51207703         0.51207703       199: 100%|██████████| 200/200 [00:04<00:00, 45.64it/s]\n"
     ]
    },
    {
     "name": "stdout",
     "output_type": "stream",
     "text": [
      "Network initialized\n",
      "AVG.TRAIN.LOSS    AVG.VAL.LOSS    EPOCH\n"
     ]
    },
    {
     "name": "stderr",
     "output_type": "stream",
     "text": [
      "3.3511856         3.3511856       99: 100%|██████████| 100/100 [00:02<00:00, 46.08it/s]\n"
     ]
    },
    {
     "name": "stdout",
     "output_type": "stream",
     "text": [
      "AVG.TRAIN.LOSS    AVG.VAL.LOSS    EPOCH\n"
     ]
    },
    {
     "name": "stderr",
     "output_type": "stream",
     "text": [
      "2.8903322         2.8903322       99: 100%|██████████| 100/100 [00:02<00:00, 46.70it/s]\n"
     ]
    },
    {
     "name": "stdout",
     "output_type": "stream",
     "text": [
      "AVG.TRAIN.LOSS    AVG.VAL.LOSS    EPOCH\n"
     ]
    },
    {
     "name": "stderr",
     "output_type": "stream",
     "text": [
      "3.7573586         3.7573586       99: 100%|██████████| 100/100 [00:02<00:00, 46.17it/s]\n"
     ]
    },
    {
     "name": "stdout",
     "output_type": "stream",
     "text": [
      "AVG.TRAIN.LOSS    AVG.VAL.LOSS    EPOCH\n"
     ]
    },
    {
     "name": "stderr",
     "output_type": "stream",
     "text": [
      "2.2310007         2.2310007       99: 100%|██████████| 100/100 [00:02<00:00, 45.59it/s]\n"
     ]
    },
    {
     "name": "stdout",
     "output_type": "stream",
     "text": [
      "Network initialized\n",
      "AVG.TRAIN.LOSS    AVG.VAL.LOSS    EPOCH\n"
     ]
    },
    {
     "name": "stderr",
     "output_type": "stream",
     "text": [
      "0.2837618         0.2837618       199: 100%|██████████| 200/200 [00:04<00:00, 45.74it/s]\n"
     ]
    },
    {
     "name": "stdout",
     "output_type": "stream",
     "text": [
      "AVG.TRAIN.LOSS    AVG.VAL.LOSS    EPOCH\n"
     ]
    },
    {
     "name": "stderr",
     "output_type": "stream",
     "text": [
      "0.37580904         0.37580904       199: 100%|██████████| 200/200 [00:04<00:00, 46.88it/s]\n"
     ]
    },
    {
     "name": "stdout",
     "output_type": "stream",
     "text": [
      "AVG.TRAIN.LOSS    AVG.VAL.LOSS    EPOCH\n"
     ]
    },
    {
     "name": "stderr",
     "output_type": "stream",
     "text": [
      "0.48907566         0.48907566       199: 100%|██████████| 200/200 [00:04<00:00, 46.06it/s]\n"
     ]
    },
    {
     "name": "stdout",
     "output_type": "stream",
     "text": [
      "AVG.TRAIN.LOSS    AVG.VAL.LOSS    EPOCH\n"
     ]
    },
    {
     "name": "stderr",
     "output_type": "stream",
     "text": [
      "0.8158609         0.8158609       199: 100%|██████████| 200/200 [00:04<00:00, 46.08it/s]\n"
     ]
    },
    {
     "name": "stdout",
     "output_type": "stream",
     "text": [
      "Network initialized\n",
      "AVG.TRAIN.LOSS    AVG.VAL.LOSS    EPOCH\n"
     ]
    },
    {
     "name": "stderr",
     "output_type": "stream",
     "text": [
      "1.8910335         1.8910335       199: 100%|██████████| 200/200 [00:03<00:00, 53.24it/s]\n"
     ]
    },
    {
     "name": "stdout",
     "output_type": "stream",
     "text": [
      "AVG.TRAIN.LOSS    AVG.VAL.LOSS    EPOCH\n"
     ]
    },
    {
     "name": "stderr",
     "output_type": "stream",
     "text": [
      "3.1637042         3.1637042       199: 100%|██████████| 200/200 [00:03<00:00, 51.15it/s]\n"
     ]
    },
    {
     "name": "stdout",
     "output_type": "stream",
     "text": [
      "AVG.TRAIN.LOSS    AVG.VAL.LOSS    EPOCH\n"
     ]
    },
    {
     "name": "stderr",
     "output_type": "stream",
     "text": [
      "3.5208845         3.5208845       199: 100%|██████████| 200/200 [00:04<00:00, 48.53it/s]\n"
     ]
    },
    {
     "name": "stdout",
     "output_type": "stream",
     "text": [
      "AVG.TRAIN.LOSS    AVG.VAL.LOSS    EPOCH\n"
     ]
    },
    {
     "name": "stderr",
     "output_type": "stream",
     "text": [
      "3.3294532         3.3294532       199: 100%|██████████| 200/200 [00:03<00:00, 52.74it/s]\n"
     ]
    },
    {
     "name": "stdout",
     "output_type": "stream",
     "text": [
      "Network initialized\n",
      "AVG.TRAIN.LOSS    AVG.VAL.LOSS    EPOCH\n"
     ]
    },
    {
     "name": "stderr",
     "output_type": "stream",
     "text": [
      "0.5958638         0.5958638       199: 100%|██████████| 200/200 [00:04<00:00, 45.86it/s]\n"
     ]
    },
    {
     "name": "stdout",
     "output_type": "stream",
     "text": [
      "AVG.TRAIN.LOSS    AVG.VAL.LOSS    EPOCH\n"
     ]
    },
    {
     "name": "stderr",
     "output_type": "stream",
     "text": [
      "0.4173598         0.4173598       199: 100%|██████████| 200/200 [00:04<00:00, 46.26it/s]\n"
     ]
    },
    {
     "name": "stdout",
     "output_type": "stream",
     "text": [
      "AVG.TRAIN.LOSS    AVG.VAL.LOSS    EPOCH\n"
     ]
    },
    {
     "name": "stderr",
     "output_type": "stream",
     "text": [
      "0.7232292         0.7232292       199: 100%|██████████| 200/200 [00:04<00:00, 45.56it/s]\n"
     ]
    },
    {
     "name": "stdout",
     "output_type": "stream",
     "text": [
      "AVG.TRAIN.LOSS    AVG.VAL.LOSS    EPOCH\n"
     ]
    },
    {
     "name": "stderr",
     "output_type": "stream",
     "text": [
      "0.79060316         0.79060316       199: 100%|██████████| 200/200 [00:04<00:00, 45.81it/s]\n"
     ]
    },
    {
     "name": "stdout",
     "output_type": "stream",
     "text": [
      "Network initialized\n",
      "AVG.TRAIN.LOSS    AVG.VAL.LOSS    EPOCH\n"
     ]
    },
    {
     "name": "stderr",
     "output_type": "stream",
     "text": [
      "0.9563146         0.9563146       299: 100%|██████████| 300/300 [00:06<00:00, 45.74it/s]\n"
     ]
    },
    {
     "name": "stdout",
     "output_type": "stream",
     "text": [
      "AVG.TRAIN.LOSS    AVG.VAL.LOSS    EPOCH\n"
     ]
    },
    {
     "name": "stderr",
     "output_type": "stream",
     "text": [
      "0.305858         0.305858       299: 100%|██████████| 300/300 [00:06<00:00, 44.87it/s]\n"
     ]
    },
    {
     "name": "stdout",
     "output_type": "stream",
     "text": [
      "AVG.TRAIN.LOSS    AVG.VAL.LOSS    EPOCH\n"
     ]
    },
    {
     "name": "stderr",
     "output_type": "stream",
     "text": [
      "0.7841938         0.7841938       299: 100%|██████████| 300/300 [00:06<00:00, 45.45it/s]\n"
     ]
    },
    {
     "name": "stdout",
     "output_type": "stream",
     "text": [
      "AVG.TRAIN.LOSS    AVG.VAL.LOSS    EPOCH\n"
     ]
    },
    {
     "name": "stderr",
     "output_type": "stream",
     "text": [
      "1.2274585         1.2274585       299: 100%|██████████| 300/300 [00:06<00:00, 45.59it/s]\n"
     ]
    },
    {
     "name": "stdout",
     "output_type": "stream",
     "text": [
      "Network initialized\n",
      "AVG.TRAIN.LOSS    AVG.VAL.LOSS    EPOCH\n"
     ]
    },
    {
     "name": "stderr",
     "output_type": "stream",
     "text": [
      "2.2489345         2.2489345       99: 100%|██████████| 100/100 [00:02<00:00, 49.59it/s]\n"
     ]
    },
    {
     "name": "stdout",
     "output_type": "stream",
     "text": [
      "AVG.TRAIN.LOSS    AVG.VAL.LOSS    EPOCH\n"
     ]
    },
    {
     "name": "stderr",
     "output_type": "stream",
     "text": [
      "3.0576751         3.0576751       99: 100%|██████████| 100/100 [00:01<00:00, 52.09it/s]\n"
     ]
    },
    {
     "name": "stdout",
     "output_type": "stream",
     "text": [
      "AVG.TRAIN.LOSS    AVG.VAL.LOSS    EPOCH\n"
     ]
    },
    {
     "name": "stderr",
     "output_type": "stream",
     "text": [
      "1.2063851         1.2063851       99: 100%|██████████| 100/100 [00:01<00:00, 52.44it/s]\n"
     ]
    },
    {
     "name": "stdout",
     "output_type": "stream",
     "text": [
      "AVG.TRAIN.LOSS    AVG.VAL.LOSS    EPOCH\n"
     ]
    },
    {
     "name": "stderr",
     "output_type": "stream",
     "text": [
      "2.46686         2.46686       99: 100%|██████████| 100/100 [00:01<00:00, 52.20it/s]\n"
     ]
    },
    {
     "name": "stdout",
     "output_type": "stream",
     "text": [
      "Network initialized\n",
      "AVG.TRAIN.LOSS    AVG.VAL.LOSS    EPOCH\n"
     ]
    },
    {
     "name": "stderr",
     "output_type": "stream",
     "text": [
      "2.5236132         2.5236132       199: 100%|██████████| 200/200 [00:04<00:00, 45.73it/s]\n"
     ]
    },
    {
     "name": "stdout",
     "output_type": "stream",
     "text": [
      "AVG.TRAIN.LOSS    AVG.VAL.LOSS    EPOCH\n"
     ]
    },
    {
     "name": "stderr",
     "output_type": "stream",
     "text": [
      "3.4830818         3.4830818       199: 100%|██████████| 200/200 [00:04<00:00, 45.60it/s]\n"
     ]
    },
    {
     "name": "stdout",
     "output_type": "stream",
     "text": [
      "AVG.TRAIN.LOSS    AVG.VAL.LOSS    EPOCH\n"
     ]
    },
    {
     "name": "stderr",
     "output_type": "stream",
     "text": [
      "2.1979084         2.1979084       199: 100%|██████████| 200/200 [00:04<00:00, 46.27it/s]\n"
     ]
    },
    {
     "name": "stdout",
     "output_type": "stream",
     "text": [
      "AVG.TRAIN.LOSS    AVG.VAL.LOSS    EPOCH\n"
     ]
    },
    {
     "name": "stderr",
     "output_type": "stream",
     "text": [
      "3.0786483         3.0786483       199: 100%|██████████| 200/200 [00:04<00:00, 45.78it/s]\n"
     ]
    },
    {
     "name": "stdout",
     "output_type": "stream",
     "text": [
      "Network initialized\n",
      "AVG.TRAIN.LOSS    AVG.VAL.LOSS    EPOCH\n"
     ]
    },
    {
     "name": "stderr",
     "output_type": "stream",
     "text": [
      "0.92889196         0.92889196       299: 100%|██████████| 300/300 [00:05<00:00, 52.32it/s]\n"
     ]
    },
    {
     "name": "stdout",
     "output_type": "stream",
     "text": [
      "AVG.TRAIN.LOSS    AVG.VAL.LOSS    EPOCH\n"
     ]
    },
    {
     "name": "stderr",
     "output_type": "stream",
     "text": [
      "1.6547941         1.6547941       299: 100%|██████████| 300/300 [00:05<00:00, 51.96it/s]\n"
     ]
    },
    {
     "name": "stdout",
     "output_type": "stream",
     "text": [
      "AVG.TRAIN.LOSS    AVG.VAL.LOSS    EPOCH\n"
     ]
    },
    {
     "name": "stderr",
     "output_type": "stream",
     "text": [
      "1.5710176         1.5710176       299: 100%|██████████| 300/300 [00:05<00:00, 51.70it/s]\n"
     ]
    },
    {
     "name": "stdout",
     "output_type": "stream",
     "text": [
      "AVG.TRAIN.LOSS    AVG.VAL.LOSS    EPOCH\n"
     ]
    },
    {
     "name": "stderr",
     "output_type": "stream",
     "text": [
      "0.9312307         0.9312307       299: 100%|██████████| 300/300 [00:05<00:00, 51.98it/s]\n"
     ]
    },
    {
     "name": "stdout",
     "output_type": "stream",
     "text": [
      "Network initialized\n",
      "AVG.TRAIN.LOSS    AVG.VAL.LOSS    EPOCH\n"
     ]
    },
    {
     "name": "stderr",
     "output_type": "stream",
     "text": [
      "2.274655         2.274655       199: 100%|██████████| 200/200 [00:04<00:00, 45.53it/s]\n"
     ]
    },
    {
     "name": "stdout",
     "output_type": "stream",
     "text": [
      "AVG.TRAIN.LOSS    AVG.VAL.LOSS    EPOCH\n"
     ]
    },
    {
     "name": "stderr",
     "output_type": "stream",
     "text": [
      "2.5084956         2.5084956       199: 100%|██████████| 200/200 [00:04<00:00, 45.71it/s]\n"
     ]
    },
    {
     "name": "stdout",
     "output_type": "stream",
     "text": [
      "AVG.TRAIN.LOSS    AVG.VAL.LOSS    EPOCH\n"
     ]
    },
    {
     "name": "stderr",
     "output_type": "stream",
     "text": [
      "2.5239909         2.5239909       199: 100%|██████████| 200/200 [00:04<00:00, 45.46it/s]\n"
     ]
    },
    {
     "name": "stdout",
     "output_type": "stream",
     "text": [
      "AVG.TRAIN.LOSS    AVG.VAL.LOSS    EPOCH\n"
     ]
    },
    {
     "name": "stderr",
     "output_type": "stream",
     "text": [
      "0.8737491         0.8737491       199: 100%|██████████| 200/200 [00:04<00:00, 45.30it/s]\n"
     ]
    },
    {
     "name": "stdout",
     "output_type": "stream",
     "text": [
      "Network initialized\n",
      "AVG.TRAIN.LOSS    AVG.VAL.LOSS    EPOCH\n"
     ]
    },
    {
     "name": "stderr",
     "output_type": "stream",
     "text": [
      "1.9982716         1.9982716       199: 100%|██████████| 200/200 [00:04<00:00, 45.67it/s]\n"
     ]
    },
    {
     "name": "stdout",
     "output_type": "stream",
     "text": [
      "AVG.TRAIN.LOSS    AVG.VAL.LOSS    EPOCH\n"
     ]
    },
    {
     "name": "stderr",
     "output_type": "stream",
     "text": [
      "3.0117404         3.0117404       199: 100%|██████████| 200/200 [00:04<00:00, 45.05it/s]\n"
     ]
    },
    {
     "name": "stdout",
     "output_type": "stream",
     "text": [
      "AVG.TRAIN.LOSS    AVG.VAL.LOSS    EPOCH\n"
     ]
    },
    {
     "name": "stderr",
     "output_type": "stream",
     "text": [
      "4.0695424         4.0695424       199: 100%|██████████| 200/200 [00:04<00:00, 45.79it/s]\n"
     ]
    },
    {
     "name": "stdout",
     "output_type": "stream",
     "text": [
      "AVG.TRAIN.LOSS    AVG.VAL.LOSS    EPOCH\n"
     ]
    },
    {
     "name": "stderr",
     "output_type": "stream",
     "text": [
      "2.6464622         2.6464622       199: 100%|██████████| 200/200 [00:04<00:00, 45.45it/s]\n"
     ]
    },
    {
     "name": "stdout",
     "output_type": "stream",
     "text": [
      "Network initialized\n",
      "AVG.TRAIN.LOSS    AVG.VAL.LOSS    EPOCH\n"
     ]
    },
    {
     "name": "stderr",
     "output_type": "stream",
     "text": [
      "1.6916075         1.6916075       299: 100%|██████████| 300/300 [00:06<00:00, 45.51it/s]\n"
     ]
    },
    {
     "name": "stdout",
     "output_type": "stream",
     "text": [
      "AVG.TRAIN.LOSS    AVG.VAL.LOSS    EPOCH\n"
     ]
    },
    {
     "name": "stderr",
     "output_type": "stream",
     "text": [
      "3.1761703         3.1761703       299: 100%|██████████| 300/300 [00:06<00:00, 44.91it/s]\n"
     ]
    },
    {
     "name": "stdout",
     "output_type": "stream",
     "text": [
      "AVG.TRAIN.LOSS    AVG.VAL.LOSS    EPOCH\n"
     ]
    },
    {
     "name": "stderr",
     "output_type": "stream",
     "text": [
      "2.0761006         2.0761006       299: 100%|██████████| 300/300 [00:06<00:00, 45.03it/s]\n"
     ]
    },
    {
     "name": "stdout",
     "output_type": "stream",
     "text": [
      "AVG.TRAIN.LOSS    AVG.VAL.LOSS    EPOCH\n"
     ]
    },
    {
     "name": "stderr",
     "output_type": "stream",
     "text": [
      "1.4148277         1.4148277       299: 100%|██████████| 300/300 [00:06<00:00, 45.30it/s]\n"
     ]
    },
    {
     "name": "stdout",
     "output_type": "stream",
     "text": [
      "Network initialized\n",
      "AVG.TRAIN.LOSS    AVG.VAL.LOSS    EPOCH\n"
     ]
    },
    {
     "name": "stderr",
     "output_type": "stream",
     "text": [
      "1.3891734         1.3891734       299: 100%|██████████| 300/300 [00:05<00:00, 52.08it/s]\n"
     ]
    },
    {
     "name": "stdout",
     "output_type": "stream",
     "text": [
      "AVG.TRAIN.LOSS    AVG.VAL.LOSS    EPOCH\n"
     ]
    },
    {
     "name": "stderr",
     "output_type": "stream",
     "text": [
      "0.5249289         0.5249289       299: 100%|██████████| 300/300 [00:05<00:00, 51.63it/s]\n"
     ]
    },
    {
     "name": "stdout",
     "output_type": "stream",
     "text": [
      "AVG.TRAIN.LOSS    AVG.VAL.LOSS    EPOCH\n"
     ]
    },
    {
     "name": "stderr",
     "output_type": "stream",
     "text": [
      "1.4109044         1.4109044       299: 100%|██████████| 300/300 [00:05<00:00, 50.84it/s]\n"
     ]
    },
    {
     "name": "stdout",
     "output_type": "stream",
     "text": [
      "AVG.TRAIN.LOSS    AVG.VAL.LOSS    EPOCH\n"
     ]
    },
    {
     "name": "stderr",
     "output_type": "stream",
     "text": [
      "1.0137848         1.0137848       299: 100%|██████████| 300/300 [00:05<00:00, 51.17it/s]\n"
     ]
    },
    {
     "name": "stdout",
     "output_type": "stream",
     "text": [
      "Network initialized\n",
      "AVG.TRAIN.LOSS    AVG.VAL.LOSS    EPOCH\n"
     ]
    },
    {
     "name": "stderr",
     "output_type": "stream",
     "text": [
      "2.4687996         2.4687996       299: 100%|██████████| 300/300 [00:05<00:00, 50.59it/s]\n"
     ]
    },
    {
     "name": "stdout",
     "output_type": "stream",
     "text": [
      "AVG.TRAIN.LOSS    AVG.VAL.LOSS    EPOCH\n"
     ]
    },
    {
     "name": "stderr",
     "output_type": "stream",
     "text": [
      "3.6807292         3.6807292       299: 100%|██████████| 300/300 [00:06<00:00, 48.66it/s]\n"
     ]
    },
    {
     "name": "stdout",
     "output_type": "stream",
     "text": [
      "AVG.TRAIN.LOSS    AVG.VAL.LOSS    EPOCH\n"
     ]
    },
    {
     "name": "stderr",
     "output_type": "stream",
     "text": [
      "1.9226851         1.9226851       299: 100%|██████████| 300/300 [00:06<00:00, 49.60it/s]\n"
     ]
    },
    {
     "name": "stdout",
     "output_type": "stream",
     "text": [
      "AVG.TRAIN.LOSS    AVG.VAL.LOSS    EPOCH\n"
     ]
    },
    {
     "name": "stderr",
     "output_type": "stream",
     "text": [
      "0.9162733         0.9162733       299: 100%|██████████| 300/300 [00:06<00:00, 49.99it/s]\n"
     ]
    },
    {
     "name": "stdout",
     "output_type": "stream",
     "text": [
      "Network initialized\n",
      "AVG.TRAIN.LOSS    AVG.VAL.LOSS    EPOCH\n"
     ]
    },
    {
     "name": "stderr",
     "output_type": "stream",
     "text": [
      "2.6826727         2.6826727       299: 100%|██████████| 300/300 [00:05<00:00, 50.11it/s]\n"
     ]
    },
    {
     "name": "stdout",
     "output_type": "stream",
     "text": [
      "AVG.TRAIN.LOSS    AVG.VAL.LOSS    EPOCH\n"
     ]
    },
    {
     "name": "stderr",
     "output_type": "stream",
     "text": [
      "3.2959194         3.2959194       299: 100%|██████████| 300/300 [00:06<00:00, 49.28it/s]\n"
     ]
    },
    {
     "name": "stdout",
     "output_type": "stream",
     "text": [
      "AVG.TRAIN.LOSS    AVG.VAL.LOSS    EPOCH\n"
     ]
    },
    {
     "name": "stderr",
     "output_type": "stream",
     "text": [
      "1.3411179         1.3411179       299: 100%|██████████| 300/300 [00:06<00:00, 49.69it/s]\n"
     ]
    },
    {
     "name": "stdout",
     "output_type": "stream",
     "text": [
      "AVG.TRAIN.LOSS    AVG.VAL.LOSS    EPOCH\n"
     ]
    },
    {
     "name": "stderr",
     "output_type": "stream",
     "text": [
      "2.5097554         2.5097554       299: 100%|██████████| 300/300 [00:05<00:00, 51.01it/s]\n"
     ]
    },
    {
     "name": "stdout",
     "output_type": "stream",
     "text": [
      "Network initialized\n",
      "AVG.TRAIN.LOSS    AVG.VAL.LOSS    EPOCH\n"
     ]
    },
    {
     "name": "stderr",
     "output_type": "stream",
     "text": [
      "0.6980889         0.6980889       299: 100%|██████████| 300/300 [00:05<00:00, 51.55it/s]\n"
     ]
    },
    {
     "name": "stdout",
     "output_type": "stream",
     "text": [
      "AVG.TRAIN.LOSS    AVG.VAL.LOSS    EPOCH\n"
     ]
    },
    {
     "name": "stderr",
     "output_type": "stream",
     "text": [
      "1.2295519         1.2295519       299: 100%|██████████| 300/300 [00:05<00:00, 51.61it/s]\n"
     ]
    },
    {
     "name": "stdout",
     "output_type": "stream",
     "text": [
      "AVG.TRAIN.LOSS    AVG.VAL.LOSS    EPOCH\n"
     ]
    },
    {
     "name": "stderr",
     "output_type": "stream",
     "text": [
      "0.4539934         0.4539934       299: 100%|██████████| 300/300 [00:05<00:00, 51.57it/s]\n"
     ]
    },
    {
     "name": "stdout",
     "output_type": "stream",
     "text": [
      "AVG.TRAIN.LOSS    AVG.VAL.LOSS    EPOCH\n"
     ]
    },
    {
     "name": "stderr",
     "output_type": "stream",
     "text": [
      "0.45310488         0.45310488       299: 100%|██████████| 300/300 [00:06<00:00, 48.73it/s]\n"
     ]
    },
    {
     "name": "stdout",
     "output_type": "stream",
     "text": [
      "Network initialized\n",
      "AVG.TRAIN.LOSS    AVG.VAL.LOSS    EPOCH\n"
     ]
    },
    {
     "name": "stderr",
     "output_type": "stream",
     "text": [
      "1.717682         1.717682       199: 100%|██████████| 200/200 [00:04<00:00, 49.45it/s]\n"
     ]
    },
    {
     "name": "stdout",
     "output_type": "stream",
     "text": [
      "AVG.TRAIN.LOSS    AVG.VAL.LOSS    EPOCH\n"
     ]
    },
    {
     "name": "stderr",
     "output_type": "stream",
     "text": [
      "1.3011856         1.3011856       199: 100%|██████████| 200/200 [00:04<00:00, 49.32it/s]\n"
     ]
    },
    {
     "name": "stdout",
     "output_type": "stream",
     "text": [
      "AVG.TRAIN.LOSS    AVG.VAL.LOSS    EPOCH\n"
     ]
    },
    {
     "name": "stderr",
     "output_type": "stream",
     "text": [
      "2.1058726         2.1058726       199: 100%|██████████| 200/200 [00:03<00:00, 50.26it/s]\n"
     ]
    },
    {
     "name": "stdout",
     "output_type": "stream",
     "text": [
      "AVG.TRAIN.LOSS    AVG.VAL.LOSS    EPOCH\n"
     ]
    },
    {
     "name": "stderr",
     "output_type": "stream",
     "text": [
      "2.9278116         2.9278116       199: 100%|██████████| 200/200 [00:03<00:00, 50.33it/s]\n"
     ]
    },
    {
     "name": "stdout",
     "output_type": "stream",
     "text": [
      "Network initialized\n",
      "AVG.TRAIN.LOSS    AVG.VAL.LOSS    EPOCH\n"
     ]
    },
    {
     "name": "stderr",
     "output_type": "stream",
     "text": [
      "1.7409892         1.7409892       99: 100%|██████████| 100/100 [00:02<00:00, 43.97it/s]\n"
     ]
    },
    {
     "name": "stdout",
     "output_type": "stream",
     "text": [
      "AVG.TRAIN.LOSS    AVG.VAL.LOSS    EPOCH\n"
     ]
    },
    {
     "name": "stderr",
     "output_type": "stream",
     "text": [
      "1.7807735         1.7807735       99: 100%|██████████| 100/100 [00:02<00:00, 44.67it/s]\n"
     ]
    },
    {
     "name": "stdout",
     "output_type": "stream",
     "text": [
      "AVG.TRAIN.LOSS    AVG.VAL.LOSS    EPOCH\n"
     ]
    },
    {
     "name": "stderr",
     "output_type": "stream",
     "text": [
      "1.4410359         1.4410359       99: 100%|██████████| 100/100 [00:02<00:00, 45.14it/s]\n"
     ]
    },
    {
     "name": "stdout",
     "output_type": "stream",
     "text": [
      "AVG.TRAIN.LOSS    AVG.VAL.LOSS    EPOCH\n"
     ]
    },
    {
     "name": "stderr",
     "output_type": "stream",
     "text": [
      "3.0536091         3.0536091       99: 100%|██████████| 100/100 [00:02<00:00, 44.67it/s]\n"
     ]
    },
    {
     "name": "stdout",
     "output_type": "stream",
     "text": [
      "Network initialized\n",
      "AVG.TRAIN.LOSS    AVG.VAL.LOSS    EPOCH\n"
     ]
    },
    {
     "name": "stderr",
     "output_type": "stream",
     "text": [
      "0.5933829         0.5933829       199: 100%|██████████| 200/200 [00:04<00:00, 43.96it/s]\n"
     ]
    },
    {
     "name": "stdout",
     "output_type": "stream",
     "text": [
      "AVG.TRAIN.LOSS    AVG.VAL.LOSS    EPOCH\n"
     ]
    },
    {
     "name": "stderr",
     "output_type": "stream",
     "text": [
      "0.7535682         0.7535682       199: 100%|██████████| 200/200 [00:04<00:00, 45.42it/s]\n"
     ]
    },
    {
     "name": "stdout",
     "output_type": "stream",
     "text": [
      "AVG.TRAIN.LOSS    AVG.VAL.LOSS    EPOCH\n"
     ]
    },
    {
     "name": "stderr",
     "output_type": "stream",
     "text": [
      "0.7456677         0.7456677       199: 100%|██████████| 200/200 [00:04<00:00, 44.80it/s]\n"
     ]
    },
    {
     "name": "stdout",
     "output_type": "stream",
     "text": [
      "AVG.TRAIN.LOSS    AVG.VAL.LOSS    EPOCH\n"
     ]
    },
    {
     "name": "stderr",
     "output_type": "stream",
     "text": [
      "0.5061371         0.5061371       199: 100%|██████████| 200/200 [00:04<00:00, 44.53it/s]\n"
     ]
    },
    {
     "name": "stdout",
     "output_type": "stream",
     "text": [
      "Network initialized\n",
      "AVG.TRAIN.LOSS    AVG.VAL.LOSS    EPOCH\n"
     ]
    },
    {
     "name": "stderr",
     "output_type": "stream",
     "text": [
      "3.8368905         3.8368905       99: 100%|██████████| 100/100 [00:01<00:00, 50.80it/s]\n"
     ]
    },
    {
     "name": "stdout",
     "output_type": "stream",
     "text": [
      "AVG.TRAIN.LOSS    AVG.VAL.LOSS    EPOCH\n"
     ]
    },
    {
     "name": "stderr",
     "output_type": "stream",
     "text": [
      "2.0060554         2.0060554       99: 100%|██████████| 100/100 [00:02<00:00, 49.81it/s]\n"
     ]
    },
    {
     "name": "stdout",
     "output_type": "stream",
     "text": [
      "AVG.TRAIN.LOSS    AVG.VAL.LOSS    EPOCH\n"
     ]
    },
    {
     "name": "stderr",
     "output_type": "stream",
     "text": [
      "5.0514154         5.0514154       99: 100%|██████████| 100/100 [00:01<00:00, 50.12it/s]\n"
     ]
    },
    {
     "name": "stdout",
     "output_type": "stream",
     "text": [
      "AVG.TRAIN.LOSS    AVG.VAL.LOSS    EPOCH\n"
     ]
    },
    {
     "name": "stderr",
     "output_type": "stream",
     "text": [
      "3.6656826         3.6656826       99: 100%|██████████| 100/100 [00:01<00:00, 50.78it/s]\n"
     ]
    },
    {
     "name": "stdout",
     "output_type": "stream",
     "text": [
      "Network initialized\n",
      "AVG.TRAIN.LOSS    AVG.VAL.LOSS    EPOCH\n"
     ]
    },
    {
     "name": "stderr",
     "output_type": "stream",
     "text": [
      "0.51257735         0.51257735       99: 100%|██████████| 100/100 [00:02<00:00, 44.69it/s]\n"
     ]
    },
    {
     "name": "stdout",
     "output_type": "stream",
     "text": [
      "AVG.TRAIN.LOSS    AVG.VAL.LOSS    EPOCH\n"
     ]
    },
    {
     "name": "stderr",
     "output_type": "stream",
     "text": [
      "0.6444144         0.6444144       99: 100%|██████████| 100/100 [00:02<00:00, 44.52it/s]\n"
     ]
    },
    {
     "name": "stdout",
     "output_type": "stream",
     "text": [
      "AVG.TRAIN.LOSS    AVG.VAL.LOSS    EPOCH\n"
     ]
    },
    {
     "name": "stderr",
     "output_type": "stream",
     "text": [
      "1.3517057         1.3517057       99: 100%|██████████| 100/100 [00:02<00:00, 44.93it/s]\n"
     ]
    },
    {
     "name": "stdout",
     "output_type": "stream",
     "text": [
      "AVG.TRAIN.LOSS    AVG.VAL.LOSS    EPOCH\n"
     ]
    },
    {
     "name": "stderr",
     "output_type": "stream",
     "text": [
      "1.0756804         1.0756804       99: 100%|██████████| 100/100 [00:02<00:00, 44.55it/s]\n"
     ]
    },
    {
     "name": "stdout",
     "output_type": "stream",
     "text": [
      "Network initialized\n",
      "AVG.TRAIN.LOSS    AVG.VAL.LOSS    EPOCH\n"
     ]
    },
    {
     "name": "stderr",
     "output_type": "stream",
     "text": [
      "3.5137196         3.5137196       299: 100%|██████████| 300/300 [00:05<00:00, 51.04it/s]\n"
     ]
    },
    {
     "name": "stdout",
     "output_type": "stream",
     "text": [
      "AVG.TRAIN.LOSS    AVG.VAL.LOSS    EPOCH\n"
     ]
    },
    {
     "name": "stderr",
     "output_type": "stream",
     "text": [
      "2.4410546         2.4410546       299: 100%|██████████| 300/300 [00:05<00:00, 50.55it/s]\n"
     ]
    },
    {
     "name": "stdout",
     "output_type": "stream",
     "text": [
      "AVG.TRAIN.LOSS    AVG.VAL.LOSS    EPOCH\n"
     ]
    },
    {
     "name": "stderr",
     "output_type": "stream",
     "text": [
      "1.4491218         1.4491218       299: 100%|██████████| 300/300 [00:05<00:00, 51.24it/s]\n"
     ]
    },
    {
     "name": "stdout",
     "output_type": "stream",
     "text": [
      "AVG.TRAIN.LOSS    AVG.VAL.LOSS    EPOCH\n"
     ]
    },
    {
     "name": "stderr",
     "output_type": "stream",
     "text": [
      "2.8116658         2.8116658       299: 100%|██████████| 300/300 [00:05<00:00, 50.47it/s]\n"
     ]
    },
    {
     "name": "stdout",
     "output_type": "stream",
     "text": [
      "Network initialized\n",
      "AVG.TRAIN.LOSS    AVG.VAL.LOSS    EPOCH\n"
     ]
    },
    {
     "name": "stderr",
     "output_type": "stream",
     "text": [
      "1.0639032         1.0639032       199: 100%|██████████| 200/200 [00:03<00:00, 50.78it/s]\n"
     ]
    },
    {
     "name": "stdout",
     "output_type": "stream",
     "text": [
      "AVG.TRAIN.LOSS    AVG.VAL.LOSS    EPOCH\n"
     ]
    },
    {
     "name": "stderr",
     "output_type": "stream",
     "text": [
      "1.6527891         1.6527891       199: 100%|██████████| 200/200 [00:03<00:00, 50.23it/s]\n"
     ]
    },
    {
     "name": "stdout",
     "output_type": "stream",
     "text": [
      "AVG.TRAIN.LOSS    AVG.VAL.LOSS    EPOCH\n"
     ]
    },
    {
     "name": "stderr",
     "output_type": "stream",
     "text": [
      "1.5383434         1.5383434       199: 100%|██████████| 200/200 [00:03<00:00, 50.03it/s]\n"
     ]
    },
    {
     "name": "stdout",
     "output_type": "stream",
     "text": [
      "AVG.TRAIN.LOSS    AVG.VAL.LOSS    EPOCH\n"
     ]
    },
    {
     "name": "stderr",
     "output_type": "stream",
     "text": [
      "1.9888388         1.9888388       199: 100%|██████████| 200/200 [00:04<00:00, 49.12it/s]\n"
     ]
    },
    {
     "name": "stdout",
     "output_type": "stream",
     "text": [
      "Network initialized\n",
      "AVG.TRAIN.LOSS    AVG.VAL.LOSS    EPOCH\n"
     ]
    },
    {
     "name": "stderr",
     "output_type": "stream",
     "text": [
      "1.8593922         1.8593922       299: 100%|██████████| 300/300 [00:06<00:00, 49.66it/s]\n"
     ]
    },
    {
     "name": "stdout",
     "output_type": "stream",
     "text": [
      "AVG.TRAIN.LOSS    AVG.VAL.LOSS    EPOCH\n"
     ]
    },
    {
     "name": "stderr",
     "output_type": "stream",
     "text": [
      "1.1563596         1.1563596       299: 100%|██████████| 300/300 [00:05<00:00, 50.52it/s]\n"
     ]
    },
    {
     "name": "stdout",
     "output_type": "stream",
     "text": [
      "AVG.TRAIN.LOSS    AVG.VAL.LOSS    EPOCH\n"
     ]
    },
    {
     "name": "stderr",
     "output_type": "stream",
     "text": [
      "3.6654499         3.6654499       299: 100%|██████████| 300/300 [00:05<00:00, 51.26it/s]\n"
     ]
    },
    {
     "name": "stdout",
     "output_type": "stream",
     "text": [
      "AVG.TRAIN.LOSS    AVG.VAL.LOSS    EPOCH\n"
     ]
    },
    {
     "name": "stderr",
     "output_type": "stream",
     "text": [
      "2.251901         2.251901       299: 100%|██████████| 300/300 [00:05<00:00, 51.06it/s]\n"
     ]
    },
    {
     "name": "stdout",
     "output_type": "stream",
     "text": [
      "Network initialized\n",
      "AVG.TRAIN.LOSS    AVG.VAL.LOSS    EPOCH\n"
     ]
    },
    {
     "name": "stderr",
     "output_type": "stream",
     "text": [
      "2.2812917         2.2812917       299: 100%|██████████| 300/300 [00:05<00:00, 50.44it/s]\n"
     ]
    },
    {
     "name": "stdout",
     "output_type": "stream",
     "text": [
      "AVG.TRAIN.LOSS    AVG.VAL.LOSS    EPOCH\n"
     ]
    },
    {
     "name": "stderr",
     "output_type": "stream",
     "text": [
      "2.4554088         2.4554088       299: 100%|██████████| 300/300 [00:05<00:00, 50.92it/s]\n"
     ]
    },
    {
     "name": "stdout",
     "output_type": "stream",
     "text": [
      "AVG.TRAIN.LOSS    AVG.VAL.LOSS    EPOCH\n"
     ]
    },
    {
     "name": "stderr",
     "output_type": "stream",
     "text": [
      "3.4867897         3.4867897       299: 100%|██████████| 300/300 [00:05<00:00, 51.14it/s]\n"
     ]
    },
    {
     "name": "stdout",
     "output_type": "stream",
     "text": [
      "AVG.TRAIN.LOSS    AVG.VAL.LOSS    EPOCH\n"
     ]
    },
    {
     "name": "stderr",
     "output_type": "stream",
     "text": [
      "2.3312902         2.3312902       299: 100%|██████████| 300/300 [00:05<00:00, 50.81it/s]\n"
     ]
    },
    {
     "name": "stdout",
     "output_type": "stream",
     "text": [
      "Network initialized\n",
      "AVG.TRAIN.LOSS    AVG.VAL.LOSS    EPOCH\n"
     ]
    },
    {
     "name": "stderr",
     "output_type": "stream",
     "text": [
      "1.7318964         1.7318964       299: 100%|██████████| 300/300 [00:05<00:00, 50.79it/s]\n"
     ]
    },
    {
     "name": "stdout",
     "output_type": "stream",
     "text": [
      "AVG.TRAIN.LOSS    AVG.VAL.LOSS    EPOCH\n"
     ]
    },
    {
     "name": "stderr",
     "output_type": "stream",
     "text": [
      "2.9072254         2.9072254       299: 100%|██████████| 300/300 [00:06<00:00, 49.82it/s]\n"
     ]
    },
    {
     "name": "stdout",
     "output_type": "stream",
     "text": [
      "AVG.TRAIN.LOSS    AVG.VAL.LOSS    EPOCH\n"
     ]
    },
    {
     "name": "stderr",
     "output_type": "stream",
     "text": [
      "1.2279962         1.2279962       299: 100%|██████████| 300/300 [00:05<00:00, 50.10it/s]\n"
     ]
    },
    {
     "name": "stdout",
     "output_type": "stream",
     "text": [
      "AVG.TRAIN.LOSS    AVG.VAL.LOSS    EPOCH\n"
     ]
    },
    {
     "name": "stderr",
     "output_type": "stream",
     "text": [
      "0.8918095         0.8918095       299: 100%|██████████| 300/300 [00:05<00:00, 50.24it/s]\n"
     ]
    },
    {
     "name": "stdout",
     "output_type": "stream",
     "text": [
      "Network initialized\n",
      "AVG.TRAIN.LOSS    AVG.VAL.LOSS    EPOCH\n"
     ]
    },
    {
     "name": "stderr",
     "output_type": "stream",
     "text": [
      "1.9374022         1.9374022       99: 100%|██████████| 100/100 [00:01<00:00, 50.41it/s]\n"
     ]
    },
    {
     "name": "stdout",
     "output_type": "stream",
     "text": [
      "AVG.TRAIN.LOSS    AVG.VAL.LOSS    EPOCH\n"
     ]
    },
    {
     "name": "stderr",
     "output_type": "stream",
     "text": [
      "3.32078         3.32078       99: 100%|██████████| 100/100 [00:02<00:00, 49.32it/s]\n"
     ]
    },
    {
     "name": "stdout",
     "output_type": "stream",
     "text": [
      "AVG.TRAIN.LOSS    AVG.VAL.LOSS    EPOCH\n"
     ]
    },
    {
     "name": "stderr",
     "output_type": "stream",
     "text": [
      "2.6873424         2.6873424       99: 100%|██████████| 100/100 [00:01<00:00, 50.16it/s]\n"
     ]
    },
    {
     "name": "stdout",
     "output_type": "stream",
     "text": [
      "AVG.TRAIN.LOSS    AVG.VAL.LOSS    EPOCH\n"
     ]
    },
    {
     "name": "stderr",
     "output_type": "stream",
     "text": [
      "1.5458423         1.5458423       99: 100%|██████████| 100/100 [00:02<00:00, 49.86it/s]\n"
     ]
    },
    {
     "name": "stdout",
     "output_type": "stream",
     "text": [
      "Network initialized\n",
      "AVG.TRAIN.LOSS    AVG.VAL.LOSS    EPOCH\n"
     ]
    },
    {
     "name": "stderr",
     "output_type": "stream",
     "text": [
      "1.9965612         1.9965612       99: 100%|██████████| 100/100 [00:02<00:00, 43.99it/s]\n"
     ]
    },
    {
     "name": "stdout",
     "output_type": "stream",
     "text": [
      "AVG.TRAIN.LOSS    AVG.VAL.LOSS    EPOCH\n"
     ]
    },
    {
     "name": "stderr",
     "output_type": "stream",
     "text": [
      "0.9192312         0.9192312       99: 100%|██████████| 100/100 [00:02<00:00, 43.96it/s]\n"
     ]
    },
    {
     "name": "stdout",
     "output_type": "stream",
     "text": [
      "AVG.TRAIN.LOSS    AVG.VAL.LOSS    EPOCH\n"
     ]
    },
    {
     "name": "stderr",
     "output_type": "stream",
     "text": [
      "3.4369366         3.4369366       99: 100%|██████████| 100/100 [00:02<00:00, 43.84it/s]\n"
     ]
    },
    {
     "name": "stdout",
     "output_type": "stream",
     "text": [
      "AVG.TRAIN.LOSS    AVG.VAL.LOSS    EPOCH\n"
     ]
    },
    {
     "name": "stderr",
     "output_type": "stream",
     "text": [
      "2.6684258         2.6684258       99: 100%|██████████| 100/100 [00:02<00:00, 44.35it/s]\n"
     ]
    },
    {
     "name": "stdout",
     "output_type": "stream",
     "text": [
      "Network initialized\n",
      "AVG.TRAIN.LOSS    AVG.VAL.LOSS    EPOCH\n"
     ]
    },
    {
     "name": "stderr",
     "output_type": "stream",
     "text": [
      "2.3399558         2.3399558       199: 100%|██████████| 200/200 [00:03<00:00, 50.21it/s]\n"
     ]
    },
    {
     "name": "stdout",
     "output_type": "stream",
     "text": [
      "AVG.TRAIN.LOSS    AVG.VAL.LOSS    EPOCH\n"
     ]
    },
    {
     "name": "stderr",
     "output_type": "stream",
     "text": [
      "2.8378544         2.8378544       199: 100%|██████████| 200/200 [00:03<00:00, 50.80it/s]\n"
     ]
    },
    {
     "name": "stdout",
     "output_type": "stream",
     "text": [
      "AVG.TRAIN.LOSS    AVG.VAL.LOSS    EPOCH\n"
     ]
    },
    {
     "name": "stderr",
     "output_type": "stream",
     "text": [
      "2.309187         2.309187       199: 100%|██████████| 200/200 [00:03<00:00, 50.29it/s]\n"
     ]
    },
    {
     "name": "stdout",
     "output_type": "stream",
     "text": [
      "AVG.TRAIN.LOSS    AVG.VAL.LOSS    EPOCH\n"
     ]
    },
    {
     "name": "stderr",
     "output_type": "stream",
     "text": [
      "2.488561         2.488561       199: 100%|██████████| 200/200 [00:03<00:00, 50.73it/s]\n"
     ]
    },
    {
     "name": "stdout",
     "output_type": "stream",
     "text": [
      "Network initialized\n",
      "AVG.TRAIN.LOSS    AVG.VAL.LOSS    EPOCH\n"
     ]
    },
    {
     "name": "stderr",
     "output_type": "stream",
     "text": [
      "1.0558524         1.0558524       299: 100%|██████████| 300/300 [00:06<00:00, 44.80it/s]\n"
     ]
    },
    {
     "name": "stdout",
     "output_type": "stream",
     "text": [
      "AVG.TRAIN.LOSS    AVG.VAL.LOSS    EPOCH\n"
     ]
    },
    {
     "name": "stderr",
     "output_type": "stream",
     "text": [
      "2.186597         2.186597       299: 100%|██████████| 300/300 [00:06<00:00, 44.38it/s]\n"
     ]
    },
    {
     "name": "stdout",
     "output_type": "stream",
     "text": [
      "AVG.TRAIN.LOSS    AVG.VAL.LOSS    EPOCH\n"
     ]
    },
    {
     "name": "stderr",
     "output_type": "stream",
     "text": [
      "2.0037355         2.0037355       299: 100%|██████████| 300/300 [00:06<00:00, 44.58it/s]\n"
     ]
    },
    {
     "name": "stdout",
     "output_type": "stream",
     "text": [
      "AVG.TRAIN.LOSS    AVG.VAL.LOSS    EPOCH\n"
     ]
    },
    {
     "name": "stderr",
     "output_type": "stream",
     "text": [
      "1.2256789         1.2256789       299: 100%|██████████| 300/300 [00:06<00:00, 44.38it/s]\n"
     ]
    },
    {
     "name": "stdout",
     "output_type": "stream",
     "text": [
      "Network initialized\n",
      "AVG.TRAIN.LOSS    AVG.VAL.LOSS    EPOCH\n"
     ]
    },
    {
     "name": "stderr",
     "output_type": "stream",
     "text": [
      "0.29474628         0.29474628       299: 100%|██████████| 300/300 [00:06<00:00, 44.53it/s]\n"
     ]
    },
    {
     "name": "stdout",
     "output_type": "stream",
     "text": [
      "AVG.TRAIN.LOSS    AVG.VAL.LOSS    EPOCH\n"
     ]
    },
    {
     "name": "stderr",
     "output_type": "stream",
     "text": [
      "0.9394822         0.9394822       299: 100%|██████████| 300/300 [00:06<00:00, 44.25it/s]\n"
     ]
    },
    {
     "name": "stdout",
     "output_type": "stream",
     "text": [
      "AVG.TRAIN.LOSS    AVG.VAL.LOSS    EPOCH\n"
     ]
    },
    {
     "name": "stderr",
     "output_type": "stream",
     "text": [
      "0.51687294         0.51687294       299: 100%|██████████| 300/300 [00:06<00:00, 44.18it/s]\n"
     ]
    },
    {
     "name": "stdout",
     "output_type": "stream",
     "text": [
      "AVG.TRAIN.LOSS    AVG.VAL.LOSS    EPOCH\n"
     ]
    },
    {
     "name": "stderr",
     "output_type": "stream",
     "text": [
      "0.6353436         0.6353436       299: 100%|██████████| 300/300 [00:06<00:00, 44.50it/s]\n"
     ]
    },
    {
     "name": "stdout",
     "output_type": "stream",
     "text": [
      "Network initialized\n",
      "AVG.TRAIN.LOSS    AVG.VAL.LOSS    EPOCH\n"
     ]
    },
    {
     "name": "stderr",
     "output_type": "stream",
     "text": [
      "0.59359497         0.59359497       299: 100%|██████████| 300/300 [00:07<00:00, 41.39it/s]\n"
     ]
    },
    {
     "name": "stdout",
     "output_type": "stream",
     "text": [
      "AVG.TRAIN.LOSS    AVG.VAL.LOSS    EPOCH\n"
     ]
    },
    {
     "name": "stderr",
     "output_type": "stream",
     "text": [
      "1.7030106         1.7030106       299: 100%|██████████| 300/300 [00:06<00:00, 43.80it/s]\n"
     ]
    },
    {
     "name": "stdout",
     "output_type": "stream",
     "text": [
      "AVG.TRAIN.LOSS    AVG.VAL.LOSS    EPOCH\n"
     ]
    },
    {
     "name": "stderr",
     "output_type": "stream",
     "text": [
      "1.3403832         1.3403832       299: 100%|██████████| 300/300 [00:06<00:00, 43.96it/s]\n"
     ]
    },
    {
     "name": "stdout",
     "output_type": "stream",
     "text": [
      "AVG.TRAIN.LOSS    AVG.VAL.LOSS    EPOCH\n"
     ]
    },
    {
     "name": "stderr",
     "output_type": "stream",
     "text": [
      "0.85563356         0.85563356       299: 100%|██████████| 300/300 [00:06<00:00, 43.82it/s]\n"
     ]
    },
    {
     "name": "stdout",
     "output_type": "stream",
     "text": [
      "Network initialized\n",
      "AVG.TRAIN.LOSS    AVG.VAL.LOSS    EPOCH\n"
     ]
    },
    {
     "name": "stderr",
     "output_type": "stream",
     "text": [
      "0.94948345         0.94948345       99: 100%|██████████| 100/100 [00:01<00:00, 50.00it/s]\n"
     ]
    },
    {
     "name": "stdout",
     "output_type": "stream",
     "text": [
      "AVG.TRAIN.LOSS    AVG.VAL.LOSS    EPOCH\n"
     ]
    },
    {
     "name": "stderr",
     "output_type": "stream",
     "text": [
      "0.7641966         0.7641966       99: 100%|██████████| 100/100 [00:02<00:00, 49.67it/s]\n"
     ]
    },
    {
     "name": "stdout",
     "output_type": "stream",
     "text": [
      "AVG.TRAIN.LOSS    AVG.VAL.LOSS    EPOCH\n"
     ]
    },
    {
     "name": "stderr",
     "output_type": "stream",
     "text": [
      "3.0445576         3.0445576       99: 100%|██████████| 100/100 [00:01<00:00, 50.89it/s]\n"
     ]
    },
    {
     "name": "stdout",
     "output_type": "stream",
     "text": [
      "AVG.TRAIN.LOSS    AVG.VAL.LOSS    EPOCH\n"
     ]
    },
    {
     "name": "stderr",
     "output_type": "stream",
     "text": [
      "0.9758026         0.9758026       99: 100%|██████████| 100/100 [00:01<00:00, 50.36it/s]\n"
     ]
    },
    {
     "name": "stdout",
     "output_type": "stream",
     "text": [
      "Network initialized\n",
      "AVG.TRAIN.LOSS    AVG.VAL.LOSS    EPOCH\n"
     ]
    },
    {
     "name": "stderr",
     "output_type": "stream",
     "text": [
      "3.6061108         3.6061108       99: 100%|██████████| 100/100 [00:01<00:00, 50.47it/s]\n"
     ]
    },
    {
     "name": "stdout",
     "output_type": "stream",
     "text": [
      "AVG.TRAIN.LOSS    AVG.VAL.LOSS    EPOCH\n"
     ]
    },
    {
     "name": "stderr",
     "output_type": "stream",
     "text": [
      "2.393861         2.393861       99: 100%|██████████| 100/100 [00:02<00:00, 49.97it/s]\n"
     ]
    },
    {
     "name": "stdout",
     "output_type": "stream",
     "text": [
      "AVG.TRAIN.LOSS    AVG.VAL.LOSS    EPOCH\n"
     ]
    },
    {
     "name": "stderr",
     "output_type": "stream",
     "text": [
      "3.1139278         3.1139278       99: 100%|██████████| 100/100 [00:01<00:00, 50.39it/s]\n"
     ]
    },
    {
     "name": "stdout",
     "output_type": "stream",
     "text": [
      "AVG.TRAIN.LOSS    AVG.VAL.LOSS    EPOCH\n"
     ]
    },
    {
     "name": "stderr",
     "output_type": "stream",
     "text": [
      "3.7388833         3.7388833       99: 100%|██████████| 100/100 [00:01<00:00, 50.12it/s]\n"
     ]
    },
    {
     "name": "stdout",
     "output_type": "stream",
     "text": [
      "Network initialized\n",
      "AVG.TRAIN.LOSS    AVG.VAL.LOSS    EPOCH\n"
     ]
    },
    {
     "name": "stderr",
     "output_type": "stream",
     "text": [
      "0.2895496         0.2895496       199: 100%|██████████| 200/200 [00:04<00:00, 43.38it/s]\n"
     ]
    },
    {
     "name": "stdout",
     "output_type": "stream",
     "text": [
      "AVG.TRAIN.LOSS    AVG.VAL.LOSS    EPOCH\n"
     ]
    },
    {
     "name": "stderr",
     "output_type": "stream",
     "text": [
      "0.5804806         0.5804806       199: 100%|██████████| 200/200 [00:04<00:00, 44.28it/s]\n"
     ]
    },
    {
     "name": "stdout",
     "output_type": "stream",
     "text": [
      "AVG.TRAIN.LOSS    AVG.VAL.LOSS    EPOCH\n"
     ]
    },
    {
     "name": "stderr",
     "output_type": "stream",
     "text": [
      "0.3517127         0.3517127       199: 100%|██████████| 200/200 [00:04<00:00, 42.91it/s]\n"
     ]
    },
    {
     "name": "stdout",
     "output_type": "stream",
     "text": [
      "AVG.TRAIN.LOSS    AVG.VAL.LOSS    EPOCH\n"
     ]
    },
    {
     "name": "stderr",
     "output_type": "stream",
     "text": [
      "0.72775406         0.72775406       199: 100%|██████████| 200/200 [00:04<00:00, 43.41it/s]\n"
     ]
    },
    {
     "name": "stdout",
     "output_type": "stream",
     "text": [
      "Network initialized\n",
      "AVG.TRAIN.LOSS    AVG.VAL.LOSS    EPOCH\n"
     ]
    },
    {
     "name": "stderr",
     "output_type": "stream",
     "text": [
      "3.6596699         3.6596699       99: 100%|██████████| 100/100 [00:02<00:00, 41.55it/s]\n"
     ]
    },
    {
     "name": "stdout",
     "output_type": "stream",
     "text": [
      "AVG.TRAIN.LOSS    AVG.VAL.LOSS    EPOCH\n"
     ]
    },
    {
     "name": "stderr",
     "output_type": "stream",
     "text": [
      "2.1297143         2.1297143       99: 100%|██████████| 100/100 [00:02<00:00, 42.77it/s]\n"
     ]
    },
    {
     "name": "stdout",
     "output_type": "stream",
     "text": [
      "AVG.TRAIN.LOSS    AVG.VAL.LOSS    EPOCH\n"
     ]
    },
    {
     "name": "stderr",
     "output_type": "stream",
     "text": [
      "2.1008985         2.1008985       99: 100%|██████████| 100/100 [00:02<00:00, 43.18it/s]\n"
     ]
    },
    {
     "name": "stdout",
     "output_type": "stream",
     "text": [
      "AVG.TRAIN.LOSS    AVG.VAL.LOSS    EPOCH\n"
     ]
    },
    {
     "name": "stderr",
     "output_type": "stream",
     "text": [
      "4.415548         4.415548       99: 100%|██████████| 100/100 [00:02<00:00, 43.67it/s]\n"
     ]
    },
    {
     "name": "stdout",
     "output_type": "stream",
     "text": [
      "Network initialized\n",
      "AVG.TRAIN.LOSS    AVG.VAL.LOSS    EPOCH\n"
     ]
    },
    {
     "name": "stderr",
     "output_type": "stream",
     "text": [
      "3.3346498         3.3346498       199: 100%|██████████| 200/200 [00:04<00:00, 43.78it/s]\n"
     ]
    },
    {
     "name": "stdout",
     "output_type": "stream",
     "text": [
      "AVG.TRAIN.LOSS    AVG.VAL.LOSS    EPOCH\n"
     ]
    },
    {
     "name": "stderr",
     "output_type": "stream",
     "text": [
      "1.8860031         1.8860031       199: 100%|██████████| 200/200 [00:04<00:00, 44.09it/s]\n"
     ]
    },
    {
     "name": "stdout",
     "output_type": "stream",
     "text": [
      "AVG.TRAIN.LOSS    AVG.VAL.LOSS    EPOCH\n"
     ]
    },
    {
     "name": "stderr",
     "output_type": "stream",
     "text": [
      "2.5016549         2.5016549       199: 100%|██████████| 200/200 [00:04<00:00, 43.19it/s]\n"
     ]
    },
    {
     "name": "stdout",
     "output_type": "stream",
     "text": [
      "AVG.TRAIN.LOSS    AVG.VAL.LOSS    EPOCH\n"
     ]
    },
    {
     "name": "stderr",
     "output_type": "stream",
     "text": [
      "2.0946047         2.0946047       199: 100%|██████████| 200/200 [00:04<00:00, 43.45it/s]\n"
     ]
    },
    {
     "name": "stdout",
     "output_type": "stream",
     "text": [
      "Network initialized\n",
      "AVG.TRAIN.LOSS    AVG.VAL.LOSS    EPOCH\n"
     ]
    },
    {
     "name": "stderr",
     "output_type": "stream",
     "text": [
      "2.8691692         2.8691692       299: 100%|██████████| 300/300 [00:06<00:00, 43.67it/s]\n"
     ]
    },
    {
     "name": "stdout",
     "output_type": "stream",
     "text": [
      "AVG.TRAIN.LOSS    AVG.VAL.LOSS    EPOCH\n"
     ]
    },
    {
     "name": "stderr",
     "output_type": "stream",
     "text": [
      "2.3161104         2.3161104       299: 100%|██████████| 300/300 [00:06<00:00, 44.42it/s]\n"
     ]
    },
    {
     "name": "stdout",
     "output_type": "stream",
     "text": [
      "AVG.TRAIN.LOSS    AVG.VAL.LOSS    EPOCH\n"
     ]
    },
    {
     "name": "stderr",
     "output_type": "stream",
     "text": [
      "2.6552885         2.6552885       299: 100%|██████████| 300/300 [00:06<00:00, 44.76it/s]\n"
     ]
    },
    {
     "name": "stdout",
     "output_type": "stream",
     "text": [
      "AVG.TRAIN.LOSS    AVG.VAL.LOSS    EPOCH\n"
     ]
    },
    {
     "name": "stderr",
     "output_type": "stream",
     "text": [
      "1.535945         1.535945       299: 100%|██████████| 300/300 [00:06<00:00, 43.94it/s]\n"
     ]
    },
    {
     "name": "stdout",
     "output_type": "stream",
     "text": [
      "Network initialized\n",
      "AVG.TRAIN.LOSS    AVG.VAL.LOSS    EPOCH\n"
     ]
    },
    {
     "name": "stderr",
     "output_type": "stream",
     "text": [
      "2.0399513         2.0399513       99: 100%|██████████| 100/100 [00:02<00:00, 43.85it/s]\n"
     ]
    },
    {
     "name": "stdout",
     "output_type": "stream",
     "text": [
      "AVG.TRAIN.LOSS    AVG.VAL.LOSS    EPOCH\n"
     ]
    },
    {
     "name": "stderr",
     "output_type": "stream",
     "text": [
      "2.730732         2.730732       99: 100%|██████████| 100/100 [00:02<00:00, 44.06it/s]\n"
     ]
    },
    {
     "name": "stdout",
     "output_type": "stream",
     "text": [
      "AVG.TRAIN.LOSS    AVG.VAL.LOSS    EPOCH\n"
     ]
    },
    {
     "name": "stderr",
     "output_type": "stream",
     "text": [
      "2.3795254         2.3795254       99: 100%|██████████| 100/100 [00:02<00:00, 44.37it/s]\n"
     ]
    },
    {
     "name": "stdout",
     "output_type": "stream",
     "text": [
      "AVG.TRAIN.LOSS    AVG.VAL.LOSS    EPOCH\n"
     ]
    },
    {
     "name": "stderr",
     "output_type": "stream",
     "text": [
      "3.0083134         3.0083134       99: 100%|██████████| 100/100 [00:02<00:00, 44.39it/s]\n"
     ]
    },
    {
     "name": "stdout",
     "output_type": "stream",
     "text": [
      "Network initialized\n",
      "AVG.TRAIN.LOSS    AVG.VAL.LOSS    EPOCH\n"
     ]
    },
    {
     "name": "stderr",
     "output_type": "stream",
     "text": [
      "1.8242246         1.8242246       299: 100%|██████████| 300/300 [00:06<00:00, 49.78it/s]\n"
     ]
    },
    {
     "name": "stdout",
     "output_type": "stream",
     "text": [
      "AVG.TRAIN.LOSS    AVG.VAL.LOSS    EPOCH\n"
     ]
    },
    {
     "name": "stderr",
     "output_type": "stream",
     "text": [
      "2.0933692         2.0933692       299: 100%|██████████| 300/300 [00:06<00:00, 49.83it/s]\n"
     ]
    },
    {
     "name": "stdout",
     "output_type": "stream",
     "text": [
      "AVG.TRAIN.LOSS    AVG.VAL.LOSS    EPOCH\n"
     ]
    },
    {
     "name": "stderr",
     "output_type": "stream",
     "text": [
      "0.9123106         0.9123106       299: 100%|██████████| 300/300 [00:05<00:00, 50.08it/s]\n"
     ]
    },
    {
     "name": "stdout",
     "output_type": "stream",
     "text": [
      "AVG.TRAIN.LOSS    AVG.VAL.LOSS    EPOCH\n"
     ]
    },
    {
     "name": "stderr",
     "output_type": "stream",
     "text": [
      "0.82956177         0.82956177       299: 100%|██████████| 300/300 [00:05<00:00, 50.03it/s]\n"
     ]
    },
    {
     "name": "stdout",
     "output_type": "stream",
     "text": [
      "Network initialized\n",
      "AVG.TRAIN.LOSS    AVG.VAL.LOSS    EPOCH\n"
     ]
    },
    {
     "name": "stderr",
     "output_type": "stream",
     "text": [
      "2.0203454         2.0203454       199: 100%|██████████| 200/200 [00:04<00:00, 49.94it/s]\n"
     ]
    },
    {
     "name": "stdout",
     "output_type": "stream",
     "text": [
      "AVG.TRAIN.LOSS    AVG.VAL.LOSS    EPOCH\n"
     ]
    },
    {
     "name": "stderr",
     "output_type": "stream",
     "text": [
      "2.410553         2.410553       199: 100%|██████████| 200/200 [00:04<00:00, 49.99it/s]\n"
     ]
    },
    {
     "name": "stdout",
     "output_type": "stream",
     "text": [
      "AVG.TRAIN.LOSS    AVG.VAL.LOSS    EPOCH\n"
     ]
    },
    {
     "name": "stderr",
     "output_type": "stream",
     "text": [
      "2.3236048         2.3236048       199: 100%|██████████| 200/200 [00:04<00:00, 49.96it/s]\n"
     ]
    },
    {
     "name": "stdout",
     "output_type": "stream",
     "text": [
      "AVG.TRAIN.LOSS    AVG.VAL.LOSS    EPOCH\n"
     ]
    },
    {
     "name": "stderr",
     "output_type": "stream",
     "text": [
      "1.0912191         1.0912191       199: 100%|██████████| 200/200 [00:04<00:00, 49.43it/s]\n"
     ]
    },
    {
     "name": "stdout",
     "output_type": "stream",
     "text": [
      "Network initialized\n",
      "AVG.TRAIN.LOSS    AVG.VAL.LOSS    EPOCH\n"
     ]
    },
    {
     "name": "stderr",
     "output_type": "stream",
     "text": [
      "2.961877         2.961877       299: 100%|██████████| 300/300 [00:05<00:00, 50.09it/s]\n"
     ]
    },
    {
     "name": "stdout",
     "output_type": "stream",
     "text": [
      "AVG.TRAIN.LOSS    AVG.VAL.LOSS    EPOCH\n"
     ]
    },
    {
     "name": "stderr",
     "output_type": "stream",
     "text": [
      "1.004754         1.004754       299: 100%|██████████| 300/300 [00:06<00:00, 49.47it/s]\n"
     ]
    },
    {
     "name": "stdout",
     "output_type": "stream",
     "text": [
      "AVG.TRAIN.LOSS    AVG.VAL.LOSS    EPOCH\n"
     ]
    },
    {
     "name": "stderr",
     "output_type": "stream",
     "text": [
      "2.395766         2.395766       299: 100%|██████████| 300/300 [00:05<00:00, 50.52it/s]\n"
     ]
    },
    {
     "name": "stdout",
     "output_type": "stream",
     "text": [
      "AVG.TRAIN.LOSS    AVG.VAL.LOSS    EPOCH\n"
     ]
    },
    {
     "name": "stderr",
     "output_type": "stream",
     "text": [
      "2.5940013         2.5940013       299: 100%|██████████| 300/300 [00:05<00:00, 50.24it/s]\n"
     ]
    },
    {
     "name": "stdout",
     "output_type": "stream",
     "text": [
      "Network initialized\n",
      "AVG.TRAIN.LOSS    AVG.VAL.LOSS    EPOCH\n"
     ]
    },
    {
     "name": "stderr",
     "output_type": "stream",
     "text": [
      "0.3807489         0.3807489       299: 100%|██████████| 300/300 [00:06<00:00, 43.82it/s]\n"
     ]
    },
    {
     "name": "stdout",
     "output_type": "stream",
     "text": [
      "AVG.TRAIN.LOSS    AVG.VAL.LOSS    EPOCH\n"
     ]
    },
    {
     "name": "stderr",
     "output_type": "stream",
     "text": [
      "1.10001         1.10001       299: 100%|██████████| 300/300 [00:06<00:00, 43.47it/s]\n"
     ]
    },
    {
     "name": "stdout",
     "output_type": "stream",
     "text": [
      "AVG.TRAIN.LOSS    AVG.VAL.LOSS    EPOCH\n"
     ]
    },
    {
     "name": "stderr",
     "output_type": "stream",
     "text": [
      "0.82408166         0.82408166       299: 100%|██████████| 300/300 [00:06<00:00, 43.78it/s]\n"
     ]
    },
    {
     "name": "stdout",
     "output_type": "stream",
     "text": [
      "AVG.TRAIN.LOSS    AVG.VAL.LOSS    EPOCH\n"
     ]
    },
    {
     "name": "stderr",
     "output_type": "stream",
     "text": [
      "0.50140494         0.50140494       299: 100%|██████████| 300/300 [00:06<00:00, 44.17it/s]\n"
     ]
    },
    {
     "name": "stdout",
     "output_type": "stream",
     "text": [
      "Network initialized\n",
      "AVG.TRAIN.LOSS    AVG.VAL.LOSS    EPOCH\n"
     ]
    },
    {
     "name": "stderr",
     "output_type": "stream",
     "text": [
      "3.825938         3.825938       99: 100%|██████████| 100/100 [00:02<00:00, 44.24it/s]\n"
     ]
    },
    {
     "name": "stdout",
     "output_type": "stream",
     "text": [
      "AVG.TRAIN.LOSS    AVG.VAL.LOSS    EPOCH\n"
     ]
    },
    {
     "name": "stderr",
     "output_type": "stream",
     "text": [
      "3.0478904         3.0478904       99: 100%|██████████| 100/100 [00:02<00:00, 43.85it/s]\n"
     ]
    },
    {
     "name": "stdout",
     "output_type": "stream",
     "text": [
      "AVG.TRAIN.LOSS    AVG.VAL.LOSS    EPOCH\n"
     ]
    },
    {
     "name": "stderr",
     "output_type": "stream",
     "text": [
      "2.1623628         2.1623628       99: 100%|██████████| 100/100 [00:02<00:00, 43.17it/s]\n"
     ]
    },
    {
     "name": "stdout",
     "output_type": "stream",
     "text": [
      "AVG.TRAIN.LOSS    AVG.VAL.LOSS    EPOCH\n"
     ]
    },
    {
     "name": "stderr",
     "output_type": "stream",
     "text": [
      "2.1276934         2.1276934       99: 100%|██████████| 100/100 [00:02<00:00, 43.14it/s]\n"
     ]
    },
    {
     "name": "stdout",
     "output_type": "stream",
     "text": [
      "Network initialized\n",
      "AVG.TRAIN.LOSS    AVG.VAL.LOSS    EPOCH\n"
     ]
    },
    {
     "name": "stderr",
     "output_type": "stream",
     "text": [
      "1.7162195         1.7162195       199: 100%|██████████| 200/200 [00:04<00:00, 49.62it/s]\n"
     ]
    },
    {
     "name": "stdout",
     "output_type": "stream",
     "text": [
      "AVG.TRAIN.LOSS    AVG.VAL.LOSS    EPOCH\n"
     ]
    },
    {
     "name": "stderr",
     "output_type": "stream",
     "text": [
      "1.9661599         1.9661599       199: 100%|██████████| 200/200 [00:04<00:00, 49.83it/s]\n"
     ]
    },
    {
     "name": "stdout",
     "output_type": "stream",
     "text": [
      "AVG.TRAIN.LOSS    AVG.VAL.LOSS    EPOCH\n"
     ]
    },
    {
     "name": "stderr",
     "output_type": "stream",
     "text": [
      "2.3304863         2.3304863       199: 100%|██████████| 200/200 [00:03<00:00, 50.47it/s]\n"
     ]
    },
    {
     "name": "stdout",
     "output_type": "stream",
     "text": [
      "AVG.TRAIN.LOSS    AVG.VAL.LOSS    EPOCH\n"
     ]
    },
    {
     "name": "stderr",
     "output_type": "stream",
     "text": [
      "2.6327412         2.6327412       199: 100%|██████████| 200/200 [00:04<00:00, 49.58it/s]\n"
     ]
    },
    {
     "name": "stdout",
     "output_type": "stream",
     "text": [
      "Network initialized\n",
      "AVG.TRAIN.LOSS    AVG.VAL.LOSS    EPOCH\n"
     ]
    },
    {
     "name": "stderr",
     "output_type": "stream",
     "text": [
      "1.3960513         1.3960513       299: 100%|██████████| 300/300 [00:06<00:00, 48.91it/s]\n"
     ]
    },
    {
     "name": "stdout",
     "output_type": "stream",
     "text": [
      "AVG.TRAIN.LOSS    AVG.VAL.LOSS    EPOCH\n"
     ]
    },
    {
     "name": "stderr",
     "output_type": "stream",
     "text": [
      "1.4453322         1.4453322       299: 100%|██████████| 300/300 [00:06<00:00, 48.83it/s]\n"
     ]
    },
    {
     "name": "stdout",
     "output_type": "stream",
     "text": [
      "AVG.TRAIN.LOSS    AVG.VAL.LOSS    EPOCH\n"
     ]
    },
    {
     "name": "stderr",
     "output_type": "stream",
     "text": [
      "1.3084564         1.3084564       299: 100%|██████████| 300/300 [00:06<00:00, 46.76it/s]\n"
     ]
    },
    {
     "name": "stdout",
     "output_type": "stream",
     "text": [
      "AVG.TRAIN.LOSS    AVG.VAL.LOSS    EPOCH\n"
     ]
    },
    {
     "name": "stderr",
     "output_type": "stream",
     "text": [
      "1.2678052         1.2678052       299: 100%|██████████| 300/300 [00:05<00:00, 50.21it/s]\n"
     ]
    },
    {
     "name": "stdout",
     "output_type": "stream",
     "text": [
      "Network initialized\n",
      "AVG.TRAIN.LOSS    AVG.VAL.LOSS    EPOCH\n"
     ]
    },
    {
     "name": "stderr",
     "output_type": "stream",
     "text": [
      "2.197388         2.197388       299: 100%|██████████| 300/300 [00:06<00:00, 49.55it/s]\n"
     ]
    },
    {
     "name": "stdout",
     "output_type": "stream",
     "text": [
      "AVG.TRAIN.LOSS    AVG.VAL.LOSS    EPOCH\n"
     ]
    },
    {
     "name": "stderr",
     "output_type": "stream",
     "text": [
      "1.4364672         1.4364672       299: 100%|██████████| 300/300 [00:06<00:00, 49.92it/s]\n"
     ]
    },
    {
     "name": "stdout",
     "output_type": "stream",
     "text": [
      "AVG.TRAIN.LOSS    AVG.VAL.LOSS    EPOCH\n"
     ]
    },
    {
     "name": "stderr",
     "output_type": "stream",
     "text": [
      "1.911912         1.911912       299: 100%|██████████| 300/300 [00:06<00:00, 49.64it/s]\n"
     ]
    },
    {
     "name": "stdout",
     "output_type": "stream",
     "text": [
      "AVG.TRAIN.LOSS    AVG.VAL.LOSS    EPOCH\n"
     ]
    },
    {
     "name": "stderr",
     "output_type": "stream",
     "text": [
      "2.9515362         2.9515362       299: 100%|██████████| 300/300 [00:06<00:00, 49.75it/s]\n"
     ]
    },
    {
     "name": "stdout",
     "output_type": "stream",
     "text": [
      "Network initialized\n",
      "AVG.TRAIN.LOSS    AVG.VAL.LOSS    EPOCH\n"
     ]
    },
    {
     "name": "stderr",
     "output_type": "stream",
     "text": [
      "1.7230592         1.7230592       199: 100%|██████████| 200/200 [00:04<00:00, 43.70it/s]\n"
     ]
    },
    {
     "name": "stdout",
     "output_type": "stream",
     "text": [
      "AVG.TRAIN.LOSS    AVG.VAL.LOSS    EPOCH\n"
     ]
    },
    {
     "name": "stderr",
     "output_type": "stream",
     "text": [
      "2.2830205         2.2830205       199: 100%|██████████| 200/200 [00:04<00:00, 43.30it/s]\n"
     ]
    },
    {
     "name": "stdout",
     "output_type": "stream",
     "text": [
      "AVG.TRAIN.LOSS    AVG.VAL.LOSS    EPOCH\n"
     ]
    },
    {
     "name": "stderr",
     "output_type": "stream",
     "text": [
      "2.1638339         2.1638339       199: 100%|██████████| 200/200 [00:04<00:00, 43.54it/s]\n"
     ]
    },
    {
     "name": "stdout",
     "output_type": "stream",
     "text": [
      "AVG.TRAIN.LOSS    AVG.VAL.LOSS    EPOCH\n"
     ]
    },
    {
     "name": "stderr",
     "output_type": "stream",
     "text": [
      "1.549447         1.549447       199: 100%|██████████| 200/200 [00:04<00:00, 44.28it/s]\n"
     ]
    },
    {
     "name": "stdout",
     "output_type": "stream",
     "text": [
      "Network initialized\n",
      "AVG.TRAIN.LOSS    AVG.VAL.LOSS    EPOCH\n"
     ]
    },
    {
     "name": "stderr",
     "output_type": "stream",
     "text": [
      "2.3028152         2.3028152       199: 100%|██████████| 200/200 [00:04<00:00, 43.51it/s]\n"
     ]
    },
    {
     "name": "stdout",
     "output_type": "stream",
     "text": [
      "AVG.TRAIN.LOSS    AVG.VAL.LOSS    EPOCH\n"
     ]
    },
    {
     "name": "stderr",
     "output_type": "stream",
     "text": [
      "1.8152384         1.8152384       199: 100%|██████████| 200/200 [00:04<00:00, 43.55it/s]\n"
     ]
    },
    {
     "name": "stdout",
     "output_type": "stream",
     "text": [
      "AVG.TRAIN.LOSS    AVG.VAL.LOSS    EPOCH\n"
     ]
    },
    {
     "name": "stderr",
     "output_type": "stream",
     "text": [
      "2.2972114         2.2972114       199: 100%|██████████| 200/200 [00:04<00:00, 43.36it/s]\n"
     ]
    },
    {
     "name": "stdout",
     "output_type": "stream",
     "text": [
      "AVG.TRAIN.LOSS    AVG.VAL.LOSS    EPOCH\n"
     ]
    },
    {
     "name": "stderr",
     "output_type": "stream",
     "text": [
      "1.8993125         1.8993125       199: 100%|██████████| 200/200 [00:04<00:00, 43.12it/s]\n"
     ]
    },
    {
     "name": "stdout",
     "output_type": "stream",
     "text": [
      "Network initialized\n",
      "AVG.TRAIN.LOSS    AVG.VAL.LOSS    EPOCH\n"
     ]
    },
    {
     "name": "stderr",
     "output_type": "stream",
     "text": [
      "1.4985605         1.4985605       99: 100%|██████████| 100/100 [00:02<00:00, 49.21it/s]\n"
     ]
    },
    {
     "name": "stdout",
     "output_type": "stream",
     "text": [
      "AVG.TRAIN.LOSS    AVG.VAL.LOSS    EPOCH\n"
     ]
    },
    {
     "name": "stderr",
     "output_type": "stream",
     "text": [
      "2.7997599         2.7997599       99: 100%|██████████| 100/100 [00:02<00:00, 49.02it/s]\n"
     ]
    },
    {
     "name": "stdout",
     "output_type": "stream",
     "text": [
      "AVG.TRAIN.LOSS    AVG.VAL.LOSS    EPOCH\n"
     ]
    },
    {
     "name": "stderr",
     "output_type": "stream",
     "text": [
      "1.5748258         1.5748258       99: 100%|██████████| 100/100 [00:02<00:00, 48.50it/s]\n"
     ]
    },
    {
     "name": "stdout",
     "output_type": "stream",
     "text": [
      "AVG.TRAIN.LOSS    AVG.VAL.LOSS    EPOCH\n"
     ]
    },
    {
     "name": "stderr",
     "output_type": "stream",
     "text": [
      "1.4849339         1.4849339       99: 100%|██████████| 100/100 [00:02<00:00, 49.13it/s]\n"
     ]
    },
    {
     "name": "stdout",
     "output_type": "stream",
     "text": [
      "Network initialized\n",
      "AVG.TRAIN.LOSS    AVG.VAL.LOSS    EPOCH\n"
     ]
    },
    {
     "name": "stderr",
     "output_type": "stream",
     "text": [
      "0.98359424         0.98359424       99: 100%|██████████| 100/100 [00:02<00:00, 44.01it/s]\n"
     ]
    },
    {
     "name": "stdout",
     "output_type": "stream",
     "text": [
      "AVG.TRAIN.LOSS    AVG.VAL.LOSS    EPOCH\n"
     ]
    },
    {
     "name": "stderr",
     "output_type": "stream",
     "text": [
      "0.7459871         0.7459871       99: 100%|██████████| 100/100 [00:02<00:00, 44.10it/s]\n"
     ]
    },
    {
     "name": "stdout",
     "output_type": "stream",
     "text": [
      "AVG.TRAIN.LOSS    AVG.VAL.LOSS    EPOCH\n"
     ]
    },
    {
     "name": "stderr",
     "output_type": "stream",
     "text": [
      "1.0632547         1.0632547       99: 100%|██████████| 100/100 [00:02<00:00, 42.95it/s]\n"
     ]
    },
    {
     "name": "stdout",
     "output_type": "stream",
     "text": [
      "AVG.TRAIN.LOSS    AVG.VAL.LOSS    EPOCH\n"
     ]
    },
    {
     "name": "stderr",
     "output_type": "stream",
     "text": [
      "2.2875402         2.2875402       99: 100%|██████████| 100/100 [00:02<00:00, 44.07it/s]\n"
     ]
    },
    {
     "name": "stdout",
     "output_type": "stream",
     "text": [
      "Network initialized\n",
      "AVG.TRAIN.LOSS    AVG.VAL.LOSS    EPOCH\n"
     ]
    },
    {
     "name": "stderr",
     "output_type": "stream",
     "text": [
      "1.3725375         1.3725375       99: 100%|██████████| 100/100 [00:02<00:00, 43.81it/s]\n"
     ]
    },
    {
     "name": "stdout",
     "output_type": "stream",
     "text": [
      "AVG.TRAIN.LOSS    AVG.VAL.LOSS    EPOCH\n"
     ]
    },
    {
     "name": "stderr",
     "output_type": "stream",
     "text": [
      "2.6615593         2.6615593       99: 100%|██████████| 100/100 [00:02<00:00, 43.61it/s]\n"
     ]
    },
    {
     "name": "stdout",
     "output_type": "stream",
     "text": [
      "AVG.TRAIN.LOSS    AVG.VAL.LOSS    EPOCH\n"
     ]
    },
    {
     "name": "stderr",
     "output_type": "stream",
     "text": [
      "2.4695306         2.4695306       99: 100%|██████████| 100/100 [00:02<00:00, 43.15it/s]\n"
     ]
    },
    {
     "name": "stdout",
     "output_type": "stream",
     "text": [
      "AVG.TRAIN.LOSS    AVG.VAL.LOSS    EPOCH\n"
     ]
    },
    {
     "name": "stderr",
     "output_type": "stream",
     "text": [
      "1.8125149         1.8125149       99: 100%|██████████| 100/100 [00:02<00:00, 43.43it/s]\n"
     ]
    },
    {
     "name": "stdout",
     "output_type": "stream",
     "text": [
      "Network initialized\n",
      "AVG.TRAIN.LOSS    AVG.VAL.LOSS    EPOCH\n"
     ]
    },
    {
     "name": "stderr",
     "output_type": "stream",
     "text": [
      "1.5534948         1.5534948       299: 100%|██████████| 300/300 [00:06<00:00, 48.96it/s]\n"
     ]
    },
    {
     "name": "stdout",
     "output_type": "stream",
     "text": [
      "AVG.TRAIN.LOSS    AVG.VAL.LOSS    EPOCH\n"
     ]
    },
    {
     "name": "stderr",
     "output_type": "stream",
     "text": [
      "1.0896817         1.0896817       299: 100%|██████████| 300/300 [00:06<00:00, 48.95it/s]\n"
     ]
    },
    {
     "name": "stdout",
     "output_type": "stream",
     "text": [
      "AVG.TRAIN.LOSS    AVG.VAL.LOSS    EPOCH\n"
     ]
    },
    {
     "name": "stderr",
     "output_type": "stream",
     "text": [
      "1.4832181         1.4832181       299: 100%|██████████| 300/300 [00:06<00:00, 48.79it/s]\n"
     ]
    },
    {
     "name": "stdout",
     "output_type": "stream",
     "text": [
      "AVG.TRAIN.LOSS    AVG.VAL.LOSS    EPOCH\n"
     ]
    },
    {
     "name": "stderr",
     "output_type": "stream",
     "text": [
      "1.7753116         1.7753116       299: 100%|██████████| 300/300 [00:06<00:00, 48.40it/s]\n"
     ]
    },
    {
     "name": "stdout",
     "output_type": "stream",
     "text": [
      "Network initialized\n",
      "AVG.TRAIN.LOSS    AVG.VAL.LOSS    EPOCH\n"
     ]
    },
    {
     "name": "stderr",
     "output_type": "stream",
     "text": [
      "4.8184686         4.8184686       99: 100%|██████████| 100/100 [00:02<00:00, 43.23it/s]\n"
     ]
    },
    {
     "name": "stdout",
     "output_type": "stream",
     "text": [
      "AVG.TRAIN.LOSS    AVG.VAL.LOSS    EPOCH\n"
     ]
    },
    {
     "name": "stderr",
     "output_type": "stream",
     "text": [
      "2.6705468         2.6705468       99: 100%|██████████| 100/100 [00:02<00:00, 43.51it/s]\n"
     ]
    },
    {
     "name": "stdout",
     "output_type": "stream",
     "text": [
      "AVG.TRAIN.LOSS    AVG.VAL.LOSS    EPOCH\n"
     ]
    },
    {
     "name": "stderr",
     "output_type": "stream",
     "text": [
      "2.5317757         2.5317757       99: 100%|██████████| 100/100 [00:02<00:00, 43.62it/s]\n"
     ]
    },
    {
     "name": "stdout",
     "output_type": "stream",
     "text": [
      "AVG.TRAIN.LOSS    AVG.VAL.LOSS    EPOCH\n"
     ]
    },
    {
     "name": "stderr",
     "output_type": "stream",
     "text": [
      "1.746191         1.746191       99: 100%|██████████| 100/100 [00:02<00:00, 43.65it/s]\n"
     ]
    },
    {
     "name": "stdout",
     "output_type": "stream",
     "text": [
      "Network initialized\n",
      "AVG.TRAIN.LOSS    AVG.VAL.LOSS    EPOCH\n"
     ]
    },
    {
     "name": "stderr",
     "output_type": "stream",
     "text": [
      "0.9586721         0.9586721       99: 100%|██████████| 100/100 [00:02<00:00, 49.46it/s]\n"
     ]
    },
    {
     "name": "stdout",
     "output_type": "stream",
     "text": [
      "AVG.TRAIN.LOSS    AVG.VAL.LOSS    EPOCH\n"
     ]
    },
    {
     "name": "stderr",
     "output_type": "stream",
     "text": [
      "1.6256553         1.6256553       99: 100%|██████████| 100/100 [00:02<00:00, 48.42it/s]\n"
     ]
    },
    {
     "name": "stdout",
     "output_type": "stream",
     "text": [
      "AVG.TRAIN.LOSS    AVG.VAL.LOSS    EPOCH\n"
     ]
    },
    {
     "name": "stderr",
     "output_type": "stream",
     "text": [
      "2.9416234         2.9416234       99: 100%|██████████| 100/100 [00:02<00:00, 48.61it/s]\n"
     ]
    },
    {
     "name": "stdout",
     "output_type": "stream",
     "text": [
      "AVG.TRAIN.LOSS    AVG.VAL.LOSS    EPOCH\n"
     ]
    },
    {
     "name": "stderr",
     "output_type": "stream",
     "text": [
      "1.5776424         1.5776424       99: 100%|██████████| 100/100 [00:02<00:00, 49.34it/s]\n"
     ]
    },
    {
     "name": "stdout",
     "output_type": "stream",
     "text": [
      "Network initialized\n",
      "AVG.TRAIN.LOSS    AVG.VAL.LOSS    EPOCH\n"
     ]
    },
    {
     "name": "stderr",
     "output_type": "stream",
     "text": [
      "0.56609136         0.56609136       99: 100%|██████████| 100/100 [00:02<00:00, 43.26it/s]\n"
     ]
    },
    {
     "name": "stdout",
     "output_type": "stream",
     "text": [
      "AVG.TRAIN.LOSS    AVG.VAL.LOSS    EPOCH\n"
     ]
    },
    {
     "name": "stderr",
     "output_type": "stream",
     "text": [
      "1.064146         1.064146       99: 100%|██████████| 100/100 [00:02<00:00, 43.10it/s]\n"
     ]
    },
    {
     "name": "stdout",
     "output_type": "stream",
     "text": [
      "AVG.TRAIN.LOSS    AVG.VAL.LOSS    EPOCH\n"
     ]
    },
    {
     "name": "stderr",
     "output_type": "stream",
     "text": [
      "0.81635755         0.81635755       99: 100%|██████████| 100/100 [00:02<00:00, 43.62it/s]\n"
     ]
    },
    {
     "name": "stdout",
     "output_type": "stream",
     "text": [
      "AVG.TRAIN.LOSS    AVG.VAL.LOSS    EPOCH\n"
     ]
    },
    {
     "name": "stderr",
     "output_type": "stream",
     "text": [
      "2.1221917         2.1221917       99: 100%|██████████| 100/100 [00:02<00:00, 43.30it/s]\n"
     ]
    },
    {
     "name": "stdout",
     "output_type": "stream",
     "text": [
      "Network initialized\n",
      "AVG.TRAIN.LOSS    AVG.VAL.LOSS    EPOCH\n"
     ]
    },
    {
     "name": "stderr",
     "output_type": "stream",
     "text": [
      "1.6569246         1.6569246       199: 100%|██████████| 200/200 [00:04<00:00, 48.28it/s]\n"
     ]
    },
    {
     "name": "stdout",
     "output_type": "stream",
     "text": [
      "AVG.TRAIN.LOSS    AVG.VAL.LOSS    EPOCH\n"
     ]
    },
    {
     "name": "stderr",
     "output_type": "stream",
     "text": [
      "2.1969936         2.1969936       199: 100%|██████████| 200/200 [00:04<00:00, 48.99it/s]\n"
     ]
    },
    {
     "name": "stdout",
     "output_type": "stream",
     "text": [
      "AVG.TRAIN.LOSS    AVG.VAL.LOSS    EPOCH\n"
     ]
    },
    {
     "name": "stderr",
     "output_type": "stream",
     "text": [
      "1.455191         1.455191       199: 100%|██████████| 200/200 [00:04<00:00, 49.07it/s]\n"
     ]
    },
    {
     "name": "stdout",
     "output_type": "stream",
     "text": [
      "AVG.TRAIN.LOSS    AVG.VAL.LOSS    EPOCH\n"
     ]
    },
    {
     "name": "stderr",
     "output_type": "stream",
     "text": [
      "0.9556375         0.9556375       199: 100%|██████████| 200/200 [00:04<00:00, 49.00it/s]\n"
     ]
    },
    {
     "name": "stdout",
     "output_type": "stream",
     "text": [
      "Network initialized\n",
      "AVG.TRAIN.LOSS    AVG.VAL.LOSS    EPOCH\n"
     ]
    },
    {
     "name": "stderr",
     "output_type": "stream",
     "text": [
      "3.191754         3.191754       299: 100%|██████████| 300/300 [00:06<00:00, 43.08it/s]\n"
     ]
    },
    {
     "name": "stdout",
     "output_type": "stream",
     "text": [
      "AVG.TRAIN.LOSS    AVG.VAL.LOSS    EPOCH\n"
     ]
    },
    {
     "name": "stderr",
     "output_type": "stream",
     "text": [
      "1.8303779         1.8303779       299: 100%|██████████| 300/300 [00:06<00:00, 42.94it/s]\n"
     ]
    },
    {
     "name": "stdout",
     "output_type": "stream",
     "text": [
      "AVG.TRAIN.LOSS    AVG.VAL.LOSS    EPOCH\n"
     ]
    },
    {
     "name": "stderr",
     "output_type": "stream",
     "text": [
      "1.6637821         1.6637821       299: 100%|██████████| 300/300 [00:06<00:00, 43.53it/s]\n"
     ]
    },
    {
     "name": "stdout",
     "output_type": "stream",
     "text": [
      "AVG.TRAIN.LOSS    AVG.VAL.LOSS    EPOCH\n"
     ]
    },
    {
     "name": "stderr",
     "output_type": "stream",
     "text": [
      "2.7959297         2.7959297       299: 100%|██████████| 300/300 [00:06<00:00, 43.36it/s]\n"
     ]
    },
    {
     "name": "stdout",
     "output_type": "stream",
     "text": [
      "Network initialized\n",
      "AVG.TRAIN.LOSS    AVG.VAL.LOSS    EPOCH\n"
     ]
    },
    {
     "name": "stderr",
     "output_type": "stream",
     "text": [
      "2.5071194         2.5071194       299: 100%|██████████| 300/300 [00:06<00:00, 48.45it/s]\n"
     ]
    },
    {
     "name": "stdout",
     "output_type": "stream",
     "text": [
      "AVG.TRAIN.LOSS    AVG.VAL.LOSS    EPOCH\n"
     ]
    },
    {
     "name": "stderr",
     "output_type": "stream",
     "text": [
      "3.7209008         3.7209008       299: 100%|██████████| 300/300 [00:06<00:00, 48.73it/s]\n"
     ]
    },
    {
     "name": "stdout",
     "output_type": "stream",
     "text": [
      "AVG.TRAIN.LOSS    AVG.VAL.LOSS    EPOCH\n"
     ]
    },
    {
     "name": "stderr",
     "output_type": "stream",
     "text": [
      "3.2139902         3.2139902       299: 100%|██████████| 300/300 [00:06<00:00, 49.19it/s]\n"
     ]
    },
    {
     "name": "stdout",
     "output_type": "stream",
     "text": [
      "AVG.TRAIN.LOSS    AVG.VAL.LOSS    EPOCH\n"
     ]
    },
    {
     "name": "stderr",
     "output_type": "stream",
     "text": [
      "2.6658623         2.6658623       299: 100%|██████████| 300/300 [00:06<00:00, 49.46it/s]\n"
     ]
    },
    {
     "name": "stdout",
     "output_type": "stream",
     "text": [
      "Network initialized\n",
      "AVG.TRAIN.LOSS    AVG.VAL.LOSS    EPOCH\n"
     ]
    },
    {
     "name": "stderr",
     "output_type": "stream",
     "text": [
      "2.3682334         2.3682334       199: 100%|██████████| 200/200 [00:04<00:00, 48.28it/s]\n"
     ]
    },
    {
     "name": "stdout",
     "output_type": "stream",
     "text": [
      "AVG.TRAIN.LOSS    AVG.VAL.LOSS    EPOCH\n"
     ]
    },
    {
     "name": "stderr",
     "output_type": "stream",
     "text": [
      "3.936332         3.936332       199: 100%|██████████| 200/200 [00:04<00:00, 49.03it/s]\n"
     ]
    },
    {
     "name": "stdout",
     "output_type": "stream",
     "text": [
      "AVG.TRAIN.LOSS    AVG.VAL.LOSS    EPOCH\n"
     ]
    },
    {
     "name": "stderr",
     "output_type": "stream",
     "text": [
      "3.132537         3.132537       199: 100%|██████████| 200/200 [00:04<00:00, 48.97it/s]\n"
     ]
    },
    {
     "name": "stdout",
     "output_type": "stream",
     "text": [
      "AVG.TRAIN.LOSS    AVG.VAL.LOSS    EPOCH\n"
     ]
    },
    {
     "name": "stderr",
     "output_type": "stream",
     "text": [
      "2.0167625         2.0167625       199: 100%|██████████| 200/200 [00:04<00:00, 48.51it/s]\n"
     ]
    },
    {
     "name": "stdout",
     "output_type": "stream",
     "text": [
      "Network initialized\n",
      "AVG.TRAIN.LOSS    AVG.VAL.LOSS    EPOCH\n"
     ]
    },
    {
     "name": "stderr",
     "output_type": "stream",
     "text": [
      "2.5566826         2.5566826       99: 100%|██████████| 100/100 [00:02<00:00, 48.74it/s]\n"
     ]
    },
    {
     "name": "stdout",
     "output_type": "stream",
     "text": [
      "AVG.TRAIN.LOSS    AVG.VAL.LOSS    EPOCH\n"
     ]
    },
    {
     "name": "stderr",
     "output_type": "stream",
     "text": [
      "2.0226657         2.0226657       99: 100%|██████████| 100/100 [00:02<00:00, 48.51it/s]\n"
     ]
    },
    {
     "name": "stdout",
     "output_type": "stream",
     "text": [
      "AVG.TRAIN.LOSS    AVG.VAL.LOSS    EPOCH\n"
     ]
    },
    {
     "name": "stderr",
     "output_type": "stream",
     "text": [
      "2.7285688         2.7285688       99: 100%|██████████| 100/100 [00:02<00:00, 48.77it/s]\n"
     ]
    },
    {
     "name": "stdout",
     "output_type": "stream",
     "text": [
      "AVG.TRAIN.LOSS    AVG.VAL.LOSS    EPOCH\n"
     ]
    },
    {
     "name": "stderr",
     "output_type": "stream",
     "text": [
      "2.0617213         2.0617213       99: 100%|██████████| 100/100 [00:02<00:00, 48.50it/s]\n"
     ]
    },
    {
     "name": "stdout",
     "output_type": "stream",
     "text": [
      "Network initialized\n",
      "AVG.TRAIN.LOSS    AVG.VAL.LOSS    EPOCH\n"
     ]
    },
    {
     "name": "stderr",
     "output_type": "stream",
     "text": [
      "1.2050154         1.2050154       99: 100%|██████████| 100/100 [00:02<00:00, 49.46it/s]\n"
     ]
    },
    {
     "name": "stdout",
     "output_type": "stream",
     "text": [
      "AVG.TRAIN.LOSS    AVG.VAL.LOSS    EPOCH\n"
     ]
    },
    {
     "name": "stderr",
     "output_type": "stream",
     "text": [
      "2.0768926         2.0768926       99: 100%|██████████| 100/100 [00:02<00:00, 49.23it/s]\n"
     ]
    },
    {
     "name": "stdout",
     "output_type": "stream",
     "text": [
      "AVG.TRAIN.LOSS    AVG.VAL.LOSS    EPOCH\n"
     ]
    },
    {
     "name": "stderr",
     "output_type": "stream",
     "text": [
      "3.0311089         3.0311089       99: 100%|██████████| 100/100 [00:02<00:00, 48.03it/s]\n"
     ]
    },
    {
     "name": "stdout",
     "output_type": "stream",
     "text": [
      "AVG.TRAIN.LOSS    AVG.VAL.LOSS    EPOCH\n"
     ]
    },
    {
     "name": "stderr",
     "output_type": "stream",
     "text": [
      "1.6196237         1.6196237       99: 100%|██████████| 100/100 [00:02<00:00, 47.88it/s]\n"
     ]
    },
    {
     "name": "stdout",
     "output_type": "stream",
     "text": [
      "Network initialized\n",
      "AVG.TRAIN.LOSS    AVG.VAL.LOSS    EPOCH\n"
     ]
    },
    {
     "name": "stderr",
     "output_type": "stream",
     "text": [
      "4.308038         4.308038       99: 100%|██████████| 100/100 [00:02<00:00, 42.39it/s]\n"
     ]
    },
    {
     "name": "stdout",
     "output_type": "stream",
     "text": [
      "AVG.TRAIN.LOSS    AVG.VAL.LOSS    EPOCH\n"
     ]
    },
    {
     "name": "stderr",
     "output_type": "stream",
     "text": [
      "1.569575         1.569575       99: 100%|██████████| 100/100 [00:02<00:00, 42.73it/s]\n"
     ]
    },
    {
     "name": "stdout",
     "output_type": "stream",
     "text": [
      "AVG.TRAIN.LOSS    AVG.VAL.LOSS    EPOCH\n"
     ]
    },
    {
     "name": "stderr",
     "output_type": "stream",
     "text": [
      "2.1116245         2.1116245       99: 100%|██████████| 100/100 [00:02<00:00, 43.55it/s]\n"
     ]
    },
    {
     "name": "stdout",
     "output_type": "stream",
     "text": [
      "AVG.TRAIN.LOSS    AVG.VAL.LOSS    EPOCH\n"
     ]
    },
    {
     "name": "stderr",
     "output_type": "stream",
     "text": [
      "2.3954315         2.3954315       99: 100%|██████████| 100/100 [00:02<00:00, 43.13it/s]\n"
     ]
    },
    {
     "name": "stdout",
     "output_type": "stream",
     "text": [
      "Network initialized\n",
      "AVG.TRAIN.LOSS    AVG.VAL.LOSS    EPOCH\n"
     ]
    },
    {
     "name": "stderr",
     "output_type": "stream",
     "text": [
      "2.3422346         2.3422346       99: 100%|██████████| 100/100 [00:02<00:00, 48.06it/s]\n"
     ]
    },
    {
     "name": "stdout",
     "output_type": "stream",
     "text": [
      "AVG.TRAIN.LOSS    AVG.VAL.LOSS    EPOCH\n"
     ]
    },
    {
     "name": "stderr",
     "output_type": "stream",
     "text": [
      "1.6596831         1.6596831       99: 100%|██████████| 100/100 [00:02<00:00, 44.26it/s]\n"
     ]
    },
    {
     "name": "stdout",
     "output_type": "stream",
     "text": [
      "AVG.TRAIN.LOSS    AVG.VAL.LOSS    EPOCH\n"
     ]
    },
    {
     "name": "stderr",
     "output_type": "stream",
     "text": [
      "1.9070638         1.9070638       99: 100%|██████████| 100/100 [00:02<00:00, 44.18it/s]\n"
     ]
    },
    {
     "name": "stdout",
     "output_type": "stream",
     "text": [
      "AVG.TRAIN.LOSS    AVG.VAL.LOSS    EPOCH\n"
     ]
    },
    {
     "name": "stderr",
     "output_type": "stream",
     "text": [
      "2.3100476         2.3100476       99: 100%|██████████| 100/100 [00:02<00:00, 48.23it/s]\n"
     ]
    },
    {
     "name": "stdout",
     "output_type": "stream",
     "text": [
      "Network initialized\n",
      "AVG.TRAIN.LOSS    AVG.VAL.LOSS    EPOCH\n"
     ]
    },
    {
     "name": "stderr",
     "output_type": "stream",
     "text": [
      "0.46841392         0.46841392       99: 100%|██████████| 100/100 [00:02<00:00, 43.28it/s]\n"
     ]
    },
    {
     "name": "stdout",
     "output_type": "stream",
     "text": [
      "AVG.TRAIN.LOSS    AVG.VAL.LOSS    EPOCH\n"
     ]
    },
    {
     "name": "stderr",
     "output_type": "stream",
     "text": [
      "0.6282179         0.6282179       99: 100%|██████████| 100/100 [00:02<00:00, 43.27it/s]\n"
     ]
    },
    {
     "name": "stdout",
     "output_type": "stream",
     "text": [
      "AVG.TRAIN.LOSS    AVG.VAL.LOSS    EPOCH\n"
     ]
    },
    {
     "name": "stderr",
     "output_type": "stream",
     "text": [
      "0.5026884         0.5026884       99: 100%|██████████| 100/100 [00:02<00:00, 43.16it/s]\n"
     ]
    },
    {
     "name": "stdout",
     "output_type": "stream",
     "text": [
      "AVG.TRAIN.LOSS    AVG.VAL.LOSS    EPOCH\n"
     ]
    },
    {
     "name": "stderr",
     "output_type": "stream",
     "text": [
      "0.7777017         0.7777017       99: 100%|██████████| 100/100 [00:02<00:00, 43.30it/s]\n"
     ]
    },
    {
     "name": "stdout",
     "output_type": "stream",
     "text": [
      "Network initialized\n",
      "AVG.TRAIN.LOSS    AVG.VAL.LOSS    EPOCH\n"
     ]
    },
    {
     "name": "stderr",
     "output_type": "stream",
     "text": [
      "0.824075         0.824075       199: 100%|██████████| 200/200 [00:04<00:00, 42.92it/s]\n"
     ]
    },
    {
     "name": "stdout",
     "output_type": "stream",
     "text": [
      "AVG.TRAIN.LOSS    AVG.VAL.LOSS    EPOCH\n"
     ]
    },
    {
     "name": "stderr",
     "output_type": "stream",
     "text": [
      "0.49420866         0.49420866       199: 100%|██████████| 200/200 [00:04<00:00, 43.40it/s]\n"
     ]
    },
    {
     "name": "stdout",
     "output_type": "stream",
     "text": [
      "AVG.TRAIN.LOSS    AVG.VAL.LOSS    EPOCH\n"
     ]
    },
    {
     "name": "stderr",
     "output_type": "stream",
     "text": [
      "0.5018507         0.5018507       199: 100%|██████████| 200/200 [00:04<00:00, 43.39it/s]\n"
     ]
    },
    {
     "name": "stdout",
     "output_type": "stream",
     "text": [
      "AVG.TRAIN.LOSS    AVG.VAL.LOSS    EPOCH\n"
     ]
    },
    {
     "name": "stderr",
     "output_type": "stream",
     "text": [
      "1.9857364         1.9857364       199: 100%|██████████| 200/200 [00:04<00:00, 43.50it/s]\n"
     ]
    },
    {
     "name": "stdout",
     "output_type": "stream",
     "text": [
      "Network initialized\n",
      "AVG.TRAIN.LOSS    AVG.VAL.LOSS    EPOCH\n"
     ]
    },
    {
     "name": "stderr",
     "output_type": "stream",
     "text": [
      "1.0117276         1.0117276       199: 100%|██████████| 200/200 [00:04<00:00, 43.20it/s]\n"
     ]
    },
    {
     "name": "stdout",
     "output_type": "stream",
     "text": [
      "AVG.TRAIN.LOSS    AVG.VAL.LOSS    EPOCH\n"
     ]
    },
    {
     "name": "stderr",
     "output_type": "stream",
     "text": [
      "0.5825375         0.5825375       199: 100%|██████████| 200/200 [00:04<00:00, 43.08it/s]\n"
     ]
    },
    {
     "name": "stdout",
     "output_type": "stream",
     "text": [
      "AVG.TRAIN.LOSS    AVG.VAL.LOSS    EPOCH\n"
     ]
    },
    {
     "name": "stderr",
     "output_type": "stream",
     "text": [
      "1.2734108         1.2734108       199: 100%|██████████| 200/200 [00:04<00:00, 42.65it/s]\n"
     ]
    },
    {
     "name": "stdout",
     "output_type": "stream",
     "text": [
      "AVG.TRAIN.LOSS    AVG.VAL.LOSS    EPOCH\n"
     ]
    },
    {
     "name": "stderr",
     "output_type": "stream",
     "text": [
      "0.5071234         0.5071234       199: 100%|██████████| 200/200 [00:04<00:00, 42.54it/s]\n"
     ]
    },
    {
     "name": "stdout",
     "output_type": "stream",
     "text": [
      "Network initialized\n",
      "AVG.TRAIN.LOSS    AVG.VAL.LOSS    EPOCH\n"
     ]
    },
    {
     "name": "stderr",
     "output_type": "stream",
     "text": [
      "1.2380849         1.2380849       199: 100%|██████████| 200/200 [00:04<00:00, 48.32it/s]\n"
     ]
    },
    {
     "name": "stdout",
     "output_type": "stream",
     "text": [
      "AVG.TRAIN.LOSS    AVG.VAL.LOSS    EPOCH\n"
     ]
    },
    {
     "name": "stderr",
     "output_type": "stream",
     "text": [
      "1.5391079         1.5391079       199: 100%|██████████| 200/200 [00:04<00:00, 48.93it/s]\n"
     ]
    },
    {
     "name": "stdout",
     "output_type": "stream",
     "text": [
      "AVG.TRAIN.LOSS    AVG.VAL.LOSS    EPOCH\n"
     ]
    },
    {
     "name": "stderr",
     "output_type": "stream",
     "text": [
      "1.8363504         1.8363504       199: 100%|██████████| 200/200 [00:04<00:00, 48.97it/s]\n"
     ]
    },
    {
     "name": "stdout",
     "output_type": "stream",
     "text": [
      "AVG.TRAIN.LOSS    AVG.VAL.LOSS    EPOCH\n"
     ]
    },
    {
     "name": "stderr",
     "output_type": "stream",
     "text": [
      "2.2525918         2.2525918       199: 100%|██████████| 200/200 [00:04<00:00, 48.19it/s]\n"
     ]
    },
    {
     "name": "stdout",
     "output_type": "stream",
     "text": [
      "Network initialized\n",
      "AVG.TRAIN.LOSS    AVG.VAL.LOSS    EPOCH\n"
     ]
    },
    {
     "name": "stderr",
     "output_type": "stream",
     "text": [
      "1.9349409         1.9349409       99: 100%|██████████| 100/100 [00:02<00:00, 48.00it/s]\n"
     ]
    },
    {
     "name": "stdout",
     "output_type": "stream",
     "text": [
      "AVG.TRAIN.LOSS    AVG.VAL.LOSS    EPOCH\n"
     ]
    },
    {
     "name": "stderr",
     "output_type": "stream",
     "text": [
      "1.5493101         1.5493101       99: 100%|██████████| 100/100 [00:02<00:00, 48.53it/s]\n"
     ]
    },
    {
     "name": "stdout",
     "output_type": "stream",
     "text": [
      "AVG.TRAIN.LOSS    AVG.VAL.LOSS    EPOCH\n"
     ]
    },
    {
     "name": "stderr",
     "output_type": "stream",
     "text": [
      "2.3073208         2.3073208       99: 100%|██████████| 100/100 [00:02<00:00, 48.34it/s]\n"
     ]
    },
    {
     "name": "stdout",
     "output_type": "stream",
     "text": [
      "AVG.TRAIN.LOSS    AVG.VAL.LOSS    EPOCH\n"
     ]
    },
    {
     "name": "stderr",
     "output_type": "stream",
     "text": [
      "1.9194828         1.9194828       99: 100%|██████████| 100/100 [00:02<00:00, 47.78it/s]\n"
     ]
    },
    {
     "name": "stdout",
     "output_type": "stream",
     "text": [
      "Network initialized\n",
      "AVG.TRAIN.LOSS    AVG.VAL.LOSS    EPOCH\n"
     ]
    },
    {
     "name": "stderr",
     "output_type": "stream",
     "text": [
      "1.7379189         1.7379189       199: 100%|██████████| 200/200 [00:04<00:00, 43.24it/s]\n"
     ]
    },
    {
     "name": "stdout",
     "output_type": "stream",
     "text": [
      "AVG.TRAIN.LOSS    AVG.VAL.LOSS    EPOCH\n"
     ]
    },
    {
     "name": "stderr",
     "output_type": "stream",
     "text": [
      "1.6388183         1.6388183       199: 100%|██████████| 200/200 [00:04<00:00, 43.69it/s]\n"
     ]
    },
    {
     "name": "stdout",
     "output_type": "stream",
     "text": [
      "AVG.TRAIN.LOSS    AVG.VAL.LOSS    EPOCH\n"
     ]
    },
    {
     "name": "stderr",
     "output_type": "stream",
     "text": [
      "3.2803278         3.2803278       199: 100%|██████████| 200/200 [00:04<00:00, 43.43it/s]\n"
     ]
    },
    {
     "name": "stdout",
     "output_type": "stream",
     "text": [
      "AVG.TRAIN.LOSS    AVG.VAL.LOSS    EPOCH\n"
     ]
    },
    {
     "name": "stderr",
     "output_type": "stream",
     "text": [
      "1.1091104         1.1091104       199: 100%|██████████| 200/200 [00:04<00:00, 43.05it/s]\n"
     ]
    },
    {
     "name": "stdout",
     "output_type": "stream",
     "text": [
      "Network initialized\n",
      "AVG.TRAIN.LOSS    AVG.VAL.LOSS    EPOCH\n"
     ]
    },
    {
     "name": "stderr",
     "output_type": "stream",
     "text": [
      "2.625953         2.625953       299: 100%|██████████| 300/300 [00:06<00:00, 43.35it/s]\n"
     ]
    },
    {
     "name": "stdout",
     "output_type": "stream",
     "text": [
      "AVG.TRAIN.LOSS    AVG.VAL.LOSS    EPOCH\n"
     ]
    },
    {
     "name": "stderr",
     "output_type": "stream",
     "text": [
      "2.2479796         2.2479796       299: 100%|██████████| 300/300 [00:06<00:00, 43.13it/s]\n"
     ]
    },
    {
     "name": "stdout",
     "output_type": "stream",
     "text": [
      "AVG.TRAIN.LOSS    AVG.VAL.LOSS    EPOCH\n"
     ]
    },
    {
     "name": "stderr",
     "output_type": "stream",
     "text": [
      "2.6991708         2.6991708       299: 100%|██████████| 300/300 [00:06<00:00, 43.39it/s]\n"
     ]
    },
    {
     "name": "stdout",
     "output_type": "stream",
     "text": [
      "AVG.TRAIN.LOSS    AVG.VAL.LOSS    EPOCH\n"
     ]
    },
    {
     "name": "stderr",
     "output_type": "stream",
     "text": [
      "3.01937         3.01937       299: 100%|██████████| 300/300 [00:06<00:00, 43.45it/s]\n"
     ]
    },
    {
     "name": "stdout",
     "output_type": "stream",
     "text": [
      "Network initialized\n",
      "AVG.TRAIN.LOSS    AVG.VAL.LOSS    EPOCH\n"
     ]
    },
    {
     "name": "stderr",
     "output_type": "stream",
     "text": [
      "1.7561933         1.7561933       299: 100%|██████████| 300/300 [00:06<00:00, 42.86it/s]\n"
     ]
    },
    {
     "name": "stdout",
     "output_type": "stream",
     "text": [
      "AVG.TRAIN.LOSS    AVG.VAL.LOSS    EPOCH\n"
     ]
    },
    {
     "name": "stderr",
     "output_type": "stream",
     "text": [
      "4.017607         4.017607       299: 100%|██████████| 300/300 [00:07<00:00, 42.67it/s]\n"
     ]
    },
    {
     "name": "stdout",
     "output_type": "stream",
     "text": [
      "AVG.TRAIN.LOSS    AVG.VAL.LOSS    EPOCH\n"
     ]
    },
    {
     "name": "stderr",
     "output_type": "stream",
     "text": [
      "2.9426632         2.9426632       299: 100%|██████████| 300/300 [00:06<00:00, 43.07it/s]\n"
     ]
    },
    {
     "name": "stdout",
     "output_type": "stream",
     "text": [
      "AVG.TRAIN.LOSS    AVG.VAL.LOSS    EPOCH\n"
     ]
    },
    {
     "name": "stderr",
     "output_type": "stream",
     "text": [
      "2.088823         2.088823       299: 100%|██████████| 300/300 [00:07<00:00, 42.78it/s]\n"
     ]
    },
    {
     "name": "stdout",
     "output_type": "stream",
     "text": [
      "Network initialized\n",
      "AVG.TRAIN.LOSS    AVG.VAL.LOSS    EPOCH\n"
     ]
    },
    {
     "name": "stderr",
     "output_type": "stream",
     "text": [
      "1.9290981         1.9290981       99: 100%|██████████| 100/100 [00:02<00:00, 42.12it/s]\n"
     ]
    },
    {
     "name": "stdout",
     "output_type": "stream",
     "text": [
      "AVG.TRAIN.LOSS    AVG.VAL.LOSS    EPOCH\n"
     ]
    },
    {
     "name": "stderr",
     "output_type": "stream",
     "text": [
      "2.4184856         2.4184856       99: 100%|██████████| 100/100 [00:02<00:00, 41.98it/s]\n"
     ]
    },
    {
     "name": "stdout",
     "output_type": "stream",
     "text": [
      "AVG.TRAIN.LOSS    AVG.VAL.LOSS    EPOCH\n"
     ]
    },
    {
     "name": "stderr",
     "output_type": "stream",
     "text": [
      "0.98150396         0.98150396       99: 100%|██████████| 100/100 [00:02<00:00, 42.47it/s]\n"
     ]
    },
    {
     "name": "stdout",
     "output_type": "stream",
     "text": [
      "AVG.TRAIN.LOSS    AVG.VAL.LOSS    EPOCH\n"
     ]
    },
    {
     "name": "stderr",
     "output_type": "stream",
     "text": [
      "1.6242619         1.6242619       99: 100%|██████████| 100/100 [00:02<00:00, 42.06it/s]\n"
     ]
    },
    {
     "name": "stdout",
     "output_type": "stream",
     "text": [
      "Network initialized\n",
      "AVG.TRAIN.LOSS    AVG.VAL.LOSS    EPOCH\n"
     ]
    },
    {
     "name": "stderr",
     "output_type": "stream",
     "text": [
      "2.2064428         2.2064428       99: 100%|██████████| 100/100 [00:02<00:00, 42.19it/s]\n"
     ]
    },
    {
     "name": "stdout",
     "output_type": "stream",
     "text": [
      "AVG.TRAIN.LOSS    AVG.VAL.LOSS    EPOCH\n"
     ]
    },
    {
     "name": "stderr",
     "output_type": "stream",
     "text": [
      "0.87990856         0.87990856       99: 100%|██████████| 100/100 [00:02<00:00, 42.95it/s]\n"
     ]
    },
    {
     "name": "stdout",
     "output_type": "stream",
     "text": [
      "AVG.TRAIN.LOSS    AVG.VAL.LOSS    EPOCH\n"
     ]
    },
    {
     "name": "stderr",
     "output_type": "stream",
     "text": [
      "0.73820823         0.73820823       99: 100%|██████████| 100/100 [00:02<00:00, 42.51it/s]\n"
     ]
    },
    {
     "name": "stdout",
     "output_type": "stream",
     "text": [
      "AVG.TRAIN.LOSS    AVG.VAL.LOSS    EPOCH\n"
     ]
    },
    {
     "name": "stderr",
     "output_type": "stream",
     "text": [
      "0.5282472         0.5282472       99: 100%|██████████| 100/100 [00:02<00:00, 42.70it/s]\n"
     ]
    },
    {
     "name": "stdout",
     "output_type": "stream",
     "text": [
      "Network initialized\n",
      "AVG.TRAIN.LOSS    AVG.VAL.LOSS    EPOCH\n"
     ]
    },
    {
     "name": "stderr",
     "output_type": "stream",
     "text": [
      "3.9110043         3.9110043       299: 100%|██████████| 300/300 [00:06<00:00, 48.22it/s]\n"
     ]
    },
    {
     "name": "stdout",
     "output_type": "stream",
     "text": [
      "AVG.TRAIN.LOSS    AVG.VAL.LOSS    EPOCH\n"
     ]
    },
    {
     "name": "stderr",
     "output_type": "stream",
     "text": [
      "3.207332         3.207332       299: 100%|██████████| 300/300 [00:06<00:00, 48.39it/s]\n"
     ]
    },
    {
     "name": "stdout",
     "output_type": "stream",
     "text": [
      "AVG.TRAIN.LOSS    AVG.VAL.LOSS    EPOCH\n"
     ]
    },
    {
     "name": "stderr",
     "output_type": "stream",
     "text": [
      "4.0465865         4.0465865       299: 100%|██████████| 300/300 [00:06<00:00, 48.15it/s]\n"
     ]
    },
    {
     "name": "stdout",
     "output_type": "stream",
     "text": [
      "AVG.TRAIN.LOSS    AVG.VAL.LOSS    EPOCH\n"
     ]
    },
    {
     "name": "stderr",
     "output_type": "stream",
     "text": [
      "2.9015572         2.9015572       299: 100%|██████████| 300/300 [00:06<00:00, 48.66it/s]\n"
     ]
    }
   ],
   "source": [
    "model_list, best_model = GridSearchKFCV(Net, train_dataset, hyper_dict, 4, 100, device)"
   ]
  },
  {
   "cell_type": "code",
   "execution_count": 18,
   "metadata": {
    "colab": {
     "base_uri": "https://localhost:8080/",
     "height": 532
    },
    "id": "Xu2ak7OUBs8q",
    "outputId": "08695c12-da53-4710-aa1f-0d359c05f378"
   },
   "outputs": [
    {
     "data": {
      "image/png": "[encoded data removed]",
      "text/plain": [
       "<Figure size 864x576 with 1 Axes>"
      ]
     },
     "metadata": {
      "needs_background": "light"
     },
     "output_type": "display_data"
    },
    {
     "name": "stdout",
     "output_type": "stream",
     "text": [
      "BEST MODEL HYPERPARAMETERS:\n",
      "{'Nh1': 50, 'Nh2': 75, 'drop': 0.17474747474747473, 'wd': 0.004534878508128582, 'lr': 0.00628029144183426, 'optim': 'adam', 'epochs': 200}\n"
     ]
    }
   ],
   "source": [
    "plt.figure(figsize=(12,8))\n",
    "for model in model_list:\n",
    "    plt.semilogy(model['val_loss'])\n",
    "plt.xlabel('Epoch')\n",
    "plt.ylabel('Loss')\n",
    "plt.grid()\n",
    "plt.show()\n",
    "print('BEST MODEL HYPERPARAMETERS:')\n",
    "print(model_list[best_model]['hp_dict'])"
   ]
  },
  {
   "cell_type": "markdown",
   "metadata": {},
   "source": [
    "## Best Model\n",
    "***\n",
    "Let's initialize a Network with the the best hyperparameter found by GridSearch.\n",
    "Then I will train it and later tests it's performances."
   ]
  },
  {
   "cell_type": "code",
   "execution_count": 34,
   "metadata": {
    "colab": {
     "base_uri": "https://localhost:8080/"
    },
    "id": "xAVeDlqRBs8r",
    "outputId": "595187c8-9e8c-48c7-d808-6466fac8a2c0"
   },
   "outputs": [
    {
     "name": "stdout",
     "output_type": "stream",
     "text": [
      "Network initialized\n"
     ]
    }
   ],
   "source": [
    "best_net, best_params = ModelFromHP(Net, model_list[best_model]['hp_dict'], device)"
   ]
  },
  {
   "cell_type": "code",
   "execution_count": 35,
   "metadata": {
    "colab": {
     "base_uri": "https://localhost:8080/",
     "height": 532
    },
    "id": "KZ_zlGqTBs8r",
    "outputId": "ba06c618-81ee-435f-871c-d01294be37cc"
   },
   "outputs": [
    {
     "name": "stdout",
     "output_type": "stream",
     "text": [
      "AVG.TRAIN.LOSS    AVG.VAL.LOSS    EPOCH\n"
     ]
    },
    {
     "name": "stderr",
     "output_type": "stream",
     "text": [
      "0.26575285         0.26575285       199: 100%|██████████| 200/200 [00:04<00:00, 48.38it/s]\n"
     ]
    },
    {
     "data": {
      "image/png": "[encoded data removed]",
      "text/plain": [
       "<Figure size 864x576 with 1 Axes>"
      ]
     },
     "metadata": {
      "needs_background": "light"
     },
     "output_type": "display_data"
    }
   ],
   "source": [
    "best_train_loss, best_val_loss = best_net.run_training(train_dataset, best_params, val_dataset=0.2, plot=True)"
   ]
  },
  {
   "cell_type": "code",
   "execution_count": 36,
   "metadata": {
    "colab": {
     "base_uri": "https://localhost:8080/",
     "height": 514
    },
    "id": "HfOakyohM2Kf",
    "outputId": "34b7d287-9a46-4958-f9cf-a86a28354675"
   },
   "outputs": [
    {
     "name": "stdout",
     "output_type": "stream",
     "text": [
      "TEST LOSS = 0.41639918088912964\n"
     ]
    },
    {
     "data": {
      "image/png": "[encoded data removed]",
      "text/plain": [
       "<Figure size 864x576 with 1 Axes>"
      ]
     },
     "metadata": {
      "needs_background": "light"
     },
     "output_type": "display_data"
    }
   ],
   "source": [
    "x_vec = torch.linspace(-5,5,1000)\n",
    "x_vec = x_vec.to(device)\n",
    "x_vec = x_vec.unsqueeze(-1)  # Adding a dimension to the input vector\n",
    "trial_net.eval()\n",
    "with torch.no_grad(): # turn off gradients computation\n",
    "    y_vec = best_net(x_vec)\n",
    "test_prediction, test_loss = best_net.run_test(test_dataset, best_params)\n",
    "print('TEST LOSS = %s' % float(test_loss))\n",
    "fig = plt.figure(figsize=(12,8))\n",
    "plt.scatter(np.array(train_dataset.data)[:,0], np.array(train_dataset.data)[:,1], label='Training points')\n",
    "plt.scatter(np.array(test_dataset.data)[:,0], np.array(test_dataset.data)[:,1], label='Test points')\n",
    "plt.scatter(np.array(test_dataset.data)[:,0], test_prediction, label='Test predictions', c='r')\n",
    "plt.xlabel('input')\n",
    "plt.ylabel('label')\n",
    "plt.legend()\n",
    "plt.show()"
   ]
  },
  {
   "cell_type": "markdown",
   "metadata": {},
   "source": [
    "It's noticeable that the model now fits the data much better. Again the Network fails on the test data that lay inside the regions without training points: in those region the model was not able retrieve any information, nor learn how the data are distributed.\n",
    "\n",
    "\n",
    "### Weight Visualization\n",
    "***\n",
    "Here I inspect the weight distribution for each trained model's layers."
   ]
  },
  {
   "cell_type": "code",
   "execution_count": 37,
   "metadata": {
    "id": "7xKnDvZNNPMH"
   },
   "outputs": [],
   "source": [
    "## Access model parameters\n",
    "\n",
    "# First hidden layer\n",
    "h1_w = best_net.fc1.weight.data.cpu().numpy()\n",
    "h1_b = best_net.fc1.bias.data.cpu().numpy()\n",
    "\n",
    "# Second hidden layer\n",
    "h2_w = best_net.fc2.weight.data.cpu().numpy()\n",
    "h2_b = best_net.fc2.bias.data.cpu().numpy()\n",
    "\n",
    "# Output layer\n",
    "out_w = best_net.out.weight.data.cpu().numpy()\n",
    "out_b = best_net.out.bias.data.cpu().numpy()"
   ]
  },
  {
   "cell_type": "code",
   "execution_count": 38,
   "metadata": {
    "colab": {
     "base_uri": "https://localhost:8080/",
     "height": 369
    },
    "id": "aeuDFzYvNO7N",
    "outputId": "7ed80bc7-fb32-4952-b5ec-6051fb3dae7e"
   },
   "outputs": [
    {
     "data": {
      "image/png": "[encoded data removed]",
      "text/plain": [
       "<Figure size 1080x360 with 3 Axes>"
      ]
     },
     "metadata": {
      "needs_background": "light"
     },
     "output_type": "display_data"
    }
   ],
   "source": [
    "# Weights histogram\n",
    "fig, axs = plt.subplots(1, 3, figsize=(15,5))\n",
    "axs[0].hist(h1_w.flatten(), 50, orientation='horizontal')\n",
    "axs[0].set_title('First hidden layer weights')\n",
    "axs[1].hist(h2_w.flatten(), 50, orientation='horizontal')\n",
    "axs[1].set_title('Second hidden layer weights')\n",
    "axs[2].hist(out_w.flatten(), 50, orientation='horizontal')\n",
    "axs[2].set_title('Output layer weights')\n",
    "[ax.grid() for ax in axs]\n",
    "plt.tight_layout()\n",
    "plt.show()"
   ]
  },
  {
   "cell_type": "markdown",
   "metadata": {},
   "source": [
    "It can be seen that for the second hidden layer and the output one, the weight are distributed around the origin.\n",
    "\n",
    "### Analysis of the layers' activation\n",
    "***\n",
    "\n",
    "In this section I'm going to visualize how the layer \"reacts\" to given inputs."
   ]
  },
  {
   "cell_type": "code",
   "execution_count": 39,
   "metadata": {
    "colab": {
     "base_uri": "https://localhost:8080/",
     "height": 441
    },
    "id": "k7Pjw96GNOn0",
    "outputId": "9a42bf33-4b87-4065-919f-955af59072d1"
   },
   "outputs": [
    {
     "data": {
      "image/png": "[encoded data removed]",
      "text/plain": [
       "<Figure size 1008x432 with 6 Axes>"
      ]
     },
     "metadata": {
      "needs_background": "light"
     },
     "output_type": "display_data"
    }
   ],
   "source": [
    "def get_activation1(layer, input, output):\n",
    "    global activation1\n",
    "    activation1 = torch.relu(output)\n",
    "def get_activation2(layer, input, output):\n",
    "    global activation2\n",
    "    activation2 = torch.relu(output)\n",
    "\n",
    "\n",
    "### Register hook  \n",
    "hook_handle1 = best_net.fc1.register_forward_hook(get_activation1)\n",
    "hook_handle2 = best_net.fc2.register_forward_hook(get_activation2)\n",
    "\n",
    "### Analyze activations\n",
    "best_net = best_net.to(device)\n",
    "best_net.eval()\n",
    "with torch.no_grad():\n",
    "    x1 = torch.tensor([-4.]).float().to(device)\n",
    "    y1 = best_net(x1)\n",
    "    z1 = (activation1, activation2)\n",
    "    x2 = torch.tensor([0.]).float().to(device)\n",
    "    y2 = best_net(x2)\n",
    "    z2 = (activation1, activation2)\n",
    "    x3 = torch.tensor([4]).float().to(device)\n",
    "    y3 = best_net(x3)\n",
    "    z3 = (activation1, activation2)\n",
    "\n",
    "### Remove hook\n",
    "hook_handle1.remove()\n",
    "hook_handle2.remove()\n",
    "\n",
    "### Plot activations\n",
    "fig, axs = plt.subplots(3, 2, figsize=(14,6))\n",
    "for ii, (x,act) in enumerate(zip([x1,x2,x3],[z1,z2,z3])):\n",
    "    axs[ii,0].stem(act[0].cpu().numpy(), use_line_collection=True)\n",
    "    axs[ii,0].set_title('First hidden layer activations for input x=%.2f' % x)\n",
    "    axs[ii,1].stem(act[1].cpu().numpy(), use_line_collection=True)\n",
    "    axs[ii,1].set_title('Second hidden layer activations for input x=%.2f' % x)\n",
    "plt.tight_layout()\n",
    "plt.show()"
   ]
  },
  {
   "cell_type": "markdown",
   "metadata": {
    "id": "3idB7TIONNzM"
   },
   "source": [
    "It can be seen that almost half of the neurons are not firing at all, which is good and indicates the specificity of the neurons."
   ]
  },
  {
   "cell_type": "code",
   "execution_count": null,
   "metadata": {},
   "outputs": [],
   "source": []
  }
 ],
 "metadata": {
  "accelerator": "GPU",
  "colab": {
   "collapsed_sections": [],
   "name": "nndl_2021__homework_1.ipynb",
   "provenance": []
  },
  "gpuClass": "standard",
  "kernelspec": {
   "display_name": "Python 3",
   "language": "python",
   "name": "python3"
  },
  "language_info": {
   "codemirror_mode": {
    "name": "ipython",
    "version": 3
   },
   "file_extension": ".py",
   "mimetype": "text/x-python",
   "name": "python",
   "nbconvert_exporter": "python",
   "pygments_lexer": "ipython3",
   "version": "3.9.7"
  },
  "widgets": {
   "application/vnd.jupyter.widget-state+json": {
    "0ca774af453d49e586dd4ac4fdac9663": {
     "model_module": "@jupyter-widgets/controls",
     "model_module_version": "1.5.0",
     "model_name": "FloatProgressModel",
     "state": {
      "_dom_classes": [],
      "_model_module": "@jupyter-widgets/controls",
      "_model_module_version": "1.5.0",
      "_model_name": "FloatProgressModel",
      "_view_count": null,
      "_view_module": "@jupyter-widgets/controls",
      "_view_module_version": "1.5.0",
      "_view_name": "ProgressView",
      "bar_style": "success",
      "description": "",
      "description_tooltip": null,
      "layout": "IPY_MODEL_abdc7c640853476eb2bd1f4edbbe9d24",
      "max": 29515,
      "min": 0,
      "orientation": "horizontal",
      "style": "IPY_MODEL_beeeefdc08e24464ba4369da9cd7faea",
      "value": 29515
     }
    },
    "108907707fb246c6aa2eb0055f22b6ad": {
     "model_module": "@jupyter-widgets/controls",
     "model_module_version": "1.5.0",
     "model_name": "ProgressStyleModel",
     "state": {
      "_model_module": "@jupyter-widgets/controls",
      "_model_module_version": "1.5.0",
      "_model_name": "ProgressStyleModel",
      "_view_count": null,
      "_view_module": "@jupyter-widgets/base",
      "_view_module_version": "1.2.0",
      "_view_name": "StyleView",
      "bar_color": null,
      "description_width": ""
     }
    },
    "1329211232b54ee48ee7b37e38a0416f": {
     "model_module": "@jupyter-widgets/controls",
     "model_module_version": "1.5.0",
     "model_name": "DescriptionStyleModel",
     "state": {
      "_model_module": "@jupyter-widgets/controls",
      "_model_module_version": "1.5.0",
      "_model_name": "DescriptionStyleModel",
      "_view_count": null,
      "_view_module": "@jupyter-widgets/base",
      "_view_module_version": "1.2.0",
      "_view_name": "StyleView",
      "description_width": ""
     }
    },
    "182a074481514dbc9f92a1a31923be73": {
     "model_module": "@jupyter-widgets/controls",
     "model_module_version": "1.5.0",
     "model_name": "HTMLModel",
     "state": {
      "_dom_classes": [],
      "_model_module": "@jupyter-widgets/controls",
      "_model_module_version": "1.5.0",
      "_model_name": "HTMLModel",
      "_view_count": null,
      "_view_module": "@jupyter-widgets/controls",
      "_view_module_version": "1.5.0",
      "_view_name": "HTMLView",
      "description": "",
      "description_tooltip": null,
      "layout": "IPY_MODEL_65abcefd8e25405aa5006179d335d2c5",
      "placeholder": "​",
      "style": "IPY_MODEL_f0e07a02ccce46caaccca01b8fa93686",
      "value": ""
     }
    },
    "1fbf8bf7242b415c9cccda738b25ed04": {
     "model_module": "@jupyter-widgets/base",
     "model_module_version": "1.2.0",
     "model_name": "LayoutModel",
     "state": {
      "_model_module": "@jupyter-widgets/base",
      "_model_module_version": "1.2.0",
      "_model_name": "LayoutModel",
      "_view_count": null,
      "_view_module": "@jupyter-widgets/base",
      "_view_module_version": "1.2.0",
      "_view_name": "LayoutView",
      "align_content": null,
      "align_items": null,
      "align_self": null,
      "border": null,
      "bottom": null,
      "display": null,
      "flex": null,
      "flex_flow": null,
      "grid_area": null,
      "grid_auto_columns": null,
      "grid_auto_flow": null,
      "grid_auto_rows": null,
      "grid_column": null,
      "grid_gap": null,
      "grid_row": null,
      "grid_template_areas": null,
      "grid_template_columns": null,
      "grid_template_rows": null,
      "height": null,
      "justify_content": null,
      "justify_items": null,
      "left": null,
      "margin": null,
      "max_height": null,
      "max_width": null,
      "min_height": null,
      "min_width": null,
      "object_fit": null,
      "object_position": null,
      "order": null,
      "overflow": null,
      "overflow_x": null,
      "overflow_y": null,
      "padding": null,
      "right": null,
      "top": null,
      "visibility": null,
      "width": null
     }
    },
    "24139599cc964b0283c787010d446db3": {
     "model_module": "@jupyter-widgets/controls",
     "model_module_version": "1.5.0",
     "model_name": "HTMLModel",
     "state": {
      "_dom_classes": [],
      "_model_module": "@jupyter-widgets/controls",
      "_model_module_version": "1.5.0",
      "_model_name": "HTMLModel",
      "_view_count": null,
      "_view_module": "@jupyter-widgets/controls",
      "_view_module_version": "1.5.0",
      "_view_name": "HTMLView",
      "description": "",
      "description_tooltip": null,
      "layout": "IPY_MODEL_672dd44117534a09b867291ac9f70974",
      "placeholder": "​",
      "style": "IPY_MODEL_60f1c19eede14af189bcd752f09e0b2e",
      "value": ""
     }
    },
    "28234bab3d1d43aea0e50d1245cd16f2": {
     "model_module": "@jupyter-widgets/base",
     "model_module_version": "1.2.0",
     "model_name": "LayoutModel",
     "state": {
      "_model_module": "@jupyter-widgets/base",
      "_model_module_version": "1.2.0",
      "_model_name": "LayoutModel",
      "_view_count": null,
      "_view_module": "@jupyter-widgets/base",
      "_view_module_version": "1.2.0",
      "_view_name": "LayoutView",
      "align_content": null,
      "align_items": null,
      "align_self": null,
      "border": null,
      "bottom": null,
      "display": null,
      "flex": null,
      "flex_flow": null,
      "grid_area": null,
      "grid_auto_columns": null,
      "grid_auto_flow": null,
      "grid_auto_rows": null,
      "grid_column": null,
      "grid_gap": null,
      "grid_row": null,
      "grid_template_areas": null,
      "grid_template_columns": null,
      "grid_template_rows": null,
      "height": null,
      "justify_content": null,
      "justify_items": null,
      "left": null,
      "margin": null,
      "max_height": null,
      "max_width": null,
      "min_height": null,
      "min_width": null,
      "object_fit": null,
      "object_position": null,
      "order": null,
      "overflow": null,
      "overflow_x": null,
      "overflow_y": null,
      "padding": null,
      "right": null,
      "top": null,
      "visibility": null,
      "width": null
     }
    },
    "3129bcbfd8ad40cb8797f60fe984fe3c": {
     "model_module": "@jupyter-widgets/controls",
     "model_module_version": "1.5.0",
     "model_name": "HTMLModel",
     "state": {
      "_dom_classes": [],
      "_model_module": "@jupyter-widgets/controls",
      "_model_module_version": "1.5.0",
      "_model_name": "HTMLModel",
      "_view_count": null,
      "_view_module": "@jupyter-widgets/controls",
      "_view_module_version": "1.5.0",
      "_view_name": "HTMLView",
      "description": "",
      "description_tooltip": null,
      "layout": "IPY_MODEL_72ad719dc306468cb506250d92f570ae",
      "placeholder": "​",
      "style": "IPY_MODEL_c0494a7e04d549b5a9323fa43d9ad3b2",
      "value": " 29696/? [00:00&lt;00:00, 304641.88it/s]"
     }
    },
    "32e794677d834420bdb9c664cff6f7cc": {
     "model_module": "@jupyter-widgets/controls",
     "model_module_version": "1.5.0",
     "model_name": "HBoxModel",
     "state": {
      "_dom_classes": [],
      "_model_module": "@jupyter-widgets/controls",
      "_model_module_version": "1.5.0",
      "_model_name": "HBoxModel",
      "_view_count": null,
      "_view_module": "@jupyter-widgets/controls",
      "_view_module_version": "1.5.0",
      "_view_name": "HBoxView",
      "box_style": "",
      "children": [
       "IPY_MODEL_cf57be0a6c7340ca8b54e0809ba0fbc9",
       "IPY_MODEL_7b8fe897f59046e68eb75a8cdd5e92de",
       "IPY_MODEL_d9277c7a992c4f9491530f6d443fc68e"
      ],
      "layout": "IPY_MODEL_acac05934e5647e8ad42893b8a6c10d1"
     }
    },
    "4725b0ab205e4520a3ad0004728ac82c": {
     "model_module": "@jupyter-widgets/controls",
     "model_module_version": "1.5.0",
     "model_name": "DescriptionStyleModel",
     "state": {
      "_model_module": "@jupyter-widgets/controls",
      "_model_module_version": "1.5.0",
      "_model_name": "DescriptionStyleModel",
      "_view_count": null,
      "_view_module": "@jupyter-widgets/base",
      "_view_module_version": "1.2.0",
      "_view_name": "StyleView",
      "description_width": ""
     }
    },
    "4c06f483297d47a2a1f81d3dde6007b5": {
     "model_module": "@jupyter-widgets/controls",
     "model_module_version": "1.5.0",
     "model_name": "HTMLModel",
     "state": {
      "_dom_classes": [],
      "_model_module": "@jupyter-widgets/controls",
      "_model_module_version": "1.5.0",
      "_model_name": "HTMLModel",
      "_view_count": null,
      "_view_module": "@jupyter-widgets/controls",
      "_view_module_version": "1.5.0",
      "_view_name": "HTMLView",
      "description": "",
      "description_tooltip": null,
      "layout": "IPY_MODEL_eaf3615362384da3961655307f87bc3a",
      "placeholder": "​",
      "style": "IPY_MODEL_4725b0ab205e4520a3ad0004728ac82c",
      "value": " 4422656/? [00:00&lt;00:00, 8742811.50it/s]"
     }
    },
    "54fd73e547ed43639e80285963517549": {
     "model_module": "@jupyter-widgets/controls",
     "model_module_version": "1.5.0",
     "model_name": "HBoxModel",
     "state": {
      "_dom_classes": [],
      "_model_module": "@jupyter-widgets/controls",
      "_model_module_version": "1.5.0",
      "_model_name": "HBoxModel",
      "_view_count": null,
      "_view_module": "@jupyter-widgets/controls",
      "_view_module_version": "1.5.0",
      "_view_name": "HBoxView",
      "box_style": "",
      "children": [
       "IPY_MODEL_6d9710d95a8247a5b7bc391a2350e55c",
       "IPY_MODEL_ead636b58dfc422596f2e5e53119c830",
       "IPY_MODEL_4c06f483297d47a2a1f81d3dde6007b5"
      ],
      "layout": "IPY_MODEL_f38390085e504e048e77154395244471"
     }
    },
    "60f1c19eede14af189bcd752f09e0b2e": {
     "model_module": "@jupyter-widgets/controls",
     "model_module_version": "1.5.0",
     "model_name": "DescriptionStyleModel",
     "state": {
      "_model_module": "@jupyter-widgets/controls",
      "_model_module_version": "1.5.0",
      "_model_name": "DescriptionStyleModel",
      "_view_count": null,
      "_view_module": "@jupyter-widgets/base",
      "_view_module_version": "1.2.0",
      "_view_name": "StyleView",
      "description_width": ""
     }
    },
    "65abcefd8e25405aa5006179d335d2c5": {
     "model_module": "@jupyter-widgets/base",
     "model_module_version": "1.2.0",
     "model_name": "LayoutModel",
     "state": {
      "_model_module": "@jupyter-widgets/base",
      "_model_module_version": "1.2.0",
      "_model_name": "LayoutModel",
      "_view_count": null,
      "_view_module": "@jupyter-widgets/base",
      "_view_module_version": "1.2.0",
      "_view_name": "LayoutView",
      "align_content": null,
      "align_items": null,
      "align_self": null,
      "border": null,
      "bottom": null,
      "display": null,
      "flex": null,
      "flex_flow": null,
      "grid_area": null,
      "grid_auto_columns": null,
      "grid_auto_flow": null,
      "grid_auto_rows": null,
      "grid_column": null,
      "grid_gap": null,
      "grid_row": null,
      "grid_template_areas": null,
      "grid_template_columns": null,
      "grid_template_rows": null,
      "height": null,
      "justify_content": null,
      "justify_items": null,
      "left": null,
      "margin": null,
      "max_height": null,
      "max_width": null,
      "min_height": null,
      "min_width": null,
      "object_fit": null,
      "object_position": null,
      "order": null,
      "overflow": null,
      "overflow_x": null,
      "overflow_y": null,
      "padding": null,
      "right": null,
      "top": null,
      "visibility": null,
      "width": null
     }
    },
    "672dd44117534a09b867291ac9f70974": {
     "model_module": "@jupyter-widgets/base",
     "model_module_version": "1.2.0",
     "model_name": "LayoutModel",
     "state": {
      "_model_module": "@jupyter-widgets/base",
      "_model_module_version": "1.2.0",
      "_model_name": "LayoutModel",
      "_view_count": null,
      "_view_module": "@jupyter-widgets/base",
      "_view_module_version": "1.2.0",
      "_view_name": "LayoutView",
      "align_content": null,
      "align_items": null,
      "align_self": null,
      "border": null,
      "bottom": null,
      "display": null,
      "flex": null,
      "flex_flow": null,
      "grid_area": null,
      "grid_auto_columns": null,
      "grid_auto_flow": null,
      "grid_auto_rows": null,
      "grid_column": null,
      "grid_gap": null,
      "grid_row": null,
      "grid_template_areas": null,
      "grid_template_columns": null,
      "grid_template_rows": null,
      "height": null,
      "justify_content": null,
      "justify_items": null,
      "left": null,
      "margin": null,
      "max_height": null,
      "max_width": null,
      "min_height": null,
      "min_width": null,
      "object_fit": null,
      "object_position": null,
      "order": null,
      "overflow": null,
      "overflow_x": null,
      "overflow_y": null,
      "padding": null,
      "right": null,
      "top": null,
      "visibility": null,
      "width": null
     }
    },
    "6cdcb148e8a446be913504e4d9e16634": {
     "model_module": "@jupyter-widgets/base",
     "model_module_version": "1.2.0",
     "model_name": "LayoutModel",
     "state": {
      "_model_module": "@jupyter-widgets/base",
      "_model_module_version": "1.2.0",
      "_model_name": "LayoutModel",
      "_view_count": null,
      "_view_module": "@jupyter-widgets/base",
      "_view_module_version": "1.2.0",
      "_view_name": "LayoutView",
      "align_content": null,
      "align_items": null,
      "align_self": null,
      "border": null,
      "bottom": null,
      "display": null,
      "flex": null,
      "flex_flow": null,
      "grid_area": null,
      "grid_auto_columns": null,
      "grid_auto_flow": null,
      "grid_auto_rows": null,
      "grid_column": null,
      "grid_gap": null,
      "grid_row": null,
      "grid_template_areas": null,
      "grid_template_columns": null,
      "grid_template_rows": null,
      "height": null,
      "justify_content": null,
      "justify_items": null,
      "left": null,
      "margin": null,
      "max_height": null,
      "max_width": null,
      "min_height": null,
      "min_width": null,
      "object_fit": null,
      "object_position": null,
      "order": null,
      "overflow": null,
      "overflow_x": null,
      "overflow_y": null,
      "padding": null,
      "right": null,
      "top": null,
      "visibility": null,
      "width": null
     }
    },
    "6d9710d95a8247a5b7bc391a2350e55c": {
     "model_module": "@jupyter-widgets/controls",
     "model_module_version": "1.5.0",
     "model_name": "HTMLModel",
     "state": {
      "_dom_classes": [],
      "_model_module": "@jupyter-widgets/controls",
      "_model_module_version": "1.5.0",
      "_model_name": "HTMLModel",
      "_view_count": null,
      "_view_module": "@jupyter-widgets/controls",
      "_view_module_version": "1.5.0",
      "_view_name": "HTMLView",
      "description": "",
      "description_tooltip": null,
      "layout": "IPY_MODEL_f311b7a94b244f87b5badd6824089d38",
      "placeholder": "​",
      "style": "IPY_MODEL_1329211232b54ee48ee7b37e38a0416f",
      "value": ""
     }
    },
    "72ad719dc306468cb506250d92f570ae": {
     "model_module": "@jupyter-widgets/base",
     "model_module_version": "1.2.0",
     "model_name": "LayoutModel",
     "state": {
      "_model_module": "@jupyter-widgets/base",
      "_model_module_version": "1.2.0",
      "_model_name": "LayoutModel",
      "_view_count": null,
      "_view_module": "@jupyter-widgets/base",
      "_view_module_version": "1.2.0",
      "_view_name": "LayoutView",
      "align_content": null,
      "align_items": null,
      "align_self": null,
      "border": null,
      "bottom": null,
      "display": null,
      "flex": null,
      "flex_flow": null,
      "grid_area": null,
      "grid_auto_columns": null,
      "grid_auto_flow": null,
      "grid_auto_rows": null,
      "grid_column": null,
      "grid_gap": null,
      "grid_row": null,
      "grid_template_areas": null,
      "grid_template_columns": null,
      "grid_template_rows": null,
      "height": null,
      "justify_content": null,
      "justify_items": null,
      "left": null,
      "margin": null,
      "max_height": null,
      "max_width": null,
      "min_height": null,
      "min_width": null,
      "object_fit": null,
      "object_position": null,
      "order": null,
      "overflow": null,
      "overflow_x": null,
      "overflow_y": null,
      "padding": null,
      "right": null,
      "top": null,
      "visibility": null,
      "width": null
     }
    },
    "77f5bffcf0494c3db33df30552e15b8e": {
     "model_module": "@jupyter-widgets/base",
     "model_module_version": "1.2.0",
     "model_name": "LayoutModel",
     "state": {
      "_model_module": "@jupyter-widgets/base",
      "_model_module_version": "1.2.0",
      "_model_name": "LayoutModel",
      "_view_count": null,
      "_view_module": "@jupyter-widgets/base",
      "_view_module_version": "1.2.0",
      "_view_name": "LayoutView",
      "align_content": null,
      "align_items": null,
      "align_self": null,
      "border": null,
      "bottom": null,
      "display": null,
      "flex": null,
      "flex_flow": null,
      "grid_area": null,
      "grid_auto_columns": null,
      "grid_auto_flow": null,
      "grid_auto_rows": null,
      "grid_column": null,
      "grid_gap": null,
      "grid_row": null,
      "grid_template_areas": null,
      "grid_template_columns": null,
      "grid_template_rows": null,
      "height": null,
      "justify_content": null,
      "justify_items": null,
      "left": null,
      "margin": null,
      "max_height": null,
      "max_width": null,
      "min_height": null,
      "min_width": null,
      "object_fit": null,
      "object_position": null,
      "order": null,
      "overflow": null,
      "overflow_x": null,
      "overflow_y": null,
      "padding": null,
      "right": null,
      "top": null,
      "visibility": null,
      "width": null
     }
    },
    "7904076e1ed94fe7ae911266d6f7cc29": {
     "model_module": "@jupyter-widgets/controls",
     "model_module_version": "1.5.0",
     "model_name": "FloatProgressModel",
     "state": {
      "_dom_classes": [],
      "_model_module": "@jupyter-widgets/controls",
      "_model_module_version": "1.5.0",
      "_model_name": "FloatProgressModel",
      "_view_count": null,
      "_view_module": "@jupyter-widgets/controls",
      "_view_module_version": "1.5.0",
      "_view_name": "ProgressView",
      "bar_style": "success",
      "description": "",
      "description_tooltip": null,
      "layout": "IPY_MODEL_1fbf8bf7242b415c9cccda738b25ed04",
      "max": 5148,
      "min": 0,
      "orientation": "horizontal",
      "style": "IPY_MODEL_cd2038d9851a4a4d8c7e107edf02cca1",
      "value": 5148
     }
    },
    "7b8fe897f59046e68eb75a8cdd5e92de": {
     "model_module": "@jupyter-widgets/controls",
     "model_module_version": "1.5.0",
     "model_name": "FloatProgressModel",
     "state": {
      "_dom_classes": [],
      "_model_module": "@jupyter-widgets/controls",
      "_model_module_version": "1.5.0",
      "_model_name": "FloatProgressModel",
      "_view_count": null,
      "_view_module": "@jupyter-widgets/controls",
      "_view_module_version": "1.5.0",
      "_view_name": "ProgressView",
      "bar_style": "success",
      "description": "",
      "description_tooltip": null,
      "layout": "IPY_MODEL_28234bab3d1d43aea0e50d1245cd16f2",
      "max": 26421880,
      "min": 0,
      "orientation": "horizontal",
      "style": "IPY_MODEL_827906e0ccbc4881922c18683a4e97bb",
      "value": 26421880
     }
    },
    "827906e0ccbc4881922c18683a4e97bb": {
     "model_module": "@jupyter-widgets/controls",
     "model_module_version": "1.5.0",
     "model_name": "ProgressStyleModel",
     "state": {
      "_model_module": "@jupyter-widgets/controls",
      "_model_module_version": "1.5.0",
      "_model_name": "ProgressStyleModel",
      "_view_count": null,
      "_view_module": "@jupyter-widgets/base",
      "_view_module_version": "1.2.0",
      "_view_name": "StyleView",
      "bar_color": null,
      "description_width": ""
     }
    },
    "8b5cad589d3e4d65a86420980287059a": {
     "model_module": "@jupyter-widgets/controls",
     "model_module_version": "1.5.0",
     "model_name": "HTMLModel",
     "state": {
      "_dom_classes": [],
      "_model_module": "@jupyter-widgets/controls",
      "_model_module_version": "1.5.0",
      "_model_name": "HTMLModel",
      "_view_count": null,
      "_view_module": "@jupyter-widgets/controls",
      "_view_module_version": "1.5.0",
      "_view_name": "HTMLView",
      "description": "",
      "description_tooltip": null,
      "layout": "IPY_MODEL_6cdcb148e8a446be913504e4d9e16634",
      "placeholder": "​",
      "style": "IPY_MODEL_a68d8cc7829f45718e72751c24dc728f",
      "value": " 6144/? [00:00&lt;00:00, 144308.82it/s]"
     }
    },
    "99a1e802632c4a1ab0976776641fce8c": {
     "model_module": "@jupyter-widgets/base",
     "model_module_version": "1.2.0",
     "model_name": "LayoutModel",
     "state": {
      "_model_module": "@jupyter-widgets/base",
      "_model_module_version": "1.2.0",
      "_model_name": "LayoutModel",
      "_view_count": null,
      "_view_module": "@jupyter-widgets/base",
      "_view_module_version": "1.2.0",
      "_view_name": "LayoutView",
      "align_content": null,
      "align_items": null,
      "align_self": null,
      "border": null,
      "bottom": null,
      "display": null,
      "flex": null,
      "flex_flow": null,
      "grid_area": null,
      "grid_auto_columns": null,
      "grid_auto_flow": null,
      "grid_auto_rows": null,
      "grid_column": null,
      "grid_gap": null,
      "grid_row": null,
      "grid_template_areas": null,
      "grid_template_columns": null,
      "grid_template_rows": null,
      "height": null,
      "justify_content": null,
      "justify_items": null,
      "left": null,
      "margin": null,
      "max_height": null,
      "max_width": null,
      "min_height": null,
      "min_width": null,
      "object_fit": null,
      "object_position": null,
      "order": null,
      "overflow": null,
      "overflow_x": null,
      "overflow_y": null,
      "padding": null,
      "right": null,
      "top": null,
      "visibility": null,
      "width": null
     }
    },
    "9db22c25d6474d8288fa40aad726393d": {
     "model_module": "@jupyter-widgets/controls",
     "model_module_version": "1.5.0",
     "model_name": "DescriptionStyleModel",
     "state": {
      "_model_module": "@jupyter-widgets/controls",
      "_model_module_version": "1.5.0",
      "_model_name": "DescriptionStyleModel",
      "_view_count": null,
      "_view_module": "@jupyter-widgets/base",
      "_view_module_version": "1.2.0",
      "_view_name": "StyleView",
      "description_width": ""
     }
    },
    "a68d8cc7829f45718e72751c24dc728f": {
     "model_module": "@jupyter-widgets/controls",
     "model_module_version": "1.5.0",
     "model_name": "DescriptionStyleModel",
     "state": {
      "_model_module": "@jupyter-widgets/controls",
      "_model_module_version": "1.5.0",
      "_model_name": "DescriptionStyleModel",
      "_view_count": null,
      "_view_module": "@jupyter-widgets/base",
      "_view_module_version": "1.2.0",
      "_view_name": "StyleView",
      "description_width": ""
     }
    },
    "abdc7c640853476eb2bd1f4edbbe9d24": {
     "model_module": "@jupyter-widgets/base",
     "model_module_version": "1.2.0",
     "model_name": "LayoutModel",
     "state": {
      "_model_module": "@jupyter-widgets/base",
      "_model_module_version": "1.2.0",
      "_model_name": "LayoutModel",
      "_view_count": null,
      "_view_module": "@jupyter-widgets/base",
      "_view_module_version": "1.2.0",
      "_view_name": "LayoutView",
      "align_content": null,
      "align_items": null,
      "align_self": null,
      "border": null,
      "bottom": null,
      "display": null,
      "flex": null,
      "flex_flow": null,
      "grid_area": null,
      "grid_auto_columns": null,
      "grid_auto_flow": null,
      "grid_auto_rows": null,
      "grid_column": null,
      "grid_gap": null,
      "grid_row": null,
      "grid_template_areas": null,
      "grid_template_columns": null,
      "grid_template_rows": null,
      "height": null,
      "justify_content": null,
      "justify_items": null,
      "left": null,
      "margin": null,
      "max_height": null,
      "max_width": null,
      "min_height": null,
      "min_width": null,
      "object_fit": null,
      "object_position": null,
      "order": null,
      "overflow": null,
      "overflow_x": null,
      "overflow_y": null,
      "padding": null,
      "right": null,
      "top": null,
      "visibility": null,
      "width": null
     }
    },
    "acac05934e5647e8ad42893b8a6c10d1": {
     "model_module": "@jupyter-widgets/base",
     "model_module_version": "1.2.0",
     "model_name": "LayoutModel",
     "state": {
      "_model_module": "@jupyter-widgets/base",
      "_model_module_version": "1.2.0",
      "_model_name": "LayoutModel",
      "_view_count": null,
      "_view_module": "@jupyter-widgets/base",
      "_view_module_version": "1.2.0",
      "_view_name": "LayoutView",
      "align_content": null,
      "align_items": null,
      "align_self": null,
      "border": null,
      "bottom": null,
      "display": null,
      "flex": null,
      "flex_flow": null,
      "grid_area": null,
      "grid_auto_columns": null,
      "grid_auto_flow": null,
      "grid_auto_rows": null,
      "grid_column": null,
      "grid_gap": null,
      "grid_row": null,
      "grid_template_areas": null,
      "grid_template_columns": null,
      "grid_template_rows": null,
      "height": null,
      "justify_content": null,
      "justify_items": null,
      "left": null,
      "margin": null,
      "max_height": null,
      "max_width": null,
      "min_height": null,
      "min_width": null,
      "object_fit": null,
      "object_position": null,
      "order": null,
      "overflow": null,
      "overflow_x": null,
      "overflow_y": null,
      "padding": null,
      "right": null,
      "top": null,
      "visibility": null,
      "width": null
     }
    },
    "b1c6d5b7f8504d84a9782a36e6491712": {
     "model_module": "@jupyter-widgets/controls",
     "model_module_version": "1.5.0",
     "model_name": "HBoxModel",
     "state": {
      "_dom_classes": [],
      "_model_module": "@jupyter-widgets/controls",
      "_model_module_version": "1.5.0",
      "_model_name": "HBoxModel",
      "_view_count": null,
      "_view_module": "@jupyter-widgets/controls",
      "_view_module_version": "1.5.0",
      "_view_name": "HBoxView",
      "box_style": "",
      "children": [
       "IPY_MODEL_24139599cc964b0283c787010d446db3",
       "IPY_MODEL_7904076e1ed94fe7ae911266d6f7cc29",
       "IPY_MODEL_8b5cad589d3e4d65a86420980287059a"
      ],
      "layout": "IPY_MODEL_df911c163a5a49f982caafcbced21920"
     }
    },
    "b1d7c852c19d4178974246cef1db19ca": {
     "model_module": "@jupyter-widgets/controls",
     "model_module_version": "1.5.0",
     "model_name": "HBoxModel",
     "state": {
      "_dom_classes": [],
      "_model_module": "@jupyter-widgets/controls",
      "_model_module_version": "1.5.0",
      "_model_name": "HBoxModel",
      "_view_count": null,
      "_view_module": "@jupyter-widgets/controls",
      "_view_module_version": "1.5.0",
      "_view_name": "HBoxView",
      "box_style": "",
      "children": [
       "IPY_MODEL_182a074481514dbc9f92a1a31923be73",
       "IPY_MODEL_0ca774af453d49e586dd4ac4fdac9663",
       "IPY_MODEL_3129bcbfd8ad40cb8797f60fe984fe3c"
      ],
      "layout": "IPY_MODEL_77f5bffcf0494c3db33df30552e15b8e"
     }
    },
    "b39d8e8b9e1647449544903cc5a2ba34": {
     "model_module": "@jupyter-widgets/base",
     "model_module_version": "1.2.0",
     "model_name": "LayoutModel",
     "state": {
      "_model_module": "@jupyter-widgets/base",
      "_model_module_version": "1.2.0",
      "_model_name": "LayoutModel",
      "_view_count": null,
      "_view_module": "@jupyter-widgets/base",
      "_view_module_version": "1.2.0",
      "_view_name": "LayoutView",
      "align_content": null,
      "align_items": null,
      "align_self": null,
      "border": null,
      "bottom": null,
      "display": null,
      "flex": null,
      "flex_flow": null,
      "grid_area": null,
      "grid_auto_columns": null,
      "grid_auto_flow": null,
      "grid_auto_rows": null,
      "grid_column": null,
      "grid_gap": null,
      "grid_row": null,
      "grid_template_areas": null,
      "grid_template_columns": null,
      "grid_template_rows": null,
      "height": null,
      "justify_content": null,
      "justify_items": null,
      "left": null,
      "margin": null,
      "max_height": null,
      "max_width": null,
      "min_height": null,
      "min_width": null,
      "object_fit": null,
      "object_position": null,
      "order": null,
      "overflow": null,
      "overflow_x": null,
      "overflow_y": null,
      "padding": null,
      "right": null,
      "top": null,
      "visibility": null,
      "width": null
     }
    },
    "beeeefdc08e24464ba4369da9cd7faea": {
     "model_module": "@jupyter-widgets/controls",
     "model_module_version": "1.5.0",
     "model_name": "ProgressStyleModel",
     "state": {
      "_model_module": "@jupyter-widgets/controls",
      "_model_module_version": "1.5.0",
      "_model_name": "ProgressStyleModel",
      "_view_count": null,
      "_view_module": "@jupyter-widgets/base",
      "_view_module_version": "1.2.0",
      "_view_name": "StyleView",
      "bar_color": null,
      "description_width": ""
     }
    },
    "c0494a7e04d549b5a9323fa43d9ad3b2": {
     "model_module": "@jupyter-widgets/controls",
     "model_module_version": "1.5.0",
     "model_name": "DescriptionStyleModel",
     "state": {
      "_model_module": "@jupyter-widgets/controls",
      "_model_module_version": "1.5.0",
      "_model_name": "DescriptionStyleModel",
      "_view_count": null,
      "_view_module": "@jupyter-widgets/base",
      "_view_module_version": "1.2.0",
      "_view_name": "StyleView",
      "description_width": ""
     }
    },
    "c8805dcf332245e18439d109c50466d2": {
     "model_module": "@jupyter-widgets/controls",
     "model_module_version": "1.5.0",
     "model_name": "DescriptionStyleModel",
     "state": {
      "_model_module": "@jupyter-widgets/controls",
      "_model_module_version": "1.5.0",
      "_model_name": "DescriptionStyleModel",
      "_view_count": null,
      "_view_module": "@jupyter-widgets/base",
      "_view_module_version": "1.2.0",
      "_view_name": "StyleView",
      "description_width": ""
     }
    },
    "cd2038d9851a4a4d8c7e107edf02cca1": {
     "model_module": "@jupyter-widgets/controls",
     "model_module_version": "1.5.0",
     "model_name": "ProgressStyleModel",
     "state": {
      "_model_module": "@jupyter-widgets/controls",
      "_model_module_version": "1.5.0",
      "_model_name": "ProgressStyleModel",
      "_view_count": null,
      "_view_module": "@jupyter-widgets/base",
      "_view_module_version": "1.2.0",
      "_view_name": "StyleView",
      "bar_color": null,
      "description_width": ""
     }
    },
    "cf57be0a6c7340ca8b54e0809ba0fbc9": {
     "model_module": "@jupyter-widgets/controls",
     "model_module_version": "1.5.0",
     "model_name": "HTMLModel",
     "state": {
      "_dom_classes": [],
      "_model_module": "@jupyter-widgets/controls",
      "_model_module_version": "1.5.0",
      "_model_name": "HTMLModel",
      "_view_count": null,
      "_view_module": "@jupyter-widgets/controls",
      "_view_module_version": "1.5.0",
      "_view_name": "HTMLView",
      "description": "",
      "description_tooltip": null,
      "layout": "IPY_MODEL_dec4e52f4ae04b298abc0f125c300534",
      "placeholder": "​",
      "style": "IPY_MODEL_9db22c25d6474d8288fa40aad726393d",
      "value": ""
     }
    },
    "d9277c7a992c4f9491530f6d443fc68e": {
     "model_module": "@jupyter-widgets/controls",
     "model_module_version": "1.5.0",
     "model_name": "HTMLModel",
     "state": {
      "_dom_classes": [],
      "_model_module": "@jupyter-widgets/controls",
      "_model_module_version": "1.5.0",
      "_model_name": "HTMLModel",
      "_view_count": null,
      "_view_module": "@jupyter-widgets/controls",
      "_view_module_version": "1.5.0",
      "_view_name": "HTMLView",
      "description": "",
      "description_tooltip": null,
      "layout": "IPY_MODEL_b39d8e8b9e1647449544903cc5a2ba34",
      "placeholder": "​",
      "style": "IPY_MODEL_c8805dcf332245e18439d109c50466d2",
      "value": " 26422272/? [00:01&lt;00:00, 26789266.56it/s]"
     }
    },
    "dec4e52f4ae04b298abc0f125c300534": {
     "model_module": "@jupyter-widgets/base",
     "model_module_version": "1.2.0",
     "model_name": "LayoutModel",
     "state": {
      "_model_module": "@jupyter-widgets/base",
      "_model_module_version": "1.2.0",
      "_model_name": "LayoutModel",
      "_view_count": null,
      "_view_module": "@jupyter-widgets/base",
      "_view_module_version": "1.2.0",
      "_view_name": "LayoutView",
      "align_content": null,
      "align_items": null,
      "align_self": null,
      "border": null,
      "bottom": null,
      "display": null,
      "flex": null,
      "flex_flow": null,
      "grid_area": null,
      "grid_auto_columns": null,
      "grid_auto_flow": null,
      "grid_auto_rows": null,
      "grid_column": null,
      "grid_gap": null,
      "grid_row": null,
      "grid_template_areas": null,
      "grid_template_columns": null,
      "grid_template_rows": null,
      "height": null,
      "justify_content": null,
      "justify_items": null,
      "left": null,
      "margin": null,
      "max_height": null,
      "max_width": null,
      "min_height": null,
      "min_width": null,
      "object_fit": null,
      "object_position": null,
      "order": null,
      "overflow": null,
      "overflow_x": null,
      "overflow_y": null,
      "padding": null,
      "right": null,
      "top": null,
      "visibility": null,
      "width": null
     }
    },
    "df911c163a5a49f982caafcbced21920": {
     "model_module": "@jupyter-widgets/base",
     "model_module_version": "1.2.0",
     "model_name": "LayoutModel",
     "state": {
      "_model_module": "@jupyter-widgets/base",
      "_model_module_version": "1.2.0",
      "_model_name": "LayoutModel",
      "_view_count": null,
      "_view_module": "@jupyter-widgets/base",
      "_view_module_version": "1.2.0",
      "_view_name": "LayoutView",
      "align_content": null,
      "align_items": null,
      "align_self": null,
      "border": null,
      "bottom": null,
      "display": null,
      "flex": null,
      "flex_flow": null,
      "grid_area": null,
      "grid_auto_columns": null,
      "grid_auto_flow": null,
      "grid_auto_rows": null,
      "grid_column": null,
      "grid_gap": null,
      "grid_row": null,
      "grid_template_areas": null,
      "grid_template_columns": null,
      "grid_template_rows": null,
      "height": null,
      "justify_content": null,
      "justify_items": null,
      "left": null,
      "margin": null,
      "max_height": null,
      "max_width": null,
      "min_height": null,
      "min_width": null,
      "object_fit": null,
      "object_position": null,
      "order": null,
      "overflow": null,
      "overflow_x": null,
      "overflow_y": null,
      "padding": null,
      "right": null,
      "top": null,
      "visibility": null,
      "width": null
     }
    },
    "ead636b58dfc422596f2e5e53119c830": {
     "model_module": "@jupyter-widgets/controls",
     "model_module_version": "1.5.0",
     "model_name": "FloatProgressModel",
     "state": {
      "_dom_classes": [],
      "_model_module": "@jupyter-widgets/controls",
      "_model_module_version": "1.5.0",
      "_model_name": "FloatProgressModel",
      "_view_count": null,
      "_view_module": "@jupyter-widgets/controls",
      "_view_module_version": "1.5.0",
      "_view_name": "ProgressView",
      "bar_style": "success",
      "description": "",
      "description_tooltip": null,
      "layout": "IPY_MODEL_99a1e802632c4a1ab0976776641fce8c",
      "max": 4422102,
      "min": 0,
      "orientation": "horizontal",
      "style": "IPY_MODEL_108907707fb246c6aa2eb0055f22b6ad",
      "value": 4422102
     }
    },
    "eaf3615362384da3961655307f87bc3a": {
     "model_module": "@jupyter-widgets/base",
     "model_module_version": "1.2.0",
     "model_name": "LayoutModel",
     "state": {
      "_model_module": "@jupyter-widgets/base",
      "_model_module_version": "1.2.0",
      "_model_name": "LayoutModel",
      "_view_count": null,
      "_view_module": "@jupyter-widgets/base",
      "_view_module_version": "1.2.0",
      "_view_name": "LayoutView",
      "align_content": null,
      "align_items": null,
      "align_self": null,
      "border": null,
      "bottom": null,
      "display": null,
      "flex": null,
      "flex_flow": null,
      "grid_area": null,
      "grid_auto_columns": null,
      "grid_auto_flow": null,
      "grid_auto_rows": null,
      "grid_column": null,
      "grid_gap": null,
      "grid_row": null,
      "grid_template_areas": null,
      "grid_template_columns": null,
      "grid_template_rows": null,
      "height": null,
      "justify_content": null,
      "justify_items": null,
      "left": null,
      "margin": null,
      "max_height": null,
      "max_width": null,
      "min_height": null,
      "min_width": null,
      "object_fit": null,
      "object_position": null,
      "order": null,
      "overflow": null,
      "overflow_x": null,
      "overflow_y": null,
      "padding": null,
      "right": null,
      "top": null,
      "visibility": null,
      "width": null
     }
    },
    "f0e07a02ccce46caaccca01b8fa93686": {
     "model_module": "@jupyter-widgets/controls",
     "model_module_version": "1.5.0",
     "model_name": "DescriptionStyleModel",
     "state": {
      "_model_module": "@jupyter-widgets/controls",
      "_model_module_version": "1.5.0",
      "_model_name": "DescriptionStyleModel",
      "_view_count": null,
      "_view_module": "@jupyter-widgets/base",
      "_view_module_version": "1.2.0",
      "_view_name": "StyleView",
      "description_width": ""
     }
    },
    "f311b7a94b244f87b5badd6824089d38": {
     "model_module": "@jupyter-widgets/base",
     "model_module_version": "1.2.0",
     "model_name": "LayoutModel",
     "state": {
      "_model_module": "@jupyter-widgets/base",
      "_model_module_version": "1.2.0",
      "_model_name": "LayoutModel",
      "_view_count": null,
      "_view_module": "@jupyter-widgets/base",
      "_view_module_version": "1.2.0",
      "_view_name": "LayoutView",
      "align_content": null,
      "align_items": null,
      "align_self": null,
      "border": null,
      "bottom": null,
      "display": null,
      "flex": null,
      "flex_flow": null,
      "grid_area": null,
      "grid_auto_columns": null,
      "grid_auto_flow": null,
      "grid_auto_rows": null,
      "grid_column": null,
      "grid_gap": null,
      "grid_row": null,
      "grid_template_areas": null,
      "grid_template_columns": null,
      "grid_template_rows": null,
      "height": null,
      "justify_content": null,
      "justify_items": null,
      "left": null,
      "margin": null,
      "max_height": null,
      "max_width": null,
      "min_height": null,
      "min_width": null,
      "object_fit": null,
      "object_position": null,
      "order": null,
      "overflow": null,
      "overflow_x": null,
      "overflow_y": null,
      "padding": null,
      "right": null,
      "top": null,
      "visibility": null,
      "width": null
     }
    },
    "f38390085e504e048e77154395244471": {
     "model_module": "@jupyter-widgets/base",
     "model_module_version": "1.2.0",
     "model_name": "LayoutModel",
     "state": {
      "_model_module": "@jupyter-widgets/base",
      "_model_module_version": "1.2.0",
      "_model_name": "LayoutModel",
      "_view_count": null,
      "_view_module": "@jupyter-widgets/base",
      "_view_module_version": "1.2.0",
      "_view_name": "LayoutView",
      "align_content": null,
      "align_items": null,
      "align_self": null,
      "border": null,
      "bottom": null,
      "display": null,
      "flex": null,
      "flex_flow": null,
      "grid_area": null,
      "grid_auto_columns": null,
      "grid_auto_flow": null,
      "grid_auto_rows": null,
      "grid_column": null,
      "grid_gap": null,
      "grid_row": null,
      "grid_template_areas": null,
      "grid_template_columns": null,
      "grid_template_rows": null,
      "height": null,
      "justify_content": null,
      "justify_items": null,
      "left": null,
      "margin": null,
      "max_height": null,
      "max_width": null,
      "min_height": null,
      "min_width": null,
      "object_fit": null,
      "object_position": null,
      "order": null,
      "overflow": null,
      "overflow_x": null,
      "overflow_y": null,
      "padding": null,
      "right": null,
      "top": null,
      "visibility": null,
      "width": null
     }
    }
   }
  }
 },
 "nbformat": 4,
 "nbformat_minor": 4
}
