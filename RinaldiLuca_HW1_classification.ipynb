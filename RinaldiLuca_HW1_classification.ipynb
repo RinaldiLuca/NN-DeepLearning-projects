{
 "cells": [
  {
   "cell_type": "markdown",
   "metadata": {},
   "source": [
    "# NEURAL NETWORKS AND DEEP LEARNING\n",
    "\n",
    "---\n",
    "A.A. 2021/22 (6 CFU) - Dr. Alberto Testolin, Dr. Umberto Michieli\n",
    "---\n"
   ]
  },
  {
   "cell_type": "markdown",
   "metadata": {},
   "source": [
    "# Homework 1 - Supervised Deep Learning"
   ]
  },
  {
   "cell_type": "markdown",
   "metadata": {
    "id": "SxW5QfJRvWV9"
   },
   "source": [
    "# Classification task"
   ]
  },
  {
   "cell_type": "markdown",
   "metadata": {
    "id": "cPTFyWeOyiR-"
   },
   "source": [
    "## Guidelines"
   ]
  },
  {
   "cell_type": "markdown",
   "metadata": {
    "id": "m8E-82AGylxj"
   },
   "source": [
    "* The goal is to train a neural network that maps an input image (from fashionMNIST) to one of ten classes (multi-class classification problem with mutually exclusive classes).\n",
    "* Define a proper loss (e.g. [torch.nn.CrossEntropyLoss](https://pytorch.org/docs/stable/generated/torch.nn.CrossEntropyLoss.html#torch.nn.CrossEntropyLoss))\n",
    "* Also here, consider to create a validation set from you training data, or use a k-fold cross-validation strategy.\n",
    "* Pay attention to the shape, data type and output values range. If needed, modify them accordingly to your implementation (read carefully the documentation of the layers that you use, e.g. [torch.nn.Conv2d](https://pytorch.org/docs/stable/generated/torch.nn.Conv2d.html)).\n",
    "* Explore different optimizers, acivation functions, network architectures. Analyze the effect of different regularization methods, such as dropout layers, random transformations (image rotation, scaling, add noise...) or L2 regularization (weight decay)."
   ]
  },
  {
   "cell_type": "markdown",
   "metadata": {},
   "source": [
    "## Libraries"
   ]
  },
  {
   "cell_type": "code",
   "execution_count": 57,
   "metadata": {
    "id": "lrkanzKpwaFJ"
   },
   "outputs": [],
   "source": [
    "import numpy as np\n",
    "import pandas as pd\n",
    "import matplotlib.pyplot as plt\n",
    "import seaborn as sns\n",
    "from tqdm import tqdm\n",
    "\n",
    "import torch\n",
    "import torch.nn as nn\n",
    "import torch.optim as optim\n",
    "import torchvision\n",
    "from torchvision import transforms\n",
    "from torch.utils.data import Dataset, DataLoader, random_split, SubsetRandomSampler\n",
    "#from sklearn.model_selection import KFold"
   ]
  },
  {
   "cell_type": "code",
   "execution_count": 47,
   "metadata": {
    "colab": {
     "base_uri": "https://localhost:8080/"
    },
    "id": "DvRnh16osDkV",
    "outputId": "3bbec355-1c42-4473-b3ef-1272cf170f3a"
   },
   "outputs": [
    {
     "name": "stdout",
     "output_type": "stream",
     "text": [
      "Training device: cpu\n"
     ]
    }
   ],
   "source": [
    "# Check if the GPU is available\n",
    "device = torch.device(\"cuda\") if torch.cuda.is_available() else torch.device(\"cpu\")\n",
    "print(f\"Training device: {device}\")"
   ]
  },
  {
   "cell_type": "markdown",
   "metadata": {},
   "source": [
    "## Dataset\n",
    "***\n",
    "\n",
    "Before downloading the datasets I define a composed transformation to be applied on the elements of the dataset. The data are transformed to tensors and normalized such that their values goes from -1 to 1."
   ]
  },
  {
   "cell_type": "code",
   "execution_count": 48,
   "metadata": {
    "id": "hDVBZRO4sDkV"
   },
   "outputs": [],
   "source": [
    "initial_transform = transforms.Compose([transforms.ToTensor(),\n",
    "                                        transforms.Normalize(0.5,0.5)])"
   ]
  },
  {
   "cell_type": "code",
   "execution_count": 49,
   "metadata": {
    "colab": {
     "base_uri": "https://localhost:8080/",
     "height": 443,
     "referenced_widgets": [
      "b528b527ed4845949761018d69eced0a",
      "fcd77fc059154aacaf67869d5093dc6e",
      "a9a21ed9108d44278aac231fd04eb1d2",
      "87da4a64d4744ee886c4e0edddd7354e",
      "ee8bf65851304c16b38d9fbb1eb455a9",
      "30bf409a87a14912a92ac51f4aeef997",
      "155cda0b59964d7cb3be2ab7ad43eed0",
      "a337f511ac2e417483b7ce17c40cdf5b",
      "3576916c2104491a94b263563ba27d2d",
      "5c3b037f1682429187207f8d2398491a",
      "89f825979983427e8adf441bd7eccb3a",
      "a0e9ba486e4d4fc7abfb01815d912952",
      "6b13fc7636764be99bf5cbc160d9cb75",
      "08b9b7e8ad1e4c1d872d0dda1d9d14ec",
      "ddb3c1be7608441da00ab14db95ea0e4",
      "0ec4dc2e7d90483db04c35561b3ea1cf",
      "9c658414939f48c8b21344f3d53bafea",
      "784ec82fcaf94a1f9d159c4bbb85ab89",
      "94706b754cd242b9bc441123802b4aab",
      "31abe6089eed44d381155a295839e45c",
      "be16522a302a49fbb95feb21ee0a6084",
      "22eb35dad82f4415b75369d4ace033d6",
      "9ed949f1883d418a9a6642e0b20d4608",
      "98161f9c23064b158a0bea18de43dee6",
      "ebc821de5ab04e92a4b2adfe6b1fc8f1",
      "2ea8b2db3ac14da1a6f405b7f70537fa",
      "d8e2a89f575345739cf724503f3df3b6",
      "0de1c145ca034d9ea71ec7f9f76a9bf3",
      "ac22fb0085514c4d8b6b53f665b671fb",
      "1f550336050e4be389b75e780668faac",
      "843928ec94304ff3aa26e96ed3b63170",
      "dff536086070430d90ddde1b5dc16b36",
      "d4173a10d7354479bacccbe5940ab124",
      "ff131c42701a42f7b527358b3b5ca0ca",
      "d0058cd7c4094e51a404a6df72af5051",
      "6933c9b5d8724579bd9a762698bf14df",
      "0a0700589e9e408e83f77f74c99fa992",
      "2a09325f16fc484ba2f34687e35662ff",
      "e3dc910fee38437f9c47285fe3e07b31",
      "44a21b9ae40f4f3db6d86d960fb694c9",
      "7a7cb71612054e8c8b554085fcffc769",
      "5938df2edd504516a2daf80ff90ab3c8",
      "f435538d407f40c4a7c96015c4495499",
      "cd2b243480b741c7b8ddf979b5dcca2b"
     ]
    },
    "id": "6wRuRn08zVO9",
    "outputId": "d961d912-06b6-4aed-e49b-4b0835d1afca"
   },
   "outputs": [],
   "source": [
    "train_dataset = torchvision.datasets.FashionMNIST('classifier_data', train=True, download=True, transform=initial_transform)\n",
    "test_dataset  = torchvision.datasets.FashionMNIST('classifier_data', train=False, download=True, transform=initial_transform)"
   ]
  },
  {
   "cell_type": "markdown",
   "metadata": {
    "id": "IUIZu5YpzMT9"
   },
   "source": [
    "How to get an image and the corresponding label:"
   ]
  },
  {
   "cell_type": "code",
   "execution_count": 50,
   "metadata": {
    "colab": {
     "base_uri": "https://localhost:8080/",
     "height": 518
    },
    "id": "SGXmy4mNwfk4",
    "outputId": "754e2dc2-faa9-480e-b28e-fc55ae42db67"
   },
   "outputs": [
    {
     "name": "stdout",
     "output_type": "stream",
     "text": [
      "SAMPLE AT INDEX 0\n",
      "LABEL: 9\n"
     ]
    },
    {
     "data": {
      "image/png": "[encoded data removed]",
      "text/plain": [
       "<Figure size 576x576 with 1 Axes>"
      ]
     },
     "metadata": {
      "needs_background": "light"
     },
     "output_type": "display_data"
    }
   ],
   "source": [
    "sample_index = 0\n",
    "image = train_dataset[sample_index][0].squeeze().numpy()\n",
    "label = train_dataset[sample_index][1]\n",
    "\n",
    "fig = plt.figure(figsize=(8,8))\n",
    "plt.imshow(image, cmap='Greys')\n",
    "print(f\"SAMPLE AT INDEX {sample_index}\")\n",
    "print(f\"LABEL: {label}\")"
   ]
  },
  {
   "cell_type": "markdown",
   "metadata": {
    "tags": []
   },
   "source": [
    "## Network Definition\n",
    "***\n",
    "\n",
    "Here I define a Convolutional Neural Network, and its functions to train and test the model.\n",
    "The classificator is composed of:\n",
    "* First convolutional block, a `Conv2d` with 1 channel in input (images are grayscale) and Ch1 channels in output. 4x4 kernel, stride=2, padding=2 to reduce the sample size from 28x28 to 15x15. The output is normalized with a `BatchNorm2d` layer and feed to a `ReLU` activation function.\n",
    "* Second convolutional block, a `Conv2d` with Ch1 channel in input and Ch2 channels in output. 5x5 kernel, stride=3, padding=1 to reduce the sample size from 15x15 to 5x5 . The output is normalized with a `BatchNorm2d` layer and feed to a `ReLU` activation function.\n",
    "* Fully connected block: a flatten layer (5x5xCh2 neuron), a fully connected hidden layer with Nh neurons, activated by a `ReLU`, followed by a `Dropout` layer the output layer with 10 neurons. (as the number of classes)\n",
    "\n",
    "The Batch Normalization is used to rescale the data in a [-1,1] range."
   ]
  },
  {
   "cell_type": "code",
   "execution_count": 51,
   "metadata": {
    "id": "0AIxNCKzsDkW"
   },
   "outputs": [],
   "source": [
    "class ConvNet(nn.Module):\n",
    "    \n",
    "    def __init__(self, Ch1, Ch2, Nh, drop):\n",
    "        \"\"\"\n",
    "        Ch1  - Out channels of the 1st convolutional layer\n",
    "        Ch2  - Out channels of the 2nd convolutional layer\n",
    "        Nh   - Neurons in the fc hidden layer\n",
    "        drop - Dropout probability of the fc hiddem layer\n",
    "        \"\"\"\n",
    "        super().__init__()\n",
    "        \n",
    "        print('Network initialized')\n",
    "        flatten_dim = 5*5*Ch2\n",
    "        self.convBlock1 = nn.Sequential(\n",
    "            nn.Conv2d(in_channels=1, out_channels=Ch1, kernel_size=4, stride=2, padding=2, padding_mode='replicate'), #15x15\n",
    "            nn.BatchNorm2d(Ch1),\n",
    "            nn.ReLU()\n",
    "        )\n",
    "        \n",
    "        self.convBlock2 = nn.Sequential(\n",
    "            nn.Conv2d(in_channels=Ch1, out_channels=Ch2, kernel_size=5, stride=3, padding=1, padding_mode='replicate'), #5x5\n",
    "            nn.BatchNorm2d(Ch2),\n",
    "            nn.ReLU()\n",
    "        )\n",
    "        \n",
    "        self.fcBlock = nn.Sequential(\n",
    "            nn.Linear(in_features=flatten_dim, out_features=Nh),\n",
    "            nn.Dropout(p=drop),\n",
    "            nn.ReLU(),\n",
    "            nn.Linear(in_features=Nh, out_features=10)\n",
    "        )\n",
    "                \n",
    "    def forward(self, x):\n",
    "        \n",
    "        x = self.convBlock1(x)\n",
    "        x = self.convBlock2(x)\n",
    "        x = torch.flatten(x,1)\n",
    "        x = self.fcBlock(x)\n",
    "        return x\n",
    "    \n",
    "    def train_epoch(self, train_dataloader, device, loss_fn, optimizer):\n",
    "        '''\n",
    "        train_dataloader - DataLoader containing the training data\n",
    "        device           - torch.device\n",
    "        loss_fn          - loss function torch.nn.modules.loss\n",
    "        optimizer        - torch.optim\n",
    "        ---\n",
    "        RETURN           - float: training loss\n",
    "        '''\n",
    "        train_loss = []\n",
    "        for sample_batched in train_dataloader:\n",
    "            # Move data to device\n",
    "            x_batch = sample_batched[0].to(device)\n",
    "            label_batch = sample_batched[1].to(device)\n",
    "\n",
    "            # Forward pass\n",
    "            out = self(x_batch)\n",
    "\n",
    "            # Compute loss\n",
    "            loss = loss_fn(out, label_batch)\n",
    "\n",
    "            # Backpropagation\n",
    "            self.zero_grad()\n",
    "            loss.backward()\n",
    "\n",
    "            # Update the weights\n",
    "            optimizer.step()\n",
    "\n",
    "            # Save train loss for this batch\n",
    "            loss_batch = loss.detach().cpu().numpy()\n",
    "            train_loss.append(loss_batch)\n",
    "        train_loss = np.mean(train_loss)\n",
    "        return train_loss\n",
    "        \n",
    "    def eval_epoch(self, val_dataloader, device, loss_fn):\n",
    "        '''\n",
    "        val_dataloader - DataLoader containing the validation data\n",
    "        device         - torch.device\n",
    "        loss_fn        - loss function torch.nn.modules.loss\n",
    "        ---\n",
    "        RETURN         - float: validation loss\n",
    "        '''\n",
    "        val_loss = []\n",
    "        for sample_batched in val_dataloader:\n",
    "            # Move data to device\n",
    "            x_batch = sample_batched[0].to(device)\n",
    "            label_batch = sample_batched[1].to(device)\n",
    "\n",
    "            # Forward pass\n",
    "            out = self(x_batch)\n",
    "\n",
    "            # Compute loss\n",
    "            loss = loss_fn(out, label_batch)\n",
    "\n",
    "            # Save val loss for this batch\n",
    "            loss_batch = loss.detach().cpu().numpy()\n",
    "            val_loss.append(loss_batch)\n",
    "        val_loss = np.mean(val_loss)\n",
    "        return val_loss\n",
    "    \n",
    "    def run_training(self, train_dataset, param_dict, val_dataset=None, plot=False):\n",
    "        '''\n",
    "        TRAIN THE MODEL WITH(OUT) VALIDATION\n",
    "        -----\n",
    "        train_dataset - DataSet containing the training data\n",
    "        param_dict    - Dictionary of parameter. \n",
    "                        keys:{'epoch','device','loss_fn','optimizer'}\n",
    "        val_dataset   - *DataSet: containing the validation data\n",
    "                        *float: percentage of training data to use as validation\n",
    "                        *None: (default) do not use validation data\n",
    "        plot          - Bool: If True plot loss vs epochs\n",
    "        -----\n",
    "        RETURN        - lists of training and validation loss\n",
    "        '''\n",
    "        val_present = True\n",
    "        if isinstance(val_dataset, float):\n",
    "            N_val = int(len(train_dataset)*val_dataset)\n",
    "            train_dataset, val_dataset = random_split(train_dataset, \n",
    "                                         lengths=[len(train_dataset)-N_val, N_val], \n",
    "                                         generator=torch.Generator().manual_seed(42))\n",
    "            val_dataloader = DataLoader(val_dataset, batch_size=10, shuffle=True, num_workers=0)\n",
    "            train_dataloader = DataLoader(train_dataset, batch_size=10, shuffle=True, num_workers=0)\n",
    "        elif isinstance(val_dataset, CsvDataset):\n",
    "            val_dataloader = DataLoader(val_dataset, batch_size=len(val_dataset), shuffle=True, num_workers=0)\n",
    "            train_dataloader = DataLoader(train_dataset, batch_size=10, shuffle=True, num_workers=0)\n",
    "        elif isinstance(val_dataset, DataLoader):\n",
    "            val_dataloader  = val_dataset\n",
    "            train_dataloader = train_dataset\n",
    "        elif (val_dataset is None):\n",
    "            val_present = False\n",
    "            train_dataloader = DataLoader(train_dataset, batch_size=10, shuffle=True, num_workers=0)\n",
    "        else:\n",
    "            print('val_dataset not valid')\n",
    "        \n",
    "        self.to(param_dict['device'])\n",
    "        train_loss_log = ['---']\n",
    "        val_loss_log = ['---']\n",
    "        print('AVG.TRAIN.LOSS    AVG.VAL.LOSS    EPOCH')\n",
    "        epochs = tqdm(range(param_dict['epochs']), leave=True)\n",
    "        # LOOP START\n",
    "        for epoch in epochs:\n",
    "            epochs.set_description(\"%s         %s       %s\" % (train_loss_log[-1], val_loss_log[-1], epoch))\n",
    "            \n",
    "            # Training\n",
    "            self.train()\n",
    "            train_loss = self.train_epoch(train_dataloader, param_dict['device'],\n",
    "                                          param_dict['loss_fn'], param_dict['optimizer'])\n",
    "            train_loss_log.append(train_loss)\n",
    "            \n",
    "            # Evaluation\n",
    "            self.eval()\n",
    "            val_loss = self.eval_epoch(val_dataloader, param_dict['device'], param_dict['loss_fn'])\n",
    "            val_loss_log.append(val_loss)\n",
    "            \n",
    "        # Plotting\n",
    "        if plot:\n",
    "            plt.figure(figsize=(12,8))\n",
    "            plt.semilogy(train_loss_log[1:], label='Train loss')\n",
    "            if val_present: plt.semilogy(val_loss_log[1:], label='Validation loss')\n",
    "            plt.xlabel('Epoch')\n",
    "            plt.ylabel('Loss')\n",
    "            plt.grid()\n",
    "            plt.legend()\n",
    "            plt.show()\n",
    "        return train_loss_log[1:], val_loss_log[1:]\n",
    "    \n",
    "    def run_test(self, test_dataset, param_dict):\n",
    "        '''\n",
    "        TEST THE MODEL\n",
    "        -----\n",
    "        test_dataset - DataSet containing the test data\n",
    "        param_dict   - Dictionary of parameter. \n",
    "                       keys:{'device','loss_fn'}\n",
    "        -----\n",
    "        RETURN       - np.array: predicted labels\n",
    "                     - float: loss of predicted vs true label\n",
    "        '''\n",
    "        test_dataloader = DataLoader(test_dataset, batch_size=1, shuffle=False, num_workers=0)\n",
    "        self.eval()\n",
    "        with torch.no_grad(): # turn off gradients computation\n",
    "            label_list = []\n",
    "            pred_list = []\n",
    "            for sample_batched in test_dataloader:\n",
    "                # Move data to device\n",
    "                x_batch = sample_batched[0].to(param_dict['device'])\n",
    "                label_batch = sample_batched[1].detach().cpu().numpy()\n",
    "\n",
    "                # Forward pass\n",
    "                out = self(x_batch)\n",
    "                pred_batch = out.detach().cpu().numpy().argmax(1)\n",
    "                label_list.append(label_batch)\n",
    "                pred_list.append(pred_batch)\n",
    "                \n",
    "        print(f'Accuracy of the network on the 10000 test images: {100 * np.equal(label_list,pred_list).sum() // len(pred_list)} %')\n",
    "        return pred_list, label_list\n",
    "\n",
    "def reset_weights(model):\n",
    "    if isinstance(model, nn.Linear):\n",
    "        model.reset_parameters()\n",
    "\n",
    "def confusion_matrix(foo, bar):\n",
    "    out = np.zeros((10,10))\n",
    "    for i,j in zip(foo,bar):\n",
    "        out[i,j] +=1\n",
    "    return out/len(foo)"
   ]
  },
  {
   "cell_type": "markdown",
   "metadata": {},
   "source": [
    "## Trial Network\n",
    "***\n",
    "\n",
    "Now I define and train a simple network to test if everything works fine.\n",
    "The network's convolutional layer maps the data into 4 and 16 channels respectively.\n",
    "The fully connected hidden layer has 100 neurons wich are turned of with a dropout probability of 15%\n",
    "I also produce `trial_params` dictionary, in order to store:\n",
    "* number of epoch\n",
    "* device\n",
    "* loss function (CrossEntropyLoss)\n",
    "* optimizer (in this test will be Adam)"
   ]
  },
  {
   "cell_type": "code",
   "execution_count": 52,
   "metadata": {
    "id": "6Mm5IXZTsDkZ",
    "outputId": "9937932f-43c2-4478-ab81-05a090327102"
   },
   "outputs": [
    {
     "name": "stdout",
     "output_type": "stream",
     "text": [
      "Network initialized\n"
     ]
    }
   ],
   "source": [
    "trial_net = ConvNet(4,16,100,0.15)"
   ]
  },
  {
   "cell_type": "code",
   "execution_count": 53,
   "metadata": {
    "id": "HDjVNKtGsDka",
    "outputId": "0ee7c268-e66c-4bac-ba55-017901e40adc"
   },
   "outputs": [
    {
     "name": "stdout",
     "output_type": "stream",
     "text": [
      "AVG.TRAIN.LOSS    AVG.VAL.LOSS    EPOCH\n"
     ]
    },
    {
     "name": "stderr",
     "output_type": "stream",
     "text": [
      "0.29607645         0.30733395       3: 100%|██████████| 4/4 [01:39<00:00, 24.87s/it]\n"
     ]
    },
    {
     "data": {
      "image/png": "[encoded data removed]",
      "text/plain": [
       "<Figure size 864x576 with 1 Axes>"
      ]
     },
     "metadata": {
      "needs_background": "light"
     },
     "output_type": "display_data"
    }
   ],
   "source": [
    "trial_params = {'epochs' : 4,\n",
    "                'device' : device,\n",
    "                'loss_fn' : nn.CrossEntropyLoss(),\n",
    "                'optimizer' : optim.Adam(trial_net.parameters(), lr=1e-3)}\n",
    "_, _ = trial_net.run_training(train_dataset, trial_params, val_dataset=0.2, plot=True)"
   ]
  },
  {
   "cell_type": "code",
   "execution_count": 55,
   "metadata": {
    "id": "6AH2dC4AsDkb",
    "outputId": "fa0f56fc-18ca-4245-8425-93720cec8433",
    "tags": []
   },
   "outputs": [
    {
     "name": "stdout",
     "output_type": "stream",
     "text": [
      "Accuracy of the network on the 10000 test images: 88 %\n"
     ]
    }
   ],
   "source": [
    "trial_predict, trial_label = trial_net.run_test(test_dataset, trial_params)"
   ]
  },
  {
   "cell_type": "code",
   "execution_count": 58,
   "metadata": {
    "id": "dMkuqK0osDkb",
    "outputId": "caad1444-a457-49ec-ee6e-e8a766d97458"
   },
   "outputs": [
    {
     "data": {
      "image/png": "[encoded data removed]",
      "text/plain": [
       "<Figure size 720x504 with 2 Axes>"
      ]
     },
     "metadata": {
      "needs_background": "light"
     },
     "output_type": "display_data"
    }
   ],
   "source": [
    "plt.figure(figsize = (10,7))\n",
    "sns.heatmap(confusion_matrix(trial_label, trial_predict), annot=True, fmt =  \"1.3f\" , cmap=\"Blues\" )\n",
    "plt.ylabel('True label', fontsize = 13)\n",
    "plt.xlabel('Predicted label', fontsize = 13)\n",
    "plt.show()"
   ]
  },
  {
   "cell_type": "markdown",
   "metadata": {},
   "source": [
    "The network has reach an accuracy of 88%. It is already a good result, but I try to improve the performances optimizing the hyperparameters.\n",
    "\n",
    "\n",
    "## Hyperparameter Tuning\n",
    "***\n",
    "Now I want to find the best set of hyperparameter for the model, so I will perform a (random) GridSearch on:\n",
    "* Convolutional channels\n",
    "* Hidden neurons\n",
    "* Dropout probability\n",
    "* Weight regularization\n",
    "* Learning Rate\n",
    "* optimizer\n",
    "\n",
    "Since the training data are a lot I didn't implemented a K-fold Cross Validation setup, I silmply produce a validation dataset taking the 20% of the training data."
   ]
  },
  {
   "cell_type": "code",
   "execution_count": 11,
   "metadata": {
    "id": "0fBqKV0xsDkc"
   },
   "outputs": [],
   "source": [
    "def HPSampler(hp_dict):\n",
    "    out = dict()\n",
    "    for key, value in hp_dict.items():\n",
    "        out[key] = np.random.choice(value)\n",
    "    return out\n",
    "\n",
    "def ModelFromHP(net_model, hyper_param, device):\n",
    "    '''\n",
    "    Initialize the Network and build the parameter dictionary\n",
    "    ---\n",
    "    net_model     - nn.Module\n",
    "    hyper_param - dictionary with the actual hyperparameter\n",
    "    device      - torch.device\n",
    "    '''\n",
    "    Ch1  = hyper_param['Ch1']\n",
    "    Ch2  = hyper_param['Ch2']\n",
    "    Nh   = hyper_param['Nh']\n",
    "    drop = hyper_param['drop']\n",
    "    wd   = hyper_param['wd']\n",
    "    lr   = hyper_param['lr']\n",
    "    ep   = hyper_param['epochs']\n",
    "    ## Network Initialization\n",
    "    actual_net = net_model(Ch1,Ch2,Nh,drop)\n",
    "    \n",
    "    if (hyper_param['optim'] == 'sgd'):\n",
    "        optimizer = optim.SGD(actual_net.parameters(), lr=lr, weight_decay=wd, momentum=0.9)\n",
    "    elif (hyper_param['optim'] == 'adam'):\n",
    "        optimizer = optim.Adam(actual_net.parameters(), lr=lr, weight_decay=wd)\n",
    "    else :\n",
    "        print('Wrong optimizer')\n",
    "    return actual_net, {'epochs' : ep,\n",
    "                        'device' : device,\n",
    "                        'loss_fn' : nn.CrossEntropyLoss(),\n",
    "                        'optimizer' : optimizer}\n",
    "\n",
    "def GridSearch(net_model, train_dataset, hp_dict, N, device):\n",
    "    '''\n",
    "    RANDOM GRID SEARCH with K-Fold CROSS VALIDATION\n",
    "    -----\n",
    "    net_model     - nn.Module\n",
    "    train_dataset - DataSet containing the training data\n",
    "    hp_dict       - dictionary of the hyperparameter on \n",
    "                    which perform grid search\n",
    "    N             - number of different configuration to try\n",
    "    device        - torch.device\n",
    "    '''\n",
    "    models = []\n",
    "    best_loss = 1000\n",
    "    for config in range(N):\n",
    "        # Sample the hyperparameter configuration\n",
    "        actual_hp = HPSampler(hp_dict)\n",
    "        # Initialize the net\n",
    "        actual_net, actual_params = ModelFromHP(net_model, actual_hp, device)\n",
    "        # Train the model\n",
    "        train_loss, val_loss = actual_net.run_training(train_dataset, actual_params, val_dataset=0.2, plot=False)\n",
    "\n",
    "        if (val_loss[-1] < best_loss): \n",
    "            best_loss = val_loss[-1]\n",
    "            best_model = config\n",
    "        models.append({'hp_dict'   : actual_hp,\n",
    "                       'train_loss': train_loss,\n",
    "                       'val_loss'  : val_loss})\n",
    "    return models, best_model"
   ]
  },
  {
   "cell_type": "code",
   "execution_count": 15,
   "metadata": {
    "id": "9YkyHm8DsDkc"
   },
   "outputs": [],
   "source": [
    "hyper_dict = {'Ch1'   : [4,8], \n",
    "              'Ch2'   : [16,32],\n",
    "              'Nh'    : [62,128,256],\n",
    "              'drop'  : np.linspace(0.1,0.5,100),\n",
    "              'wd'    : np.logspace(-4,-2,100),\n",
    "              'lr'    : np.logspace(-4,-2,100),\n",
    "              'optim' : ['sgd', 'adam'],\n",
    "              'epochs': [10]}"
   ]
  },
  {
   "cell_type": "code",
   "execution_count": null,
   "metadata": {
    "colab": {
     "base_uri": "https://localhost:8080/"
    },
    "id": "aLn_IAFssDkd",
    "outputId": "232fc4ab-a119-43bb-c36e-5da8474686b1"
   },
   "outputs": [
    {
     "name": "stdout",
     "output_type": "stream",
     "text": [
      "Network initialized\n",
      "AVG.TRAIN.LOSS    AVG.VAL.LOSS    EPOCH\n"
     ]
    },
    {
     "name": "stderr",
     "output_type": "stream",
     "text": [
      "0.35084248         0.35052958       9: 100%|██████████| 10/10 [03:38<00:00, 21.82s/it]\n"
     ]
    },
    {
     "name": "stdout",
     "output_type": "stream",
     "text": [
      "Network initialized\n",
      "AVG.TRAIN.LOSS    AVG.VAL.LOSS    EPOCH\n"
     ]
    },
    {
     "name": "stderr",
     "output_type": "stream",
     "text": [
      "0.34572223         0.3098017       9: 100%|██████████| 10/10 [04:06<00:00, 24.61s/it]\n"
     ]
    },
    {
     "name": "stdout",
     "output_type": "stream",
     "text": [
      "Network initialized\n",
      "AVG.TRAIN.LOSS    AVG.VAL.LOSS    EPOCH\n"
     ]
    },
    {
     "name": "stderr",
     "output_type": "stream",
     "text": [
      "0.26514336         0.27120858       9: 100%|██████████| 10/10 [03:38<00:00, 21.81s/it]\n"
     ]
    },
    {
     "name": "stdout",
     "output_type": "stream",
     "text": [
      "Network initialized\n",
      "AVG.TRAIN.LOSS    AVG.VAL.LOSS    EPOCH\n"
     ]
    },
    {
     "name": "stderr",
     "output_type": "stream",
     "text": [
      "0.3695347         0.37215868       9: 100%|██████████| 10/10 [04:07<00:00, 24.78s/it]\n"
     ]
    },
    {
     "name": "stdout",
     "output_type": "stream",
     "text": [
      "Network initialized\n",
      "AVG.TRAIN.LOSS    AVG.VAL.LOSS    EPOCH\n"
     ]
    },
    {
     "name": "stderr",
     "output_type": "stream",
     "text": [
      "0.28156012         0.27817068       9: 100%|██████████| 10/10 [03:39<00:00, 21.91s/it]\n"
     ]
    },
    {
     "name": "stdout",
     "output_type": "stream",
     "text": [
      "Network initialized\n",
      "AVG.TRAIN.LOSS    AVG.VAL.LOSS    EPOCH\n"
     ]
    },
    {
     "name": "stderr",
     "output_type": "stream",
     "text": [
      "0.33031324         0.3100103       9: 100%|██████████| 10/10 [03:39<00:00, 21.93s/it]\n"
     ]
    },
    {
     "name": "stdout",
     "output_type": "stream",
     "text": [
      "Network initialized\n",
      "AVG.TRAIN.LOSS    AVG.VAL.LOSS    EPOCH\n"
     ]
    },
    {
     "name": "stderr",
     "output_type": "stream",
     "text": [
      "0.23843016         0.29253387       9: 100%|██████████| 10/10 [04:04<00:00, 24.48s/it]\n"
     ]
    },
    {
     "name": "stdout",
     "output_type": "stream",
     "text": [
      "Network initialized\n",
      "AVG.TRAIN.LOSS    AVG.VAL.LOSS    EPOCH\n"
     ]
    },
    {
     "name": "stderr",
     "output_type": "stream",
     "text": [
      "0.42942026         0.36135915       9: 100%|██████████| 10/10 [03:38<00:00, 21.90s/it]\n"
     ]
    },
    {
     "name": "stdout",
     "output_type": "stream",
     "text": [
      "Network initialized\n",
      "AVG.TRAIN.LOSS    AVG.VAL.LOSS    EPOCH\n"
     ]
    },
    {
     "name": "stderr",
     "output_type": "stream",
     "text": [
      "0.2610147         0.2671303       9: 100%|██████████| 10/10 [04:02<00:00, 24.23s/it]\n"
     ]
    },
    {
     "name": "stdout",
     "output_type": "stream",
     "text": [
      "Network initialized\n",
      "AVG.TRAIN.LOSS    AVG.VAL.LOSS    EPOCH\n"
     ]
    },
    {
     "name": "stderr",
     "output_type": "stream",
     "text": [
      "0.32510528         0.3305456       9: 100%|██████████| 10/10 [04:05<00:00, 24.50s/it]\n"
     ]
    },
    {
     "name": "stdout",
     "output_type": "stream",
     "text": [
      "Network initialized\n",
      "AVG.TRAIN.LOSS    AVG.VAL.LOSS    EPOCH\n"
     ]
    },
    {
     "name": "stderr",
     "output_type": "stream",
     "text": [
      "0.6775113         0.57304853       9: 100%|██████████| 10/10 [04:03<00:00, 24.36s/it]\n"
     ]
    },
    {
     "name": "stdout",
     "output_type": "stream",
     "text": [
      "Network initialized\n",
      "AVG.TRAIN.LOSS    AVG.VAL.LOSS    EPOCH\n"
     ]
    },
    {
     "name": "stderr",
     "output_type": "stream",
     "text": [
      "0.3562786         0.32927644       9: 100%|██████████| 10/10 [03:33<00:00, 21.38s/it]\n"
     ]
    },
    {
     "name": "stdout",
     "output_type": "stream",
     "text": [
      "Network initialized\n",
      "AVG.TRAIN.LOSS    AVG.VAL.LOSS    EPOCH\n"
     ]
    },
    {
     "name": "stderr",
     "output_type": "stream",
     "text": [
      "0.20929831         0.25245738       9: 100%|██████████| 10/10 [03:34<00:00, 21.45s/it]\n"
     ]
    },
    {
     "name": "stdout",
     "output_type": "stream",
     "text": [
      "Network initialized\n",
      "AVG.TRAIN.LOSS    AVG.VAL.LOSS    EPOCH\n"
     ]
    },
    {
     "name": "stderr",
     "output_type": "stream",
     "text": [
      "0.3103961         0.3048991       9: 100%|██████████| 10/10 [04:05<00:00, 24.55s/it]\n"
     ]
    },
    {
     "name": "stdout",
     "output_type": "stream",
     "text": [
      "Network initialized\n",
      "AVG.TRAIN.LOSS    AVG.VAL.LOSS    EPOCH\n"
     ]
    },
    {
     "name": "stderr",
     "output_type": "stream",
     "text": [
      "0.24526766         0.25952184       9: 100%|██████████| 10/10 [04:01<00:00, 24.19s/it]\n"
     ]
    },
    {
     "name": "stdout",
     "output_type": "stream",
     "text": [
      "Network initialized\n",
      "AVG.TRAIN.LOSS    AVG.VAL.LOSS    EPOCH\n"
     ]
    },
    {
     "name": "stderr",
     "output_type": "stream",
     "text": [
      "0.3340643         0.2880117       9: 100%|██████████| 10/10 [04:04<00:00, 24.42s/it]\n"
     ]
    },
    {
     "name": "stdout",
     "output_type": "stream",
     "text": [
      "Network initialized\n",
      "AVG.TRAIN.LOSS    AVG.VAL.LOSS    EPOCH\n"
     ]
    },
    {
     "name": "stderr",
     "output_type": "stream",
     "text": [
      "0.24738179         0.27027485       9: 100%|██████████| 10/10 [03:33<00:00, 21.30s/it]\n"
     ]
    },
    {
     "name": "stdout",
     "output_type": "stream",
     "text": [
      "Network initialized\n",
      "AVG.TRAIN.LOSS    AVG.VAL.LOSS    EPOCH\n"
     ]
    },
    {
     "name": "stderr",
     "output_type": "stream",
     "text": [
      "0.54063135         0.49669728       9: 100%|██████████| 10/10 [04:00<00:00, 24.06s/it]\n"
     ]
    },
    {
     "name": "stdout",
     "output_type": "stream",
     "text": [
      "Network initialized\n",
      "AVG.TRAIN.LOSS    AVG.VAL.LOSS    EPOCH\n"
     ]
    },
    {
     "name": "stderr",
     "output_type": "stream",
     "text": [
      "0.3790158         0.36099184       5:  60%|██████    | 6/10 [02:09<01:26, 21.52s/it]"
     ]
    }
   ],
   "source": [
    "model_list, best_model = GridSearch(ConvNet, train_dataset, hyper_dict, 20, device)"
   ]
  },
  {
   "cell_type": "code",
   "execution_count": 17,
   "metadata": {
    "colab": {
     "base_uri": "https://localhost:8080/",
     "height": 552
    },
    "id": "zTXx7pVAsDkd",
    "outputId": "5b0bc4d3-dd4a-4302-9150-40e371f7bfdc"
   },
   "outputs": [
    {
     "data": {
      "image/png": "[encoded data removed]",
      "text/plain": [
       "<Figure size 864x576 with 1 Axes>"
      ]
     },
     "metadata": {
      "needs_background": "light"
     },
     "output_type": "display_data"
    },
    {
     "name": "stdout",
     "output_type": "stream",
     "text": [
      "BEST MODEL HYPERPARAMETERS:\n",
      "{'Ch1': 8, 'Ch2': 32, 'Nh': 128, 'drop': 0.23333333333333334, 'wd': 0.00031992671377973844, 'lr': 0.0011233240329780276, 'optim': 'sgd', 'epochs': 10}\n"
     ]
    }
   ],
   "source": [
    "plt.figure(figsize=(12,8))\n",
    "for model in model_list:\n",
    "    plt.semilogy(model['val_loss'])\n",
    "plt.xlabel('Epoch')\n",
    "plt.ylabel('Loss')\n",
    "plt.grid()\n",
    "plt.show()\n",
    "print('BEST MODEL HYPERPARAMETERS:')\n",
    "print(model_list[best_model]['hp_dict'])"
   ]
  },
  {
   "cell_type": "markdown",
   "metadata": {},
   "source": [
    "## Best Model\n",
    "***\n",
    "Let's initialize a Network with the the best hyperparameter found by GridSearch.\n",
    "Then I will train it and later tests it's performances."
   ]
  },
  {
   "cell_type": "code",
   "execution_count": 24,
   "metadata": {
    "colab": {
     "base_uri": "https://localhost:8080/"
    },
    "id": "8eE79OJBDzSb",
    "outputId": "0fafec2e-4e1b-4d8e-837f-4af9a547fc73"
   },
   "outputs": [
    {
     "name": "stdout",
     "output_type": "stream",
     "text": [
      "Network initialized\n"
     ]
    }
   ],
   "source": [
    "best_net, best_params = ModelFromHP(ConvNet, model_list[best_model]['hp_dict'], device)"
   ]
  },
  {
   "cell_type": "code",
   "execution_count": 25,
   "metadata": {
    "colab": {
     "base_uri": "https://localhost:8080/",
     "height": 532
    },
    "id": "1eLLbCbmDzDd",
    "outputId": "6747881b-da53-4cdc-db90-d92d8a9d0284"
   },
   "outputs": [
    {
     "name": "stdout",
     "output_type": "stream",
     "text": [
      "AVG.TRAIN.LOSS    AVG.VAL.LOSS    EPOCH\n"
     ]
    },
    {
     "name": "stderr",
     "output_type": "stream",
     "text": [
      "0.21414739         0.25355113       9: 100%|██████████| 10/10 [03:40<00:00, 22.05s/it]\n"
     ]
    },
    {
     "data": {
      "image/png": "[encoded data removed]",
      "text/plain": [
       "<Figure size 864x576 with 1 Axes>"
      ]
     },
     "metadata": {
      "needs_background": "light"
     },
     "output_type": "display_data"
    }
   ],
   "source": [
    "best_train_loss, best_val_loss = best_net.run_training(train_dataset, best_params, val_dataset=0.2, plot=True)"
   ]
  },
  {
   "cell_type": "code",
   "execution_count": 28,
   "metadata": {
    "colab": {
     "base_uri": "https://localhost:8080/"
    },
    "id": "AN1ZXAcfDy3s",
    "outputId": "3f189eb4-637c-42a2-f735-38bd0bcd12d9"
   },
   "outputs": [
    {
     "name": "stdout",
     "output_type": "stream",
     "text": [
      "Accuracy of the network on the 10000 test images: 90 %\n"
     ]
    }
   ],
   "source": [
    "best_predict, best_label = best_net.run_test(test_dataset, best_params)"
   ]
  },
  {
   "cell_type": "code",
   "execution_count": 31,
   "metadata": {
    "colab": {
     "base_uri": "https://localhost:8080/",
     "height": 445
    },
    "id": "SRU5uIH3DyrO",
    "outputId": "737cbe18-a34a-405e-b10b-28d51d27118c"
   },
   "outputs": [
    {
     "data": {
      "image/png": "[encoded data removed]",
      "text/plain": [
       "<Figure size 720x504 with 2 Axes>"
      ]
     },
     "metadata": {
      "needs_background": "light"
     },
     "output_type": "display_data"
    }
   ],
   "source": [
    "plt.figure(figsize = (10,7))\n",
    "sns.heatmap(confusion_matrix(best_label, best_predict), annot=True, fmt =  \"1.3f\" , cmap=\"Blues\" )\n",
    "plt.ylabel('True label', fontsize = 13)\n",
    "plt.xlabel('Predicted label', fontsize = 13)\n",
    "plt.show()"
   ]
  },
  {
   "cell_type": "markdown",
   "metadata": {},
   "source": [
    "Tuning the hyperparameters allowed the Network to increase it's accuracy by 2%.\n",
    "It is worth to mention that due to computational constrain the space of configuration explored was pretty small so we are probably just in a local minimum and there is a better configuration of hyperparameters.\n",
    "\n",
    "\n",
    "## Weight Analysis\n",
    "***\n",
    "\n",
    "In this sction I will explore the filters of the convolutional layers as well as the weight distribution of the linear layer."
   ]
  },
  {
   "cell_type": "code",
   "execution_count": 30,
   "metadata": {
    "colab": {
     "base_uri": "https://localhost:8080/",
     "height": 766
    },
    "id": "ewYqjOf4DycG",
    "outputId": "7713d3dd-d184-4134-fbb4-ae86291ed848"
   },
   "outputs": [
    {
     "data": {
      "image/png": "[encoded data removed]",
      "text/plain": [
       "<Figure size 720x144 with 8 Axes>"
      ]
     },
     "metadata": {},
     "output_type": "display_data"
    },
    {
     "data": {
      "image/png": "[encoded data removed]",
      "text/plain": [
       "<Figure size 720x720 with 256 Axes>"
      ]
     },
     "metadata": {},
     "output_type": "display_data"
    },
    {
     "data": {
      "image/png": "[encoded data removed]",
      "text/plain": [
       "<Figure size 720x360 with 1 Axes>"
      ]
     },
     "metadata": {
      "needs_background": "light"
     },
     "output_type": "display_data"
    }
   ],
   "source": [
    "# First hidden layer\n",
    "Conv1_w = best_net.convBlock1[0].weight.data.cpu().numpy()\n",
    "Conv2_w = best_net.convBlock2[0].weight.data.cpu().numpy()\n",
    "FC_w    = best_net.fcBlock[0].weight.data.cpu().numpy()\n",
    "Ch1=8\n",
    "Ch2=32\n",
    "fig, ax = plt.subplots(1,Ch1, figsize=(10, 2))\n",
    "for i in range(Ch1):\n",
    "    ax[i].imshow(Conv1_w[i, 0, :, :], cmap='Greys')\n",
    "    ax[i].set_xticks([])\n",
    "    ax[i].set_yticks([])  \n",
    "fig.suptitle('Filters of First Convolutional Layer ', fontsize = 12)\n",
    "plt.show()\n",
    "\n",
    "fig, ax = plt.subplots(16,16, figsize=(10,10))\n",
    "for i in range(Ch2*8):\n",
    "    ax[i//16,i%16].imshow(Conv2_w[i//8, i%8, :, :], cmap='Greys')\n",
    "    ax[i//16,i%16].set_xticks([])\n",
    "    ax[i//16,i%16].set_yticks([])  \n",
    "fig.suptitle('Filters of Second Convolutional Layer ', fontsize = 12)\n",
    "plt.show()\n",
    "\n",
    "plt.figure(figsize=(10,5))\n",
    "plt.hist(FC_w.flatten(), 50)\n",
    "plt.title('Fully connected layer weights')\n",
    "plt.show()"
   ]
  },
  {
   "cell_type": "markdown",
   "metadata": {
    "colab": {
     "base_uri": "https://localhost:8080/",
     "height": 185
    },
    "id": "JLckQHsrUSQr",
    "outputId": "5c7f6dad-51b6-453f-c0cc-fe271b53e0f6"
   },
   "source": [
    "The filters does not provide any incredible information. But it's worth mention that, looking at the filters of the first convolutional layer, they are black (with an high value) in diffentent spatial regions.\n",
    "This could be interpreted by the fact that each filters is looking at different particular characteristics (edges, shape..) of the input image.\n",
    "\n",
    "The weights of the fully connected linear layer are gaussian distributed around the origin.\n",
    "\n",
    "## Activation Analysis\n",
    "***\n",
    "\n",
    "Now I want to visualize the activations of the different layers."
   ]
  },
  {
   "cell_type": "code",
   "execution_count": 45,
   "metadata": {
    "colab": {
     "base_uri": "https://localhost:8080/"
    },
    "id": "e9K8_Y4FUSLd",
    "outputId": "53d9a494-0905-4de3-df05-aa70e0767156"
   },
   "outputs": [
    {
     "data": {
      "image/png": "[encoded data removed]",
      "text/plain": [
       "<Figure size 360x360 with 1 Axes>"
      ]
     },
     "metadata": {
      "needs_background": "light"
     },
     "output_type": "display_data"
    },
    {
     "data": {
      "image/png": "[encoded data removed]",
      "text/plain": [
       "<Figure size 720x144 with 8 Axes>"
      ]
     },
     "metadata": {},
     "output_type": "display_data"
    },
    {
     "data": {
      "image/png": "[encoded data removed]",
      "text/plain": [
       "<Figure size 720x504 with 32 Axes>"
      ]
     },
     "metadata": {},
     "output_type": "display_data"
    },
    {
     "data": {
      "image/png": "[encoded data removed]",
      "text/plain": [
       "<Figure size 720x288 with 1 Axes>"
      ]
     },
     "metadata": {
      "needs_background": "light"
     },
     "output_type": "display_data"
    }
   ],
   "source": [
    "def get_activation1(layer, input, output):\n",
    "    global activation1\n",
    "    activation1 = torch.sigmoid(output)\n",
    "def get_activation2(layer, input, output):\n",
    "    global activation2\n",
    "    activation2 = torch.sigmoid(output)\n",
    "def get_activation3(layer, input, output):\n",
    "    global activation3\n",
    "    activation3 = torch.sigmoid(output)\n",
    "\n",
    "\n",
    "### Register hook  \n",
    "hook_handle1 = best_net.convBlock1[0].register_forward_hook(get_activation1)\n",
    "hook_handle2 = best_net.convBlock2[0].register_forward_hook(get_activation2)\n",
    "hook_handle3 = best_net.fcBlock[0].register_forward_hook(get_activation3)\n",
    "\n",
    "### Analyze activations\n",
    "best_net = best_net.to(device)\n",
    "best_net.eval()\n",
    "x = DataLoader(train_dataset, batch_size = 1, shuffle = True)\n",
    "for batch in x:\n",
    "    with torch.no_grad():\n",
    "        x1 = batch[0].to(device)\n",
    "        sample = x1.cpu().numpy()\n",
    "        y1 = best_net(x1)\n",
    "        z1 = (activation1, activation2, activation3)\n",
    "    break\n",
    "\n",
    "### Remove hook\n",
    "hook_handle1.remove()\n",
    "hook_handle2.remove()\n",
    "hook_handle3.remove()\n",
    "\n",
    "### Plot the image\n",
    "fig = plt.figure(figsize=(5,5))\n",
    "plt.imshow(sample.reshape((28,28)), cmap='Greys')\n",
    "plt.show()\n",
    "### Plot activations\n",
    "fig, ax = plt.subplots(1,8, figsize=(10, 2))\n",
    "for i in range(8):\n",
    "    ax[i].imshow(z1[0][0, i, :, :], cmap='Greys')\n",
    "    ax[i].set_xticks([])\n",
    "    ax[i].set_yticks([])  \n",
    "fig.suptitle('Activation of First Convolutional Layer ', fontsize = 12)\n",
    "plt.show()\n",
    "\n",
    "fig, ax = plt.subplots(4,8, figsize=(10, 7))\n",
    "for i in range(8*4):\n",
    "    ax[i//8,i%8].imshow(z1[1][0, i, :, :], cmap='Greys')\n",
    "    ax[i//8,i%8].set_xticks([])\n",
    "    ax[i//8,i%8].set_yticks([])  \n",
    "fig.suptitle('Activation of Second Convolutional Layer ', fontsize = 12)\n",
    "plt.show()\n",
    "\n",
    "plt.figure(figsize=(10,4))\n",
    "plt.stem(z1[2].cpu().numpy().flatten(), use_line_collection=True)\n",
    "plt.title('Fully connected layer activation')\n",
    "plt.show()"
   ]
  },
  {
   "cell_type": "markdown",
   "metadata": {},
   "source": [
    "The activations of the first convolutional layer resembles the original image, while the activations of the second convolutional layer are no more \"human readable\".\n",
    "\n",
    "Looking at the activation of the fully connected layer it can be seen that all the neurons are firing; this may means that the Network could have been trained for longer."
   ]
  },
  {
   "cell_type": "code",
   "execution_count": null,
   "metadata": {},
   "outputs": [],
   "source": []
  }
 ],
 "metadata": {
  "accelerator": "GPU",
  "colab": {
   "collapsed_sections": [],
   "name": "nndl_2021__homework_1.ipynb",
   "provenance": []
  },
  "gpuClass": "standard",
  "kernelspec": {
   "display_name": "Python 3",
   "language": "python",
   "name": "python3"
  },
  "language_info": {
   "codemirror_mode": {
    "name": "ipython",
    "version": 3
   },
   "file_extension": ".py",
   "mimetype": "text/x-python",
   "name": "python",
   "nbconvert_exporter": "python",
   "pygments_lexer": "ipython3",
   "version": "3.9.7"
  },
  "widgets": {
   "application/vnd.jupyter.widget-state+json": {
    "08b9b7e8ad1e4c1d872d0dda1d9d14ec": {
     "model_module": "@jupyter-widgets/controls",
     "model_module_version": "1.5.0",
     "model_name": "FloatProgressModel",
     "state": {
      "_dom_classes": [],
      "_model_module": "@jupyter-widgets/controls",
      "_model_module_version": "1.5.0",
      "_model_name": "FloatProgressModel",
      "_view_count": null,
      "_view_module": "@jupyter-widgets/controls",
      "_view_module_version": "1.5.0",
      "_view_name": "ProgressView",
      "bar_style": "success",
      "description": "",
      "description_tooltip": null,
      "layout": "IPY_MODEL_94706b754cd242b9bc441123802b4aab",
      "max": 29515,
      "min": 0,
      "orientation": "horizontal",
      "style": "IPY_MODEL_31abe6089eed44d381155a295839e45c",
      "value": 29515
     }
    },
    "0a0700589e9e408e83f77f74c99fa992": {
     "model_module": "@jupyter-widgets/controls",
     "model_module_version": "1.5.0",
     "model_name": "HTMLModel",
     "state": {
      "_dom_classes": [],
      "_model_module": "@jupyter-widgets/controls",
      "_model_module_version": "1.5.0",
      "_model_name": "HTMLModel",
      "_view_count": null,
      "_view_module": "@jupyter-widgets/controls",
      "_view_module_version": "1.5.0",
      "_view_name": "HTMLView",
      "description": "",
      "description_tooltip": null,
      "layout": "IPY_MODEL_f435538d407f40c4a7c96015c4495499",
      "placeholder": "​",
      "style": "IPY_MODEL_cd2b243480b741c7b8ddf979b5dcca2b",
      "value": " 6144/? [00:00&lt;00:00, 201421.01it/s]"
     }
    },
    "0de1c145ca034d9ea71ec7f9f76a9bf3": {
     "model_module": "@jupyter-widgets/base",
     "model_module_version": "1.2.0",
     "model_name": "LayoutModel",
     "state": {
      "_model_module": "@jupyter-widgets/base",
      "_model_module_version": "1.2.0",
      "_model_name": "LayoutModel",
      "_view_count": null,
      "_view_module": "@jupyter-widgets/base",
      "_view_module_version": "1.2.0",
      "_view_name": "LayoutView",
      "align_content": null,
      "align_items": null,
      "align_self": null,
      "border": null,
      "bottom": null,
      "display": null,
      "flex": null,
      "flex_flow": null,
      "grid_area": null,
      "grid_auto_columns": null,
      "grid_auto_flow": null,
      "grid_auto_rows": null,
      "grid_column": null,
      "grid_gap": null,
      "grid_row": null,
      "grid_template_areas": null,
      "grid_template_columns": null,
      "grid_template_rows": null,
      "height": null,
      "justify_content": null,
      "justify_items": null,
      "left": null,
      "margin": null,
      "max_height": null,
      "max_width": null,
      "min_height": null,
      "min_width": null,
      "object_fit": null,
      "object_position": null,
      "order": null,
      "overflow": null,
      "overflow_x": null,
      "overflow_y": null,
      "padding": null,
      "right": null,
      "top": null,
      "visibility": null,
      "width": null
     }
    },
    "0ec4dc2e7d90483db04c35561b3ea1cf": {
     "model_module": "@jupyter-widgets/base",
     "model_module_version": "1.2.0",
     "model_name": "LayoutModel",
     "state": {
      "_model_module": "@jupyter-widgets/base",
      "_model_module_version": "1.2.0",
      "_model_name": "LayoutModel",
      "_view_count": null,
      "_view_module": "@jupyter-widgets/base",
      "_view_module_version": "1.2.0",
      "_view_name": "LayoutView",
      "align_content": null,
      "align_items": null,
      "align_self": null,
      "border": null,
      "bottom": null,
      "display": null,
      "flex": null,
      "flex_flow": null,
      "grid_area": null,
      "grid_auto_columns": null,
      "grid_auto_flow": null,
      "grid_auto_rows": null,
      "grid_column": null,
      "grid_gap": null,
      "grid_row": null,
      "grid_template_areas": null,
      "grid_template_columns": null,
      "grid_template_rows": null,
      "height": null,
      "justify_content": null,
      "justify_items": null,
      "left": null,
      "margin": null,
      "max_height": null,
      "max_width": null,
      "min_height": null,
      "min_width": null,
      "object_fit": null,
      "object_position": null,
      "order": null,
      "overflow": null,
      "overflow_x": null,
      "overflow_y": null,
      "padding": null,
      "right": null,
      "top": null,
      "visibility": null,
      "width": null
     }
    },
    "155cda0b59964d7cb3be2ab7ad43eed0": {
     "model_module": "@jupyter-widgets/controls",
     "model_module_version": "1.5.0",
     "model_name": "DescriptionStyleModel",
     "state": {
      "_model_module": "@jupyter-widgets/controls",
      "_model_module_version": "1.5.0",
      "_model_name": "DescriptionStyleModel",
      "_view_count": null,
      "_view_module": "@jupyter-widgets/base",
      "_view_module_version": "1.2.0",
      "_view_name": "StyleView",
      "description_width": ""
     }
    },
    "1f550336050e4be389b75e780668faac": {
     "model_module": "@jupyter-widgets/base",
     "model_module_version": "1.2.0",
     "model_name": "LayoutModel",
     "state": {
      "_model_module": "@jupyter-widgets/base",
      "_model_module_version": "1.2.0",
      "_model_name": "LayoutModel",
      "_view_count": null,
      "_view_module": "@jupyter-widgets/base",
      "_view_module_version": "1.2.0",
      "_view_name": "LayoutView",
      "align_content": null,
      "align_items": null,
      "align_self": null,
      "border": null,
      "bottom": null,
      "display": null,
      "flex": null,
      "flex_flow": null,
      "grid_area": null,
      "grid_auto_columns": null,
      "grid_auto_flow": null,
      "grid_auto_rows": null,
      "grid_column": null,
      "grid_gap": null,
      "grid_row": null,
      "grid_template_areas": null,
      "grid_template_columns": null,
      "grid_template_rows": null,
      "height": null,
      "justify_content": null,
      "justify_items": null,
      "left": null,
      "margin": null,
      "max_height": null,
      "max_width": null,
      "min_height": null,
      "min_width": null,
      "object_fit": null,
      "object_position": null,
      "order": null,
      "overflow": null,
      "overflow_x": null,
      "overflow_y": null,
      "padding": null,
      "right": null,
      "top": null,
      "visibility": null,
      "width": null
     }
    },
    "22eb35dad82f4415b75369d4ace033d6": {
     "model_module": "@jupyter-widgets/controls",
     "model_module_version": "1.5.0",
     "model_name": "DescriptionStyleModel",
     "state": {
      "_model_module": "@jupyter-widgets/controls",
      "_model_module_version": "1.5.0",
      "_model_name": "DescriptionStyleModel",
      "_view_count": null,
      "_view_module": "@jupyter-widgets/base",
      "_view_module_version": "1.2.0",
      "_view_name": "StyleView",
      "description_width": ""
     }
    },
    "2a09325f16fc484ba2f34687e35662ff": {
     "model_module": "@jupyter-widgets/base",
     "model_module_version": "1.2.0",
     "model_name": "LayoutModel",
     "state": {
      "_model_module": "@jupyter-widgets/base",
      "_model_module_version": "1.2.0",
      "_model_name": "LayoutModel",
      "_view_count": null,
      "_view_module": "@jupyter-widgets/base",
      "_view_module_version": "1.2.0",
      "_view_name": "LayoutView",
      "align_content": null,
      "align_items": null,
      "align_self": null,
      "border": null,
      "bottom": null,
      "display": null,
      "flex": null,
      "flex_flow": null,
      "grid_area": null,
      "grid_auto_columns": null,
      "grid_auto_flow": null,
      "grid_auto_rows": null,
      "grid_column": null,
      "grid_gap": null,
      "grid_row": null,
      "grid_template_areas": null,
      "grid_template_columns": null,
      "grid_template_rows": null,
      "height": null,
      "justify_content": null,
      "justify_items": null,
      "left": null,
      "margin": null,
      "max_height": null,
      "max_width": null,
      "min_height": null,
      "min_width": null,
      "object_fit": null,
      "object_position": null,
      "order": null,
      "overflow": null,
      "overflow_x": null,
      "overflow_y": null,
      "padding": null,
      "right": null,
      "top": null,
      "visibility": null,
      "width": null
     }
    },
    "2ea8b2db3ac14da1a6f405b7f70537fa": {
     "model_module": "@jupyter-widgets/controls",
     "model_module_version": "1.5.0",
     "model_name": "HTMLModel",
     "state": {
      "_dom_classes": [],
      "_model_module": "@jupyter-widgets/controls",
      "_model_module_version": "1.5.0",
      "_model_name": "HTMLModel",
      "_view_count": null,
      "_view_module": "@jupyter-widgets/controls",
      "_view_module_version": "1.5.0",
      "_view_name": "HTMLView",
      "description": "",
      "description_tooltip": null,
      "layout": "IPY_MODEL_dff536086070430d90ddde1b5dc16b36",
      "placeholder": "​",
      "style": "IPY_MODEL_d4173a10d7354479bacccbe5940ab124",
      "value": " 4422656/? [00:01&lt;00:00, 4045050.27it/s]"
     }
    },
    "30bf409a87a14912a92ac51f4aeef997": {
     "model_module": "@jupyter-widgets/base",
     "model_module_version": "1.2.0",
     "model_name": "LayoutModel",
     "state": {
      "_model_module": "@jupyter-widgets/base",
      "_model_module_version": "1.2.0",
      "_model_name": "LayoutModel",
      "_view_count": null,
      "_view_module": "@jupyter-widgets/base",
      "_view_module_version": "1.2.0",
      "_view_name": "LayoutView",
      "align_content": null,
      "align_items": null,
      "align_self": null,
      "border": null,
      "bottom": null,
      "display": null,
      "flex": null,
      "flex_flow": null,
      "grid_area": null,
      "grid_auto_columns": null,
      "grid_auto_flow": null,
      "grid_auto_rows": null,
      "grid_column": null,
      "grid_gap": null,
      "grid_row": null,
      "grid_template_areas": null,
      "grid_template_columns": null,
      "grid_template_rows": null,
      "height": null,
      "justify_content": null,
      "justify_items": null,
      "left": null,
      "margin": null,
      "max_height": null,
      "max_width": null,
      "min_height": null,
      "min_width": null,
      "object_fit": null,
      "object_position": null,
      "order": null,
      "overflow": null,
      "overflow_x": null,
      "overflow_y": null,
      "padding": null,
      "right": null,
      "top": null,
      "visibility": null,
      "width": null
     }
    },
    "31abe6089eed44d381155a295839e45c": {
     "model_module": "@jupyter-widgets/controls",
     "model_module_version": "1.5.0",
     "model_name": "ProgressStyleModel",
     "state": {
      "_model_module": "@jupyter-widgets/controls",
      "_model_module_version": "1.5.0",
      "_model_name": "ProgressStyleModel",
      "_view_count": null,
      "_view_module": "@jupyter-widgets/base",
      "_view_module_version": "1.2.0",
      "_view_name": "StyleView",
      "bar_color": null,
      "description_width": ""
     }
    },
    "3576916c2104491a94b263563ba27d2d": {
     "model_module": "@jupyter-widgets/controls",
     "model_module_version": "1.5.0",
     "model_name": "ProgressStyleModel",
     "state": {
      "_model_module": "@jupyter-widgets/controls",
      "_model_module_version": "1.5.0",
      "_model_name": "ProgressStyleModel",
      "_view_count": null,
      "_view_module": "@jupyter-widgets/base",
      "_view_module_version": "1.2.0",
      "_view_name": "StyleView",
      "bar_color": null,
      "description_width": ""
     }
    },
    "44a21b9ae40f4f3db6d86d960fb694c9": {
     "model_module": "@jupyter-widgets/controls",
     "model_module_version": "1.5.0",
     "model_name": "DescriptionStyleModel",
     "state": {
      "_model_module": "@jupyter-widgets/controls",
      "_model_module_version": "1.5.0",
      "_model_name": "DescriptionStyleModel",
      "_view_count": null,
      "_view_module": "@jupyter-widgets/base",
      "_view_module_version": "1.2.0",
      "_view_name": "StyleView",
      "description_width": ""
     }
    },
    "5938df2edd504516a2daf80ff90ab3c8": {
     "model_module": "@jupyter-widgets/controls",
     "model_module_version": "1.5.0",
     "model_name": "ProgressStyleModel",
     "state": {
      "_model_module": "@jupyter-widgets/controls",
      "_model_module_version": "1.5.0",
      "_model_name": "ProgressStyleModel",
      "_view_count": null,
      "_view_module": "@jupyter-widgets/base",
      "_view_module_version": "1.2.0",
      "_view_name": "StyleView",
      "bar_color": null,
      "description_width": ""
     }
    },
    "5c3b037f1682429187207f8d2398491a": {
     "model_module": "@jupyter-widgets/base",
     "model_module_version": "1.2.0",
     "model_name": "LayoutModel",
     "state": {
      "_model_module": "@jupyter-widgets/base",
      "_model_module_version": "1.2.0",
      "_model_name": "LayoutModel",
      "_view_count": null,
      "_view_module": "@jupyter-widgets/base",
      "_view_module_version": "1.2.0",
      "_view_name": "LayoutView",
      "align_content": null,
      "align_items": null,
      "align_self": null,
      "border": null,
      "bottom": null,
      "display": null,
      "flex": null,
      "flex_flow": null,
      "grid_area": null,
      "grid_auto_columns": null,
      "grid_auto_flow": null,
      "grid_auto_rows": null,
      "grid_column": null,
      "grid_gap": null,
      "grid_row": null,
      "grid_template_areas": null,
      "grid_template_columns": null,
      "grid_template_rows": null,
      "height": null,
      "justify_content": null,
      "justify_items": null,
      "left": null,
      "margin": null,
      "max_height": null,
      "max_width": null,
      "min_height": null,
      "min_width": null,
      "object_fit": null,
      "object_position": null,
      "order": null,
      "overflow": null,
      "overflow_x": null,
      "overflow_y": null,
      "padding": null,
      "right": null,
      "top": null,
      "visibility": null,
      "width": null
     }
    },
    "6933c9b5d8724579bd9a762698bf14df": {
     "model_module": "@jupyter-widgets/controls",
     "model_module_version": "1.5.0",
     "model_name": "FloatProgressModel",
     "state": {
      "_dom_classes": [],
      "_model_module": "@jupyter-widgets/controls",
      "_model_module_version": "1.5.0",
      "_model_name": "FloatProgressModel",
      "_view_count": null,
      "_view_module": "@jupyter-widgets/controls",
      "_view_module_version": "1.5.0",
      "_view_name": "ProgressView",
      "bar_style": "success",
      "description": "",
      "description_tooltip": null,
      "layout": "IPY_MODEL_7a7cb71612054e8c8b554085fcffc769",
      "max": 5148,
      "min": 0,
      "orientation": "horizontal",
      "style": "IPY_MODEL_5938df2edd504516a2daf80ff90ab3c8",
      "value": 5148
     }
    },
    "6b13fc7636764be99bf5cbc160d9cb75": {
     "model_module": "@jupyter-widgets/controls",
     "model_module_version": "1.5.0",
     "model_name": "HTMLModel",
     "state": {
      "_dom_classes": [],
      "_model_module": "@jupyter-widgets/controls",
      "_model_module_version": "1.5.0",
      "_model_name": "HTMLModel",
      "_view_count": null,
      "_view_module": "@jupyter-widgets/controls",
      "_view_module_version": "1.5.0",
      "_view_name": "HTMLView",
      "description": "",
      "description_tooltip": null,
      "layout": "IPY_MODEL_9c658414939f48c8b21344f3d53bafea",
      "placeholder": "​",
      "style": "IPY_MODEL_784ec82fcaf94a1f9d159c4bbb85ab89",
      "value": ""
     }
    },
    "784ec82fcaf94a1f9d159c4bbb85ab89": {
     "model_module": "@jupyter-widgets/controls",
     "model_module_version": "1.5.0",
     "model_name": "DescriptionStyleModel",
     "state": {
      "_model_module": "@jupyter-widgets/controls",
      "_model_module_version": "1.5.0",
      "_model_name": "DescriptionStyleModel",
      "_view_count": null,
      "_view_module": "@jupyter-widgets/base",
      "_view_module_version": "1.2.0",
      "_view_name": "StyleView",
      "description_width": ""
     }
    },
    "7a7cb71612054e8c8b554085fcffc769": {
     "model_module": "@jupyter-widgets/base",
     "model_module_version": "1.2.0",
     "model_name": "LayoutModel",
     "state": {
      "_model_module": "@jupyter-widgets/base",
      "_model_module_version": "1.2.0",
      "_model_name": "LayoutModel",
      "_view_count": null,
      "_view_module": "@jupyter-widgets/base",
      "_view_module_version": "1.2.0",
      "_view_name": "LayoutView",
      "align_content": null,
      "align_items": null,
      "align_self": null,
      "border": null,
      "bottom": null,
      "display": null,
      "flex": null,
      "flex_flow": null,
      "grid_area": null,
      "grid_auto_columns": null,
      "grid_auto_flow": null,
      "grid_auto_rows": null,
      "grid_column": null,
      "grid_gap": null,
      "grid_row": null,
      "grid_template_areas": null,
      "grid_template_columns": null,
      "grid_template_rows": null,
      "height": null,
      "justify_content": null,
      "justify_items": null,
      "left": null,
      "margin": null,
      "max_height": null,
      "max_width": null,
      "min_height": null,
      "min_width": null,
      "object_fit": null,
      "object_position": null,
      "order": null,
      "overflow": null,
      "overflow_x": null,
      "overflow_y": null,
      "padding": null,
      "right": null,
      "top": null,
      "visibility": null,
      "width": null
     }
    },
    "843928ec94304ff3aa26e96ed3b63170": {
     "model_module": "@jupyter-widgets/controls",
     "model_module_version": "1.5.0",
     "model_name": "ProgressStyleModel",
     "state": {
      "_model_module": "@jupyter-widgets/controls",
      "_model_module_version": "1.5.0",
      "_model_name": "ProgressStyleModel",
      "_view_count": null,
      "_view_module": "@jupyter-widgets/base",
      "_view_module_version": "1.2.0",
      "_view_name": "StyleView",
      "bar_color": null,
      "description_width": ""
     }
    },
    "87da4a64d4744ee886c4e0edddd7354e": {
     "model_module": "@jupyter-widgets/controls",
     "model_module_version": "1.5.0",
     "model_name": "HTMLModel",
     "state": {
      "_dom_classes": [],
      "_model_module": "@jupyter-widgets/controls",
      "_model_module_version": "1.5.0",
      "_model_name": "HTMLModel",
      "_view_count": null,
      "_view_module": "@jupyter-widgets/controls",
      "_view_module_version": "1.5.0",
      "_view_name": "HTMLView",
      "description": "",
      "description_tooltip": null,
      "layout": "IPY_MODEL_5c3b037f1682429187207f8d2398491a",
      "placeholder": "​",
      "style": "IPY_MODEL_89f825979983427e8adf441bd7eccb3a",
      "value": " 26422272/? [00:03&lt;00:00, 11833265.74it/s]"
     }
    },
    "89f825979983427e8adf441bd7eccb3a": {
     "model_module": "@jupyter-widgets/controls",
     "model_module_version": "1.5.0",
     "model_name": "DescriptionStyleModel",
     "state": {
      "_model_module": "@jupyter-widgets/controls",
      "_model_module_version": "1.5.0",
      "_model_name": "DescriptionStyleModel",
      "_view_count": null,
      "_view_module": "@jupyter-widgets/base",
      "_view_module_version": "1.2.0",
      "_view_name": "StyleView",
      "description_width": ""
     }
    },
    "94706b754cd242b9bc441123802b4aab": {
     "model_module": "@jupyter-widgets/base",
     "model_module_version": "1.2.0",
     "model_name": "LayoutModel",
     "state": {
      "_model_module": "@jupyter-widgets/base",
      "_model_module_version": "1.2.0",
      "_model_name": "LayoutModel",
      "_view_count": null,
      "_view_module": "@jupyter-widgets/base",
      "_view_module_version": "1.2.0",
      "_view_name": "LayoutView",
      "align_content": null,
      "align_items": null,
      "align_self": null,
      "border": null,
      "bottom": null,
      "display": null,
      "flex": null,
      "flex_flow": null,
      "grid_area": null,
      "grid_auto_columns": null,
      "grid_auto_flow": null,
      "grid_auto_rows": null,
      "grid_column": null,
      "grid_gap": null,
      "grid_row": null,
      "grid_template_areas": null,
      "grid_template_columns": null,
      "grid_template_rows": null,
      "height": null,
      "justify_content": null,
      "justify_items": null,
      "left": null,
      "margin": null,
      "max_height": null,
      "max_width": null,
      "min_height": null,
      "min_width": null,
      "object_fit": null,
      "object_position": null,
      "order": null,
      "overflow": null,
      "overflow_x": null,
      "overflow_y": null,
      "padding": null,
      "right": null,
      "top": null,
      "visibility": null,
      "width": null
     }
    },
    "98161f9c23064b158a0bea18de43dee6": {
     "model_module": "@jupyter-widgets/controls",
     "model_module_version": "1.5.0",
     "model_name": "HTMLModel",
     "state": {
      "_dom_classes": [],
      "_model_module": "@jupyter-widgets/controls",
      "_model_module_version": "1.5.0",
      "_model_name": "HTMLModel",
      "_view_count": null,
      "_view_module": "@jupyter-widgets/controls",
      "_view_module_version": "1.5.0",
      "_view_name": "HTMLView",
      "description": "",
      "description_tooltip": null,
      "layout": "IPY_MODEL_0de1c145ca034d9ea71ec7f9f76a9bf3",
      "placeholder": "​",
      "style": "IPY_MODEL_ac22fb0085514c4d8b6b53f665b671fb",
      "value": ""
     }
    },
    "9c658414939f48c8b21344f3d53bafea": {
     "model_module": "@jupyter-widgets/base",
     "model_module_version": "1.2.0",
     "model_name": "LayoutModel",
     "state": {
      "_model_module": "@jupyter-widgets/base",
      "_model_module_version": "1.2.0",
      "_model_name": "LayoutModel",
      "_view_count": null,
      "_view_module": "@jupyter-widgets/base",
      "_view_module_version": "1.2.0",
      "_view_name": "LayoutView",
      "align_content": null,
      "align_items": null,
      "align_self": null,
      "border": null,
      "bottom": null,
      "display": null,
      "flex": null,
      "flex_flow": null,
      "grid_area": null,
      "grid_auto_columns": null,
      "grid_auto_flow": null,
      "grid_auto_rows": null,
      "grid_column": null,
      "grid_gap": null,
      "grid_row": null,
      "grid_template_areas": null,
      "grid_template_columns": null,
      "grid_template_rows": null,
      "height": null,
      "justify_content": null,
      "justify_items": null,
      "left": null,
      "margin": null,
      "max_height": null,
      "max_width": null,
      "min_height": null,
      "min_width": null,
      "object_fit": null,
      "object_position": null,
      "order": null,
      "overflow": null,
      "overflow_x": null,
      "overflow_y": null,
      "padding": null,
      "right": null,
      "top": null,
      "visibility": null,
      "width": null
     }
    },
    "9ed949f1883d418a9a6642e0b20d4608": {
     "model_module": "@jupyter-widgets/controls",
     "model_module_version": "1.5.0",
     "model_name": "HBoxModel",
     "state": {
      "_dom_classes": [],
      "_model_module": "@jupyter-widgets/controls",
      "_model_module_version": "1.5.0",
      "_model_name": "HBoxModel",
      "_view_count": null,
      "_view_module": "@jupyter-widgets/controls",
      "_view_module_version": "1.5.0",
      "_view_name": "HBoxView",
      "box_style": "",
      "children": [
       "IPY_MODEL_98161f9c23064b158a0bea18de43dee6",
       "IPY_MODEL_ebc821de5ab04e92a4b2adfe6b1fc8f1",
       "IPY_MODEL_2ea8b2db3ac14da1a6f405b7f70537fa"
      ],
      "layout": "IPY_MODEL_d8e2a89f575345739cf724503f3df3b6"
     }
    },
    "a0e9ba486e4d4fc7abfb01815d912952": {
     "model_module": "@jupyter-widgets/controls",
     "model_module_version": "1.5.0",
     "model_name": "HBoxModel",
     "state": {
      "_dom_classes": [],
      "_model_module": "@jupyter-widgets/controls",
      "_model_module_version": "1.5.0",
      "_model_name": "HBoxModel",
      "_view_count": null,
      "_view_module": "@jupyter-widgets/controls",
      "_view_module_version": "1.5.0",
      "_view_name": "HBoxView",
      "box_style": "",
      "children": [
       "IPY_MODEL_6b13fc7636764be99bf5cbc160d9cb75",
       "IPY_MODEL_08b9b7e8ad1e4c1d872d0dda1d9d14ec",
       "IPY_MODEL_ddb3c1be7608441da00ab14db95ea0e4"
      ],
      "layout": "IPY_MODEL_0ec4dc2e7d90483db04c35561b3ea1cf"
     }
    },
    "a337f511ac2e417483b7ce17c40cdf5b": {
     "model_module": "@jupyter-widgets/base",
     "model_module_version": "1.2.0",
     "model_name": "LayoutModel",
     "state": {
      "_model_module": "@jupyter-widgets/base",
      "_model_module_version": "1.2.0",
      "_model_name": "LayoutModel",
      "_view_count": null,
      "_view_module": "@jupyter-widgets/base",
      "_view_module_version": "1.2.0",
      "_view_name": "LayoutView",
      "align_content": null,
      "align_items": null,
      "align_self": null,
      "border": null,
      "bottom": null,
      "display": null,
      "flex": null,
      "flex_flow": null,
      "grid_area": null,
      "grid_auto_columns": null,
      "grid_auto_flow": null,
      "grid_auto_rows": null,
      "grid_column": null,
      "grid_gap": null,
      "grid_row": null,
      "grid_template_areas": null,
      "grid_template_columns": null,
      "grid_template_rows": null,
      "height": null,
      "justify_content": null,
      "justify_items": null,
      "left": null,
      "margin": null,
      "max_height": null,
      "max_width": null,
      "min_height": null,
      "min_width": null,
      "object_fit": null,
      "object_position": null,
      "order": null,
      "overflow": null,
      "overflow_x": null,
      "overflow_y": null,
      "padding": null,
      "right": null,
      "top": null,
      "visibility": null,
      "width": null
     }
    },
    "a9a21ed9108d44278aac231fd04eb1d2": {
     "model_module": "@jupyter-widgets/controls",
     "model_module_version": "1.5.0",
     "model_name": "FloatProgressModel",
     "state": {
      "_dom_classes": [],
      "_model_module": "@jupyter-widgets/controls",
      "_model_module_version": "1.5.0",
      "_model_name": "FloatProgressModel",
      "_view_count": null,
      "_view_module": "@jupyter-widgets/controls",
      "_view_module_version": "1.5.0",
      "_view_name": "ProgressView",
      "bar_style": "success",
      "description": "",
      "description_tooltip": null,
      "layout": "IPY_MODEL_a337f511ac2e417483b7ce17c40cdf5b",
      "max": 26421880,
      "min": 0,
      "orientation": "horizontal",
      "style": "IPY_MODEL_3576916c2104491a94b263563ba27d2d",
      "value": 26421880
     }
    },
    "ac22fb0085514c4d8b6b53f665b671fb": {
     "model_module": "@jupyter-widgets/controls",
     "model_module_version": "1.5.0",
     "model_name": "DescriptionStyleModel",
     "state": {
      "_model_module": "@jupyter-widgets/controls",
      "_model_module_version": "1.5.0",
      "_model_name": "DescriptionStyleModel",
      "_view_count": null,
      "_view_module": "@jupyter-widgets/base",
      "_view_module_version": "1.2.0",
      "_view_name": "StyleView",
      "description_width": ""
     }
    },
    "b528b527ed4845949761018d69eced0a": {
     "model_module": "@jupyter-widgets/controls",
     "model_module_version": "1.5.0",
     "model_name": "HBoxModel",
     "state": {
      "_dom_classes": [],
      "_model_module": "@jupyter-widgets/controls",
      "_model_module_version": "1.5.0",
      "_model_name": "HBoxModel",
      "_view_count": null,
      "_view_module": "@jupyter-widgets/controls",
      "_view_module_version": "1.5.0",
      "_view_name": "HBoxView",
      "box_style": "",
      "children": [
       "IPY_MODEL_fcd77fc059154aacaf67869d5093dc6e",
       "IPY_MODEL_a9a21ed9108d44278aac231fd04eb1d2",
       "IPY_MODEL_87da4a64d4744ee886c4e0edddd7354e"
      ],
      "layout": "IPY_MODEL_ee8bf65851304c16b38d9fbb1eb455a9"
     }
    },
    "be16522a302a49fbb95feb21ee0a6084": {
     "model_module": "@jupyter-widgets/base",
     "model_module_version": "1.2.0",
     "model_name": "LayoutModel",
     "state": {
      "_model_module": "@jupyter-widgets/base",
      "_model_module_version": "1.2.0",
      "_model_name": "LayoutModel",
      "_view_count": null,
      "_view_module": "@jupyter-widgets/base",
      "_view_module_version": "1.2.0",
      "_view_name": "LayoutView",
      "align_content": null,
      "align_items": null,
      "align_self": null,
      "border": null,
      "bottom": null,
      "display": null,
      "flex": null,
      "flex_flow": null,
      "grid_area": null,
      "grid_auto_columns": null,
      "grid_auto_flow": null,
      "grid_auto_rows": null,
      "grid_column": null,
      "grid_gap": null,
      "grid_row": null,
      "grid_template_areas": null,
      "grid_template_columns": null,
      "grid_template_rows": null,
      "height": null,
      "justify_content": null,
      "justify_items": null,
      "left": null,
      "margin": null,
      "max_height": null,
      "max_width": null,
      "min_height": null,
      "min_width": null,
      "object_fit": null,
      "object_position": null,
      "order": null,
      "overflow": null,
      "overflow_x": null,
      "overflow_y": null,
      "padding": null,
      "right": null,
      "top": null,
      "visibility": null,
      "width": null
     }
    },
    "cd2b243480b741c7b8ddf979b5dcca2b": {
     "model_module": "@jupyter-widgets/controls",
     "model_module_version": "1.5.0",
     "model_name": "DescriptionStyleModel",
     "state": {
      "_model_module": "@jupyter-widgets/controls",
      "_model_module_version": "1.5.0",
      "_model_name": "DescriptionStyleModel",
      "_view_count": null,
      "_view_module": "@jupyter-widgets/base",
      "_view_module_version": "1.2.0",
      "_view_name": "StyleView",
      "description_width": ""
     }
    },
    "d0058cd7c4094e51a404a6df72af5051": {
     "model_module": "@jupyter-widgets/controls",
     "model_module_version": "1.5.0",
     "model_name": "HTMLModel",
     "state": {
      "_dom_classes": [],
      "_model_module": "@jupyter-widgets/controls",
      "_model_module_version": "1.5.0",
      "_model_name": "HTMLModel",
      "_view_count": null,
      "_view_module": "@jupyter-widgets/controls",
      "_view_module_version": "1.5.0",
      "_view_name": "HTMLView",
      "description": "",
      "description_tooltip": null,
      "layout": "IPY_MODEL_e3dc910fee38437f9c47285fe3e07b31",
      "placeholder": "​",
      "style": "IPY_MODEL_44a21b9ae40f4f3db6d86d960fb694c9",
      "value": ""
     }
    },
    "d4173a10d7354479bacccbe5940ab124": {
     "model_module": "@jupyter-widgets/controls",
     "model_module_version": "1.5.0",
     "model_name": "DescriptionStyleModel",
     "state": {
      "_model_module": "@jupyter-widgets/controls",
      "_model_module_version": "1.5.0",
      "_model_name": "DescriptionStyleModel",
      "_view_count": null,
      "_view_module": "@jupyter-widgets/base",
      "_view_module_version": "1.2.0",
      "_view_name": "StyleView",
      "description_width": ""
     }
    },
    "d8e2a89f575345739cf724503f3df3b6": {
     "model_module": "@jupyter-widgets/base",
     "model_module_version": "1.2.0",
     "model_name": "LayoutModel",
     "state": {
      "_model_module": "@jupyter-widgets/base",
      "_model_module_version": "1.2.0",
      "_model_name": "LayoutModel",
      "_view_count": null,
      "_view_module": "@jupyter-widgets/base",
      "_view_module_version": "1.2.0",
      "_view_name": "LayoutView",
      "align_content": null,
      "align_items": null,
      "align_self": null,
      "border": null,
      "bottom": null,
      "display": null,
      "flex": null,
      "flex_flow": null,
      "grid_area": null,
      "grid_auto_columns": null,
      "grid_auto_flow": null,
      "grid_auto_rows": null,
      "grid_column": null,
      "grid_gap": null,
      "grid_row": null,
      "grid_template_areas": null,
      "grid_template_columns": null,
      "grid_template_rows": null,
      "height": null,
      "justify_content": null,
      "justify_items": null,
      "left": null,
      "margin": null,
      "max_height": null,
      "max_width": null,
      "min_height": null,
      "min_width": null,
      "object_fit": null,
      "object_position": null,
      "order": null,
      "overflow": null,
      "overflow_x": null,
      "overflow_y": null,
      "padding": null,
      "right": null,
      "top": null,
      "visibility": null,
      "width": null
     }
    },
    "ddb3c1be7608441da00ab14db95ea0e4": {
     "model_module": "@jupyter-widgets/controls",
     "model_module_version": "1.5.0",
     "model_name": "HTMLModel",
     "state": {
      "_dom_classes": [],
      "_model_module": "@jupyter-widgets/controls",
      "_model_module_version": "1.5.0",
      "_model_name": "HTMLModel",
      "_view_count": null,
      "_view_module": "@jupyter-widgets/controls",
      "_view_module_version": "1.5.0",
      "_view_name": "HTMLView",
      "description": "",
      "description_tooltip": null,
      "layout": "IPY_MODEL_be16522a302a49fbb95feb21ee0a6084",
      "placeholder": "​",
      "style": "IPY_MODEL_22eb35dad82f4415b75369d4ace033d6",
      "value": " 29696/? [00:00&lt;00:00, 55103.82it/s]"
     }
    },
    "dff536086070430d90ddde1b5dc16b36": {
     "model_module": "@jupyter-widgets/base",
     "model_module_version": "1.2.0",
     "model_name": "LayoutModel",
     "state": {
      "_model_module": "@jupyter-widgets/base",
      "_model_module_version": "1.2.0",
      "_model_name": "LayoutModel",
      "_view_count": null,
      "_view_module": "@jupyter-widgets/base",
      "_view_module_version": "1.2.0",
      "_view_name": "LayoutView",
      "align_content": null,
      "align_items": null,
      "align_self": null,
      "border": null,
      "bottom": null,
      "display": null,
      "flex": null,
      "flex_flow": null,
      "grid_area": null,
      "grid_auto_columns": null,
      "grid_auto_flow": null,
      "grid_auto_rows": null,
      "grid_column": null,
      "grid_gap": null,
      "grid_row": null,
      "grid_template_areas": null,
      "grid_template_columns": null,
      "grid_template_rows": null,
      "height": null,
      "justify_content": null,
      "justify_items": null,
      "left": null,
      "margin": null,
      "max_height": null,
      "max_width": null,
      "min_height": null,
      "min_width": null,
      "object_fit": null,
      "object_position": null,
      "order": null,
      "overflow": null,
      "overflow_x": null,
      "overflow_y": null,
      "padding": null,
      "right": null,
      "top": null,
      "visibility": null,
      "width": null
     }
    },
    "e3dc910fee38437f9c47285fe3e07b31": {
     "model_module": "@jupyter-widgets/base",
     "model_module_version": "1.2.0",
     "model_name": "LayoutModel",
     "state": {
      "_model_module": "@jupyter-widgets/base",
      "_model_module_version": "1.2.0",
      "_model_name": "LayoutModel",
      "_view_count": null,
      "_view_module": "@jupyter-widgets/base",
      "_view_module_version": "1.2.0",
      "_view_name": "LayoutView",
      "align_content": null,
      "align_items": null,
      "align_self": null,
      "border": null,
      "bottom": null,
      "display": null,
      "flex": null,
      "flex_flow": null,
      "grid_area": null,
      "grid_auto_columns": null,
      "grid_auto_flow": null,
      "grid_auto_rows": null,
      "grid_column": null,
      "grid_gap": null,
      "grid_row": null,
      "grid_template_areas": null,
      "grid_template_columns": null,
      "grid_template_rows": null,
      "height": null,
      "justify_content": null,
      "justify_items": null,
      "left": null,
      "margin": null,
      "max_height": null,
      "max_width": null,
      "min_height": null,
      "min_width": null,
      "object_fit": null,
      "object_position": null,
      "order": null,
      "overflow": null,
      "overflow_x": null,
      "overflow_y": null,
      "padding": null,
      "right": null,
      "top": null,
      "visibility": null,
      "width": null
     }
    },
    "ebc821de5ab04e92a4b2adfe6b1fc8f1": {
     "model_module": "@jupyter-widgets/controls",
     "model_module_version": "1.5.0",
     "model_name": "FloatProgressModel",
     "state": {
      "_dom_classes": [],
      "_model_module": "@jupyter-widgets/controls",
      "_model_module_version": "1.5.0",
      "_model_name": "FloatProgressModel",
      "_view_count": null,
      "_view_module": "@jupyter-widgets/controls",
      "_view_module_version": "1.5.0",
      "_view_name": "ProgressView",
      "bar_style": "success",
      "description": "",
      "description_tooltip": null,
      "layout": "IPY_MODEL_1f550336050e4be389b75e780668faac",
      "max": 4422102,
      "min": 0,
      "orientation": "horizontal",
      "style": "IPY_MODEL_843928ec94304ff3aa26e96ed3b63170",
      "value": 4422102
     }
    },
    "ee8bf65851304c16b38d9fbb1eb455a9": {
     "model_module": "@jupyter-widgets/base",
     "model_module_version": "1.2.0",
     "model_name": "LayoutModel",
     "state": {
      "_model_module": "@jupyter-widgets/base",
      "_model_module_version": "1.2.0",
      "_model_name": "LayoutModel",
      "_view_count": null,
      "_view_module": "@jupyter-widgets/base",
      "_view_module_version": "1.2.0",
      "_view_name": "LayoutView",
      "align_content": null,
      "align_items": null,
      "align_self": null,
      "border": null,
      "bottom": null,
      "display": null,
      "flex": null,
      "flex_flow": null,
      "grid_area": null,
      "grid_auto_columns": null,
      "grid_auto_flow": null,
      "grid_auto_rows": null,
      "grid_column": null,
      "grid_gap": null,
      "grid_row": null,
      "grid_template_areas": null,
      "grid_template_columns": null,
      "grid_template_rows": null,
      "height": null,
      "justify_content": null,
      "justify_items": null,
      "left": null,
      "margin": null,
      "max_height": null,
      "max_width": null,
      "min_height": null,
      "min_width": null,
      "object_fit": null,
      "object_position": null,
      "order": null,
      "overflow": null,
      "overflow_x": null,
      "overflow_y": null,
      "padding": null,
      "right": null,
      "top": null,
      "visibility": null,
      "width": null
     }
    },
    "f435538d407f40c4a7c96015c4495499": {
     "model_module": "@jupyter-widgets/base",
     "model_module_version": "1.2.0",
     "model_name": "LayoutModel",
     "state": {
      "_model_module": "@jupyter-widgets/base",
      "_model_module_version": "1.2.0",
      "_model_name": "LayoutModel",
      "_view_count": null,
      "_view_module": "@jupyter-widgets/base",
      "_view_module_version": "1.2.0",
      "_view_name": "LayoutView",
      "align_content": null,
      "align_items": null,
      "align_self": null,
      "border": null,
      "bottom": null,
      "display": null,
      "flex": null,
      "flex_flow": null,
      "grid_area": null,
      "grid_auto_columns": null,
      "grid_auto_flow": null,
      "grid_auto_rows": null,
      "grid_column": null,
      "grid_gap": null,
      "grid_row": null,
      "grid_template_areas": null,
      "grid_template_columns": null,
      "grid_template_rows": null,
      "height": null,
      "justify_content": null,
      "justify_items": null,
      "left": null,
      "margin": null,
      "max_height": null,
      "max_width": null,
      "min_height": null,
      "min_width": null,
      "object_fit": null,
      "object_position": null,
      "order": null,
      "overflow": null,
      "overflow_x": null,
      "overflow_y": null,
      "padding": null,
      "right": null,
      "top": null,
      "visibility": null,
      "width": null
     }
    },
    "fcd77fc059154aacaf67869d5093dc6e": {
     "model_module": "@jupyter-widgets/controls",
     "model_module_version": "1.5.0",
     "model_name": "HTMLModel",
     "state": {
      "_dom_classes": [],
      "_model_module": "@jupyter-widgets/controls",
      "_model_module_version": "1.5.0",
      "_model_name": "HTMLModel",
      "_view_count": null,
      "_view_module": "@jupyter-widgets/controls",
      "_view_module_version": "1.5.0",
      "_view_name": "HTMLView",
      "description": "",
      "description_tooltip": null,
      "layout": "IPY_MODEL_30bf409a87a14912a92ac51f4aeef997",
      "placeholder": "​",
      "style": "IPY_MODEL_155cda0b59964d7cb3be2ab7ad43eed0",
      "value": ""
     }
    },
    "ff131c42701a42f7b527358b3b5ca0ca": {
     "model_module": "@jupyter-widgets/controls",
     "model_module_version": "1.5.0",
     "model_name": "HBoxModel",
     "state": {
      "_dom_classes": [],
      "_model_module": "@jupyter-widgets/controls",
      "_model_module_version": "1.5.0",
      "_model_name": "HBoxModel",
      "_view_count": null,
      "_view_module": "@jupyter-widgets/controls",
      "_view_module_version": "1.5.0",
      "_view_name": "HBoxView",
      "box_style": "",
      "children": [
       "IPY_MODEL_d0058cd7c4094e51a404a6df72af5051",
       "IPY_MODEL_6933c9b5d8724579bd9a762698bf14df",
       "IPY_MODEL_0a0700589e9e408e83f77f74c99fa992"
      ],
      "layout": "IPY_MODEL_2a09325f16fc484ba2f34687e35662ff"
     }
    }
   }
  }
 },
 "nbformat": 4,
 "nbformat_minor": 4
}
