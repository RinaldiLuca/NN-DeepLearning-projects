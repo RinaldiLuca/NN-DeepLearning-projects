{
 "cells": [
  {
   "cell_type": "markdown",
   "id": "-fdeoolyD17p",
   "metadata": {
    "id": "-fdeoolyD17p"
   },
   "source": [
    "# NEURAL NETWORKS AND DEEP LEARNING\n",
    "\n",
    "---\n",
    "A.A. 2021/22 (6 CFU) - Dr. Alberto Testolin, Dr. Umberto Michieli\n",
    "---\n"
   ]
  },
  {
   "cell_type": "markdown",
   "id": "AWjKJ8xyD4nK",
   "metadata": {
    "id": "AWjKJ8xyD4nK"
   },
   "source": [
    "# Homework 2"
   ]
  },
  {
   "cell_type": "markdown",
   "id": "e2b10ee4-2908-41c3-8b46-c5fb9eee5d61",
   "metadata": {
    "id": "e2b10ee4-2908-41c3-8b46-c5fb9eee5d61"
   },
   "source": [
    "# Convolutional Autoencoder\n",
    "***"
   ]
  },
  {
   "cell_type": "markdown",
   "id": "JhWECvdZEO8q",
   "metadata": {
    "id": "JhWECvdZEO8q"
   },
   "source": [
    "## Libraries"
   ]
  },
  {
   "cell_type": "code",
   "execution_count": 3,
   "id": "290b3d7c-60a4-408a-8cb8-5e134fd27979",
   "metadata": {
    "id": "290b3d7c-60a4-408a-8cb8-5e134fd27979"
   },
   "outputs": [],
   "source": [
    "import matplotlib.pyplot as plt # plotting library\n",
    "import numpy as np # this module is useful to work with numerical arrays\n",
    "import pandas as pd # this module is useful to work with tabular data\n",
    "import random # this module will be used to select random samples from a collection\n",
    "import os # this module will be used just to create directories in the local filesystem\n",
    "from tqdm import tqdm # this module is useful to plot progress bars\n",
    "\n",
    "import torch\n",
    "import torchvision\n",
    "from torchvision import transforms\n",
    "from torch.utils.data import DataLoader, random_split\n",
    "from torch import nn\n",
    "from sklearn.decomposition import PCA\n",
    "from sklearn.manifold import TSNE"
   ]
  },
  {
   "cell_type": "code",
   "execution_count": 4,
   "id": "260e37e7-5e84-486a-bb25-0154a59d2e5f",
   "metadata": {
    "colab": {
     "base_uri": "https://localhost:8080/"
    },
    "id": "260e37e7-5e84-486a-bb25-0154a59d2e5f",
    "outputId": "c04a16bc-9a9e-402e-efa0-49d82467eda9"
   },
   "outputs": [
    {
     "name": "stdout",
     "output_type": "stream",
     "text": [
      "Selected device: cuda\n"
     ]
    }
   ],
   "source": [
    "# Check if the GPU is available\n",
    "device = torch.device(\"cuda\") if torch.cuda.is_available() else torch.device(\"cpu\")\n",
    "print(f'Selected device: {device}')"
   ]
  },
  {
   "cell_type": "markdown",
   "id": "2AntsJXUEdZ9",
   "metadata": {
    "id": "2AntsJXUEdZ9"
   },
   "source": [
    "## Dataset\n",
    "***\n",
    "\n",
    "Before downloading the datasets I define a composed transformation to be applied on the elements of the dataset. The data are transformed to tensors and normalized such that their values goes from -1 to 1."
   ]
  },
  {
   "cell_type": "code",
   "execution_count": 5,
   "id": "10d48ffd-fab3-4381-b740-bcdbb84438b1",
   "metadata": {
    "id": "10d48ffd-fab3-4381-b740-bcdbb84438b1"
   },
   "outputs": [],
   "source": [
    "initial_transform = transforms.Compose([transforms.ToTensor(),\n",
    "                                        transforms.Normalize(0.5,0.5)])"
   ]
  },
  {
   "cell_type": "code",
   "execution_count": 6,
   "id": "0c9e5f22-e08d-4df7-9516-8a1791338b0e",
   "metadata": {
    "colab": {
     "base_uri": "https://localhost:8080/",
     "height": 423,
     "referenced_widgets": [
      "8357ca1566754f16877ebd7845126dc4",
      "ba8bead7457149aa97596102ba283765",
      "e15d89123b8348fe9ab58dc534469692",
      "8bec5324b96c41cc866b8c41054fb776",
      "ba19aedd075446c8b68e8e4a82799bc2",
      "2831795547184d2ebeab0ddad5c0d7d6",
      "f9c2dc1701d54a2ea5bd566e0f15b473",
      "240a1597bff94df9a3ef872d678e1051",
      "052c6df8f1194c5fa8ce95741b29e601",
      "0e043018133b4afeae81c22501d8b7bd",
      "1a94f3466f844d939b9226b6eb5cc10c",
      "82fa169d680449b0b6ba86ade9f27995",
      "4e9a244900974161b966c0de095016e4",
      "6c2dd5f1bba94aceb77edfdee51d76cc",
      "fa43055cc1c247cb89e6823f03ae5fd1",
      "d81693a9e10745879136433a36b23ab5",
      "672494ff09e247238a35bc800779e0b5",
      "befd5c45bb66403ca22b4d146773ef71",
      "68a93783de68490c9e4bb512bf3a1cd5",
      "8dede88e4d444e3483493d3de1bd4f68",
      "2733cb8a2323445d978834a82498ea52",
      "8b2c3262eebf42499df39c92f8d57ab1",
      "ec1a162a48ef43ce9189a67e1a612f81",
      "0e73f8cfcad1421fa0f5ad0260893bd5",
      "60e4bdfc0cc1433a8e60c1e6ee688088",
      "2d4d59a396734f73bc283fece4b4ba95",
      "03b5fcda07cc4b87bbb76e061119005e",
      "3574a8b62e5a4937a14e708571b5cff6",
      "31962decc2ef46a5b58a83d735fd07e3",
      "a4462fec8f1b465eb2af835aee8fba32",
      "419ab7e4753d403e8db9ee0d2f3ace3c",
      "57407352ff1a433f92005f172a44f7d6",
      "da59a7cf3c3249abad4fc93eee806c08",
      "d7576016392d4eb181c83eb38100c32a",
      "d61729239ea54948a33306a8163ca0c7",
      "354f721fe33340bfa6a3b0a1973646bb",
      "a596bf6a5fea45989f8a3238b338481b",
      "f5bb87502f354499bc5d1bbfd6404f26",
      "073dc026d979454e99696bb978a2ce5b",
      "90d91d4565d74bacb803ec7463ac6b51",
      "bf5566757ad84f0c9dd76931b578c0df",
      "fc36e626bc154409aac16ad338d57f8b",
      "78b65bbe79644f7d850550f14866192d",
      "d0963bb0894743798cfefbcc9aa410b2"
     ]
    },
    "id": "0c9e5f22-e08d-4df7-9516-8a1791338b0e",
    "outputId": "0ca3395e-03fc-4071-b81e-cbb63eefd17f"
   },
   "outputs": [
    {
     "name": "stdout",
     "output_type": "stream",
     "text": [
      "Downloading http://fashion-mnist.s3-website.eu-central-1.amazonaws.com/train-images-idx3-ubyte.gz\n",
      "Downloading http://fashion-mnist.s3-website.eu-central-1.amazonaws.com/train-images-idx3-ubyte.gz to data/FashionMNIST/raw/train-images-idx3-ubyte.gz\n"
     ]
    },
    {
     "data": {
      "application/vnd.jupyter.widget-view+json": {
       "model_id": "8357ca1566754f16877ebd7845126dc4",
       "version_major": 2,
       "version_minor": 0
      },
      "text/plain": [
       "  0%|          | 0/26421880 [00:00<?, ?it/s]"
      ]
     },
     "metadata": {},
     "output_type": "display_data"
    },
    {
     "name": "stdout",
     "output_type": "stream",
     "text": [
      "Extracting data/FashionMNIST/raw/train-images-idx3-ubyte.gz to data/FashionMNIST/raw\n",
      "\n",
      "Downloading http://fashion-mnist.s3-website.eu-central-1.amazonaws.com/train-labels-idx1-ubyte.gz\n",
      "Downloading http://fashion-mnist.s3-website.eu-central-1.amazonaws.com/train-labels-idx1-ubyte.gz to data/FashionMNIST/raw/train-labels-idx1-ubyte.gz\n"
     ]
    },
    {
     "data": {
      "application/vnd.jupyter.widget-view+json": {
       "model_id": "82fa169d680449b0b6ba86ade9f27995",
       "version_major": 2,
       "version_minor": 0
      },
      "text/plain": [
       "  0%|          | 0/29515 [00:00<?, ?it/s]"
      ]
     },
     "metadata": {},
     "output_type": "display_data"
    },
    {
     "name": "stdout",
     "output_type": "stream",
     "text": [
      "Extracting data/FashionMNIST/raw/train-labels-idx1-ubyte.gz to data/FashionMNIST/raw\n",
      "\n",
      "Downloading http://fashion-mnist.s3-website.eu-central-1.amazonaws.com/t10k-images-idx3-ubyte.gz\n",
      "Downloading http://fashion-mnist.s3-website.eu-central-1.amazonaws.com/t10k-images-idx3-ubyte.gz to data/FashionMNIST/raw/t10k-images-idx3-ubyte.gz\n"
     ]
    },
    {
     "data": {
      "application/vnd.jupyter.widget-view+json": {
       "model_id": "ec1a162a48ef43ce9189a67e1a612f81",
       "version_major": 2,
       "version_minor": 0
      },
      "text/plain": [
       "  0%|          | 0/4422102 [00:00<?, ?it/s]"
      ]
     },
     "metadata": {},
     "output_type": "display_data"
    },
    {
     "name": "stdout",
     "output_type": "stream",
     "text": [
      "Extracting data/FashionMNIST/raw/t10k-images-idx3-ubyte.gz to data/FashionMNIST/raw\n",
      "\n",
      "Downloading http://fashion-mnist.s3-website.eu-central-1.amazonaws.com/t10k-labels-idx1-ubyte.gz\n",
      "Downloading http://fashion-mnist.s3-website.eu-central-1.amazonaws.com/t10k-labels-idx1-ubyte.gz to data/FashionMNIST/raw/t10k-labels-idx1-ubyte.gz\n"
     ]
    },
    {
     "data": {
      "application/vnd.jupyter.widget-view+json": {
       "model_id": "d7576016392d4eb181c83eb38100c32a",
       "version_major": 2,
       "version_minor": 0
      },
      "text/plain": [
       "  0%|          | 0/5148 [00:00<?, ?it/s]"
      ]
     },
     "metadata": {},
     "output_type": "display_data"
    },
    {
     "name": "stdout",
     "output_type": "stream",
     "text": [
      "Extracting data/FashionMNIST/raw/t10k-labels-idx1-ubyte.gz to data/FashionMNIST/raw\n",
      "\n"
     ]
    }
   ],
   "source": [
    "data_dir = 'data/'\n",
    "\n",
    "train_dataset = torchvision.datasets.FashionMNIST(data_dir, train=True, download=True, transform=initial_transform)\n",
    "test_dataset  = torchvision.datasets.FashionMNIST(data_dir, train=False, download=True, transform=initial_transform)\n",
    "\n",
    "N_val = int(len(train_dataset)*0.2)\n",
    "train_dataset_red, val_dataset = random_split(train_dataset, \n",
    "                                 lengths=[len(train_dataset)-N_val, N_val], \n",
    "                                 generator=torch.Generator().manual_seed(42))\n",
    "train_dataloader = DataLoader(train_dataset, batch_size=100, shuffle=True, num_workers=0)\n",
    "train_dataloader_red = DataLoader(train_dataset_red, batch_size=100, shuffle=True, num_workers=0)\n",
    "val_dataloader   = DataLoader(val_dataset, batch_size=100, shuffle=True, num_workers=0)\n",
    "test_dataloader  = DataLoader(test_dataset, batch_size=100, shuffle=True, num_workers=0)"
   ]
  },
  {
   "cell_type": "markdown",
   "id": "OUw9NjQ3ElSo",
   "metadata": {
    "id": "OUw9NjQ3ElSo"
   },
   "source": [
    "## Network Definition\n",
    "***\n",
    "\n",
    "Here I define a Convolutional Neural Network, and its functions to train and test the model.\n",
    "The convolutional Autoencoder is composed of:\n",
    "\n",
    "**Encoder**:\n",
    "* `Conv2d` layer with 1 channel in input (images are grayscale) and 16 channels in output. 3x3 kernel, stride=2, padding=1 to reduce the sample size from 28x28 to 14x14. The activation function of the layer is `ReLU`.\n",
    "* Second `Conv2d` layer with 16 channel in input and 32 channels in output. 3x3 kernel, stride=2, padding=1 to reduce the sample size from 14x14 to 7x7 . Again the activation function is a `ReLU`.\n",
    "* Last `Conv2d` layer with 32 channels in input and 64 in output with a kernel 7x7, such that each channels correspond to a single value\n",
    "\n",
    "**Decoder**: Has the same structure of the Encoder, but reversed, composed of 3 `ConvTranspose2d` that goes from 64 to 32 to 16 to 1.\n",
    "At the end the output is fed to a `Tanh` layer to have the data inside [-1,1] range."
   ]
  },
  {
   "cell_type": "code",
   "execution_count": 109,
   "id": "e167e03f-2d82-4b67-93d7-a208533aaff2",
   "metadata": {
    "id": "e167e03f-2d82-4b67-93d7-a208533aaff2"
   },
   "outputs": [],
   "source": [
    "class ConvAutoencoder(nn.Module):\n",
    "    \n",
    "    def __init__(self, latent_dim):\n",
    "        super().__init__()\n",
    "        \n",
    "        ## Encoder\n",
    "        # N, 1, 28, 28\n",
    "        self.encoder = nn.Sequential(\n",
    "            nn.Conv2d(1, 16, 3, stride=2, padding=1), # N, 16, 14, 14\n",
    "            nn.ReLU(),\n",
    "            nn.Conv2d(16, 32, 3, stride=2, padding=1), # N, 32, 7, 7\n",
    "            nn.ReLU(),\n",
    "            nn.Conv2d(32, latent_dim, 7) # N, 64, 1, 1\n",
    "        )\n",
    "        \n",
    "        ## Decoder\n",
    "        # N, 64, 1, 1\n",
    "        self.decoder = nn.Sequential(\n",
    "            nn.ConvTranspose2d(latent_dim, 32, 7), # N, 32, 7, 7\n",
    "            nn.ReLU(),\n",
    "            nn.ConvTranspose2d(32, 16, 3, stride=2, padding=1, output_padding=1), # N, 16, 14, 14\n",
    "            nn.ReLU(),\n",
    "            nn.ConvTranspose2d(16, 1, 3, stride=2, padding=1, output_padding=1), # N, 1, 28, 28\n",
    "            nn.Tanh()  \n",
    "        )\n",
    "        \n",
    "    def forward(self, x):\n",
    "        x = self.encoder(x)\n",
    "        x = self.decoder(x)\n",
    "        return x\n",
    "    \n",
    "### Training cycle function\n",
    "def train_epoch(model, device, dataloader, loss_fn, optimizer):\n",
    "    model.train()\n",
    "    # Iterate the dataloader (we do not need the label values, this is unsupervised learning)\n",
    "    foo = tqdm(dataloader)\n",
    "    for image_batch, _ in foo: # with \"_\" we just ignore the labels (the second element of the dataloader tuple)\n",
    "        # Move tensor to the proper device\n",
    "        image_batch = image_batch.to(device)\n",
    "        # Encode-Decode data\n",
    "        decoded_data = model(image_batch)\n",
    "        # Evaluate loss\n",
    "        loss = loss_fn(decoded_data, image_batch)\n",
    "        # Backward pass\n",
    "        optimizer.zero_grad()\n",
    "        loss.backward()\n",
    "        optimizer.step()\n",
    "        # Print batch loss\n",
    "        foo.set_description('Train batch loss: %f' % (loss.data))\n",
    "\n",
    "### Testing cycle function\n",
    "def test_epoch(model, device, dataloader, loss_fn):\n",
    "    model.eval()\n",
    "    with torch.no_grad(): # No need to track the gradients\n",
    "        # Define the lists to store the outputs for each batch\n",
    "        val_loss = []\n",
    "        for image_batch, _ in dataloader:\n",
    "            # Move tensor to the proper device\n",
    "            image_batch = image_batch.to(device)\n",
    "            # Encode-Decode data\n",
    "            decoded_data = model(image_batch)\n",
    "            # Batch loss\n",
    "            loss_batch = loss_fn(decoded_data, image_batch)\n",
    "            # Append the loss\n",
    "            val_loss.append(loss_batch.detach().cpu().numpy())\n",
    "    return np.mean(val_loss)\n",
    "\n",
    "### Trainer\n",
    "def run_training(model, num_epochs, train_dataloader, val_dataloader, optim, loss_fn, device):\n",
    "    model.to(device)\n",
    "    for epoch in range(num_epochs):\n",
    "        print('EPOCH %d/%d' % (epoch + 1, num_epochs))\n",
    "        ### Training\n",
    "        train_epoch(\n",
    "            model=model,\n",
    "            device=device, \n",
    "            dataloader=train_dataloader, \n",
    "            loss_fn=loss_fn, \n",
    "            optimizer=optim)\n",
    "        ### Validation  (use the testing function)\n",
    "        val_loss = test_epoch(\n",
    "            model=model,\n",
    "            device=device, \n",
    "            dataloader=val_dataloader, \n",
    "            loss_fn=loss_fn)\n",
    "        # Print Validationloss\n",
    "        print('\\n\\n\\t VALIDATION - EPOCH %d/%d - loss: %f\\n\\n' % (epoch + 1, num_epochs, val_loss))\n",
    "\n",
    "        ### Plot progress\n",
    "        # Get the output of a specific image (the test image at index 0 in this case)\n",
    "        img = test_dataset[0][0].unsqueeze(0).to(device)\n",
    "        model.eval()\n",
    "        with torch.no_grad():\n",
    "            rec_img  = model(img)\n",
    "        # Plot the reconstructed image\n",
    "        fig, axs = plt.subplots(1, 2, figsize=(6,3))\n",
    "        axs[0].imshow(img.cpu().squeeze().numpy(), cmap='gist_gray')\n",
    "        axs[0].set_title('Original image')\n",
    "        axs[1].imshow(rec_img.cpu().squeeze().numpy(), cmap='gist_gray')\n",
    "        axs[1].set_title('Reconstructed image (EPOCH %d)' % (epoch + 1))\n",
    "        plt.tight_layout()\n",
    "        plt.pause(0.1)\n",
    "        plt.show()\n",
    "        plt.close()\n",
    "\n",
    "        # Save network parameters\n",
    "        torch.save(model.encoder.state_dict(), 'encoder_params.pth')\n",
    "        torch.save(model.decoder.state_dict(), 'decoder_params.pth')"
   ]
  },
  {
   "cell_type": "markdown",
   "id": "UpPfawLJHYn9",
   "metadata": {
    "id": "UpPfawLJHYn9"
   },
   "source": [
    "## Trial Network\n",
    "***\n",
    "\n",
    "Now I define and train a simple network to test if everything works fine.\n",
    "We fix the dimension of the latent space equal to 5.\n",
    "\n",
    "The loss function will be the `MSELoss` because we want that the reconstructed image is as similar as possible to the original one.\n",
    "\n",
    "The optimizer (Adam) is initialized in order to optimize both encorder and decoder."
   ]
  },
  {
   "cell_type": "code",
   "execution_count": 110,
   "id": "7f43c90b-39c6-4ec0-89b3-d6620ae2551c",
   "metadata": {
    "colab": {
     "base_uri": "https://localhost:8080/"
    },
    "id": "7f43c90b-39c6-4ec0-89b3-d6620ae2551c",
    "outputId": "7b13fb49-b026-47b1-8287-92f544198001"
   },
   "outputs": [
    {
     "name": "stdout",
     "output_type": "stream",
     "text": [
      "Original image shape: torch.Size([1, 1, 28, 28])\n",
      "Encoded image shape: torch.Size([1, 5, 1, 1])\n",
      "Decoded image shape: torch.Size([1, 1, 28, 28])\n",
      "Autoencoded image shape: torch.Size([1, 1, 28, 28])\n"
     ]
    }
   ],
   "source": [
    "## Test if the dimensions are fine\n",
    "latent_dim = 5\n",
    "ConvAut = ConvAutoencoder(latent_dim)\n",
    "\n",
    "img, _ = test_dataset[0]\n",
    "img = img.unsqueeze(0) # Add the batch dimension in the first axis\n",
    "print('Original image shape:', img.shape)\n",
    "# Encode the image\n",
    "img_enc = ConvAut.encoder(img)\n",
    "print('Encoded image shape:', img_enc.shape)\n",
    "# Decode the image\n",
    "dec_img = ConvAut.decoder(img_enc)\n",
    "print('Decoded image shape:', dec_img.shape)\n",
    "# Autoencode the image\n",
    "aut_img = ConvAut(img)\n",
    "print('Autoencoded image shape:', aut_img.shape)"
   ]
  },
  {
   "cell_type": "code",
   "execution_count": 111,
   "id": "240bf692-7d2b-4029-bc70-6c546f30539b",
   "metadata": {
    "id": "240bf692-7d2b-4029-bc70-6c546f30539b"
   },
   "outputs": [],
   "source": [
    "### Set the random seed for reproducible results\n",
    "torch.manual_seed(0)\n",
    "\n",
    "### Initialize the two networks\n",
    "latent_dim = 10\n",
    "ConvAut = ConvAutoencoder(latent_dim)\n",
    "\n",
    "### Define the loss function\n",
    "loss_fn = torch.nn.MSELoss()\n",
    "\n",
    "### Define an optimizer \n",
    "params_to_optimize = [\n",
    "    {'params': ConvAut.encoder.parameters()},\n",
    "    {'params': ConvAut.decoder.parameters()}\n",
    "]\n",
    "optim = torch.optim.Adam(params_to_optimize, lr=5e-4, weight_decay=1e-5)"
   ]
  },
  {
   "cell_type": "code",
   "execution_count": 112,
   "id": "0cb0bddc-5b9a-41a7-b05b-3895fb0d6c57",
   "metadata": {
    "colab": {
     "base_uri": "https://localhost:8080/",
     "height": 1000
    },
    "id": "0cb0bddc-5b9a-41a7-b05b-3895fb0d6c57",
    "outputId": "c1b38516-e587-4d4f-c4cb-38a4f6a9a44f"
   },
   "outputs": [
    {
     "name": "stdout",
     "output_type": "stream",
     "text": [
      "EPOCH 1/5\n"
     ]
    },
    {
     "name": "stderr",
     "output_type": "stream",
     "text": [
      "Train batch loss: 0.082895: 100%|██████████| 600/600 [00:13<00:00, 44.59it/s]\n"
     ]
    },
    {
     "name": "stdout",
     "output_type": "stream",
     "text": [
      "\n",
      "\n",
      "\t VALIDATION - EPOCH 1/5 - loss: 0.084572\n",
      "\n",
      "\n"
     ]
    },
    {
     "data": {
      "image/png": "[encoded data removed]",
      "text/plain": [
       "<Figure size 432x216 with 2 Axes>"
      ]
     },
     "metadata": {
      "needs_background": "light"
     },
     "output_type": "display_data"
    },
    {
     "name": "stdout",
     "output_type": "stream",
     "text": [
      "EPOCH 2/5\n"
     ]
    },
    {
     "name": "stderr",
     "output_type": "stream",
     "text": [
      "Train batch loss: 0.073926: 100%|██████████| 600/600 [00:13<00:00, 43.96it/s]\n"
     ]
    },
    {
     "name": "stdout",
     "output_type": "stream",
     "text": [
      "\n",
      "\n",
      "\t VALIDATION - EPOCH 2/5 - loss: 0.071564\n",
      "\n",
      "\n"
     ]
    },
    {
     "data": {
      "image/png": "[encoded data removed]",
      "text/plain": [
       "<Figure size 432x216 with 2 Axes>"
      ]
     },
     "metadata": {
      "needs_background": "light"
     },
     "output_type": "display_data"
    },
    {
     "name": "stdout",
     "output_type": "stream",
     "text": [
      "EPOCH 3/5\n"
     ]
    },
    {
     "name": "stderr",
     "output_type": "stream",
     "text": [
      "Train batch loss: 0.064746: 100%|██████████| 600/600 [00:14<00:00, 42.11it/s]\n"
     ]
    },
    {
     "name": "stdout",
     "output_type": "stream",
     "text": [
      "\n",
      "\n",
      "\t VALIDATION - EPOCH 3/5 - loss: 0.067165\n",
      "\n",
      "\n"
     ]
    },
    {
     "data": {
      "image/png": "[encoded data removed]",
      "text/plain": [
       "<Figure size 432x216 with 2 Axes>"
      ]
     },
     "metadata": {
      "needs_background": "light"
     },
     "output_type": "display_data"
    },
    {
     "name": "stdout",
     "output_type": "stream",
     "text": [
      "EPOCH 4/5\n"
     ]
    },
    {
     "name": "stderr",
     "output_type": "stream",
     "text": [
      "Train batch loss: 0.065913: 100%|██████████| 600/600 [00:13<00:00, 43.81it/s]\n"
     ]
    },
    {
     "name": "stdout",
     "output_type": "stream",
     "text": [
      "\n",
      "\n",
      "\t VALIDATION - EPOCH 4/5 - loss: 0.064248\n",
      "\n",
      "\n"
     ]
    },
    {
     "data": {
      "image/png": "[encoded data removed]",
      "text/plain": [
       "<Figure size 432x216 with 2 Axes>"
      ]
     },
     "metadata": {
      "needs_background": "light"
     },
     "output_type": "display_data"
    },
    {
     "name": "stdout",
     "output_type": "stream",
     "text": [
      "EPOCH 5/5\n"
     ]
    },
    {
     "name": "stderr",
     "output_type": "stream",
     "text": [
      "Train batch loss: 0.061989: 100%|██████████| 600/600 [00:13<00:00, 44.17it/s]\n"
     ]
    },
    {
     "name": "stdout",
     "output_type": "stream",
     "text": [
      "\n",
      "\n",
      "\t VALIDATION - EPOCH 5/5 - loss: 0.062665\n",
      "\n",
      "\n"
     ]
    },
    {
     "data": {
      "image/png": "[encoded data removed]",
      "text/plain": [
       "<Figure size 432x216 with 2 Axes>"
      ]
     },
     "metadata": {
      "needs_background": "light"
     },
     "output_type": "display_data"
    }
   ],
   "source": [
    "run_training(ConvAut, 5, train_dataloader, test_dataloader, optim, loss_fn, device)"
   ]
  },
  {
   "cell_type": "markdown",
   "id": "cfa7e2d8-0d9f-4f06-a6ef-5a15d6d788b6",
   "metadata": {
    "id": "cfa7e2d8-0d9f-4f06-a6ef-5a15d6d788b6"
   },
   "source": [
    "We can already see that the reconstructed images are quite similar to the original ones. As usual let's see if we can improve.\n",
    "\n",
    "\n",
    "### Hyperparameter tuning\n",
    "***\n",
    "\n",
    "Now I want to find the best set of hyperparameter for the model, so I will perform a (random) GridSearch on:\n",
    "* Latent space dimension\n",
    "* Weight regularization\n",
    "* Learning Rate\n",
    "* optimizer"
   ]
  },
  {
   "cell_type": "code",
   "execution_count": 32,
   "id": "a38174e9-6c8c-4936-b4d1-c3c86b9b94c6",
   "metadata": {
    "id": "a38174e9-6c8c-4936-b4d1-c3c86b9b94c6"
   },
   "outputs": [],
   "source": [
    "def HPSampler(hp_dict):\n",
    "    out = dict()\n",
    "    for key, value in hp_dict.items():\n",
    "        out[key] = np.random.choice(value)\n",
    "    return out\n",
    "\n",
    "def ModelFromHP(net_model, hyper_param, device):\n",
    "    '''\n",
    "    Initialize the Network and build the parameter dictionary\n",
    "    ---\n",
    "    net_model   - nn.Module\n",
    "    hyper_param - dictionary with the actual hyperparameter\n",
    "    device      - torch.device\n",
    "    '''\n",
    "    latent_dim  = hyper_param['latent_dim']\n",
    "    wd   = hyper_param['wd']\n",
    "    lr   = hyper_param['lr']\n",
    "    ep   = hyper_param['epochs']\n",
    "    ## Network Initialization\n",
    "    actual_net = net_model(latent_dim)\n",
    "    params_to_optimize = [\n",
    "        {'params': actual_net.encoder.parameters()},\n",
    "        {'params': actual_net.decoder.parameters()}\n",
    "    ]\n",
    "    \n",
    "    if (hyper_param['optim'] == 'sgd'):\n",
    "        optimizer = torch.optim.SGD(params_to_optimize, lr=lr, weight_decay=wd, momentum=0.9)\n",
    "    elif (hyper_param['optim'] == 'adam'):\n",
    "        optimizer = torch.optim.Adam(params_to_optimize, lr=lr, weight_decay=wd)\n",
    "    else :\n",
    "        print('Wrong optimizer')\n",
    "    return actual_net, {'epochs' : ep,\n",
    "                        'device' : device,\n",
    "                        'loss_fn' : nn.MSELoss(),\n",
    "                        'optimizer' : optimizer}\n",
    "\n",
    "def GridSearch(net_model, train_dataloader, val_dataloader, hp_dict, N, device):\n",
    "    '''\n",
    "    RANDOM GRID SEARCH\n",
    "    -----\n",
    "    net_model        - nn.Module\n",
    "    train_dataloader - Dataloader of training data\n",
    "    val_dataloader   - Dataloader of validation data\n",
    "    hp_dict          - dictionary of the hyperparameter on \n",
    "                       which perform grid search\n",
    "    N                - number of different configuration to try\n",
    "    device           - torch.device\n",
    "    '''\n",
    "    models = []\n",
    "    best_loss = 1000\n",
    "    for config in range(N):\n",
    "        # Sample the hyperparameter configuration\n",
    "        actual_hp = HPSampler(hp_dict)\n",
    "        # Initialize the net\n",
    "        actual_net, actual_params = ModelFromHP(net_model, actual_hp, device)\n",
    "        \n",
    "        # Train the model\n",
    "        actual_net.to(device)\n",
    "        optimizer = actual_params['optimizer']\n",
    "        val_loss_config = []\n",
    "        fuzz = tqdm(range(actual_params['epochs']))\n",
    "        for epoch in fuzz:\n",
    "            actual_net.train()\n",
    "            # Iterate the dataloader (we do not need the label values, this is unsupervised learning)\n",
    "            for image_batch, _ in train_dataloader: # with \"_\" we just ignore the labels (the second element of the dataloader tuple)\n",
    "                # Move tensor to the proper device\n",
    "                image_batch = image_batch.to(device)\n",
    "                # Encode-Decode data\n",
    "                decoded_data = actual_net(image_batch)\n",
    "                # Evaluate loss\n",
    "                loss = loss_fn(decoded_data, image_batch)\n",
    "                # Backward pass\n",
    "                optimizer.zero_grad()\n",
    "                loss.backward()\n",
    "                optimizer.step()\n",
    "                # Print batch loss\n",
    "                fuzz.set_description('Epoch: %2i, Train batch loss: %f' % (epoch+1, loss.data))\n",
    "            \n",
    "            # Validation\n",
    "            actual_net.eval()\n",
    "            with torch.no_grad():\n",
    "                val_loss = []\n",
    "                for image_batch, _ in val_dataloader:\n",
    "                    # Move tensor to the proper device\n",
    "                    image_batch = image_batch.to(device)\n",
    "                    # Encode-Decode data\n",
    "                    decoded_data = actual_net(image_batch)\n",
    "                    # Batch loss\n",
    "                    loss_batch = loss_fn(decoded_data, image_batch)\n",
    "                    # Append the loss\n",
    "                    val_loss.append(loss_batch.detach().cpu().numpy())\n",
    "                    fuzz.set_description('Epoch: {:2n}, Validation batch loss: {:6.3f}'.format(epoch+1, loss_batch.data))\n",
    "            val_loss_config.append(np.mean(val_loss))\n",
    "            fuzz.set_description('Model: {:2n}, Final validation Loss: {:6.3f}'.format(config, val_loss_config[-1]))\n",
    "        \n",
    "        if (val_loss_config[-1] < best_loss): \n",
    "            best_loss = val_loss_config[-1]\n",
    "            best_model = config\n",
    "        models.append({'hp_dict'   : actual_hp,\n",
    "                       'val_loss'  : val_loss_config})\n",
    "    return models, best_model"
   ]
  },
  {
   "cell_type": "code",
   "execution_count": 20,
   "id": "8863f4f9-047e-474c-b4d5-7f554e0dbb89",
   "metadata": {
    "id": "8863f4f9-047e-474c-b4d5-7f554e0dbb89"
   },
   "outputs": [],
   "source": [
    "hyper_dict = {'latent_dim': [8,32,64],\n",
    "              'lr'    : np.linspace(5e-5,1e-3,100),\n",
    "              'wd'    : np.linspace(1e-6,1e-4,100),\n",
    "              'optim' : ['sgd', 'adam'],\n",
    "              'epochs': [10]}"
   ]
  },
  {
   "cell_type": "code",
   "execution_count": 21,
   "id": "8212f29a-b03a-4e87-bc72-a3a3acc4d777",
   "metadata": {
    "colab": {
     "base_uri": "https://localhost:8080/"
    },
    "id": "8212f29a-b03a-4e87-bc72-a3a3acc4d777",
    "outputId": "1fe7f288-09a1-48e9-83f2-06227045e03f"
   },
   "outputs": [
    {
     "name": "stderr",
     "output_type": "stream",
     "text": [
      "Model:  0, Final validation Loss:  0.494: 100%|██████████| 10/10 [02:16<00:00, 13.68s/it]\n",
      "Model:  1, Final validation Loss:  0.501: 100%|██████████| 10/10 [02:14<00:00, 13.45s/it]\n",
      "Model:  2, Final validation Loss:  0.066: 100%|██████████| 10/10 [02:09<00:00, 12.91s/it]\n",
      "Model:  3, Final validation Loss:  0.066: 100%|██████████| 10/10 [02:08<00:00, 12.84s/it]\n",
      "Model:  4, Final validation Loss:  0.033: 100%|██████████| 10/10 [02:15<00:00, 13.56s/it]\n",
      "Model:  5, Final validation Loss:  0.065: 100%|██████████| 10/10 [02:07<00:00, 12.77s/it]\n",
      "Model:  6, Final validation Loss:  0.495: 100%|██████████| 10/10 [02:14<00:00, 13.46s/it]\n",
      "Model:  7, Final validation Loss:  0.036: 100%|██████████| 10/10 [02:08<00:00, 12.84s/it]\n",
      "Model:  8, Final validation Loss:  0.497: 100%|██████████| 10/10 [02:04<00:00, 12.49s/it]\n",
      "Model:  9, Final validation Loss:  0.046: 100%|██████████| 10/10 [02:09<00:00, 12.98s/it]\n",
      "Model: 10, Final validation Loss:  0.027: 100%|██████████| 10/10 [02:16<00:00, 13.64s/it]\n",
      "Model: 11, Final validation Loss:  0.500: 100%|██████████| 10/10 [02:15<00:00, 13.53s/it]\n",
      "Model: 12, Final validation Loss:  0.500: 100%|██████████| 10/10 [02:07<00:00, 12.71s/it]\n",
      "Model: 13, Final validation Loss:  0.501: 100%|██████████| 10/10 [02:06<00:00, 12.62s/it]\n",
      "Model: 14, Final validation Loss:  0.071: 100%|██████████| 10/10 [02:10<00:00, 13.00s/it]\n",
      "Model: 15, Final validation Loss:  0.499: 100%|██████████| 10/10 [02:06<00:00, 12.69s/it]\n",
      "Model: 16, Final validation Loss:  0.039: 100%|██████████| 10/10 [02:08<00:00, 12.82s/it]\n",
      "Model: 17, Final validation Loss:  0.498: 100%|██████████| 10/10 [02:06<00:00, 12.64s/it]\n",
      "Model: 18, Final validation Loss:  0.067: 100%|██████████| 10/10 [02:09<00:00, 12.96s/it]\n",
      "Model: 19, Final validation Loss:  0.064: 100%|██████████| 10/10 [02:08<00:00, 12.84s/it]\n"
     ]
    }
   ],
   "source": [
    "model_list, best_model = GridSearch(ConvAutoencoder, train_dataloader_red, val_dataloader, hyper_dict, 20, device)"
   ]
  },
  {
   "cell_type": "code",
   "execution_count": 22,
   "id": "cf6a6589-e90b-4646-bc73-1146b19028d6",
   "metadata": {
    "colab": {
     "base_uri": "https://localhost:8080/",
     "height": 532
    },
    "id": "cf6a6589-e90b-4646-bc73-1146b19028d6",
    "outputId": "1aaab284-f5dd-4de1-fe6d-177423b70c3f"
   },
   "outputs": [
    {
     "data": {
      "image/png": "[encoded data removed]",
      "text/plain": [
       "<Figure size 864x576 with 1 Axes>"
      ]
     },
     "metadata": {
      "needs_background": "light"
     },
     "output_type": "display_data"
    },
    {
     "name": "stdout",
     "output_type": "stream",
     "text": [
      "BEST MODEL HYPERPARAMETERS:\n",
      "{'latent_dim': 64, 'lr': 0.0008272727272727273, 'wd': 5.6000000000000006e-05, 'optim': 'adam', 'epochs': 10}\n"
     ]
    }
   ],
   "source": [
    "plt.figure(figsize=(12,8))\n",
    "for model in model_list:\n",
    "    plt.semilogy(model['val_loss'])\n",
    "plt.xlabel('Epoch')\n",
    "plt.ylabel('Loss')\n",
    "plt.grid()\n",
    "plt.show()\n",
    "print('BEST MODEL HYPERPARAMETERS:')\n",
    "print(model_list[best_model]['hp_dict'])"
   ]
  },
  {
   "cell_type": "markdown",
   "id": "1cd40476-e9fd-4a2e-8388-10f573154003",
   "metadata": {
    "id": "1cd40476-e9fd-4a2e-8388-10f573154003"
   },
   "source": [
    "## Best Model\n",
    "***\n",
    "\n",
    "Let's initialize a Network with the the best hyperparameter found by GridSearch.\n",
    "Then I will train it and later tests it's performances."
   ]
  },
  {
   "cell_type": "code",
   "execution_count": 74,
   "id": "6bc746b4-d79e-4e0e-bb28-f1ffbc20fe37",
   "metadata": {
    "colab": {
     "base_uri": "https://localhost:8080/",
     "height": 1000
    },
    "id": "6bc746b4-d79e-4e0e-bb28-f1ffbc20fe37",
    "outputId": "33cee769-33fd-478a-c1a1-22a21623ea9f"
   },
   "outputs": [
    {
     "name": "stdout",
     "output_type": "stream",
     "text": [
      "EPOCH 1/10\n"
     ]
    },
    {
     "name": "stderr",
     "output_type": "stream",
     "text": [
      "Train batch loss: 0.054065: 100%|██████████| 600/600 [00:15<00:00, 38.52it/s]\n"
     ]
    },
    {
     "name": "stdout",
     "output_type": "stream",
     "text": [
      "\n",
      "\n",
      "\t VALIDATION - EPOCH 1/10 - loss: 0.056358\n",
      "\n",
      "\n"
     ]
    },
    {
     "data": {
      "image/png": "[encoded data removed]",
      "text/plain": [
       "<Figure size 432x216 with 2 Axes>"
      ]
     },
     "metadata": {
      "needs_background": "light"
     },
     "output_type": "display_data"
    },
    {
     "name": "stdout",
     "output_type": "stream",
     "text": [
      "EPOCH 2/10\n"
     ]
    },
    {
     "name": "stderr",
     "output_type": "stream",
     "text": [
      "Train batch loss: 0.045872: 100%|██████████| 600/600 [00:14<00:00, 40.99it/s]\n"
     ]
    },
    {
     "name": "stdout",
     "output_type": "stream",
     "text": [
      "\n",
      "\n",
      "\t VALIDATION - EPOCH 2/10 - loss: 0.042527\n",
      "\n",
      "\n"
     ]
    },
    {
     "data": {
      "image/png": "[encoded data removed]",
      "text/plain": [
       "<Figure size 432x216 with 2 Axes>"
      ]
     },
     "metadata": {
      "needs_background": "light"
     },
     "output_type": "display_data"
    },
    {
     "name": "stdout",
     "output_type": "stream",
     "text": [
      "EPOCH 3/10\n"
     ]
    },
    {
     "name": "stderr",
     "output_type": "stream",
     "text": [
      "Train batch loss: 0.033406: 100%|██████████| 600/600 [00:18<00:00, 33.07it/s]\n"
     ]
    },
    {
     "name": "stdout",
     "output_type": "stream",
     "text": [
      "\n",
      "\n",
      "\t VALIDATION - EPOCH 3/10 - loss: 0.036001\n",
      "\n",
      "\n"
     ]
    },
    {
     "data": {
      "image/png": "[encoded data removed]",
      "text/plain": [
       "<Figure size 432x216 with 2 Axes>"
      ]
     },
     "metadata": {
      "needs_background": "light"
     },
     "output_type": "display_data"
    },
    {
     "name": "stdout",
     "output_type": "stream",
     "text": [
      "EPOCH 4/10\n"
     ]
    },
    {
     "name": "stderr",
     "output_type": "stream",
     "text": [
      "Train batch loss: 0.031448: 100%|██████████| 600/600 [00:17<00:00, 34.76it/s]\n"
     ]
    },
    {
     "name": "stdout",
     "output_type": "stream",
     "text": [
      "\n",
      "\n",
      "\t VALIDATION - EPOCH 4/10 - loss: 0.032223\n",
      "\n",
      "\n"
     ]
    },
    {
     "data": {
      "image/png": "[encoded data removed]",
      "text/plain": [
       "<Figure size 432x216 with 2 Axes>"
      ]
     },
     "metadata": {
      "needs_background": "light"
     },
     "output_type": "display_data"
    },
    {
     "name": "stdout",
     "output_type": "stream",
     "text": [
      "EPOCH 5/10\n"
     ]
    },
    {
     "name": "stderr",
     "output_type": "stream",
     "text": [
      "Train batch loss: 0.029746: 100%|██████████| 600/600 [00:14<00:00, 41.25it/s]\n"
     ]
    },
    {
     "name": "stdout",
     "output_type": "stream",
     "text": [
      "\n",
      "\n",
      "\t VALIDATION - EPOCH 5/10 - loss: 0.030000\n",
      "\n",
      "\n"
     ]
    },
    {
     "data": {
      "image/png": "[encoded data removed]",
      "text/plain": [
       "<Figure size 432x216 with 2 Axes>"
      ]
     },
     "metadata": {
      "needs_background": "light"
     },
     "output_type": "display_data"
    },
    {
     "name": "stdout",
     "output_type": "stream",
     "text": [
      "EPOCH 6/10\n"
     ]
    },
    {
     "name": "stderr",
     "output_type": "stream",
     "text": [
      "Train batch loss: 0.025170: 100%|██████████| 600/600 [00:15<00:00, 38.90it/s]\n"
     ]
    },
    {
     "name": "stdout",
     "output_type": "stream",
     "text": [
      "\n",
      "\n",
      "\t VALIDATION - EPOCH 6/10 - loss: 0.028485\n",
      "\n",
      "\n"
     ]
    },
    {
     "data": {
      "image/png": "[encoded data removed]",
      "text/plain": [
       "<Figure size 432x216 with 2 Axes>"
      ]
     },
     "metadata": {
      "needs_background": "light"
     },
     "output_type": "display_data"
    },
    {
     "name": "stdout",
     "output_type": "stream",
     "text": [
      "EPOCH 7/10\n"
     ]
    },
    {
     "name": "stderr",
     "output_type": "stream",
     "text": [
      "Train batch loss: 0.028849: 100%|██████████| 600/600 [00:15<00:00, 39.51it/s]\n"
     ]
    },
    {
     "name": "stdout",
     "output_type": "stream",
     "text": [
      "\n",
      "\n",
      "\t VALIDATION - EPOCH 7/10 - loss: 0.027873\n",
      "\n",
      "\n"
     ]
    },
    {
     "data": {
      "image/png": "[encoded data removed]",
      "text/plain": [
       "<Figure size 432x216 with 2 Axes>"
      ]
     },
     "metadata": {
      "needs_background": "light"
     },
     "output_type": "display_data"
    },
    {
     "name": "stdout",
     "output_type": "stream",
     "text": [
      "EPOCH 8/10\n"
     ]
    },
    {
     "name": "stderr",
     "output_type": "stream",
     "text": [
      "Train batch loss: 0.025986: 100%|██████████| 600/600 [00:15<00:00, 37.92it/s]\n"
     ]
    },
    {
     "name": "stdout",
     "output_type": "stream",
     "text": [
      "\n",
      "\n",
      "\t VALIDATION - EPOCH 8/10 - loss: 0.027349\n",
      "\n",
      "\n"
     ]
    },
    {
     "data": {
      "image/png": "[encoded data removed]",
      "text/plain": [
       "<Figure size 432x216 with 2 Axes>"
      ]
     },
     "metadata": {
      "needs_background": "light"
     },
     "output_type": "display_data"
    },
    {
     "name": "stdout",
     "output_type": "stream",
     "text": [
      "EPOCH 9/10\n"
     ]
    },
    {
     "name": "stderr",
     "output_type": "stream",
     "text": [
      "Train batch loss: 0.023733: 100%|██████████| 600/600 [00:14<00:00, 40.27it/s]\n"
     ]
    },
    {
     "name": "stdout",
     "output_type": "stream",
     "text": [
      "\n",
      "\n",
      "\t VALIDATION - EPOCH 9/10 - loss: 0.026577\n",
      "\n",
      "\n"
     ]
    },
    {
     "data": {
      "image/png": "[encoded data removed]",
      "text/plain": [
       "<Figure size 432x216 with 2 Axes>"
      ]
     },
     "metadata": {
      "needs_background": "light"
     },
     "output_type": "display_data"
    },
    {
     "name": "stdout",
     "output_type": "stream",
     "text": [
      "EPOCH 10/10\n"
     ]
    },
    {
     "name": "stderr",
     "output_type": "stream",
     "text": [
      "Train batch loss: 0.025291: 100%|██████████| 600/600 [00:14<00:00, 40.59it/s]\n"
     ]
    },
    {
     "name": "stdout",
     "output_type": "stream",
     "text": [
      "\n",
      "\n",
      "\t VALIDATION - EPOCH 10/10 - loss: 0.026473\n",
      "\n",
      "\n"
     ]
    },
    {
     "data": {
      "image/png": "[encoded data removed]",
      "text/plain": [
       "<Figure size 432x216 with 2 Axes>"
      ]
     },
     "metadata": {
      "needs_background": "light"
     },
     "output_type": "display_data"
    }
   ],
   "source": [
    "best_net, best_params = ModelFromHP(ConvAutoencoder, model_list[best_model]['hp_dict'], device)\n",
    "run_training(best_net, best_params['epochs'], train_dataloader, test_dataloader, best_params['optimizer'], nn.MSELoss(), device)"
   ]
  },
  {
   "cell_type": "markdown",
   "id": "58e63898-a67c-4fa3-81f9-1d4d710da2fe",
   "metadata": {
    "id": "58e63898-a67c-4fa3-81f9-1d4d710da2fe"
   },
   "source": [
    "The optimized network has a loss almost 3 time smaller than before. and the reconstructed image looks almost the same as the original one, just a little bit blurred.\n",
    "\n",
    "## Fine Tuning - Transfer Learning\n",
    "***\n",
    "\n",
    "Now I want to verify if the knowledge learned by the encoder could be exploited by two new layer built on top of it, in order to classify the images.\n",
    "I'm going to train a simple fully connected network to correctly classify the latent code produced by the pretrained encoder, based on the relative image from which it has been produced."
   ]
  },
  {
   "cell_type": "code",
   "execution_count": 113,
   "id": "8436ffc4-212d-457f-b709-f6b63ba042d9",
   "metadata": {
    "id": "8436ffc4-212d-457f-b709-f6b63ba042d9"
   },
   "outputs": [],
   "source": [
    "class Classifier(nn.Module):\n",
    "    \n",
    "    def __init__(self, pretrained_encoder):\n",
    "        super().__init__()\n",
    "        \n",
    "        ## Encoder\n",
    "        # N, 1, 28, 28\n",
    "        self.encoder = pretrained_encoder # N, 64, 1, 1\n",
    "        \n",
    "        ## Actual Classifier\n",
    "        self.fcBlock = nn.Sequential(\n",
    "            nn.Flatten(start_dim=1),\n",
    "            nn.Linear(in_features=self.encoder[4].out_channels, out_features=128),\n",
    "            nn.ReLU(),\n",
    "            nn.Linear(in_features=128, out_features=10)\n",
    "        )\n",
    "        \n",
    "    def forward(self, x):\n",
    "        x = self.encoder(x)\n",
    "        x = self.fcBlock(x)\n",
    "        return x"
   ]
  },
  {
   "cell_type": "code",
   "execution_count": 114,
   "id": "5ee21a7f-5a94-490c-b309-445d2c27a72a",
   "metadata": {
    "id": "5ee21a7f-5a94-490c-b309-445d2c27a72a"
   },
   "outputs": [],
   "source": [
    "Model = Classifier(best_net.encoder)\n",
    "loss_fn = nn.CrossEntropyLoss()\n",
    "optim = torch.optim.Adam(Model.fcBlock.parameters(), lr=1e-3, weight_decay=1e-4)"
   ]
  },
  {
   "cell_type": "code",
   "execution_count": 115,
   "id": "35ed8f46-8a72-4111-bf4c-bd2fbd078a65",
   "metadata": {
    "colab": {
     "base_uri": "https://localhost:8080/"
    },
    "id": "35ed8f46-8a72-4111-bf4c-bd2fbd078a65",
    "outputId": "715c419f-c6ed-4733-fd04-e60ef5e9bfcf"
   },
   "outputs": [
    {
     "name": "stderr",
     "output_type": "stream",
     "text": [
      "Epoch:  1, Train batch loss: 0.319926: 100%|██████████| 600/600 [00:13<00:00, 43.17it/s]\n",
      "Epoch:  2, Train batch loss: 0.324548: 100%|██████████| 600/600 [00:13<00:00, 46.01it/s]\n",
      "Epoch:  3, Train batch loss: 0.287059: 100%|██████████| 600/600 [00:13<00:00, 44.53it/s]\n",
      "Epoch:  4, Train batch loss: 0.338993: 100%|██████████| 600/600 [00:13<00:00, 46.05it/s]\n",
      "Epoch:  5, Train batch loss: 0.261580: 100%|██████████| 600/600 [00:12<00:00, 46.40it/s]\n",
      "Epoch:  6, Train batch loss: 0.292118: 100%|██████████| 600/600 [00:13<00:00, 45.26it/s]\n",
      "Epoch:  7, Train batch loss: 0.382546: 100%|██████████| 600/600 [00:12<00:00, 46.22it/s]\n",
      "Epoch:  8, Train batch loss: 0.263254: 100%|██████████| 600/600 [00:13<00:00, 45.65it/s]\n",
      "Epoch:  9, Train batch loss: 0.214466: 100%|██████████| 600/600 [00:12<00:00, 46.35it/s]\n",
      "Epoch: 10, Train batch loss: 0.148693: 100%|██████████| 600/600 [00:12<00:00, 46.51it/s]\n",
      "Epoch: 11, Train batch loss: 0.244246: 100%|██████████| 600/600 [00:13<00:00, 45.80it/s]\n",
      "Epoch: 12, Train batch loss: 0.289106: 100%|██████████| 600/600 [00:12<00:00, 46.51it/s]\n",
      "Epoch: 13, Train batch loss: 0.239069: 100%|██████████| 600/600 [00:13<00:00, 45.72it/s]\n",
      "Epoch: 14, Train batch loss: 0.255981: 100%|██████████| 600/600 [00:13<00:00, 45.59it/s]\n",
      "Epoch: 15, Train batch loss: 0.217622: 100%|██████████| 600/600 [00:13<00:00, 45.82it/s]\n",
      "Epoch: 16, Train batch loss: 0.250166: 100%|██████████| 600/600 [00:13<00:00, 45.91it/s]\n",
      "Epoch: 17, Train batch loss: 0.347420: 100%|██████████| 600/600 [00:12<00:00, 46.30it/s]\n",
      "Epoch: 18, Train batch loss: 0.228867: 100%|██████████| 600/600 [00:13<00:00, 45.77it/s]\n",
      "Epoch: 19, Train batch loss: 0.278343: 100%|██████████| 600/600 [00:13<00:00, 45.59it/s]\n",
      "Epoch: 20, Train batch loss: 0.256211: 100%|██████████| 600/600 [00:12<00:00, 46.40it/s]\n",
      "Epoch: 21, Train batch loss: 0.249613: 100%|██████████| 600/600 [00:13<00:00, 45.46it/s]\n",
      "Epoch: 22, Train batch loss: 0.197595: 100%|██████████| 600/600 [00:13<00:00, 45.73it/s]\n",
      "Epoch: 23, Train batch loss: 0.132509: 100%|██████████| 600/600 [00:13<00:00, 45.62it/s]\n",
      "Epoch: 24, Train batch loss: 0.244717: 100%|██████████| 600/600 [00:13<00:00, 45.68it/s]\n",
      "Epoch: 25, Train batch loss: 0.145651: 100%|██████████| 600/600 [00:13<00:00, 46.07it/s]\n",
      "Epoch: 26, Train batch loss: 0.120506: 100%|██████████| 600/600 [00:13<00:00, 44.96it/s]\n",
      "Epoch: 27, Train batch loss: 0.114554: 100%|██████████| 600/600 [00:13<00:00, 45.79it/s]\n",
      "Epoch: 28, Train batch loss: 0.201240: 100%|██████████| 600/600 [00:13<00:00, 45.86it/s]\n",
      "Epoch: 29, Train batch loss: 0.271082: 100%|██████████| 600/600 [00:13<00:00, 45.89it/s]\n",
      "Epoch: 30, Train batch loss: 0.249116: 100%|██████████| 600/600 [00:12<00:00, 46.47it/s]\n"
     ]
    }
   ],
   "source": [
    "## Training\n",
    "Model.to(device)\n",
    "num_epoch = 30\n",
    "train_loss_log = []\n",
    "val_loss_log = []\n",
    "for epoch in range(num_epoch):\n",
    "    Model.train()\n",
    "    train_loss = []\n",
    "    foo = tqdm(train_dataloader)\n",
    "    for sample_batched in foo: \n",
    "        # Move tensor to the proper device\n",
    "        image_batch = sample_batched[0].to(device)\n",
    "        label_batch = sample_batched[1].to(device)\n",
    "        # Forward pass\n",
    "        prediction = Model(image_batch)\n",
    "        # Evaluate loss\n",
    "        loss = loss_fn(prediction, label_batch)\n",
    "        # Backward pass\n",
    "        optim.zero_grad()\n",
    "        loss.backward()\n",
    "        optim.step()\n",
    "        # Print batch loss\n",
    "        foo.set_description('Epoch: {:2n}, Train batch loss: {:f}'.format(epoch+1, loss.data))\n",
    "        # Save val loss for this batch\n",
    "        loss_batch = loss.detach().cpu().numpy()\n",
    "        train_loss.append(loss_batch)\n",
    "    train_loss_log.append(np.mean(train_loss))\n",
    "        \n",
    "    Model.eval()\n",
    "    val_loss = []\n",
    "    with torch.no_grad():\n",
    "        for sample_batched in val_dataloader:\n",
    "            # Move data to device\n",
    "            image_batch = sample_batched[0].to(device)\n",
    "            label_batch = sample_batched[1].to(device)\n",
    "\n",
    "            # Forward pass\n",
    "            prediction = Model(image_batch)\n",
    "\n",
    "            # Compute loss\n",
    "            loss = loss_fn(prediction, label_batch)\n",
    "\n",
    "            # Save val loss for this batch\n",
    "            loss_batch = loss.detach().cpu().numpy()\n",
    "            val_loss.append(loss_batch)\n",
    "    val_loss_log.append(np.mean(val_loss))"
   ]
  },
  {
   "cell_type": "code",
   "execution_count": 116,
   "id": "d7396c2f-8594-4aba-b3e4-5b08eb8af97c",
   "metadata": {
    "colab": {
     "base_uri": "https://localhost:8080/",
     "height": 497
    },
    "id": "d7396c2f-8594-4aba-b3e4-5b08eb8af97c",
    "outputId": "355ee210-1f97-4b54-ee04-9655806acb1a"
   },
   "outputs": [
    {
     "data": {
      "image/png": "[encoded data removed]",
      "text/plain": [
       "<Figure size 864x576 with 1 Axes>"
      ]
     },
     "metadata": {
      "needs_background": "light"
     },
     "output_type": "display_data"
    }
   ],
   "source": [
    "plt.figure(figsize=(12,8))\n",
    "plt.semilogy(train_loss_log, label='Train loss')\n",
    "plt.semilogy(val_loss_log, label='Validation loss')\n",
    "plt.xlabel('Epoch')\n",
    "plt.ylabel('Loss')\n",
    "plt.grid()\n",
    "plt.legend()\n",
    "plt.show()"
   ]
  },
  {
   "cell_type": "code",
   "execution_count": 117,
   "id": "8900468a-fc13-4648-a841-8f46b1ce7b45",
   "metadata": {
    "colab": {
     "base_uri": "https://localhost:8080/"
    },
    "id": "8900468a-fc13-4648-a841-8f46b1ce7b45",
    "outputId": "c9514cb2-a749-436a-eb5d-29b81a98c7ca"
   },
   "outputs": [
    {
     "name": "stderr",
     "output_type": "stream",
     "text": [
      "100%|██████████| 10000/10000 [00:11<00:00, 872.33it/s]"
     ]
    },
    {
     "name": "stdout",
     "output_type": "stream",
     "text": [
      "Accuracy of the network on the 10000 test images: 89 %\n"
     ]
    },
    {
     "name": "stderr",
     "output_type": "stream",
     "text": [
      "\n"
     ]
    }
   ],
   "source": [
    "## Test the model\n",
    "test_dataloader = DataLoader(test_dataset, batch_size=1, shuffle=False, num_workers=0)\n",
    "Model.eval()\n",
    "with torch.no_grad(): # turn off gradients computation\n",
    "    label_list = []\n",
    "    pred_list = []\n",
    "    for sample_batched in tqdm(test_dataloader):\n",
    "        # Move data to device\n",
    "        image_batch = sample_batched[0].to(device)\n",
    "        label_batch = sample_batched[1].detach().cpu().numpy()\n",
    "\n",
    "        # Forward pass\n",
    "        out = Model(image_batch)\n",
    "        pred_batch = out.detach().cpu().numpy().argmax(1)\n",
    "        label_list.append(label_batch)\n",
    "        pred_list.append(pred_batch)\n",
    "\n",
    "print(f'Accuracy of the network on the 10000 test images: {100 * np.equal(label_list,pred_list).sum() // len(pred_list)} %')"
   ]
  },
  {
   "cell_type": "markdown",
   "id": "885925bb-bec7-4f59-b6a5-a742010bfd70",
   "metadata": {
    "id": "885925bb-bec7-4f59-b6a5-a742010bfd70"
   },
   "source": [
    "After a short training the new classifier was able to do its job with a 89% accuracy: a stunning result compared to the performance of the convolutional classifier build in the first homework, which reached a 90% accuracy just after the hyperparameter optimization and a long training. \n",
    "\n",
    "Obviuously the lunch is still not free, most of the job it has been done by the encoder in its training.\n",
    "\n",
    "## Latent Space\n",
    "***"
   ]
  },
  {
   "cell_type": "code",
   "execution_count": 81,
   "id": "64f585a5-c92e-4cea-9893-1a88ab0e151d",
   "metadata": {
    "colab": {
     "base_uri": "https://localhost:8080/",
     "height": 352
    },
    "id": "64f585a5-c92e-4cea-9893-1a88ab0e151d",
    "outputId": "3617d5f6-1de4-4fcc-ab5a-7c024c244958"
   },
   "outputs": [
    {
     "name": "stderr",
     "output_type": "stream",
     "text": [
      "100%|██████████| 10000/10000 [00:11<00:00, 857.15it/s]\n"
     ]
    },
    {
     "data": {
      "text/html": [
       "\n",
       "  <div id=\"df-6c73b2cd-1725-4ced-a86b-01e61c7a11f3\">\n",
       "    <div class=\"colab-df-container\">\n",
       "      <div>\n",
       "<style scoped>\n",
       "    .dataframe tbody tr th:only-of-type {\n",
       "        vertical-align: middle;\n",
       "    }\n",
       "\n",
       "    .dataframe tbody tr th {\n",
       "        vertical-align: top;\n",
       "    }\n",
       "\n",
       "    .dataframe thead th {\n",
       "        text-align: right;\n",
       "    }\n",
       "</style>\n",
       "<table border=\"1\" class=\"dataframe\">\n",
       "  <thead>\n",
       "    <tr style=\"text-align: right;\">\n",
       "      <th></th>\n",
       "      <th>Enc. Variable 0</th>\n",
       "      <th>Enc. Variable 1</th>\n",
       "      <th>Enc. Variable 2</th>\n",
       "      <th>Enc. Variable 3</th>\n",
       "      <th>Enc. Variable 4</th>\n",
       "      <th>Enc. Variable 5</th>\n",
       "      <th>Enc. Variable 6</th>\n",
       "      <th>Enc. Variable 7</th>\n",
       "      <th>Enc. Variable 8</th>\n",
       "      <th>Enc. Variable 9</th>\n",
       "      <th>...</th>\n",
       "      <th>Enc. Variable 55</th>\n",
       "      <th>Enc. Variable 56</th>\n",
       "      <th>Enc. Variable 57</th>\n",
       "      <th>Enc. Variable 58</th>\n",
       "      <th>Enc. Variable 59</th>\n",
       "      <th>Enc. Variable 60</th>\n",
       "      <th>Enc. Variable 61</th>\n",
       "      <th>Enc. Variable 62</th>\n",
       "      <th>Enc. Variable 63</th>\n",
       "      <th>label</th>\n",
       "    </tr>\n",
       "  </thead>\n",
       "  <tbody>\n",
       "    <tr>\n",
       "      <th>0</th>\n",
       "      <td>0.646157</td>\n",
       "      <td>-0.130067</td>\n",
       "      <td>-1.538222</td>\n",
       "      <td>3.757751</td>\n",
       "      <td>-4.081848</td>\n",
       "      <td>-2.813043</td>\n",
       "      <td>0.420642</td>\n",
       "      <td>-1.609208</td>\n",
       "      <td>-4.753785</td>\n",
       "      <td>-2.424034</td>\n",
       "      <td>...</td>\n",
       "      <td>0.201761</td>\n",
       "      <td>0.731938</td>\n",
       "      <td>1.075914</td>\n",
       "      <td>-2.098765</td>\n",
       "      <td>-0.406429</td>\n",
       "      <td>0.976011</td>\n",
       "      <td>3.403068</td>\n",
       "      <td>-0.986529</td>\n",
       "      <td>-3.225287</td>\n",
       "      <td>9</td>\n",
       "    </tr>\n",
       "    <tr>\n",
       "      <th>1</th>\n",
       "      <td>-2.481985</td>\n",
       "      <td>-19.802166</td>\n",
       "      <td>-0.761514</td>\n",
       "      <td>-0.846228</td>\n",
       "      <td>1.345550</td>\n",
       "      <td>-1.786054</td>\n",
       "      <td>0.706849</td>\n",
       "      <td>-4.092294</td>\n",
       "      <td>-1.060382</td>\n",
       "      <td>0.903238</td>\n",
       "      <td>...</td>\n",
       "      <td>1.743338</td>\n",
       "      <td>6.230525</td>\n",
       "      <td>1.058183</td>\n",
       "      <td>0.367783</td>\n",
       "      <td>-0.623904</td>\n",
       "      <td>-3.422011</td>\n",
       "      <td>-0.711257</td>\n",
       "      <td>-0.220504</td>\n",
       "      <td>-1.486811</td>\n",
       "      <td>2</td>\n",
       "    </tr>\n",
       "    <tr>\n",
       "      <th>2</th>\n",
       "      <td>5.287377</td>\n",
       "      <td>-0.796028</td>\n",
       "      <td>-2.726777</td>\n",
       "      <td>1.836623</td>\n",
       "      <td>1.564836</td>\n",
       "      <td>1.303406</td>\n",
       "      <td>1.340218</td>\n",
       "      <td>0.025077</td>\n",
       "      <td>1.286769</td>\n",
       "      <td>0.128988</td>\n",
       "      <td>...</td>\n",
       "      <td>3.108651</td>\n",
       "      <td>-1.989487</td>\n",
       "      <td>1.238595</td>\n",
       "      <td>-1.579413</td>\n",
       "      <td>-2.367240</td>\n",
       "      <td>-3.067536</td>\n",
       "      <td>-1.409485</td>\n",
       "      <td>1.507441</td>\n",
       "      <td>-3.997790</td>\n",
       "      <td>1</td>\n",
       "    </tr>\n",
       "    <tr>\n",
       "      <th>3</th>\n",
       "      <td>2.237303</td>\n",
       "      <td>1.831609</td>\n",
       "      <td>1.380420</td>\n",
       "      <td>2.255300</td>\n",
       "      <td>-1.464733</td>\n",
       "      <td>-0.967595</td>\n",
       "      <td>-1.243548</td>\n",
       "      <td>-0.754722</td>\n",
       "      <td>4.086702</td>\n",
       "      <td>0.351315</td>\n",
       "      <td>...</td>\n",
       "      <td>0.869934</td>\n",
       "      <td>0.590542</td>\n",
       "      <td>0.437994</td>\n",
       "      <td>-2.735563</td>\n",
       "      <td>1.786444</td>\n",
       "      <td>0.035346</td>\n",
       "      <td>1.088704</td>\n",
       "      <td>1.808082</td>\n",
       "      <td>-1.820926</td>\n",
       "      <td>1</td>\n",
       "    </tr>\n",
       "    <tr>\n",
       "      <th>4</th>\n",
       "      <td>0.009447</td>\n",
       "      <td>-8.059995</td>\n",
       "      <td>-0.210043</td>\n",
       "      <td>1.657338</td>\n",
       "      <td>-1.804011</td>\n",
       "      <td>-2.480215</td>\n",
       "      <td>-2.139132</td>\n",
       "      <td>-0.502363</td>\n",
       "      <td>2.284680</td>\n",
       "      <td>-0.509965</td>\n",
       "      <td>...</td>\n",
       "      <td>3.618364</td>\n",
       "      <td>1.279942</td>\n",
       "      <td>-4.017439</td>\n",
       "      <td>1.143595</td>\n",
       "      <td>1.236321</td>\n",
       "      <td>0.901689</td>\n",
       "      <td>2.342854</td>\n",
       "      <td>-2.685942</td>\n",
       "      <td>1.562196</td>\n",
       "      <td>6</td>\n",
       "    </tr>\n",
       "  </tbody>\n",
       "</table>\n",
       "<p>5 rows × 65 columns</p>\n",
       "</div>\n",
       "      <button class=\"colab-df-convert\" onclick=\"convertToInteractive('df-6c73b2cd-1725-4ced-a86b-01e61c7a11f3')\"\n",
       "              title=\"Convert this dataframe to an interactive table.\"\n",
       "              style=\"display:none;\">\n",
       "        \n",
       "  <svg xmlns=\"http://www.w3.org/2000/svg\" height=\"24px\"viewBox=\"0 0 24 24\"\n",
       "       width=\"24px\">\n",
       "    <path d=\"M0 0h24v24H0V0z\" fill=\"none\"/>\n",
       "    <path d=\"M18.56 5.44l.94 2.06.94-2.06 2.06-.94-2.06-.94-.94-2.06-.94 2.06-2.06.94zm-11 1L8.5 8.5l.94-2.06 2.06-.94-2.06-.94L8.5 2.5l-.94 2.06-2.06.94zm10 10l.94 2.06.94-2.06 2.06-.94-2.06-.94-.94-2.06-.94 2.06-2.06.94z\"/><path d=\"M17.41 7.96l-1.37-1.37c-.4-.4-.92-.59-1.43-.59-.52 0-1.04.2-1.43.59L10.3 9.45l-7.72 7.72c-.78.78-.78 2.05 0 2.83L4 21.41c.39.39.9.59 1.41.59.51 0 1.02-.2 1.41-.59l7.78-7.78 2.81-2.81c.8-.78.8-2.07 0-2.86zM5.41 20L4 18.59l7.72-7.72 1.47 1.35L5.41 20z\"/>\n",
       "  </svg>\n",
       "      </button>\n",
       "      \n",
       "  <style>\n",
       "    .colab-df-container {\n",
       "      display:flex;\n",
       "      flex-wrap:wrap;\n",
       "      gap: 12px;\n",
       "    }\n",
       "\n",
       "    .colab-df-convert {\n",
       "      background-color: #E8F0FE;\n",
       "      border: none;\n",
       "      border-radius: 50%;\n",
       "      cursor: pointer;\n",
       "      display: none;\n",
       "      fill: #1967D2;\n",
       "      height: 32px;\n",
       "      padding: 0 0 0 0;\n",
       "      width: 32px;\n",
       "    }\n",
       "\n",
       "    .colab-df-convert:hover {\n",
       "      background-color: #E2EBFA;\n",
       "      box-shadow: 0px 1px 2px rgba(60, 64, 67, 0.3), 0px 1px 3px 1px rgba(60, 64, 67, 0.15);\n",
       "      fill: #174EA6;\n",
       "    }\n",
       "\n",
       "    [theme=dark] .colab-df-convert {\n",
       "      background-color: #3B4455;\n",
       "      fill: #D2E3FC;\n",
       "    }\n",
       "\n",
       "    [theme=dark] .colab-df-convert:hover {\n",
       "      background-color: #434B5C;\n",
       "      box-shadow: 0px 1px 3px 1px rgba(0, 0, 0, 0.15);\n",
       "      filter: drop-shadow(0px 1px 2px rgba(0, 0, 0, 0.3));\n",
       "      fill: #FFFFFF;\n",
       "    }\n",
       "  </style>\n",
       "\n",
       "      <script>\n",
       "        const buttonEl =\n",
       "          document.querySelector('#df-6c73b2cd-1725-4ced-a86b-01e61c7a11f3 button.colab-df-convert');\n",
       "        buttonEl.style.display =\n",
       "          google.colab.kernel.accessAllowed ? 'block' : 'none';\n",
       "\n",
       "        async function convertToInteractive(key) {\n",
       "          const element = document.querySelector('#df-6c73b2cd-1725-4ced-a86b-01e61c7a11f3');\n",
       "          const dataTable =\n",
       "            await google.colab.kernel.invokeFunction('convertToInteractive',\n",
       "                                                     [key], {});\n",
       "          if (!dataTable) return;\n",
       "\n",
       "          const docLinkHtml = 'Like what you see? Visit the ' +\n",
       "            '<a target=\"_blank\" href=https://colab.research.google.com/notebooks/data_table.ipynb>data table notebook</a>'\n",
       "            + ' to learn more about interactive tables.';\n",
       "          element.innerHTML = '';\n",
       "          dataTable['output_type'] = 'display_data';\n",
       "          await google.colab.output.renderOutput(dataTable, element);\n",
       "          const docLink = document.createElement('div');\n",
       "          docLink.innerHTML = docLinkHtml;\n",
       "          element.appendChild(docLink);\n",
       "        }\n",
       "      </script>\n",
       "    </div>\n",
       "  </div>\n",
       "  "
      ],
      "text/plain": [
       "   Enc. Variable 0  Enc. Variable 1  Enc. Variable 2  Enc. Variable 3  \\\n",
       "0         0.646157        -0.130067        -1.538222         3.757751   \n",
       "1        -2.481985       -19.802166        -0.761514        -0.846228   \n",
       "2         5.287377        -0.796028        -2.726777         1.836623   \n",
       "3         2.237303         1.831609         1.380420         2.255300   \n",
       "4         0.009447        -8.059995        -0.210043         1.657338   \n",
       "\n",
       "   Enc. Variable 4  Enc. Variable 5  Enc. Variable 6  Enc. Variable 7  \\\n",
       "0        -4.081848        -2.813043         0.420642        -1.609208   \n",
       "1         1.345550        -1.786054         0.706849        -4.092294   \n",
       "2         1.564836         1.303406         1.340218         0.025077   \n",
       "3        -1.464733        -0.967595        -1.243548        -0.754722   \n",
       "4        -1.804011        -2.480215        -2.139132        -0.502363   \n",
       "\n",
       "   Enc. Variable 8  Enc. Variable 9  ...  Enc. Variable 55  Enc. Variable 56  \\\n",
       "0        -4.753785        -2.424034  ...          0.201761          0.731938   \n",
       "1        -1.060382         0.903238  ...          1.743338          6.230525   \n",
       "2         1.286769         0.128988  ...          3.108651         -1.989487   \n",
       "3         4.086702         0.351315  ...          0.869934          0.590542   \n",
       "4         2.284680        -0.509965  ...          3.618364          1.279942   \n",
       "\n",
       "   Enc. Variable 57  Enc. Variable 58  Enc. Variable 59  Enc. Variable 60  \\\n",
       "0          1.075914         -2.098765         -0.406429          0.976011   \n",
       "1          1.058183          0.367783         -0.623904         -3.422011   \n",
       "2          1.238595         -1.579413         -2.367240         -3.067536   \n",
       "3          0.437994         -2.735563          1.786444          0.035346   \n",
       "4         -4.017439          1.143595          1.236321          0.901689   \n",
       "\n",
       "   Enc. Variable 61  Enc. Variable 62  Enc. Variable 63  label  \n",
       "0          3.403068         -0.986529         -3.225287      9  \n",
       "1         -0.711257         -0.220504         -1.486811      2  \n",
       "2         -1.409485          1.507441         -3.997790      1  \n",
       "3          1.088704          1.808082         -1.820926      1  \n",
       "4          2.342854         -2.685942          1.562196      6  \n",
       "\n",
       "[5 rows x 65 columns]"
      ]
     },
     "execution_count": 81,
     "metadata": {},
     "output_type": "execute_result"
    }
   ],
   "source": [
    "### Get the encoded representation of the test samples\n",
    "encoded_samples = []\n",
    "for sample in tqdm(test_dataset):\n",
    "    img = sample[0].unsqueeze(0).to(device)\n",
    "    label = sample[1]\n",
    "    # Encode image\n",
    "    best_net.eval()\n",
    "    with torch.no_grad():\n",
    "        encoded_img  = best_net.encoder(img)\n",
    "    # Append to list\n",
    "    encoded_img = encoded_img.flatten().cpu().numpy()\n",
    "    encoded_sample = {f\"Enc. Variable {i}\": enc for i, enc in enumerate(encoded_img)}\n",
    "    encoded_sample['label'] = label\n",
    "    encoded_samples.append(encoded_sample)\n",
    "\n",
    "encoded_samples = pd.DataFrame(encoded_samples)\n",
    "encoded_samples.head()"
   ]
  },
  {
   "cell_type": "code",
   "execution_count": 82,
   "id": "b6c0880a-f578-42a1-becc-febfa399e583",
   "metadata": {
    "colab": {
     "base_uri": "https://localhost:8080/",
     "height": 425
    },
    "id": "b6c0880a-f578-42a1-becc-febfa399e583",
    "outputId": "165d1e41-6302-47e1-d1f6-ed923e3c077c"
   },
   "outputs": [
    {
     "name": "stderr",
     "output_type": "stream",
     "text": [
      "/usr/local/lib/python3.7/dist-packages/sklearn/manifold/_t_sne.py:783: FutureWarning: The default initialization in TSNE will change from 'random' to 'pca' in 1.2.\n",
      "  FutureWarning,\n",
      "/usr/local/lib/python3.7/dist-packages/sklearn/manifold/_t_sne.py:793: FutureWarning: The default learning rate in TSNE will change from 200.0 to 'auto' in 1.2.\n",
      "  FutureWarning,\n"
     ]
    },
    {
     "data": {
      "image/png": "[encoded data removed]",
      "text/plain": [
       "<Figure size 864x360 with 2 Axes>"
      ]
     },
     "metadata": {
      "needs_background": "light"
     },
     "output_type": "display_data"
    }
   ],
   "source": [
    "## PCA\n",
    "pca = PCA(n_components=2)\n",
    "encoded_samples_reduced_PCA = pca.fit_transform(encoded_samples)\n",
    "\n",
    "## TSNE\n",
    "tsne = TSNE(n_components=2)\n",
    "encoded_samples_reduced_TSNE = tsne.fit_transform(encoded_samples)\n",
    "\n",
    "fig, ax = plt.subplots(1,2, figsize=(12,5))\n",
    "ax[0].scatter(encoded_samples_reduced_PCA[:,0], encoded_samples_reduced_PCA[:,1], c=encoded_samples.label.to_numpy())\n",
    "ax[0].set_title('PCA')\n",
    "ax[1].scatter(encoded_samples_reduced_TSNE[:,0], encoded_samples_reduced_TSNE[:,1], c=encoded_samples.label.to_numpy())\n",
    "ax[1].set_title('t-SNE')\n",
    "plt.show()"
   ]
  },
  {
   "cell_type": "markdown",
   "id": "aQH_p2faLXal",
   "metadata": {
    "id": "aQH_p2faLXal"
   },
   "source": [
    "The clustering of the laten codes is better performed, as aspected, by the t-SNE.\n",
    "It can be seen that the different \"communities\" are pretty separated between each others, obviously someone more than other. This mean that two latent code corresponding to the same label are closer than two latent code corresponding to different labels. "
   ]
  },
  {
   "cell_type": "code",
   "execution_count": 107,
   "id": "9c4c4746-f835-49ca-8cd7-87e0802f4efc",
   "metadata": {
    "colab": {
     "base_uri": "https://localhost:8080/",
     "height": 348
    },
    "id": "9c4c4746-f835-49ca-8cd7-87e0802f4efc",
    "outputId": "7acc0c39-2316-48a6-d0b6-bdca022027f1"
   },
   "outputs": [
    {
     "name": "stderr",
     "output_type": "stream",
     "text": [
      "/usr/local/lib/python3.7/dist-packages/ipykernel_launcher.py:15: UserWarning: To copy construct from a tensor, it is recommended to use sourceTensor.clone().detach() or sourceTensor.clone().detach().requires_grad_(True), rather than torch.tensor(sourceTensor).\n",
      "  from ipykernel import kernelapp as app\n"
     ]
    },
    {
     "data": {
      "image/png": "[encoded data removed]",
      "text/plain": [
       "<Figure size 720x288 with 10 Axes>"
      ]
     },
     "metadata": {
      "needs_background": "light"
     },
     "output_type": "display_data"
    }
   ],
   "source": [
    "latent_dim = model_list[best_model]['hp_dict']['latent_dim']\n",
    "random_latent = np.zeros((10,latent_dim))\n",
    "for feature in range(latent_dim):\n",
    "    mean = encoded_samples.iloc[:,feature].values.mean()\n",
    "    std  = encoded_samples.iloc[:,feature].values.std()\n",
    "    for ii in range(10):\n",
    "        random_latent[ii, feature] = np.random.normal(mean, std)\n",
    "    \n",
    "fig, ax = plt.subplots(2,5, figsize=(10,4))\n",
    "\n",
    "for ii,sample in enumerate(random_latent):\n",
    "    best_net.eval()\n",
    "    with torch.no_grad():\n",
    "        sample = torch.tensor(sample).reshape(1, latent_dim, 1, 1)\n",
    "        generated_img = best_net.decoder(torch.tensor(sample.float()).to(device))\n",
    "        ax[ii//5,ii%5].imshow(generated_img.squeeze().cpu().numpy(), cmap='gist_gray')\n",
    "plt.suptitle('Images generated from random latent code')\n",
    "plt.show()"
   ]
  },
  {
   "cell_type": "markdown",
   "id": "C1VTXWRj_EF6",
   "metadata": {
    "id": "C1VTXWRj_EF6"
   },
   "source": [
    "Here I reported some recontructed images, generated from a random latent code.\n",
    "\n",
    "\n",
    "## GAN\n",
    "***"
   ]
  },
  {
   "cell_type": "markdown",
   "id": "PLtldMXXMQuv",
   "metadata": {
    "id": "PLtldMXXMQuv"
   },
   "source": [
    "## Network definition\n",
    "***\n",
    "\n",
    "The Generative Adversarial Network is composed of two separate entities: the generator and the discriminator.\n",
    "\n",
    "* **Generator**: its structure resemble the decoder of the previously defined Autoencoder, but now I normalize the layer's output with `BatchNorm2d`.\n",
    "\n",
    "* **Discriminator**: composed of 3 convolutional layer, each of one normalized by `BatchNorm2d` and activated with a `ReLU`, followed by another `Conv2d` feed into a `Sigmoid` to have a binary classification problem.\n",
    "\n",
    "The generator is trained optimizing its ability to fools the disctiminator.\n",
    "The discriminator is optimized to correcly determine if an image it's fake or real.\n",
    "\n",
    "The loss function is the Binary Cross Entropy loss, because I am computing the loss always between the output of the discriminator and a label.\n",
    "As optimizer I exploited Adam."
   ]
  },
  {
   "cell_type": "code",
   "execution_count": 77,
   "id": "abda0a39-74e1-44d4-b760-f7ef338f55b0",
   "metadata": {
    "id": "abda0a39-74e1-44d4-b760-f7ef338f55b0"
   },
   "outputs": [],
   "source": [
    "class Generator(nn.Module):\n",
    "    \n",
    "    def __init__(self, latent_dim):\n",
    "        super().__init__()\n",
    "        # N, latent_dim, 1, 1\n",
    "        self.main = nn.Sequential(\n",
    "            nn.ConvTranspose2d(latent_dim, 32, 7), # N, 32, 7, 7\n",
    "            nn.ReLU(),\n",
    "            nn.ConvTranspose2d(32, 16, 3, stride=2, padding=1, output_padding=1), # N, 16, 14, 14\n",
    "            nn.BatchNorm2d(16),\n",
    "            nn.ReLU(),\n",
    "            nn.ConvTranspose2d(16, 1, 3, stride=2, padding=1, output_padding=1), # N, 1, 28, 28\n",
    "            nn.Tanh()  \n",
    "        )\n",
    "    \n",
    "    def forward(self, x):\n",
    "        x = self.main(x)\n",
    "        return x\n",
    "    \n",
    "class Discriminator(nn.Module):\n",
    "    \n",
    "    def __init__(self):\n",
    "        super().__init__()\n",
    "        # N, 1, 28, 28\n",
    "        self.main = nn.Sequential(\n",
    "            nn.Conv2d(1, 16, 3, stride=2, padding=1), # N, 16, 14, 14\n",
    "            nn.BatchNorm2d(16),\n",
    "            nn.ReLU(),\n",
    "            nn.Conv2d(16, 32, 3, stride=2, padding=1), # N, 32, 7, 7\n",
    "            nn.BatchNorm2d(32),\n",
    "            nn.ReLU(),\n",
    "            nn.Conv2d(32, 64, 3, stride=2, padding=1), # N, 64, 4, 4\n",
    "            nn.BatchNorm2d(64),\n",
    "            nn.ReLU(),\n",
    "            nn.Conv2d(64, 1, 4), # N, 1, 1, 1\n",
    "            nn.Sigmoid()\n",
    "        )\n",
    "    \n",
    "    def forward(self, x):\n",
    "        x = self.main(x)\n",
    "        return x"
   ]
  },
  {
   "cell_type": "code",
   "execution_count": 78,
   "id": "V60bDdho-zAt",
   "metadata": {
    "id": "V60bDdho-zAt"
   },
   "outputs": [],
   "source": [
    "latent_dim = 64\n",
    "generator = Generator(latent_dim)\n",
    "discriminator = Discriminator()\n",
    "\n",
    "loss_fn = torch.nn.BCELoss()\n",
    "\n",
    "optimizer_gen = torch.optim.Adam(generator.parameters(), lr=5e-4)\n",
    "optimizer_dis = torch.optim.Adam(discriminator.parameters(), lr=1e-5)"
   ]
  },
  {
   "cell_type": "code",
   "execution_count": 79,
   "id": "BviBWrVX_P1Q",
   "metadata": {
    "colab": {
     "base_uri": "https://localhost:8080/"
    },
    "id": "BviBWrVX_P1Q",
    "outputId": "28c7e5d1-3b84-42f4-9d34-61b6afeb2a4e"
   },
   "outputs": [
    {
     "name": "stderr",
     "output_type": "stream",
     "text": [
      "Epoch: 30, Gen_loss:  0.699, Disc_real_loss:  0.696, Disc_fake_loss:  0.688: 100%|██████████| 30/30 [08:15<00:00, 16.50s/it]\n"
     ]
    }
   ],
   "source": [
    "def weights_init_normal(model):\n",
    "    classname = model.__class__.__name__\n",
    "    if classname.find(\"Conv\") != -1:\n",
    "        torch.nn.init.normal_(model.weight.data, 0.0, 0.02)\n",
    "    elif classname.find(\"BatchNorm2d\") != -1:\n",
    "        torch.nn.init.normal_(model.weight.data, 1.0, 0.02)\n",
    "        torch.nn.init.constant_(model.bias.data, 0.0)\n",
    "\n",
    "generator.to(device)\n",
    "discriminator.to(device)\n",
    "generator.apply(weights_init_normal)\n",
    "discriminator.apply(weights_init_normal)\n",
    "generator.train()\n",
    "discriminator.train()\n",
    "## Training\n",
    "num_epoch = 30\n",
    "gen_loss_log = []\n",
    "dis_loss_log = []\n",
    "bar = tqdm(range(num_epoch))\n",
    "for epoch in bar:\n",
    "    gen_loss = []\n",
    "    dis_loss = []\n",
    "    for imgs, _ in train_dataloader:\n",
    "        \n",
    "        real_label = torch.from_numpy(np.ones((imgs.shape[0],1,1,1))).float().to(device)\n",
    "        fake_label = torch.from_numpy(np.zeros((imgs.shape[0],1,1,1))).float().to(device)\n",
    "        \n",
    "        real_imgs = imgs.to(device)\n",
    "        \n",
    "        # Train generator\n",
    "        fake_encode = torch.from_numpy(np.random.normal(0, 1, (imgs.shape[0], latent_dim, 1, 1))).float().to(device)\n",
    "        fake_imgs = generator(fake_encode)\n",
    "        \n",
    "        gen_loss_batch = loss_fn(discriminator(fake_imgs), real_label) # Ablity to produce realistic imgs\n",
    "        \n",
    "        optimizer_gen.zero_grad()\n",
    "        gen_loss_batch.backward()\n",
    "        optimizer_gen.step()\n",
    "        \n",
    "        # Train discriminator\n",
    "        dis_real_loss_batch = loss_fn(discriminator(real_imgs), real_label) # Ability to recognize real images\n",
    "        dis_fake_loss_batch = loss_fn(discriminator(fake_imgs.detach()), fake_label) # Ability to recognize real images\n",
    "        dis_loss_batch = (dis_real_loss_batch + dis_fake_loss_batch) / 2\n",
    "                                \n",
    "        optimizer_dis.zero_grad()\n",
    "        dis_loss_batch.backward()\n",
    "        optimizer_dis.step()\n",
    "        \n",
    "        bar.set_description('Epoch: {:2n}, Gen_loss: {:6.3f}, Disc_real_loss: {:6.3f}, Disc_fake_loss: {:6.3f}'.format(epoch+1, gen_loss_batch.data, dis_real_loss_batch.data, dis_fake_loss_batch.data))\n",
    "        gen_loss.append(gen_loss_batch.detach().cpu())\n",
    "        dis_loss.append(dis_loss_batch.detach().cpu())\n",
    "    gen_loss_log.append(np.mean(gen_loss))\n",
    "    dis_loss_log.append(np.mean(dis_loss))\n"
   ]
  },
  {
   "cell_type": "code",
   "execution_count": 80,
   "id": "gctiDNHU_UVa",
   "metadata": {
    "colab": {
     "base_uri": "https://localhost:8080/",
     "height": 497
    },
    "id": "gctiDNHU_UVa",
    "outputId": "0a58a767-84f9-4a4c-d786-9c8725e5f134"
   },
   "outputs": [
    {
     "data": {
      "image/png": "[encoded data removed]",
      "text/plain": [
       "<Figure size 864x576 with 1 Axes>"
      ]
     },
     "metadata": {
      "needs_background": "light"
     },
     "output_type": "display_data"
    }
   ],
   "source": [
    "plt.figure(figsize=(12,8))\n",
    "plt.semilogy(gen_loss_log, label='Generator loss')\n",
    "plt.semilogy(dis_loss_log, label='Discriminator loss')\n",
    "plt.xlabel('Epoch')\n",
    "plt.ylabel('Loss')\n",
    "plt.grid()\n",
    "plt.legend()\n",
    "plt.show()"
   ]
  },
  {
   "cell_type": "code",
   "execution_count": 81,
   "id": "-hF0zHfo_ZrU",
   "metadata": {
    "colab": {
     "base_uri": "https://localhost:8080/",
     "height": 773
    },
    "id": "-hF0zHfo_ZrU",
    "outputId": "eaaf412e-878d-4e43-e4b8-08acf8812549"
   },
   "outputs": [
    {
     "data": {
      "image/png": "[encoded data removed]",
      "text/plain": [
       "<Figure size 864x864 with 36 Axes>"
      ]
     },
     "metadata": {},
     "output_type": "display_data"
    }
   ],
   "source": [
    "fig, ax = plt.subplots(6,6, figsize=(12,12))\n",
    "\n",
    "with torch.no_grad():\n",
    "    generator.eval()\n",
    "    fake_encode = torch.from_numpy(np.random.normal(0, 1, (36, latent_dim, 1, 1))).float().to(device)\n",
    "    for ii,sample in enumerate(fake_encode):\n",
    "        fake_imgs = generator(sample.reshape(1,latent_dim,1,1))\n",
    "        ax[ii//6, ii%6].imshow(fake_imgs.squeeze().cpu().numpy(), cmap='gist_gray')\n",
    "        ax[ii//6, ii%6].set_yticks([])\n",
    "        ax[ii//6, ii%6].set_xticks([])\n",
    "plt.suptitle('Images generated from random latent code')\n",
    "plt.show()"
   ]
  },
  {
   "cell_type": "markdown",
   "id": "KnB3CFibOiJ8",
   "metadata": {
    "id": "KnB3CFibOiJ8"
   },
   "source": [
    "After some manual tweaking of hyperparameters I found the combination that makes the GAN converges to this results.\n",
    "\n",
    "It can be seen that the training reached convergence. I have also reported some images generated by the GAN. The results are not optimal but there are some images that resembles cloths."
   ]
  },
  {
   "cell_type": "code",
   "execution_count": null,
   "id": "hDqMuTHzPFy-",
   "metadata": {
    "id": "hDqMuTHzPFy-"
   },
   "outputs": [],
   "source": []
  }
 ],
 "metadata": {
  "accelerator": "GPU",
  "colab": {
   "collapsed_sections": [],
   "name": "RinaldiLuca_HW2_Autoencoder_Gan.ipynb",
   "provenance": []
  },
  "gpuClass": "standard",
  "kernelspec": {
   "display_name": "Python 3",
   "language": "python",
   "name": "python3"
  },
  "language_info": {
   "codemirror_mode": {
    "name": "ipython",
    "version": 3
   },
   "file_extension": ".py",
   "mimetype": "text/x-python",
   "name": "python",
   "nbconvert_exporter": "python",
   "pygments_lexer": "ipython3",
   "version": "3.9.7"
  },
  "widgets": {
   "application/vnd.jupyter.widget-state+json": {
    "03b5fcda07cc4b87bbb76e061119005e": {
     "model_module": "@jupyter-widgets/base",
     "model_module_version": "1.2.0",
     "model_name": "LayoutModel",
     "state": {
      "_model_module": "@jupyter-widgets/base",
      "_model_module_version": "1.2.0",
      "_model_name": "LayoutModel",
      "_view_count": null,
      "_view_module": "@jupyter-widgets/base",
      "_view_module_version": "1.2.0",
      "_view_name": "LayoutView",
      "align_content": null,
      "align_items": null,
      "align_self": null,
      "border": null,
      "bottom": null,
      "display": null,
      "flex": null,
      "flex_flow": null,
      "grid_area": null,
      "grid_auto_columns": null,
      "grid_auto_flow": null,
      "grid_auto_rows": null,
      "grid_column": null,
      "grid_gap": null,
      "grid_row": null,
      "grid_template_areas": null,
      "grid_template_columns": null,
      "grid_template_rows": null,
      "height": null,
      "justify_content": null,
      "justify_items": null,
      "left": null,
      "margin": null,
      "max_height": null,
      "max_width": null,
      "min_height": null,
      "min_width": null,
      "object_fit": null,
      "object_position": null,
      "order": null,
      "overflow": null,
      "overflow_x": null,
      "overflow_y": null,
      "padding": null,
      "right": null,
      "top": null,
      "visibility": null,
      "width": null
     }
    },
    "052c6df8f1194c5fa8ce95741b29e601": {
     "model_module": "@jupyter-widgets/controls",
     "model_module_version": "1.5.0",
     "model_name": "ProgressStyleModel",
     "state": {
      "_model_module": "@jupyter-widgets/controls",
      "_model_module_version": "1.5.0",
      "_model_name": "ProgressStyleModel",
      "_view_count": null,
      "_view_module": "@jupyter-widgets/base",
      "_view_module_version": "1.2.0",
      "_view_name": "StyleView",
      "bar_color": null,
      "description_width": ""
     }
    },
    "073dc026d979454e99696bb978a2ce5b": {
     "model_module": "@jupyter-widgets/base",
     "model_module_version": "1.2.0",
     "model_name": "LayoutModel",
     "state": {
      "_model_module": "@jupyter-widgets/base",
      "_model_module_version": "1.2.0",
      "_model_name": "LayoutModel",
      "_view_count": null,
      "_view_module": "@jupyter-widgets/base",
      "_view_module_version": "1.2.0",
      "_view_name": "LayoutView",
      "align_content": null,
      "align_items": null,
      "align_self": null,
      "border": null,
      "bottom": null,
      "display": null,
      "flex": null,
      "flex_flow": null,
      "grid_area": null,
      "grid_auto_columns": null,
      "grid_auto_flow": null,
      "grid_auto_rows": null,
      "grid_column": null,
      "grid_gap": null,
      "grid_row": null,
      "grid_template_areas": null,
      "grid_template_columns": null,
      "grid_template_rows": null,
      "height": null,
      "justify_content": null,
      "justify_items": null,
      "left": null,
      "margin": null,
      "max_height": null,
      "max_width": null,
      "min_height": null,
      "min_width": null,
      "object_fit": null,
      "object_position": null,
      "order": null,
      "overflow": null,
      "overflow_x": null,
      "overflow_y": null,
      "padding": null,
      "right": null,
      "top": null,
      "visibility": null,
      "width": null
     }
    },
    "0e043018133b4afeae81c22501d8b7bd": {
     "model_module": "@jupyter-widgets/base",
     "model_module_version": "1.2.0",
     "model_name": "LayoutModel",
     "state": {
      "_model_module": "@jupyter-widgets/base",
      "_model_module_version": "1.2.0",
      "_model_name": "LayoutModel",
      "_view_count": null,
      "_view_module": "@jupyter-widgets/base",
      "_view_module_version": "1.2.0",
      "_view_name": "LayoutView",
      "align_content": null,
      "align_items": null,
      "align_self": null,
      "border": null,
      "bottom": null,
      "display": null,
      "flex": null,
      "flex_flow": null,
      "grid_area": null,
      "grid_auto_columns": null,
      "grid_auto_flow": null,
      "grid_auto_rows": null,
      "grid_column": null,
      "grid_gap": null,
      "grid_row": null,
      "grid_template_areas": null,
      "grid_template_columns": null,
      "grid_template_rows": null,
      "height": null,
      "justify_content": null,
      "justify_items": null,
      "left": null,
      "margin": null,
      "max_height": null,
      "max_width": null,
      "min_height": null,
      "min_width": null,
      "object_fit": null,
      "object_position": null,
      "order": null,
      "overflow": null,
      "overflow_x": null,
      "overflow_y": null,
      "padding": null,
      "right": null,
      "top": null,
      "visibility": null,
      "width": null
     }
    },
    "0e73f8cfcad1421fa0f5ad0260893bd5": {
     "model_module": "@jupyter-widgets/controls",
     "model_module_version": "1.5.0",
     "model_name": "HTMLModel",
     "state": {
      "_dom_classes": [],
      "_model_module": "@jupyter-widgets/controls",
      "_model_module_version": "1.5.0",
      "_model_name": "HTMLModel",
      "_view_count": null,
      "_view_module": "@jupyter-widgets/controls",
      "_view_module_version": "1.5.0",
      "_view_name": "HTMLView",
      "description": "",
      "description_tooltip": null,
      "layout": "IPY_MODEL_3574a8b62e5a4937a14e708571b5cff6",
      "placeholder": "​",
      "style": "IPY_MODEL_31962decc2ef46a5b58a83d735fd07e3",
      "value": ""
     }
    },
    "1a94f3466f844d939b9226b6eb5cc10c": {
     "model_module": "@jupyter-widgets/controls",
     "model_module_version": "1.5.0",
     "model_name": "DescriptionStyleModel",
     "state": {
      "_model_module": "@jupyter-widgets/controls",
      "_model_module_version": "1.5.0",
      "_model_name": "DescriptionStyleModel",
      "_view_count": null,
      "_view_module": "@jupyter-widgets/base",
      "_view_module_version": "1.2.0",
      "_view_name": "StyleView",
      "description_width": ""
     }
    },
    "240a1597bff94df9a3ef872d678e1051": {
     "model_module": "@jupyter-widgets/base",
     "model_module_version": "1.2.0",
     "model_name": "LayoutModel",
     "state": {
      "_model_module": "@jupyter-widgets/base",
      "_model_module_version": "1.2.0",
      "_model_name": "LayoutModel",
      "_view_count": null,
      "_view_module": "@jupyter-widgets/base",
      "_view_module_version": "1.2.0",
      "_view_name": "LayoutView",
      "align_content": null,
      "align_items": null,
      "align_self": null,
      "border": null,
      "bottom": null,
      "display": null,
      "flex": null,
      "flex_flow": null,
      "grid_area": null,
      "grid_auto_columns": null,
      "grid_auto_flow": null,
      "grid_auto_rows": null,
      "grid_column": null,
      "grid_gap": null,
      "grid_row": null,
      "grid_template_areas": null,
      "grid_template_columns": null,
      "grid_template_rows": null,
      "height": null,
      "justify_content": null,
      "justify_items": null,
      "left": null,
      "margin": null,
      "max_height": null,
      "max_width": null,
      "min_height": null,
      "min_width": null,
      "object_fit": null,
      "object_position": null,
      "order": null,
      "overflow": null,
      "overflow_x": null,
      "overflow_y": null,
      "padding": null,
      "right": null,
      "top": null,
      "visibility": null,
      "width": null
     }
    },
    "2733cb8a2323445d978834a82498ea52": {
     "model_module": "@jupyter-widgets/base",
     "model_module_version": "1.2.0",
     "model_name": "LayoutModel",
     "state": {
      "_model_module": "@jupyter-widgets/base",
      "_model_module_version": "1.2.0",
      "_model_name": "LayoutModel",
      "_view_count": null,
      "_view_module": "@jupyter-widgets/base",
      "_view_module_version": "1.2.0",
      "_view_name": "LayoutView",
      "align_content": null,
      "align_items": null,
      "align_self": null,
      "border": null,
      "bottom": null,
      "display": null,
      "flex": null,
      "flex_flow": null,
      "grid_area": null,
      "grid_auto_columns": null,
      "grid_auto_flow": null,
      "grid_auto_rows": null,
      "grid_column": null,
      "grid_gap": null,
      "grid_row": null,
      "grid_template_areas": null,
      "grid_template_columns": null,
      "grid_template_rows": null,
      "height": null,
      "justify_content": null,
      "justify_items": null,
      "left": null,
      "margin": null,
      "max_height": null,
      "max_width": null,
      "min_height": null,
      "min_width": null,
      "object_fit": null,
      "object_position": null,
      "order": null,
      "overflow": null,
      "overflow_x": null,
      "overflow_y": null,
      "padding": null,
      "right": null,
      "top": null,
      "visibility": null,
      "width": null
     }
    },
    "2831795547184d2ebeab0ddad5c0d7d6": {
     "model_module": "@jupyter-widgets/base",
     "model_module_version": "1.2.0",
     "model_name": "LayoutModel",
     "state": {
      "_model_module": "@jupyter-widgets/base",
      "_model_module_version": "1.2.0",
      "_model_name": "LayoutModel",
      "_view_count": null,
      "_view_module": "@jupyter-widgets/base",
      "_view_module_version": "1.2.0",
      "_view_name": "LayoutView",
      "align_content": null,
      "align_items": null,
      "align_self": null,
      "border": null,
      "bottom": null,
      "display": null,
      "flex": null,
      "flex_flow": null,
      "grid_area": null,
      "grid_auto_columns": null,
      "grid_auto_flow": null,
      "grid_auto_rows": null,
      "grid_column": null,
      "grid_gap": null,
      "grid_row": null,
      "grid_template_areas": null,
      "grid_template_columns": null,
      "grid_template_rows": null,
      "height": null,
      "justify_content": null,
      "justify_items": null,
      "left": null,
      "margin": null,
      "max_height": null,
      "max_width": null,
      "min_height": null,
      "min_width": null,
      "object_fit": null,
      "object_position": null,
      "order": null,
      "overflow": null,
      "overflow_x": null,
      "overflow_y": null,
      "padding": null,
      "right": null,
      "top": null,
      "visibility": null,
      "width": null
     }
    },
    "2d4d59a396734f73bc283fece4b4ba95": {
     "model_module": "@jupyter-widgets/controls",
     "model_module_version": "1.5.0",
     "model_name": "HTMLModel",
     "state": {
      "_dom_classes": [],
      "_model_module": "@jupyter-widgets/controls",
      "_model_module_version": "1.5.0",
      "_model_name": "HTMLModel",
      "_view_count": null,
      "_view_module": "@jupyter-widgets/controls",
      "_view_module_version": "1.5.0",
      "_view_name": "HTMLView",
      "description": "",
      "description_tooltip": null,
      "layout": "IPY_MODEL_57407352ff1a433f92005f172a44f7d6",
      "placeholder": "​",
      "style": "IPY_MODEL_da59a7cf3c3249abad4fc93eee806c08",
      "value": " 4422656/? [00:01&lt;00:00, 4609509.53it/s]"
     }
    },
    "31962decc2ef46a5b58a83d735fd07e3": {
     "model_module": "@jupyter-widgets/controls",
     "model_module_version": "1.5.0",
     "model_name": "DescriptionStyleModel",
     "state": {
      "_model_module": "@jupyter-widgets/controls",
      "_model_module_version": "1.5.0",
      "_model_name": "DescriptionStyleModel",
      "_view_count": null,
      "_view_module": "@jupyter-widgets/base",
      "_view_module_version": "1.2.0",
      "_view_name": "StyleView",
      "description_width": ""
     }
    },
    "354f721fe33340bfa6a3b0a1973646bb": {
     "model_module": "@jupyter-widgets/controls",
     "model_module_version": "1.5.0",
     "model_name": "FloatProgressModel",
     "state": {
      "_dom_classes": [],
      "_model_module": "@jupyter-widgets/controls",
      "_model_module_version": "1.5.0",
      "_model_name": "FloatProgressModel",
      "_view_count": null,
      "_view_module": "@jupyter-widgets/controls",
      "_view_module_version": "1.5.0",
      "_view_name": "ProgressView",
      "bar_style": "success",
      "description": "",
      "description_tooltip": null,
      "layout": "IPY_MODEL_bf5566757ad84f0c9dd76931b578c0df",
      "max": 5148,
      "min": 0,
      "orientation": "horizontal",
      "style": "IPY_MODEL_fc36e626bc154409aac16ad338d57f8b",
      "value": 5148
     }
    },
    "3574a8b62e5a4937a14e708571b5cff6": {
     "model_module": "@jupyter-widgets/base",
     "model_module_version": "1.2.0",
     "model_name": "LayoutModel",
     "state": {
      "_model_module": "@jupyter-widgets/base",
      "_model_module_version": "1.2.0",
      "_model_name": "LayoutModel",
      "_view_count": null,
      "_view_module": "@jupyter-widgets/base",
      "_view_module_version": "1.2.0",
      "_view_name": "LayoutView",
      "align_content": null,
      "align_items": null,
      "align_self": null,
      "border": null,
      "bottom": null,
      "display": null,
      "flex": null,
      "flex_flow": null,
      "grid_area": null,
      "grid_auto_columns": null,
      "grid_auto_flow": null,
      "grid_auto_rows": null,
      "grid_column": null,
      "grid_gap": null,
      "grid_row": null,
      "grid_template_areas": null,
      "grid_template_columns": null,
      "grid_template_rows": null,
      "height": null,
      "justify_content": null,
      "justify_items": null,
      "left": null,
      "margin": null,
      "max_height": null,
      "max_width": null,
      "min_height": null,
      "min_width": null,
      "object_fit": null,
      "object_position": null,
      "order": null,
      "overflow": null,
      "overflow_x": null,
      "overflow_y": null,
      "padding": null,
      "right": null,
      "top": null,
      "visibility": null,
      "width": null
     }
    },
    "419ab7e4753d403e8db9ee0d2f3ace3c": {
     "model_module": "@jupyter-widgets/controls",
     "model_module_version": "1.5.0",
     "model_name": "ProgressStyleModel",
     "state": {
      "_model_module": "@jupyter-widgets/controls",
      "_model_module_version": "1.5.0",
      "_model_name": "ProgressStyleModel",
      "_view_count": null,
      "_view_module": "@jupyter-widgets/base",
      "_view_module_version": "1.2.0",
      "_view_name": "StyleView",
      "bar_color": null,
      "description_width": ""
     }
    },
    "4e9a244900974161b966c0de095016e4": {
     "model_module": "@jupyter-widgets/controls",
     "model_module_version": "1.5.0",
     "model_name": "HTMLModel",
     "state": {
      "_dom_classes": [],
      "_model_module": "@jupyter-widgets/controls",
      "_model_module_version": "1.5.0",
      "_model_name": "HTMLModel",
      "_view_count": null,
      "_view_module": "@jupyter-widgets/controls",
      "_view_module_version": "1.5.0",
      "_view_name": "HTMLView",
      "description": "",
      "description_tooltip": null,
      "layout": "IPY_MODEL_672494ff09e247238a35bc800779e0b5",
      "placeholder": "​",
      "style": "IPY_MODEL_befd5c45bb66403ca22b4d146773ef71",
      "value": ""
     }
    },
    "57407352ff1a433f92005f172a44f7d6": {
     "model_module": "@jupyter-widgets/base",
     "model_module_version": "1.2.0",
     "model_name": "LayoutModel",
     "state": {
      "_model_module": "@jupyter-widgets/base",
      "_model_module_version": "1.2.0",
      "_model_name": "LayoutModel",
      "_view_count": null,
      "_view_module": "@jupyter-widgets/base",
      "_view_module_version": "1.2.0",
      "_view_name": "LayoutView",
      "align_content": null,
      "align_items": null,
      "align_self": null,
      "border": null,
      "bottom": null,
      "display": null,
      "flex": null,
      "flex_flow": null,
      "grid_area": null,
      "grid_auto_columns": null,
      "grid_auto_flow": null,
      "grid_auto_rows": null,
      "grid_column": null,
      "grid_gap": null,
      "grid_row": null,
      "grid_template_areas": null,
      "grid_template_columns": null,
      "grid_template_rows": null,
      "height": null,
      "justify_content": null,
      "justify_items": null,
      "left": null,
      "margin": null,
      "max_height": null,
      "max_width": null,
      "min_height": null,
      "min_width": null,
      "object_fit": null,
      "object_position": null,
      "order": null,
      "overflow": null,
      "overflow_x": null,
      "overflow_y": null,
      "padding": null,
      "right": null,
      "top": null,
      "visibility": null,
      "width": null
     }
    },
    "60e4bdfc0cc1433a8e60c1e6ee688088": {
     "model_module": "@jupyter-widgets/controls",
     "model_module_version": "1.5.0",
     "model_name": "FloatProgressModel",
     "state": {
      "_dom_classes": [],
      "_model_module": "@jupyter-widgets/controls",
      "_model_module_version": "1.5.0",
      "_model_name": "FloatProgressModel",
      "_view_count": null,
      "_view_module": "@jupyter-widgets/controls",
      "_view_module_version": "1.5.0",
      "_view_name": "ProgressView",
      "bar_style": "success",
      "description": "",
      "description_tooltip": null,
      "layout": "IPY_MODEL_a4462fec8f1b465eb2af835aee8fba32",
      "max": 4422102,
      "min": 0,
      "orientation": "horizontal",
      "style": "IPY_MODEL_419ab7e4753d403e8db9ee0d2f3ace3c",
      "value": 4422102
     }
    },
    "672494ff09e247238a35bc800779e0b5": {
     "model_module": "@jupyter-widgets/base",
     "model_module_version": "1.2.0",
     "model_name": "LayoutModel",
     "state": {
      "_model_module": "@jupyter-widgets/base",
      "_model_module_version": "1.2.0",
      "_model_name": "LayoutModel",
      "_view_count": null,
      "_view_module": "@jupyter-widgets/base",
      "_view_module_version": "1.2.0",
      "_view_name": "LayoutView",
      "align_content": null,
      "align_items": null,
      "align_self": null,
      "border": null,
      "bottom": null,
      "display": null,
      "flex": null,
      "flex_flow": null,
      "grid_area": null,
      "grid_auto_columns": null,
      "grid_auto_flow": null,
      "grid_auto_rows": null,
      "grid_column": null,
      "grid_gap": null,
      "grid_row": null,
      "grid_template_areas": null,
      "grid_template_columns": null,
      "grid_template_rows": null,
      "height": null,
      "justify_content": null,
      "justify_items": null,
      "left": null,
      "margin": null,
      "max_height": null,
      "max_width": null,
      "min_height": null,
      "min_width": null,
      "object_fit": null,
      "object_position": null,
      "order": null,
      "overflow": null,
      "overflow_x": null,
      "overflow_y": null,
      "padding": null,
      "right": null,
      "top": null,
      "visibility": null,
      "width": null
     }
    },
    "68a93783de68490c9e4bb512bf3a1cd5": {
     "model_module": "@jupyter-widgets/base",
     "model_module_version": "1.2.0",
     "model_name": "LayoutModel",
     "state": {
      "_model_module": "@jupyter-widgets/base",
      "_model_module_version": "1.2.0",
      "_model_name": "LayoutModel",
      "_view_count": null,
      "_view_module": "@jupyter-widgets/base",
      "_view_module_version": "1.2.0",
      "_view_name": "LayoutView",
      "align_content": null,
      "align_items": null,
      "align_self": null,
      "border": null,
      "bottom": null,
      "display": null,
      "flex": null,
      "flex_flow": null,
      "grid_area": null,
      "grid_auto_columns": null,
      "grid_auto_flow": null,
      "grid_auto_rows": null,
      "grid_column": null,
      "grid_gap": null,
      "grid_row": null,
      "grid_template_areas": null,
      "grid_template_columns": null,
      "grid_template_rows": null,
      "height": null,
      "justify_content": null,
      "justify_items": null,
      "left": null,
      "margin": null,
      "max_height": null,
      "max_width": null,
      "min_height": null,
      "min_width": null,
      "object_fit": null,
      "object_position": null,
      "order": null,
      "overflow": null,
      "overflow_x": null,
      "overflow_y": null,
      "padding": null,
      "right": null,
      "top": null,
      "visibility": null,
      "width": null
     }
    },
    "6c2dd5f1bba94aceb77edfdee51d76cc": {
     "model_module": "@jupyter-widgets/controls",
     "model_module_version": "1.5.0",
     "model_name": "FloatProgressModel",
     "state": {
      "_dom_classes": [],
      "_model_module": "@jupyter-widgets/controls",
      "_model_module_version": "1.5.0",
      "_model_name": "FloatProgressModel",
      "_view_count": null,
      "_view_module": "@jupyter-widgets/controls",
      "_view_module_version": "1.5.0",
      "_view_name": "ProgressView",
      "bar_style": "success",
      "description": "",
      "description_tooltip": null,
      "layout": "IPY_MODEL_68a93783de68490c9e4bb512bf3a1cd5",
      "max": 29515,
      "min": 0,
      "orientation": "horizontal",
      "style": "IPY_MODEL_8dede88e4d444e3483493d3de1bd4f68",
      "value": 29515
     }
    },
    "78b65bbe79644f7d850550f14866192d": {
     "model_module": "@jupyter-widgets/base",
     "model_module_version": "1.2.0",
     "model_name": "LayoutModel",
     "state": {
      "_model_module": "@jupyter-widgets/base",
      "_model_module_version": "1.2.0",
      "_model_name": "LayoutModel",
      "_view_count": null,
      "_view_module": "@jupyter-widgets/base",
      "_view_module_version": "1.2.0",
      "_view_name": "LayoutView",
      "align_content": null,
      "align_items": null,
      "align_self": null,
      "border": null,
      "bottom": null,
      "display": null,
      "flex": null,
      "flex_flow": null,
      "grid_area": null,
      "grid_auto_columns": null,
      "grid_auto_flow": null,
      "grid_auto_rows": null,
      "grid_column": null,
      "grid_gap": null,
      "grid_row": null,
      "grid_template_areas": null,
      "grid_template_columns": null,
      "grid_template_rows": null,
      "height": null,
      "justify_content": null,
      "justify_items": null,
      "left": null,
      "margin": null,
      "max_height": null,
      "max_width": null,
      "min_height": null,
      "min_width": null,
      "object_fit": null,
      "object_position": null,
      "order": null,
      "overflow": null,
      "overflow_x": null,
      "overflow_y": null,
      "padding": null,
      "right": null,
      "top": null,
      "visibility": null,
      "width": null
     }
    },
    "82fa169d680449b0b6ba86ade9f27995": {
     "model_module": "@jupyter-widgets/controls",
     "model_module_version": "1.5.0",
     "model_name": "HBoxModel",
     "state": {
      "_dom_classes": [],
      "_model_module": "@jupyter-widgets/controls",
      "_model_module_version": "1.5.0",
      "_model_name": "HBoxModel",
      "_view_count": null,
      "_view_module": "@jupyter-widgets/controls",
      "_view_module_version": "1.5.0",
      "_view_name": "HBoxView",
      "box_style": "",
      "children": [
       "IPY_MODEL_4e9a244900974161b966c0de095016e4",
       "IPY_MODEL_6c2dd5f1bba94aceb77edfdee51d76cc",
       "IPY_MODEL_fa43055cc1c247cb89e6823f03ae5fd1"
      ],
      "layout": "IPY_MODEL_d81693a9e10745879136433a36b23ab5"
     }
    },
    "8357ca1566754f16877ebd7845126dc4": {
     "model_module": "@jupyter-widgets/controls",
     "model_module_version": "1.5.0",
     "model_name": "HBoxModel",
     "state": {
      "_dom_classes": [],
      "_model_module": "@jupyter-widgets/controls",
      "_model_module_version": "1.5.0",
      "_model_name": "HBoxModel",
      "_view_count": null,
      "_view_module": "@jupyter-widgets/controls",
      "_view_module_version": "1.5.0",
      "_view_name": "HBoxView",
      "box_style": "",
      "children": [
       "IPY_MODEL_ba8bead7457149aa97596102ba283765",
       "IPY_MODEL_e15d89123b8348fe9ab58dc534469692",
       "IPY_MODEL_8bec5324b96c41cc866b8c41054fb776"
      ],
      "layout": "IPY_MODEL_ba19aedd075446c8b68e8e4a82799bc2"
     }
    },
    "8b2c3262eebf42499df39c92f8d57ab1": {
     "model_module": "@jupyter-widgets/controls",
     "model_module_version": "1.5.0",
     "model_name": "DescriptionStyleModel",
     "state": {
      "_model_module": "@jupyter-widgets/controls",
      "_model_module_version": "1.5.0",
      "_model_name": "DescriptionStyleModel",
      "_view_count": null,
      "_view_module": "@jupyter-widgets/base",
      "_view_module_version": "1.2.0",
      "_view_name": "StyleView",
      "description_width": ""
     }
    },
    "8bec5324b96c41cc866b8c41054fb776": {
     "model_module": "@jupyter-widgets/controls",
     "model_module_version": "1.5.0",
     "model_name": "HTMLModel",
     "state": {
      "_dom_classes": [],
      "_model_module": "@jupyter-widgets/controls",
      "_model_module_version": "1.5.0",
      "_model_name": "HTMLModel",
      "_view_count": null,
      "_view_module": "@jupyter-widgets/controls",
      "_view_module_version": "1.5.0",
      "_view_name": "HTMLView",
      "description": "",
      "description_tooltip": null,
      "layout": "IPY_MODEL_0e043018133b4afeae81c22501d8b7bd",
      "placeholder": "​",
      "style": "IPY_MODEL_1a94f3466f844d939b9226b6eb5cc10c",
      "value": " 26422272/? [00:03&lt;00:00, 12351469.80it/s]"
     }
    },
    "8dede88e4d444e3483493d3de1bd4f68": {
     "model_module": "@jupyter-widgets/controls",
     "model_module_version": "1.5.0",
     "model_name": "ProgressStyleModel",
     "state": {
      "_model_module": "@jupyter-widgets/controls",
      "_model_module_version": "1.5.0",
      "_model_name": "ProgressStyleModel",
      "_view_count": null,
      "_view_module": "@jupyter-widgets/base",
      "_view_module_version": "1.2.0",
      "_view_name": "StyleView",
      "bar_color": null,
      "description_width": ""
     }
    },
    "90d91d4565d74bacb803ec7463ac6b51": {
     "model_module": "@jupyter-widgets/controls",
     "model_module_version": "1.5.0",
     "model_name": "DescriptionStyleModel",
     "state": {
      "_model_module": "@jupyter-widgets/controls",
      "_model_module_version": "1.5.0",
      "_model_name": "DescriptionStyleModel",
      "_view_count": null,
      "_view_module": "@jupyter-widgets/base",
      "_view_module_version": "1.2.0",
      "_view_name": "StyleView",
      "description_width": ""
     }
    },
    "a4462fec8f1b465eb2af835aee8fba32": {
     "model_module": "@jupyter-widgets/base",
     "model_module_version": "1.2.0",
     "model_name": "LayoutModel",
     "state": {
      "_model_module": "@jupyter-widgets/base",
      "_model_module_version": "1.2.0",
      "_model_name": "LayoutModel",
      "_view_count": null,
      "_view_module": "@jupyter-widgets/base",
      "_view_module_version": "1.2.0",
      "_view_name": "LayoutView",
      "align_content": null,
      "align_items": null,
      "align_self": null,
      "border": null,
      "bottom": null,
      "display": null,
      "flex": null,
      "flex_flow": null,
      "grid_area": null,
      "grid_auto_columns": null,
      "grid_auto_flow": null,
      "grid_auto_rows": null,
      "grid_column": null,
      "grid_gap": null,
      "grid_row": null,
      "grid_template_areas": null,
      "grid_template_columns": null,
      "grid_template_rows": null,
      "height": null,
      "justify_content": null,
      "justify_items": null,
      "left": null,
      "margin": null,
      "max_height": null,
      "max_width": null,
      "min_height": null,
      "min_width": null,
      "object_fit": null,
      "object_position": null,
      "order": null,
      "overflow": null,
      "overflow_x": null,
      "overflow_y": null,
      "padding": null,
      "right": null,
      "top": null,
      "visibility": null,
      "width": null
     }
    },
    "a596bf6a5fea45989f8a3238b338481b": {
     "model_module": "@jupyter-widgets/controls",
     "model_module_version": "1.5.0",
     "model_name": "HTMLModel",
     "state": {
      "_dom_classes": [],
      "_model_module": "@jupyter-widgets/controls",
      "_model_module_version": "1.5.0",
      "_model_name": "HTMLModel",
      "_view_count": null,
      "_view_module": "@jupyter-widgets/controls",
      "_view_module_version": "1.5.0",
      "_view_name": "HTMLView",
      "description": "",
      "description_tooltip": null,
      "layout": "IPY_MODEL_78b65bbe79644f7d850550f14866192d",
      "placeholder": "​",
      "style": "IPY_MODEL_d0963bb0894743798cfefbcc9aa410b2",
      "value": " 6144/? [00:00&lt;00:00, 63512.31it/s]"
     }
    },
    "ba19aedd075446c8b68e8e4a82799bc2": {
     "model_module": "@jupyter-widgets/base",
     "model_module_version": "1.2.0",
     "model_name": "LayoutModel",
     "state": {
      "_model_module": "@jupyter-widgets/base",
      "_model_module_version": "1.2.0",
      "_model_name": "LayoutModel",
      "_view_count": null,
      "_view_module": "@jupyter-widgets/base",
      "_view_module_version": "1.2.0",
      "_view_name": "LayoutView",
      "align_content": null,
      "align_items": null,
      "align_self": null,
      "border": null,
      "bottom": null,
      "display": null,
      "flex": null,
      "flex_flow": null,
      "grid_area": null,
      "grid_auto_columns": null,
      "grid_auto_flow": null,
      "grid_auto_rows": null,
      "grid_column": null,
      "grid_gap": null,
      "grid_row": null,
      "grid_template_areas": null,
      "grid_template_columns": null,
      "grid_template_rows": null,
      "height": null,
      "justify_content": null,
      "justify_items": null,
      "left": null,
      "margin": null,
      "max_height": null,
      "max_width": null,
      "min_height": null,
      "min_width": null,
      "object_fit": null,
      "object_position": null,
      "order": null,
      "overflow": null,
      "overflow_x": null,
      "overflow_y": null,
      "padding": null,
      "right": null,
      "top": null,
      "visibility": null,
      "width": null
     }
    },
    "ba8bead7457149aa97596102ba283765": {
     "model_module": "@jupyter-widgets/controls",
     "model_module_version": "1.5.0",
     "model_name": "HTMLModel",
     "state": {
      "_dom_classes": [],
      "_model_module": "@jupyter-widgets/controls",
      "_model_module_version": "1.5.0",
      "_model_name": "HTMLModel",
      "_view_count": null,
      "_view_module": "@jupyter-widgets/controls",
      "_view_module_version": "1.5.0",
      "_view_name": "HTMLView",
      "description": "",
      "description_tooltip": null,
      "layout": "IPY_MODEL_2831795547184d2ebeab0ddad5c0d7d6",
      "placeholder": "​",
      "style": "IPY_MODEL_f9c2dc1701d54a2ea5bd566e0f15b473",
      "value": ""
     }
    },
    "befd5c45bb66403ca22b4d146773ef71": {
     "model_module": "@jupyter-widgets/controls",
     "model_module_version": "1.5.0",
     "model_name": "DescriptionStyleModel",
     "state": {
      "_model_module": "@jupyter-widgets/controls",
      "_model_module_version": "1.5.0",
      "_model_name": "DescriptionStyleModel",
      "_view_count": null,
      "_view_module": "@jupyter-widgets/base",
      "_view_module_version": "1.2.0",
      "_view_name": "StyleView",
      "description_width": ""
     }
    },
    "bf5566757ad84f0c9dd76931b578c0df": {
     "model_module": "@jupyter-widgets/base",
     "model_module_version": "1.2.0",
     "model_name": "LayoutModel",
     "state": {
      "_model_module": "@jupyter-widgets/base",
      "_model_module_version": "1.2.0",
      "_model_name": "LayoutModel",
      "_view_count": null,
      "_view_module": "@jupyter-widgets/base",
      "_view_module_version": "1.2.0",
      "_view_name": "LayoutView",
      "align_content": null,
      "align_items": null,
      "align_self": null,
      "border": null,
      "bottom": null,
      "display": null,
      "flex": null,
      "flex_flow": null,
      "grid_area": null,
      "grid_auto_columns": null,
      "grid_auto_flow": null,
      "grid_auto_rows": null,
      "grid_column": null,
      "grid_gap": null,
      "grid_row": null,
      "grid_template_areas": null,
      "grid_template_columns": null,
      "grid_template_rows": null,
      "height": null,
      "justify_content": null,
      "justify_items": null,
      "left": null,
      "margin": null,
      "max_height": null,
      "max_width": null,
      "min_height": null,
      "min_width": null,
      "object_fit": null,
      "object_position": null,
      "order": null,
      "overflow": null,
      "overflow_x": null,
      "overflow_y": null,
      "padding": null,
      "right": null,
      "top": null,
      "visibility": null,
      "width": null
     }
    },
    "d0963bb0894743798cfefbcc9aa410b2": {
     "model_module": "@jupyter-widgets/controls",
     "model_module_version": "1.5.0",
     "model_name": "DescriptionStyleModel",
     "state": {
      "_model_module": "@jupyter-widgets/controls",
      "_model_module_version": "1.5.0",
      "_model_name": "DescriptionStyleModel",
      "_view_count": null,
      "_view_module": "@jupyter-widgets/base",
      "_view_module_version": "1.2.0",
      "_view_name": "StyleView",
      "description_width": ""
     }
    },
    "d61729239ea54948a33306a8163ca0c7": {
     "model_module": "@jupyter-widgets/controls",
     "model_module_version": "1.5.0",
     "model_name": "HTMLModel",
     "state": {
      "_dom_classes": [],
      "_model_module": "@jupyter-widgets/controls",
      "_model_module_version": "1.5.0",
      "_model_name": "HTMLModel",
      "_view_count": null,
      "_view_module": "@jupyter-widgets/controls",
      "_view_module_version": "1.5.0",
      "_view_name": "HTMLView",
      "description": "",
      "description_tooltip": null,
      "layout": "IPY_MODEL_073dc026d979454e99696bb978a2ce5b",
      "placeholder": "​",
      "style": "IPY_MODEL_90d91d4565d74bacb803ec7463ac6b51",
      "value": ""
     }
    },
    "d7576016392d4eb181c83eb38100c32a": {
     "model_module": "@jupyter-widgets/controls",
     "model_module_version": "1.5.0",
     "model_name": "HBoxModel",
     "state": {
      "_dom_classes": [],
      "_model_module": "@jupyter-widgets/controls",
      "_model_module_version": "1.5.0",
      "_model_name": "HBoxModel",
      "_view_count": null,
      "_view_module": "@jupyter-widgets/controls",
      "_view_module_version": "1.5.0",
      "_view_name": "HBoxView",
      "box_style": "",
      "children": [
       "IPY_MODEL_d61729239ea54948a33306a8163ca0c7",
       "IPY_MODEL_354f721fe33340bfa6a3b0a1973646bb",
       "IPY_MODEL_a596bf6a5fea45989f8a3238b338481b"
      ],
      "layout": "IPY_MODEL_f5bb87502f354499bc5d1bbfd6404f26"
     }
    },
    "d81693a9e10745879136433a36b23ab5": {
     "model_module": "@jupyter-widgets/base",
     "model_module_version": "1.2.0",
     "model_name": "LayoutModel",
     "state": {
      "_model_module": "@jupyter-widgets/base",
      "_model_module_version": "1.2.0",
      "_model_name": "LayoutModel",
      "_view_count": null,
      "_view_module": "@jupyter-widgets/base",
      "_view_module_version": "1.2.0",
      "_view_name": "LayoutView",
      "align_content": null,
      "align_items": null,
      "align_self": null,
      "border": null,
      "bottom": null,
      "display": null,
      "flex": null,
      "flex_flow": null,
      "grid_area": null,
      "grid_auto_columns": null,
      "grid_auto_flow": null,
      "grid_auto_rows": null,
      "grid_column": null,
      "grid_gap": null,
      "grid_row": null,
      "grid_template_areas": null,
      "grid_template_columns": null,
      "grid_template_rows": null,
      "height": null,
      "justify_content": null,
      "justify_items": null,
      "left": null,
      "margin": null,
      "max_height": null,
      "max_width": null,
      "min_height": null,
      "min_width": null,
      "object_fit": null,
      "object_position": null,
      "order": null,
      "overflow": null,
      "overflow_x": null,
      "overflow_y": null,
      "padding": null,
      "right": null,
      "top": null,
      "visibility": null,
      "width": null
     }
    },
    "da59a7cf3c3249abad4fc93eee806c08": {
     "model_module": "@jupyter-widgets/controls",
     "model_module_version": "1.5.0",
     "model_name": "DescriptionStyleModel",
     "state": {
      "_model_module": "@jupyter-widgets/controls",
      "_model_module_version": "1.5.0",
      "_model_name": "DescriptionStyleModel",
      "_view_count": null,
      "_view_module": "@jupyter-widgets/base",
      "_view_module_version": "1.2.0",
      "_view_name": "StyleView",
      "description_width": ""
     }
    },
    "e15d89123b8348fe9ab58dc534469692": {
     "model_module": "@jupyter-widgets/controls",
     "model_module_version": "1.5.0",
     "model_name": "FloatProgressModel",
     "state": {
      "_dom_classes": [],
      "_model_module": "@jupyter-widgets/controls",
      "_model_module_version": "1.5.0",
      "_model_name": "FloatProgressModel",
      "_view_count": null,
      "_view_module": "@jupyter-widgets/controls",
      "_view_module_version": "1.5.0",
      "_view_name": "ProgressView",
      "bar_style": "success",
      "description": "",
      "description_tooltip": null,
      "layout": "IPY_MODEL_240a1597bff94df9a3ef872d678e1051",
      "max": 26421880,
      "min": 0,
      "orientation": "horizontal",
      "style": "IPY_MODEL_052c6df8f1194c5fa8ce95741b29e601",
      "value": 26421880
     }
    },
    "ec1a162a48ef43ce9189a67e1a612f81": {
     "model_module": "@jupyter-widgets/controls",
     "model_module_version": "1.5.0",
     "model_name": "HBoxModel",
     "state": {
      "_dom_classes": [],
      "_model_module": "@jupyter-widgets/controls",
      "_model_module_version": "1.5.0",
      "_model_name": "HBoxModel",
      "_view_count": null,
      "_view_module": "@jupyter-widgets/controls",
      "_view_module_version": "1.5.0",
      "_view_name": "HBoxView",
      "box_style": "",
      "children": [
       "IPY_MODEL_0e73f8cfcad1421fa0f5ad0260893bd5",
       "IPY_MODEL_60e4bdfc0cc1433a8e60c1e6ee688088",
       "IPY_MODEL_2d4d59a396734f73bc283fece4b4ba95"
      ],
      "layout": "IPY_MODEL_03b5fcda07cc4b87bbb76e061119005e"
     }
    },
    "f5bb87502f354499bc5d1bbfd6404f26": {
     "model_module": "@jupyter-widgets/base",
     "model_module_version": "1.2.0",
     "model_name": "LayoutModel",
     "state": {
      "_model_module": "@jupyter-widgets/base",
      "_model_module_version": "1.2.0",
      "_model_name": "LayoutModel",
      "_view_count": null,
      "_view_module": "@jupyter-widgets/base",
      "_view_module_version": "1.2.0",
      "_view_name": "LayoutView",
      "align_content": null,
      "align_items": null,
      "align_self": null,
      "border": null,
      "bottom": null,
      "display": null,
      "flex": null,
      "flex_flow": null,
      "grid_area": null,
      "grid_auto_columns": null,
      "grid_auto_flow": null,
      "grid_auto_rows": null,
      "grid_column": null,
      "grid_gap": null,
      "grid_row": null,
      "grid_template_areas": null,
      "grid_template_columns": null,
      "grid_template_rows": null,
      "height": null,
      "justify_content": null,
      "justify_items": null,
      "left": null,
      "margin": null,
      "max_height": null,
      "max_width": null,
      "min_height": null,
      "min_width": null,
      "object_fit": null,
      "object_position": null,
      "order": null,
      "overflow": null,
      "overflow_x": null,
      "overflow_y": null,
      "padding": null,
      "right": null,
      "top": null,
      "visibility": null,
      "width": null
     }
    },
    "f9c2dc1701d54a2ea5bd566e0f15b473": {
     "model_module": "@jupyter-widgets/controls",
     "model_module_version": "1.5.0",
     "model_name": "DescriptionStyleModel",
     "state": {
      "_model_module": "@jupyter-widgets/controls",
      "_model_module_version": "1.5.0",
      "_model_name": "DescriptionStyleModel",
      "_view_count": null,
      "_view_module": "@jupyter-widgets/base",
      "_view_module_version": "1.2.0",
      "_view_name": "StyleView",
      "description_width": ""
     }
    },
    "fa43055cc1c247cb89e6823f03ae5fd1": {
     "model_module": "@jupyter-widgets/controls",
     "model_module_version": "1.5.0",
     "model_name": "HTMLModel",
     "state": {
      "_dom_classes": [],
      "_model_module": "@jupyter-widgets/controls",
      "_model_module_version": "1.5.0",
      "_model_name": "HTMLModel",
      "_view_count": null,
      "_view_module": "@jupyter-widgets/controls",
      "_view_module_version": "1.5.0",
      "_view_name": "HTMLView",
      "description": "",
      "description_tooltip": null,
      "layout": "IPY_MODEL_2733cb8a2323445d978834a82498ea52",
      "placeholder": "​",
      "style": "IPY_MODEL_8b2c3262eebf42499df39c92f8d57ab1",
      "value": " 29696/? [00:00&lt;00:00, 71022.64it/s]"
     }
    },
    "fc36e626bc154409aac16ad338d57f8b": {
     "model_module": "@jupyter-widgets/controls",
     "model_module_version": "1.5.0",
     "model_name": "ProgressStyleModel",
     "state": {
      "_model_module": "@jupyter-widgets/controls",
      "_model_module_version": "1.5.0",
      "_model_name": "ProgressStyleModel",
      "_view_count": null,
      "_view_module": "@jupyter-widgets/base",
      "_view_module_version": "1.2.0",
      "_view_name": "StyleView",
      "bar_color": null,
      "description_width": ""
     }
    }
   }
  }
 },
 "nbformat": 4,
 "nbformat_minor": 5
}
